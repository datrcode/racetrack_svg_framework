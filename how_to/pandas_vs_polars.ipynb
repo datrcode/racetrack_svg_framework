{
 "cells": [
  {
   "cell_type": "code",
   "execution_count": null,
   "metadata": {},
   "outputs": [],
   "source": [
    "import pandas as pd\n",
    "import polars as pl\n",
    "import numpy as np\n",
    "from random import randint\n",
    "import random\n",
    "import time\n",
    "import sys\n",
    "sys.path.insert(1, '../framework') # base location of the .py classes\n",
    "from racetrack import *\n",
    "rt = RACETrack()\n",
    "rt.co_mgr.str_to_color_lu['pandas'] = '#ffa0a0' # reddish\n",
    "rt.co_mgr.str_to_color_lu['polars'] = '#a0a0ff' # bluish"
   ]
  },
  {
   "cell_type": "code",
   "execution_count": null,
   "metadata": {},
   "outputs": [],
   "source": [
    "# Create A Randomized Dataset\n",
    "def createData(sz=1000):\n",
    "    strs_20_set = ['ant', 'bat', 'cat', 'dog', 'elephant', 'fox', 'gecko', 'horse', 'izard', 'jackal', 'kite', 'lizard', 'mouse', \n",
    "                   'ostrich', 'parrot', 'rabbit', 'snake', 'turtle', 'zebra']\n",
    "    strs_5_set  = ['blue', 'red', 'green', 'orange', 'yellow']\n",
    "    strs_20, nums_small, nums_large, dats, strs_5, nums_float = [], [], [], [], [], []\n",
    "    for i in range(sz):\n",
    "        strs_20.append(strs_20_set[randint(0,len(strs_20_set)-1)])\n",
    "        nums_small.append(randint(0, 9))\n",
    "        nums_large.append(randint(0, 99)), nums_float.append(random.random())\n",
    "        year, month, day, hour, minute, second  = randint(1900, 2020), randint(1, 12), randint(1, 28), randint(0, 23), randint(0, 59), randint(0, 59)\n",
    "        dats.append(f'{year:04}-{month:02}-{day:02} {hour:02}:{minute:02}:{second:02}')\n",
    "        strs_5.append(strs_5_set[randint(0,4)])\n",
    "    df_pd = pd.DataFrame({'strs_20':strs_20, 'nums_small':nums_small, 'nums_large':nums_large, 'nums_float':nums_float, 'dats':dats, 'strs_5':strs_5})\n",
    "    df_pd = rt.columnsAreTimestamps(df_pd, 'dats')\n",
    "    df_pl = pl.DataFrame(df_pd)\n",
    "    return df_pd, df_pl\n",
    "\n",
    "# Create Datasets Of Various Sizes\n",
    "pds, pls, szs = {}, {}, []\n",
    "#for i in range(50000,1100000,100000):\n",
    "for i in [10000, 100000, 1000000]:\n",
    "    szs.append(i)\n",
    "for sz in szs:\n",
    "    df_pd, df_pl = createData(sz)\n",
    "    pds[sz] = df_pd\n",
    "    pls[sz] = df_pl\n",
    "    \n",
    "# Time Specific Method\n",
    "def timeMethod(fn, params, component, count_by, samples=3):\n",
    "    xs, ys, types, components, count_bys, groups = [], [], [], [], [], []\n",
    "    for sz in pds.keys():\n",
    "        accum_time = 0.0\n",
    "        for _sample_ in range(samples):\n",
    "            ts0 = time.time()\n",
    "            fn(pds[sz], **params)._repr_svg_()\n",
    "            ts1 = time.time()\n",
    "            accum_time += (ts1 - ts0)\n",
    "        pd_time = accum_time/samples\n",
    "        accum_time = 0.0\n",
    "        for _sample_ in range(samples):\n",
    "            ts0 = time.time()\n",
    "            fn(pls[sz], **params)._repr_svg_()\n",
    "            ts1 = time.time()\n",
    "            accum_time += (ts1 - ts0)\n",
    "        pl_time = accum_time/samples\n",
    "        xs.append(sz), ys.append(pd_time), types.append('pandas'), components.append(component), count_bys.append(count_by), groups.append('a')\n",
    "        xs.append(sz), ys.append(pl_time), types.append('polars'), components.append(component), count_bys.append(count_by), groups.append('b')\n",
    "    return pd.DataFrame({'size':xs, 'time':ys, 'type':types, 'component':components, 'count_by':count_bys, 'group':groups})\n",
    "xy_params = {'x_field':'size', 'y_field':'time', 'line_groupby_field':'group', 'line_groupby_w':3, 'dot_size':None, 'color_by':'type', 'w':512}\n",
    "all_dfs  = []"
   ]
  },
  {
   "cell_type": "code",
   "execution_count": null,
   "metadata": {},
   "outputs": [],
   "source": [
    "df  = timeMethod(rt.histogram, {'bin_by':'strs_20'},                          'histograms', 'rows')\n",
    "df2 = timeMethod(rt.histogram, {'bin_by':'strs_20', 'count_by':'nums_large'}, 'histograms', 'ints')\n",
    "df3 = timeMethod(rt.histogram, {'bin_by':'strs_20', 'count_by':'nums_float'}, 'histograms', 'floats')\n",
    "all_dfs.extend([df, df2, df3])\n",
    "rt.tile([rt.xy(df, **xy_params), rt.xy(df2, **xy_params), rt.xy(df3, **xy_params)])"
   ]
  },
  {
   "cell_type": "code",
   "execution_count": null,
   "metadata": {},
   "outputs": [],
   "source": [
    "df  = timeMethod(rt.temporalBarChart, {},                        'temporalBarChart', 'rows')\n",
    "df2 = timeMethod(rt.temporalBarChart, {'count_by':'nums_large'}, 'temporalBarChart', 'ints')\n",
    "df3 = timeMethod(rt.temporalBarChart, {'count_by':'nums_float'}, 'temporalBarChart', 'floats')\n",
    "all_dfs.extend([df, df2, df3])\n",
    "rt.tile([rt.xy(df, **xy_params), rt.xy(df2, **xy_params), rt.xy(df3, **xy_params)])"
   ]
  },
  {
   "cell_type": "code",
   "execution_count": null,
   "metadata": {},
   "outputs": [],
   "source": [
    "df = timeMethod(rt.xy, {'x_field':'nums_float', 'y_field':'nums_large'}, 'xy', 'default')\n",
    "all_dfs.append(df)\n",
    "rt.xy(df, **xy_params)"
   ]
  },
  {
   "cell_type": "code",
   "execution_count": null,
   "metadata": {},
   "outputs": [],
   "source": [
    "df  = timeMethod(rt.periodicBarChart, {},                        'periodicBarChart', 'rows')\n",
    "df2 = timeMethod(rt.periodicBarChart, {'count_by':'nums_large'}, 'periodicBarChart', 'ints')\n",
    "df3 = timeMethod(rt.periodicBarChart, {'count_by':'nums_float'}, 'periodicBarChart', 'floats')\n",
    "all_dfs.extend([df, df2, df3])\n",
    "rt.tile([rt.xy(df, **xy_params), rt.xy(df2, **xy_params), rt.xy(df3, **xy_params)])"
   ]
  },
  {
   "cell_type": "code",
   "execution_count": null,
   "metadata": {},
   "outputs": [],
   "source": [
    "relates = [('strs_20','strs_5')]\n",
    "df = timeMethod(rt.linkNode, {'relationships':relates}, 'linkNode', 'default')\n",
    "all_dfs.append(df)\n",
    "rt.xy(df, **xy_params)"
   ]
  },
  {
   "cell_type": "code",
   "execution_count": null,
   "metadata": {},
   "outputs": [],
   "source": [
    "rt.smallMultiples(pd.concat(all_dfs), category_by=['component','count_by'], grid_view=True, show_df_multiple=False, sm_type='xy', \n",
    "                  sm_params={'x_field':'size', 'y_field':'time', 'line_groupby_field':'group', 'line_groupby_w':3, 'dot_size':'medium', 'color_by':'type'},\n",
    "                  y_axis_independent=True, w_sm_override=384, h_sm_override=160)\n"
   ]
  },
  {
   "cell_type": "code",
   "execution_count": null,
   "metadata": {},
   "outputs": [],
   "source": []
  }
 ],
 "metadata": {
  "kernelspec": {
   "display_name": "Python 3",
   "language": "python",
   "name": "python3"
  },
  "language_info": {
   "codemirror_mode": {
    "name": "ipython",
    "version": 3
   },
   "file_extension": ".py",
   "mimetype": "text/x-python",
   "name": "python",
   "nbconvert_exporter": "python",
   "pygments_lexer": "ipython3",
   "version": "3.11.6"
  }
 },
 "nbformat": 4,
 "nbformat_minor": 2
}
