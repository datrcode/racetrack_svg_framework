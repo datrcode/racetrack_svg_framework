{
 "cells": [
  {
   "attachments": {},
   "cell_type": "markdown",
   "metadata": {},
   "source": [
    "# XY Scatterplots\n",
    "## Overview\n",
    "Compare the relationship between two variables.\n",
    "## Basics\n",
    "Required parameters include:\n",
    "- x_field: single field or list of fields\n",
    "- y_field: single field or list of fields\n",
    "\n",
    "Commonly used parameters include:\n",
    "- count_by: field to vary either size and/or opacity\n",
    "- color_by: field for coloring\n",
    "- dot_size: 'medium' (default), 'large', 'small', 'vary', or None"
   ]
  },
  {
   "cell_type": "code",
   "execution_count": null,
   "metadata": {},
   "outputs": [],
   "source": [
    "import pandas as pd\n",
    "import numpy as np\n",
    "import sys\n",
    "sys.path.insert(1, '../framework') # base location of the .py classes\n",
    "from racetrack import *\n",
    "rt = RACETrack()"
   ]
  },
  {
   "cell_type": "code",
   "execution_count": null,
   "metadata": {},
   "outputs": [],
   "source": [
    "df0 = pd.DataFrame({'x':[ 1,   2,   3,   4,   5,   6,   7,  8],\n",
    "                    'y':[ 5,   5,   6,   7,   6,   6,   6,  7],\n",
    "                    's':[ 1,   1,   1,   2,   2,   2,   3,  3],\n",
    "                    'c':[ 'a', 'a', 'a', 'b', 'b', 'b', 'c','c']})\n",
    "rt.displaySVG(rt.tile([rt.xy(df0, x_field='x', y_field='y',                                               w=128,h=128),\n",
    "                       rt.xy(df0, x_field='x', y_field='y', dot_size='large',                             w=128,h=128),\n",
    "                       rt.xy(df0, x_field='x', y_field='y', dot_size='large', color_by='c',               w=128,h=128),\n",
    "                       rt.xy(df0, x_field='x', y_field='y', dot_size='vary',  color_by='c', count_by='s', w=128,h=128)]))"
   ]
  },
  {
   "attachments": {},
   "cell_type": "markdown",
   "metadata": {},
   "source": [
    "<svg width=\"512\" height=\"128\">\n",
    "<svg id=\"xy_12346\" x=\"0\" y=\"0\" width=\"128\" height=\"128\" xmlns=\"http://www.w3.org/2000/svg\"><rect width=\"127\" height=\"127\" x=\"0\" y=\"0\" fill=\"#ffffff\" fill-opacity=\"1.0\" stroke=\"#ffffff\" stroke-opacity=\"1.0\" /><line x1=\"17\" y1=\"111\" x2=\"17\"                 y2=\"3\"      stroke=\"#101010\" stroke-width=\".6\" /><line x1=\"17\" y1=\"111\" x2=\"123\" y2=\"111\"   stroke=\"#101010\" stroke-width=\".6\" /><circle cx=\"17\" cy=\"109\" r=\"2\" fill=\"#4988b6\" stroke=\"#4988b6\" fill-opacity=\"1.0\" stroke-opacity=\"1.0\" /><circle cx=\"32\" cy=\"109\" r=\"2\" fill=\"#4988b6\" stroke=\"#4988b6\" fill-opacity=\"1.0\" stroke-opacity=\"1.0\" /><circle cx=\"47\" cy=\"56\" r=\"2\" fill=\"#4988b6\" stroke=\"#4988b6\" fill-opacity=\"1.0\" stroke-opacity=\"1.0\" /><circle cx=\"62\" cy=\"3\" r=\"2\" fill=\"#4988b6\" stroke=\"#4988b6\" fill-opacity=\"1.0\" stroke-opacity=\"1.0\" /><circle cx=\"77\" cy=\"56\" r=\"2\" fill=\"#4988b6\" stroke=\"#4988b6\" fill-opacity=\"1.0\" stroke-opacity=\"1.0\" /><circle cx=\"92\" cy=\"56\" r=\"2\" fill=\"#4988b6\" stroke=\"#4988b6\" fill-opacity=\"1.0\" stroke-opacity=\"1.0\" /><circle cx=\"107\" cy=\"56\" r=\"2\" fill=\"#4988b6\" stroke=\"#4988b6\" fill-opacity=\"1.0\" stroke-opacity=\"1.0\" /><circle cx=\"123\" cy=\"3\" r=\"2\" fill=\"#4988b6\" stroke=\"#4988b6\" fill-opacity=\"1.0\" stroke-opacity=\"1.0\" /><text x=\"17\" text-anchor=\"start\" y=\"125\" font-family=\"Times, serif\" fill=\"#000000\" font-size=\"12px\">1</text><text x=\"123\" text-anchor=\"end\" y=\"125\" font-family=\"Times, serif\" fill=\"#000000\" font-size=\"12px\">8</text><text x=\"70.0\" text-anchor=\"middle\" y=\"125\" font-family=\"Times, serif\" fill=\"#000000\" font-size=\"12px\">x</text><text x=\"13\" text-anchor=\"start\" y=\"109\" font-family=\"Times, serif\" fill=\"#000000\" font-size=\"12px\" transform=\"rotate(-90,13,109)\">5</text><text x=\"13\" text-anchor=\"end\" y=\"3\" font-family=\"Times, serif\" fill=\"#000000\" font-size=\"12px\" transform=\"rotate(-90,13,3)\">7</text><text x=\"13\" text-anchor=\"middle\" y=\"56.0\" font-family=\"Times, serif\" fill=\"#000000\" font-size=\"12px\" transform=\"rotate(-90,13,56.0)\">y</text><rect width=\"127\" height=\"128\" x=\"0\" y=\"0\" fill-opacity=\"0.0\" stroke=\"#000000\" /></svg>\n",
    "<svg id=\"xy_31267\" x=\"128\" y=\"0\" width=\"128\" height=\"128\" xmlns=\"http://www.w3.org/2000/svg\"><rect width=\"127\" height=\"127\" x=\"0\" y=\"0\" fill=\"#ffffff\" fill-opacity=\"1.0\" stroke=\"#ffffff\" stroke-opacity=\"1.0\" /><line x1=\"17\" y1=\"111\" x2=\"17\"                 y2=\"3\"      stroke=\"#101010\" stroke-width=\".6\" /><line x1=\"17\" y1=\"111\" x2=\"123\" y2=\"111\"   stroke=\"#101010\" stroke-width=\".6\" /><circle cx=\"17\" cy=\"109\" r=\"3\" fill=\"#4988b6\" stroke=\"#4988b6\" fill-opacity=\"1.0\" stroke-opacity=\"1.0\" /><circle cx=\"32\" cy=\"109\" r=\"3\" fill=\"#4988b6\" stroke=\"#4988b6\" fill-opacity=\"1.0\" stroke-opacity=\"1.0\" /><circle cx=\"47\" cy=\"56\" r=\"3\" fill=\"#4988b6\" stroke=\"#4988b6\" fill-opacity=\"1.0\" stroke-opacity=\"1.0\" /><circle cx=\"62\" cy=\"3\" r=\"3\" fill=\"#4988b6\" stroke=\"#4988b6\" fill-opacity=\"1.0\" stroke-opacity=\"1.0\" /><circle cx=\"77\" cy=\"56\" r=\"3\" fill=\"#4988b6\" stroke=\"#4988b6\" fill-opacity=\"1.0\" stroke-opacity=\"1.0\" /><circle cx=\"92\" cy=\"56\" r=\"3\" fill=\"#4988b6\" stroke=\"#4988b6\" fill-opacity=\"1.0\" stroke-opacity=\"1.0\" /><circle cx=\"107\" cy=\"56\" r=\"3\" fill=\"#4988b6\" stroke=\"#4988b6\" fill-opacity=\"1.0\" stroke-opacity=\"1.0\" /><circle cx=\"123\" cy=\"3\" r=\"3\" fill=\"#4988b6\" stroke=\"#4988b6\" fill-opacity=\"1.0\" stroke-opacity=\"1.0\" /><text x=\"17\" text-anchor=\"start\" y=\"125\" font-family=\"Times, serif\" fill=\"#000000\" font-size=\"12px\">1</text><text x=\"123\" text-anchor=\"end\" y=\"125\" font-family=\"Times, serif\" fill=\"#000000\" font-size=\"12px\">8</text><text x=\"70.0\" text-anchor=\"middle\" y=\"125\" font-family=\"Times, serif\" fill=\"#000000\" font-size=\"12px\">x</text><text x=\"13\" text-anchor=\"start\" y=\"109\" font-family=\"Times, serif\" fill=\"#000000\" font-size=\"12px\" transform=\"rotate(-90,13,109)\">5</text><text x=\"13\" text-anchor=\"end\" y=\"3\" font-family=\"Times, serif\" fill=\"#000000\" font-size=\"12px\" transform=\"rotate(-90,13,3)\">7</text><text x=\"13\" text-anchor=\"middle\" y=\"56.0\" font-family=\"Times, serif\" fill=\"#000000\" font-size=\"12px\" transform=\"rotate(-90,13,56.0)\">y</text><rect width=\"127\" height=\"128\" x=\"0\" y=\"0\" fill-opacity=\"0.0\" stroke=\"#000000\" /></svg>\n",
    "<svg id=\"xy_6646\" x=\"256\" y=\"0\" width=\"128\" height=\"128\" xmlns=\"http://www.w3.org/2000/svg\"><rect width=\"127\" height=\"127\" x=\"0\" y=\"0\" fill=\"#ffffff\" fill-opacity=\"1.0\" stroke=\"#ffffff\" stroke-opacity=\"1.0\" /><line x1=\"17\" y1=\"111\" x2=\"17\"                 y2=\"3\"      stroke=\"#101010\" stroke-width=\".6\" /><line x1=\"17\" y1=\"111\" x2=\"123\" y2=\"111\"   stroke=\"#101010\" stroke-width=\".6\" /><circle cx=\"17\" cy=\"109\" r=\"3\" fill=\"#873fa0\" stroke=\"#873fa0\" fill-opacity=\"1.0\" stroke-opacity=\"1.0\" /><circle cx=\"32\" cy=\"109\" r=\"3\" fill=\"#873fa0\" stroke=\"#873fa0\" fill-opacity=\"1.0\" stroke-opacity=\"1.0\" /><circle cx=\"47\" cy=\"56\" r=\"3\" fill=\"#873fa0\" stroke=\"#873fa0\" fill-opacity=\"1.0\" stroke-opacity=\"1.0\" /><circle cx=\"62\" cy=\"3\" r=\"3\" fill=\"#5da10b\" stroke=\"#5da10b\" fill-opacity=\"1.0\" stroke-opacity=\"1.0\" /><circle cx=\"77\" cy=\"56\" r=\"3\" fill=\"#5da10b\" stroke=\"#5da10b\" fill-opacity=\"1.0\" stroke-opacity=\"1.0\" /><circle cx=\"92\" cy=\"56\" r=\"3\" fill=\"#5da10b\" stroke=\"#5da10b\" fill-opacity=\"1.0\" stroke-opacity=\"1.0\" /><circle cx=\"107\" cy=\"56\" r=\"3\" fill=\"#959a66\" stroke=\"#959a66\" fill-opacity=\"1.0\" stroke-opacity=\"1.0\" /><circle cx=\"123\" cy=\"3\" r=\"3\" fill=\"#959a66\" stroke=\"#959a66\" fill-opacity=\"1.0\" stroke-opacity=\"1.0\" /><text x=\"17\" text-anchor=\"start\" y=\"125\" font-family=\"Times, serif\" fill=\"#000000\" font-size=\"12px\">1</text><text x=\"123\" text-anchor=\"end\" y=\"125\" font-family=\"Times, serif\" fill=\"#000000\" font-size=\"12px\">8</text><text x=\"70.0\" text-anchor=\"middle\" y=\"125\" font-family=\"Times, serif\" fill=\"#000000\" font-size=\"12px\">x</text><text x=\"13\" text-anchor=\"start\" y=\"109\" font-family=\"Times, serif\" fill=\"#000000\" font-size=\"12px\" transform=\"rotate(-90,13,109)\">5</text><text x=\"13\" text-anchor=\"end\" y=\"3\" font-family=\"Times, serif\" fill=\"#000000\" font-size=\"12px\" transform=\"rotate(-90,13,3)\">7</text><text x=\"13\" text-anchor=\"middle\" y=\"56.0\" font-family=\"Times, serif\" fill=\"#000000\" font-size=\"12px\" transform=\"rotate(-90,13,56.0)\">y</text><rect width=\"127\" height=\"128\" x=\"0\" y=\"0\" fill-opacity=\"0.0\" stroke=\"#000000\" /></svg>\n",
    "<svg id=\"xy_35733\" x=\"384\" y=\"0\" width=\"128\" height=\"128\" xmlns=\"http://www.w3.org/2000/svg\"><rect width=\"127\" height=\"127\" x=\"0\" y=\"0\" fill=\"#ffffff\" fill-opacity=\"1.0\" stroke=\"#ffffff\" stroke-opacity=\"1.0\" /><line x1=\"17\" y1=\"111\" x2=\"17\"                 y2=\"3\"      stroke=\"#101010\" stroke-width=\".6\" /><line x1=\"17\" y1=\"111\" x2=\"123\" y2=\"111\"   stroke=\"#101010\" stroke-width=\".6\" /><circle cx=\"17\" cy=\"109\" r=\"1.8666666666666667\" fill=\"#873fa0\" stroke=\"#873fa0\" fill-opacity=\"1.0\" stroke-opacity=\"1.0\" /><circle cx=\"32\" cy=\"109\" r=\"1.8666666666666667\" fill=\"#873fa0\" stroke=\"#873fa0\" fill-opacity=\"1.0\" stroke-opacity=\"1.0\" /><circle cx=\"47\" cy=\"56\" r=\"1.8666666666666667\" fill=\"#873fa0\" stroke=\"#873fa0\" fill-opacity=\"1.0\" stroke-opacity=\"1.0\" /><circle cx=\"62\" cy=\"3\" r=\"3.5333333333333337\" fill=\"#5da10b\" stroke=\"#5da10b\" fill-opacity=\"1.0\" stroke-opacity=\"1.0\" /><circle cx=\"77\" cy=\"56\" r=\"3.5333333333333337\" fill=\"#5da10b\" stroke=\"#5da10b\" fill-opacity=\"1.0\" stroke-opacity=\"1.0\" /><circle cx=\"92\" cy=\"56\" r=\"3.5333333333333337\" fill=\"#5da10b\" stroke=\"#5da10b\" fill-opacity=\"1.0\" stroke-opacity=\"1.0\" /><circle cx=\"107\" cy=\"56\" r=\"5.2\" fill=\"#959a66\" stroke=\"#959a66\" fill-opacity=\"1.0\" stroke-opacity=\"1.0\" /><circle cx=\"123\" cy=\"3\" r=\"5.2\" fill=\"#959a66\" stroke=\"#959a66\" fill-opacity=\"1.0\" stroke-opacity=\"1.0\" /><text x=\"17\" text-anchor=\"start\" y=\"125\" font-family=\"Times, serif\" fill=\"#000000\" font-size=\"12px\">1</text><text x=\"123\" text-anchor=\"end\" y=\"125\" font-family=\"Times, serif\" fill=\"#000000\" font-size=\"12px\">8</text><text x=\"70.0\" text-anchor=\"middle\" y=\"125\" font-family=\"Times, serif\" fill=\"#000000\" font-size=\"12px\">x</text><text x=\"13\" text-anchor=\"start\" y=\"109\" font-family=\"Times, serif\" fill=\"#000000\" font-size=\"12px\" transform=\"rotate(-90,13,109)\">5</text><text x=\"13\" text-anchor=\"end\" y=\"3\" font-family=\"Times, serif\" fill=\"#000000\" font-size=\"12px\" transform=\"rotate(-90,13,3)\">7</text><text x=\"13\" text-anchor=\"middle\" y=\"56.0\" font-family=\"Times, serif\" fill=\"#000000\" font-size=\"12px\" transform=\"rotate(-90,13,56.0)\">y</text><rect width=\"127\" height=\"128\" x=\"0\" y=\"0\" fill-opacity=\"0.0\" stroke=\"#000000\" /></svg>\n",
    "</svg>"
   ]
  },
  {
   "attachments": {},
   "cell_type": "markdown",
   "metadata": {},
   "source": [
    "## Categorical Values\n",
    "For fields that contain categorical values -- i.e., non-numeric cells -- the values will be assigned a coordinate value based on their natural ordering.  Each value will receive the same amount of space.\n",
    "\n",
    "Order of the cells can be overridden using the x_order and y_order parameters.  Any values not specified in the order parameter will be relegated to n/a coordinate."
   ]
  },
  {
   "cell_type": "code",
   "execution_count": null,
   "metadata": {},
   "outputs": [],
   "source": [
    "rt.displaySVG(rt.tile([rt.xy(df0, x_field='x', y_field='c', dot_size='large',                        w=128,h=128),\n",
    "                       rt.xy(df0, x_field='x', y_field='c', dot_size='large', y_order=['c','a','b'], w=128,h=128),\n",
    "                       rt.xy(df0, x_field='x', y_field='c', dot_size='large', y_order=['b','c'],     w=128,h=128),\n",
    "                       rt.xy(df0, x_field='x', y_field='c', dot_size='large', y_order=['b'],         w=128,h=128)]))"
   ]
  },
  {
   "attachments": {},
   "cell_type": "markdown",
   "metadata": {},
   "source": [
    "<svg width=\"512.0\" height=\"128.0\"><svg id=\"xy_62650\" x=\"0.0\"  y=\"0.0\"  width=\"128\" height=\"128\" xmlns=\"http://www.w3.org/2000/svg\"><rect width=\"127\" height=\"127\" x=\"0\" y=\"0\" fill=\"#ffffff\" fill-opacity=\"1.0\" stroke=\"#ffffff\" stroke-opacity=\"1.0\" /><line x1=\"17\" y1=\"111\" x2=\"17\"                 y2=\"3\"      stroke=\"#101010\" stroke-width=\".6\" /><line x1=\"17\" y1=\"111\" x2=\"123\" y2=\"111\"   stroke=\"#101010\" stroke-width=\".6\" /><circle cx=\"17\" cy=\"109\" r=\"3\" fill=\"#4988b6\" stroke=\"#4988b6\" fill-opacity=\"1.0\" stroke-opacity=\"1.0\" /><circle cx=\"32\" cy=\"109\" r=\"3\" fill=\"#4988b6\" stroke=\"#4988b6\" fill-opacity=\"1.0\" stroke-opacity=\"1.0\" /><circle cx=\"47\" cy=\"109\" r=\"3\" fill=\"#4988b6\" stroke=\"#4988b6\" fill-opacity=\"1.0\" stroke-opacity=\"1.0\" /><circle cx=\"62\" cy=\"56\" r=\"3\" fill=\"#4988b6\" stroke=\"#4988b6\" fill-opacity=\"1.0\" stroke-opacity=\"1.0\" /><circle cx=\"77\" cy=\"56\" r=\"3\" fill=\"#4988b6\" stroke=\"#4988b6\" fill-opacity=\"1.0\" stroke-opacity=\"1.0\" /><circle cx=\"92\" cy=\"56\" r=\"3\" fill=\"#4988b6\" stroke=\"#4988b6\" fill-opacity=\"1.0\" stroke-opacity=\"1.0\" /><circle cx=\"107\" cy=\"3\" r=\"3\" fill=\"#4988b6\" stroke=\"#4988b6\" fill-opacity=\"1.0\" stroke-opacity=\"1.0\" /><circle cx=\"123\" cy=\"3\" r=\"3\" fill=\"#4988b6\" stroke=\"#4988b6\" fill-opacity=\"1.0\" stroke-opacity=\"1.0\" /><text x=\"17\" text-anchor=\"start\" y=\"125\" font-family=\"Times, serif\" fill=\"#000000\" font-size=\"12px\">1</text><text x=\"123\" text-anchor=\"end\" y=\"125\" font-family=\"Times, serif\" fill=\"#000000\" font-size=\"12px\">8</text><text x=\"70.0\" text-anchor=\"middle\" y=\"125\" font-family=\"Times, serif\" fill=\"#000000\" font-size=\"12px\">x</text><text x=\"13\" text-anchor=\"start\" y=\"109\" font-family=\"Times, serif\" fill=\"#000000\" font-size=\"12px\" transform=\"rotate(-90,13,109)\">a</text><text x=\"13\" text-anchor=\"end\" y=\"3\" font-family=\"Times, serif\" fill=\"#000000\" font-size=\"12px\" transform=\"rotate(-90,13,3)\">c</text><text x=\"13\" text-anchor=\"middle\" y=\"56.0\" font-family=\"Times, serif\" fill=\"#000000\" font-size=\"12px\" transform=\"rotate(-90,13,56.0)\">c</text><rect width=\"127\" height=\"128\" x=\"0\" y=\"0\" fill-opacity=\"0.0\" stroke=\"#000000\" /></svg><svg id=\"xy_59224\" x=\"128.0\"  y=\"0.0\"  width=\"128\" height=\"128\" xmlns=\"http://www.w3.org/2000/svg\"><rect width=\"127\" height=\"127\" x=\"0\" y=\"0\" fill=\"#ffffff\" fill-opacity=\"1.0\" stroke=\"#ffffff\" stroke-opacity=\"1.0\" /><line x1=\"17\" y1=\"111\" x2=\"17\"                 y2=\"3\"      stroke=\"#101010\" stroke-width=\".6\" /><line x1=\"17\" y1=\"111\" x2=\"123\" y2=\"111\"   stroke=\"#101010\" stroke-width=\".6\" /><circle cx=\"17\" cy=\"56\" r=\"3\" fill=\"#4988b6\" stroke=\"#4988b6\" fill-opacity=\"1.0\" stroke-opacity=\"1.0\" /><circle cx=\"32\" cy=\"56\" r=\"3\" fill=\"#4988b6\" stroke=\"#4988b6\" fill-opacity=\"1.0\" stroke-opacity=\"1.0\" /><circle cx=\"47\" cy=\"56\" r=\"3\" fill=\"#4988b6\" stroke=\"#4988b6\" fill-opacity=\"1.0\" stroke-opacity=\"1.0\" /><circle cx=\"62\" cy=\"3\" r=\"3\" fill=\"#4988b6\" stroke=\"#4988b6\" fill-opacity=\"1.0\" stroke-opacity=\"1.0\" /><circle cx=\"77\" cy=\"3\" r=\"3\" fill=\"#4988b6\" stroke=\"#4988b6\" fill-opacity=\"1.0\" stroke-opacity=\"1.0\" /><circle cx=\"92\" cy=\"3\" r=\"3\" fill=\"#4988b6\" stroke=\"#4988b6\" fill-opacity=\"1.0\" stroke-opacity=\"1.0\" /><circle cx=\"107\" cy=\"109\" r=\"3\" fill=\"#4988b6\" stroke=\"#4988b6\" fill-opacity=\"1.0\" stroke-opacity=\"1.0\" /><circle cx=\"123\" cy=\"109\" r=\"3\" fill=\"#4988b6\" stroke=\"#4988b6\" fill-opacity=\"1.0\" stroke-opacity=\"1.0\" /><text x=\"17\" text-anchor=\"start\" y=\"125\" font-family=\"Times, serif\" fill=\"#000000\" font-size=\"12px\">1</text><text x=\"123\" text-anchor=\"end\" y=\"125\" font-family=\"Times, serif\" fill=\"#000000\" font-size=\"12px\">8</text><text x=\"70.0\" text-anchor=\"middle\" y=\"125\" font-family=\"Times, serif\" fill=\"#000000\" font-size=\"12px\">x</text><text x=\"13\" text-anchor=\"start\" y=\"109\" font-family=\"Times, serif\" fill=\"#000000\" font-size=\"12px\" transform=\"rotate(-90,13,109)\">c</text><text x=\"13\" text-anchor=\"end\" y=\"3\" font-family=\"Times, serif\" fill=\"#000000\" font-size=\"12px\" transform=\"rotate(-90,13,3)\">b</text><text x=\"13\" text-anchor=\"middle\" y=\"56.0\" font-family=\"Times, serif\" fill=\"#000000\" font-size=\"12px\" transform=\"rotate(-90,13,56.0)\">c</text><rect width=\"127\" height=\"128\" x=\"0\" y=\"0\" fill-opacity=\"0.0\" stroke=\"#000000\" /></svg><svg id=\"xy_60652\" x=\"256.0\"  y=\"0.0\"  width=\"128\" height=\"128\" xmlns=\"http://www.w3.org/2000/svg\"><rect width=\"127\" height=\"127\" x=\"0\" y=\"0\" fill=\"#ffffff\" fill-opacity=\"1.0\" stroke=\"#ffffff\" stroke-opacity=\"1.0\" /><line x1=\"17\" y1=\"111\" x2=\"17\"                 y2=\"3\"      stroke=\"#101010\" stroke-width=\".6\" /><line x1=\"17\" y1=\"111\" x2=\"123\" y2=\"111\"   stroke=\"#101010\" stroke-width=\".6\" /><circle cx=\"17\" cy=\"3\" r=\"3\" fill=\"#4988b6\" stroke=\"#4988b6\" fill-opacity=\"1.0\" stroke-opacity=\"1.0\" /><circle cx=\"32\" cy=\"3\" r=\"3\" fill=\"#4988b6\" stroke=\"#4988b6\" fill-opacity=\"1.0\" stroke-opacity=\"1.0\" /><circle cx=\"47\" cy=\"3\" r=\"3\" fill=\"#4988b6\" stroke=\"#4988b6\" fill-opacity=\"1.0\" stroke-opacity=\"1.0\" /><circle cx=\"62\" cy=\"109\" r=\"3\" fill=\"#4988b6\" stroke=\"#4988b6\" fill-opacity=\"1.0\" stroke-opacity=\"1.0\" /><circle cx=\"77\" cy=\"109\" r=\"3\" fill=\"#4988b6\" stroke=\"#4988b6\" fill-opacity=\"1.0\" stroke-opacity=\"1.0\" /><circle cx=\"92\" cy=\"109\" r=\"3\" fill=\"#4988b6\" stroke=\"#4988b6\" fill-opacity=\"1.0\" stroke-opacity=\"1.0\" /><circle cx=\"107\" cy=\"56\" r=\"3\" fill=\"#4988b6\" stroke=\"#4988b6\" fill-opacity=\"1.0\" stroke-opacity=\"1.0\" /><circle cx=\"123\" cy=\"56\" r=\"3\" fill=\"#4988b6\" stroke=\"#4988b6\" fill-opacity=\"1.0\" stroke-opacity=\"1.0\" /><text x=\"17\" text-anchor=\"start\" y=\"125\" font-family=\"Times, serif\" fill=\"#000000\" font-size=\"12px\">1</text><text x=\"123\" text-anchor=\"end\" y=\"125\" font-family=\"Times, serif\" fill=\"#000000\" font-size=\"12px\">8</text><text x=\"70.0\" text-anchor=\"middle\" y=\"125\" font-family=\"Times, serif\" fill=\"#000000\" font-size=\"12px\">x</text><text x=\"13\" text-anchor=\"start\" y=\"109\" font-family=\"Times, serif\" fill=\"#000000\" font-size=\"12px\" transform=\"rotate(-90,13,109)\">b</text><text x=\"13\" text-anchor=\"end\" y=\"3\" font-family=\"Times, serif\" fill=\"#000000\" font-size=\"12px\" transform=\"rotate(-90,13,3)\">ee</text><text x=\"13\" text-anchor=\"middle\" y=\"56.0\" font-family=\"Times, serif\" fill=\"#000000\" font-size=\"12px\" transform=\"rotate(-90,13,56.0)\">c</text><rect width=\"127\" height=\"128\" x=\"0\" y=\"0\" fill-opacity=\"0.0\" stroke=\"#000000\" /></svg><svg id=\"xy_1427\" x=\"384.0\"  y=\"0.0\"  width=\"128\" height=\"128\" xmlns=\"http://www.w3.org/2000/svg\"><rect width=\"127\" height=\"127\" x=\"0\" y=\"0\" fill=\"#ffffff\" fill-opacity=\"1.0\" stroke=\"#ffffff\" stroke-opacity=\"1.0\" /><line x1=\"17\" y1=\"111\" x2=\"17\"                 y2=\"3\"      stroke=\"#101010\" stroke-width=\".6\" /><line x1=\"17\" y1=\"111\" x2=\"123\" y2=\"111\"   stroke=\"#101010\" stroke-width=\".6\" /><circle cx=\"17\" cy=\"3\" r=\"3\" fill=\"#4988b6\" stroke=\"#4988b6\" fill-opacity=\"1.0\" stroke-opacity=\"1.0\" /><circle cx=\"32\" cy=\"3\" r=\"3\" fill=\"#4988b6\" stroke=\"#4988b6\" fill-opacity=\"1.0\" stroke-opacity=\"1.0\" /><circle cx=\"47\" cy=\"3\" r=\"3\" fill=\"#4988b6\" stroke=\"#4988b6\" fill-opacity=\"1.0\" stroke-opacity=\"1.0\" /><circle cx=\"62\" cy=\"109\" r=\"3\" fill=\"#4988b6\" stroke=\"#4988b6\" fill-opacity=\"1.0\" stroke-opacity=\"1.0\" /><circle cx=\"77\" cy=\"109\" r=\"3\" fill=\"#4988b6\" stroke=\"#4988b6\" fill-opacity=\"1.0\" stroke-opacity=\"1.0\" /><circle cx=\"92\" cy=\"109\" r=\"3\" fill=\"#4988b6\" stroke=\"#4988b6\" fill-opacity=\"1.0\" stroke-opacity=\"1.0\" /><circle cx=\"107\" cy=\"3\" r=\"3\" fill=\"#4988b6\" stroke=\"#4988b6\" fill-opacity=\"1.0\" stroke-opacity=\"1.0\" /><circle cx=\"123\" cy=\"3\" r=\"3\" fill=\"#4988b6\" stroke=\"#4988b6\" fill-opacity=\"1.0\" stroke-opacity=\"1.0\" /><text x=\"17\" text-anchor=\"start\" y=\"125\" font-family=\"Times, serif\" fill=\"#000000\" font-size=\"12px\">1</text><text x=\"123\" text-anchor=\"end\" y=\"125\" font-family=\"Times, serif\" fill=\"#000000\" font-size=\"12px\">8</text><text x=\"70.0\" text-anchor=\"middle\" y=\"125\" font-family=\"Times, serif\" fill=\"#000000\" font-size=\"12px\">x</text><text x=\"13\" text-anchor=\"start\" y=\"109\" font-family=\"Times, serif\" fill=\"#000000\" font-size=\"12px\" transform=\"rotate(-90,13,109)\">b</text><text x=\"13\" text-anchor=\"end\" y=\"3\" font-family=\"Times, serif\" fill=\"#000000\" font-size=\"12px\" transform=\"rotate(-90,13,3)\">ee</text><text x=\"13\" text-anchor=\"middle\" y=\"56.0\" font-family=\"Times, serif\" fill=\"#000000\" font-size=\"12px\" transform=\"rotate(-90,13,56.0)\">c</text><rect width=\"127\" height=\"128\" x=\"0\" y=\"0\" fill-opacity=\"0.0\" stroke=\"#000000\" /></svg></svg>"
   ]
  },
  {
   "attachments": {},
   "cell_type": "markdown",
   "metadata": {},
   "source": [
    "## Lines\n",
    "Lines (e.g., trend lines) can be added to connect values that have a unique x-axis value.  They are added by specifying a field with which to group the line points together (param: \"line_groupby_field\").  The line width can be controlled by the \"line_groupby_w\" parameter.  Depending on the purpose of the visualization, the xy point rendering can be disabled by setting the \"dot_size\" parameter to \"None\".\n",
    "\n",
    "Note that if you want all lines to extend from the left to the right, you'll need to make sure every value for every category has a value for each x coordinate."
   ]
  },
  {
   "cell_type": "code",
   "execution_count": null,
   "metadata": {},
   "outputs": [],
   "source": [
    "df1 = pd.DataFrame({'x':  [1,  2,  3,  4,  5,    1,  3,  5,     1,  2,  3],\n",
    "                    'y':  [5,  5,  5,  6,  6,    10, 11, 12,    3,  3,  4],\n",
    "                    'cat':['a','a','a','a','a',  'b','b','b',   'c','c','c']})\n",
    "rt.displaySVG(rt.tile([rt.xy(df1, x_field='x', y_field='y', color_by='cat', line_groupby_field='cat'),\n",
    "                       rt.xy(df1, x_field='x', y_field='y', color_by='cat', line_groupby_field='cat', line_groupby_w=4),\n",
    "                       rt.xy(df1, x_field='x', y_field='y', color_by='cat', line_groupby_field='cat', line_groupby_w=2, dot_size=None)]))"
   ]
  },
  {
   "attachments": {},
   "cell_type": "markdown",
   "metadata": {},
   "source": [
    "<svg width=\"768.0\" height=\"256.0\"><svg id=\"xy_35509\" x=\"0.0\"  y=\"0.0\"  width=\"256\" height=\"256\" xmlns=\"http://www.w3.org/2000/svg\"><rect width=\"255\" height=\"255\" x=\"0\" y=\"0\" fill=\"#ffffff\" fill-opacity=\"1.0\" stroke=\"#ffffff\" stroke-opacity=\"1.0\" /><line x1=\"17\" y1=\"239\" x2=\"17\"                 y2=\"3\"      stroke=\"#101010\" stroke-width=\".6\" /><line x1=\"17\" y1=\"239\" x2=\"251\" y2=\"239\"   stroke=\"#101010\" stroke-width=\".6\" /><polyline points=\"17,185 75,185 134,185 192,159 251,159 \" stroke=\"#873fa0\" stroke-width=\"1\" fill=\"none\" /><polyline points=\"17,55 134,29 251,3 \" stroke=\"#5da10b\" stroke-width=\"1\" fill=\"none\" /><polyline points=\"17,237 75,237 134,211 \" stroke=\"#959a66\" stroke-width=\"1\" fill=\"none\" /><circle cx=\"17\" cy=\"55\" r=\"2\" fill=\"#5da10b\" stroke=\"#5da10b\" fill-opacity=\"1.0\" stroke-opacity=\"1.0\" /><circle cx=\"17\" cy=\"185\" r=\"2\" fill=\"#873fa0\" stroke=\"#873fa0\" fill-opacity=\"1.0\" stroke-opacity=\"1.0\" /><circle cx=\"17\" cy=\"237\" r=\"2\" fill=\"#959a66\" stroke=\"#959a66\" fill-opacity=\"1.0\" stroke-opacity=\"1.0\" /><circle cx=\"75\" cy=\"185\" r=\"2\" fill=\"#873fa0\" stroke=\"#873fa0\" fill-opacity=\"1.0\" stroke-opacity=\"1.0\" /><circle cx=\"75\" cy=\"237\" r=\"2\" fill=\"#959a66\" stroke=\"#959a66\" fill-opacity=\"1.0\" stroke-opacity=\"1.0\" /><circle cx=\"134\" cy=\"29\" r=\"2\" fill=\"#5da10b\" stroke=\"#5da10b\" fill-opacity=\"1.0\" stroke-opacity=\"1.0\" /><circle cx=\"134\" cy=\"185\" r=\"2\" fill=\"#873fa0\" stroke=\"#873fa0\" fill-opacity=\"1.0\" stroke-opacity=\"1.0\" /><circle cx=\"134\" cy=\"211\" r=\"2\" fill=\"#959a66\" stroke=\"#959a66\" fill-opacity=\"1.0\" stroke-opacity=\"1.0\" /><circle cx=\"192\" cy=\"159\" r=\"2\" fill=\"#873fa0\" stroke=\"#873fa0\" fill-opacity=\"1.0\" stroke-opacity=\"1.0\" /><circle cx=\"251\" cy=\"3\" r=\"2\" fill=\"#5da10b\" stroke=\"#5da10b\" fill-opacity=\"1.0\" stroke-opacity=\"1.0\" /><circle cx=\"251\" cy=\"159\" r=\"2\" fill=\"#873fa0\" stroke=\"#873fa0\" fill-opacity=\"1.0\" stroke-opacity=\"1.0\" /><text x=\"17\" text-anchor=\"start\" y=\"253\" font-family=\"Times, serif\" fill=\"#000000\" font-size=\"12px\">1</text><text x=\"251\" text-anchor=\"end\" y=\"253\" font-family=\"Times, serif\" fill=\"#000000\" font-size=\"12px\">5</text><text x=\"134.0\" text-anchor=\"middle\" y=\"253\" font-family=\"Times, serif\" fill=\"#000000\" font-size=\"12px\">x</text><text x=\"13\" text-anchor=\"start\" y=\"237\" font-family=\"Times, serif\" fill=\"#000000\" font-size=\"12px\" transform=\"rotate(-90,13,237)\">3</text><text x=\"13\" text-anchor=\"end\" y=\"3\" font-family=\"Times, serif\" fill=\"#000000\" font-size=\"12px\" transform=\"rotate(-90,13,3)\">12</text><text x=\"13\" text-anchor=\"middle\" y=\"120.0\" font-family=\"Times, serif\" fill=\"#000000\" font-size=\"12px\" transform=\"rotate(-90,13,120.0)\">y</text><rect width=\"255\" height=\"256\" x=\"0\" y=\"0\" fill-opacity=\"0.0\" stroke=\"#000000\" /></svg><svg id=\"xy_46911\" x=\"256.0\"  y=\"0.0\"  width=\"256\" height=\"256\" xmlns=\"http://www.w3.org/2000/svg\"><rect width=\"255\" height=\"255\" x=\"0\" y=\"0\" fill=\"#ffffff\" fill-opacity=\"1.0\" stroke=\"#ffffff\" stroke-opacity=\"1.0\" /><line x1=\"17\" y1=\"239\" x2=\"17\"                 y2=\"3\"      stroke=\"#101010\" stroke-width=\".6\" /><line x1=\"17\" y1=\"239\" x2=\"251\" y2=\"239\"   stroke=\"#101010\" stroke-width=\".6\" /><polyline points=\"17,185 75,185 134,185 192,159 251,159 \" stroke=\"#873fa0\" stroke-width=\"4\" fill=\"none\" /><polyline points=\"17,55 134,29 251,3 \" stroke=\"#5da10b\" stroke-width=\"4\" fill=\"none\" /><polyline points=\"17,237 75,237 134,211 \" stroke=\"#959a66\" stroke-width=\"4\" fill=\"none\" /><circle cx=\"17\" cy=\"55\" r=\"2\" fill=\"#5da10b\" stroke=\"#5da10b\" fill-opacity=\"1.0\" stroke-opacity=\"1.0\" /><circle cx=\"17\" cy=\"185\" r=\"2\" fill=\"#873fa0\" stroke=\"#873fa0\" fill-opacity=\"1.0\" stroke-opacity=\"1.0\" /><circle cx=\"17\" cy=\"237\" r=\"2\" fill=\"#959a66\" stroke=\"#959a66\" fill-opacity=\"1.0\" stroke-opacity=\"1.0\" /><circle cx=\"75\" cy=\"185\" r=\"2\" fill=\"#873fa0\" stroke=\"#873fa0\" fill-opacity=\"1.0\" stroke-opacity=\"1.0\" /><circle cx=\"75\" cy=\"237\" r=\"2\" fill=\"#959a66\" stroke=\"#959a66\" fill-opacity=\"1.0\" stroke-opacity=\"1.0\" /><circle cx=\"134\" cy=\"29\" r=\"2\" fill=\"#5da10b\" stroke=\"#5da10b\" fill-opacity=\"1.0\" stroke-opacity=\"1.0\" /><circle cx=\"134\" cy=\"185\" r=\"2\" fill=\"#873fa0\" stroke=\"#873fa0\" fill-opacity=\"1.0\" stroke-opacity=\"1.0\" /><circle cx=\"134\" cy=\"211\" r=\"2\" fill=\"#959a66\" stroke=\"#959a66\" fill-opacity=\"1.0\" stroke-opacity=\"1.0\" /><circle cx=\"192\" cy=\"159\" r=\"2\" fill=\"#873fa0\" stroke=\"#873fa0\" fill-opacity=\"1.0\" stroke-opacity=\"1.0\" /><circle cx=\"251\" cy=\"3\" r=\"2\" fill=\"#5da10b\" stroke=\"#5da10b\" fill-opacity=\"1.0\" stroke-opacity=\"1.0\" /><circle cx=\"251\" cy=\"159\" r=\"2\" fill=\"#873fa0\" stroke=\"#873fa0\" fill-opacity=\"1.0\" stroke-opacity=\"1.0\" /><text x=\"17\" text-anchor=\"start\" y=\"253\" font-family=\"Times, serif\" fill=\"#000000\" font-size=\"12px\">1</text><text x=\"251\" text-anchor=\"end\" y=\"253\" font-family=\"Times, serif\" fill=\"#000000\" font-size=\"12px\">5</text><text x=\"134.0\" text-anchor=\"middle\" y=\"253\" font-family=\"Times, serif\" fill=\"#000000\" font-size=\"12px\">x</text><text x=\"13\" text-anchor=\"start\" y=\"237\" font-family=\"Times, serif\" fill=\"#000000\" font-size=\"12px\" transform=\"rotate(-90,13,237)\">3</text><text x=\"13\" text-anchor=\"end\" y=\"3\" font-family=\"Times, serif\" fill=\"#000000\" font-size=\"12px\" transform=\"rotate(-90,13,3)\">12</text><text x=\"13\" text-anchor=\"middle\" y=\"120.0\" font-family=\"Times, serif\" fill=\"#000000\" font-size=\"12px\" transform=\"rotate(-90,13,120.0)\">y</text><rect width=\"255\" height=\"256\" x=\"0\" y=\"0\" fill-opacity=\"0.0\" stroke=\"#000000\" /></svg><svg id=\"xy_63834\" x=\"512.0\"  y=\"0.0\"  width=\"256\" height=\"256\" xmlns=\"http://www.w3.org/2000/svg\"><rect width=\"255\" height=\"255\" x=\"0\" y=\"0\" fill=\"#ffffff\" fill-opacity=\"1.0\" stroke=\"#ffffff\" stroke-opacity=\"1.0\" /><line x1=\"17\" y1=\"239\" x2=\"17\"                 y2=\"3\"      stroke=\"#101010\" stroke-width=\".6\" /><line x1=\"17\" y1=\"239\" x2=\"251\" y2=\"239\"   stroke=\"#101010\" stroke-width=\".6\" /><polyline points=\"17,185 75,185 134,185 192,159 251,159 \" stroke=\"#873fa0\" stroke-width=\"2\" fill=\"none\" /><polyline points=\"17,55 134,29 251,3 \" stroke=\"#5da10b\" stroke-width=\"2\" fill=\"none\" /><polyline points=\"17,237 75,237 134,211 \" stroke=\"#959a66\" stroke-width=\"2\" fill=\"none\" /><text x=\"17\" text-anchor=\"start\" y=\"253\" font-family=\"Times, serif\" fill=\"#000000\" font-size=\"12px\">1</text><text x=\"251\" text-anchor=\"end\" y=\"253\" font-family=\"Times, serif\" fill=\"#000000\" font-size=\"12px\">5</text><text x=\"134.0\" text-anchor=\"middle\" y=\"253\" font-family=\"Times, serif\" fill=\"#000000\" font-size=\"12px\">x</text><text x=\"13\" text-anchor=\"start\" y=\"237\" font-family=\"Times, serif\" fill=\"#000000\" font-size=\"12px\" transform=\"rotate(-90,13,237)\">3</text><text x=\"13\" text-anchor=\"end\" y=\"3\" font-family=\"Times, serif\" fill=\"#000000\" font-size=\"12px\" transform=\"rotate(-90,13,3)\">12</text><text x=\"13\" text-anchor=\"middle\" y=\"120.0\" font-family=\"Times, serif\" fill=\"#000000\" font-size=\"12px\" transform=\"rotate(-90,13,120.0)\">y</text><rect width=\"255\" height=\"256\" x=\"0\" y=\"0\" fill-opacity=\"0.0\" stroke=\"#000000\" /></svg></svg>"
   ]
  },
  {
   "attachments": {},
   "cell_type": "markdown",
   "metadata": {},
   "source": [
    "## Background Context\n",
    "Background shapes can be defined via a lookup table to be rendered behind the dataframe.  Specifically, the shapes can either be described via a list of (x,y) tuples or as a SVG path description.  The lookup tables is then passed as the \"bg_shape_lu\" parameter.\n",
    "\n",
    "`background_shapes_lu = {}`\n",
    "\n",
    "`background_shapes_lu['example'] = [(1,1), (2,2),(1,2)]`\n",
    "\n",
    "Additionally, the following parameters can be further defined to describe the rendering of the background shapes.\n",
    "- bg_shape_label_color\n",
    "- bg_shape_opacity\n",
    "- bg_shape_fill\n",
    "- bg_shape_stroke_w\n",
    "- bg_shape_stroke\n",
    "\n",
    "| Parameter | Default | Options |\n",
    "| --------- | ------- | ------- |\n",
    "| bg_shape_label_color  | None      | None = no label, 'vary', lookup to hash color, or a hash color |\n",
    "| bg_shape_opacity      | 1.0,      | None (== 0.0), number, lookup to opacity                       |\n",
    "| bg_shape_fill         | None,     | None, 'vary', lookup to hash color, or a hash color            |\n",
    "| bg_shape_stroke_w     | 1.0,      | None, number, lookup to width                                  |\n",
    "| bg_shape_stroke       | 'default' | None, 'default', lookup to hash color, or a hash color         |\n"
   ]
  },
  {
   "cell_type": "code",
   "execution_count": null,
   "metadata": {},
   "outputs": [],
   "source": [
    "background_shapes_lu = {}\n",
    "background_shapes_lu['example']  = [(2,4),  (4,4),  (4,8)]\n",
    "background_shapes_lu['example2'] = [(4,10), (5,10), (5,8), (4,8)]\n",
    "rt.displaySVG(rt.tile([rt.xy(df1, x_field='x', y_field='y', color_by='cat', line_groupby_field='cat', line_groupby_w=4.0, \n",
    "                             bg_shape_lu=background_shapes_lu),\n",
    "                             rt.xy(df1, x_field='x', y_field='y', color_by='cat', line_groupby_field='cat', line_groupby_w=4.0, \n",
    "                             bg_shape_lu=background_shapes_lu, bg_shape_label_color='#000000'),\n",
    "                             rt.xy(df1, x_field='x', y_field='y', color_by='cat', line_groupby_field='cat', line_groupby_w=4.0, \n",
    "                             bg_shape_lu=background_shapes_lu, bg_shape_fill='#ff0000', bg_shape_opacity=0.2),\n",
    "                             rt.xy(df1, x_field='x', y_field='y', color_by='cat', line_groupby_field='cat', line_groupby_w=4.0, \n",
    "                             bg_shape_lu=background_shapes_lu, bg_shape_stroke=\"#0000ff\", bg_shape_stroke_w=4),\n",
    "                             ]))"
   ]
  },
  {
   "attachments": {},
   "cell_type": "markdown",
   "metadata": {},
   "source": [
    "'<svg width=\"1024.0\" height=\"256.0\"><svg id=\"xy_31291\" x=\"0.0\"  y=\"0.0\"  width=\"256\" height=\"256\" xmlns=\"http://www.w3.org/2000/svg\"><rect width=\"255\" height=\"255\" x=\"0\" y=\"0\" fill=\"#ffffff\" fill-opacity=\"1.0\" stroke=\"#ffffff\" stroke-opacity=\"1.0\" /><path d=\"M 75.5 211.0 L 192.5 211.0 L 192.5 107.0 Z\" fill-opacity=\"0.0\" stroke=\"#808080\" stroke-width=\"1.0\"/><path d=\"M 192.5 55.0 L 251.0 55.0 L 251.0 107.0 L 192.5 107.0 Z\" fill-opacity=\"0.0\" stroke=\"#808080\" stroke-width=\"1.0\"/><line x1=\"17\" y1=\"239\" x2=\"17\"                 y2=\"3\"      stroke=\"#101010\" stroke-width=\".6\" /><line x1=\"17\" y1=\"239\" x2=\"251\" y2=\"239\"   stroke=\"#101010\" stroke-width=\".6\" /><polyline points=\"17,185 75,185 134,185 192,159 251,159 \" stroke=\"#873fa0\" stroke-width=\"4.0\" fill=\"none\" /><polyline points=\"17,55 134,29 251,3 \" stroke=\"#5da10b\" stroke-width=\"4.0\" fill=\"none\" /><polyline points=\"17,237 75,237 134,211 \" stroke=\"#959a66\" stroke-width=\"4.0\" fill=\"none\" /><circle cx=\"17\" cy=\"55\" r=\"2\" fill=\"#5da10b\" stroke=\"#5da10b\" fill-opacity=\"1.0\" stroke-opacity=\"1.0\" /><circle cx=\"17\" cy=\"185\" r=\"2\" fill=\"#873fa0\" stroke=\"#873fa0\" fill-opacity=\"1.0\" stroke-opacity=\"1.0\" /><circle cx=\"17\" cy=\"237\" r=\"2\" fill=\"#959a66\" stroke=\"#959a66\" fill-opacity=\"1.0\" stroke-opacity=\"1.0\" /><circle cx=\"75\" cy=\"185\" r=\"2\" fill=\"#873fa0\" stroke=\"#873fa0\" fill-opacity=\"1.0\" stroke-opacity=\"1.0\" /><circle cx=\"75\" cy=\"237\" r=\"2\" fill=\"#959a66\" stroke=\"#959a66\" fill-opacity=\"1.0\" stroke-opacity=\"1.0\" /><circle cx=\"134\" cy=\"29\" r=\"2\" fill=\"#5da10b\" stroke=\"#5da10b\" fill-opacity=\"1.0\" stroke-opacity=\"1.0\" /><circle cx=\"134\" cy=\"185\" r=\"2\" fill=\"#873fa0\" stroke=\"#873fa0\" fill-opacity=\"1.0\" stroke-opacity=\"1.0\" /><circle cx=\"134\" cy=\"211\" r=\"2\" fill=\"#959a66\" stroke=\"#959a66\" fill-opacity=\"1.0\" stroke-opacity=\"1.0\" /><circle cx=\"192\" cy=\"159\" r=\"2\" fill=\"#873fa0\" stroke=\"#873fa0\" fill-opacity=\"1.0\" stroke-opacity=\"1.0\" /><circle cx=\"251\" cy=\"3\" r=\"2\" fill=\"#5da10b\" stroke=\"#5da10b\" fill-opacity=\"1.0\" stroke-opacity=\"1.0\" /><circle cx=\"251\" cy=\"159\" r=\"2\" fill=\"#873fa0\" stroke=\"#873fa0\" fill-opacity=\"1.0\" stroke-opacity=\"1.0\" /><text x=\"17\" text-anchor=\"start\" y=\"253\" font-family=\"Times, serif\" fill=\"#000000\" font-size=\"12px\">1</text><text x=\"251\" text-anchor=\"end\" y=\"253\" font-family=\"Times, serif\" fill=\"#000000\" font-size=\"12px\">5</text><text x=\"134.0\" text-anchor=\"middle\" y=\"253\" font-family=\"Times, serif\" fill=\"#000000\" font-size=\"12px\">x</text><text x=\"13\" text-anchor=\"start\" y=\"237\" font-family=\"Times, serif\" fill=\"#000000\" font-size=\"12px\" transform=\"rotate(-90,13,237)\">3</text><text x=\"13\" text-anchor=\"end\" y=\"3\" font-family=\"Times, serif\" fill=\"#000000\" font-size=\"12px\" transform=\"rotate(-90,13,3)\">12</text><text x=\"13\" text-anchor=\"middle\" y=\"120.0\" font-family=\"Times, serif\" fill=\"#000000\" font-size=\"12px\" transform=\"rotate(-90,13,120.0)\">y</text><rect width=\"255\" height=\"256\" x=\"0\" y=\"0\" fill-opacity=\"0.0\" stroke=\"#000000\" /></svg><svg id=\"xy_10798\" x=\"256.0\"  y=\"0.0\"  width=\"256\" height=\"256\" xmlns=\"http://www.w3.org/2000/svg\"><rect width=\"255\" height=\"255\" x=\"0\" y=\"0\" fill=\"#ffffff\" fill-opacity=\"1.0\" stroke=\"#ffffff\" stroke-opacity=\"1.0\" /><path d=\"M 75.5 211.0 L 192.5 211.0 L 192.5 107.0 Z\" fill-opacity=\"0.0\" stroke=\"#808080\" stroke-width=\"1.0\"/><path d=\"M 192.5 55.0 L 251.0 55.0 L 251.0 107.0 L 192.5 107.0 Z\" fill-opacity=\"0.0\" stroke=\"#808080\" stroke-width=\"1.0\"/><text x=\"134.0\" y=\"165.0\" text-anchor=\"middle\" font-family=\"Times, serif\" fill=\"#000000\" font-size=\"12px\">example</text><text x=\"221.75\" y=\"87.0\" text-anchor=\"middle\" font-family=\"Times, serif\" fill=\"#000000\" font-size=\"12px\">example2</text><line x1=\"17\" y1=\"239\" x2=\"17\"                 y2=\"3\"      stroke=\"#101010\" stroke-width=\".6\" /><line x1=\"17\" y1=\"239\" x2=\"251\" y2=\"239\"   stroke=\"#101010\" stroke-width=\".6\" /><polyline points=\"17,185 75,185 134,185 192,159 251,159 \" stroke=\"#873fa0\" stroke-width=\"4.0\" fill=\"none\" /><polyline points=\"17,55 134,29 251,3 \" stroke=\"#5da10b\" stroke-width=\"4.0\" fill=\"none\" /><polyline points=\"17,237 75,237 134,211 \" stroke=\"#959a66\" stroke-width=\"4.0\" fill=\"none\" /><circle cx=\"17\" cy=\"55\" r=\"2\" fill=\"#5da10b\" stroke=\"#5da10b\" fill-opacity=\"1.0\" stroke-opacity=\"1.0\" /><circle cx=\"17\" cy=\"185\" r=\"2\" fill=\"#873fa0\" stroke=\"#873fa0\" fill-opacity=\"1.0\" stroke-opacity=\"1.0\" /><circle cx=\"17\" cy=\"237\" r=\"2\" fill=\"#959a66\" stroke=\"#959a66\" fill-opacity=\"1.0\" stroke-opacity=\"1.0\" /><circle cx=\"75\" cy=\"185\" r=\"2\" fill=\"#873fa0\" stroke=\"#873fa0\" fill-opacity=\"1.0\" stroke-opacity=\"1.0\" /><circle cx=\"75\" cy=\"237\" r=\"2\" fill=\"#959a66\" stroke=\"#959a66\" fill-opacity=\"1.0\" stroke-opacity=\"1.0\" /><circle cx=\"134\" cy=\"29\" r=\"2\" fill=\"#5da10b\" stroke=\"#5da10b\" fill-opacity=\"1.0\" stroke-opacity=\"1.0\" /><circle cx=\"134\" cy=\"185\" r=\"2\" fill=\"#873fa0\" stroke=\"#873fa0\" fill-opacity=\"1.0\" stroke-opacity=\"1.0\" /><circle cx=\"134\" cy=\"211\" r=\"2\" fill=\"#959a66\" stroke=\"#959a66\" fill-opacity=\"1.0\" stroke-opacity=\"1.0\" /><circle cx=\"192\" cy=\"159\" r=\"2\" fill=\"#873fa0\" stroke=\"#873fa0\" fill-opacity=\"1.0\" stroke-opacity=\"1.0\" /><circle cx=\"251\" cy=\"3\" r=\"2\" fill=\"#5da10b\" stroke=\"#5da10b\" fill-opacity=\"1.0\" stroke-opacity=\"1.0\" /><circle cx=\"251\" cy=\"159\" r=\"2\" fill=\"#873fa0\" stroke=\"#873fa0\" fill-opacity=\"1.0\" stroke-opacity=\"1.0\" /><text x=\"17\" text-anchor=\"start\" y=\"253\" font-family=\"Times, serif\" fill=\"#000000\" font-size=\"12px\">1</text><text x=\"251\" text-anchor=\"end\" y=\"253\" font-family=\"Times, serif\" fill=\"#000000\" font-size=\"12px\">5</text><text x=\"134.0\" text-anchor=\"middle\" y=\"253\" font-family=\"Times, serif\" fill=\"#000000\" font-size=\"12px\">x</text><text x=\"13\" text-anchor=\"start\" y=\"237\" font-family=\"Times, serif\" fill=\"#000000\" font-size=\"12px\" transform=\"rotate(-90,13,237)\">3</text><text x=\"13\" text-anchor=\"end\" y=\"3\" font-family=\"Times, serif\" fill=\"#000000\" font-size=\"12px\" transform=\"rotate(-90,13,3)\">12</text><text x=\"13\" text-anchor=\"middle\" y=\"120.0\" font-family=\"Times, serif\" fill=\"#000000\" font-size=\"12px\" transform=\"rotate(-90,13,120.0)\">y</text><rect width=\"255\" height=\"256\" x=\"0\" y=\"0\" fill-opacity=\"0.0\" stroke=\"#000000\" /></svg><svg id=\"xy_10994\" x=\"512.0\"  y=\"0.0\"  width=\"256\" height=\"256\" xmlns=\"http://www.w3.org/2000/svg\"><rect width=\"255\" height=\"255\" x=\"0\" y=\"0\" fill=\"#ffffff\" fill-opacity=\"1.0\" stroke=\"#ffffff\" stroke-opacity=\"1.0\" /><path d=\"M 75.5 211.0 L 192.5 211.0 L 192.5 107.0 Z\" fill-opacity=\"0.2\" fill=\"#ff0000\" stroke=\"#808080\" stroke-width=\"1.0\"/><path d=\"M 192.5 55.0 L 251.0 55.0 L 251.0 107.0 L 192.5 107.0 Z\" fill-opacity=\"0.2\" fill=\"#ff0000\" stroke=\"#808080\" stroke-width=\"1.0\"/><line x1=\"17\" y1=\"239\" x2=\"17\"                 y2=\"3\"      stroke=\"#101010\" stroke-width=\".6\" /><line x1=\"17\" y1=\"239\" x2=\"251\" y2=\"239\"   stroke=\"#101010\" stroke-width=\".6\" /><polyline points=\"17,185 75,185 134,185 192,159 251,159 \" stroke=\"#873fa0\" stroke-width=\"4.0\" fill=\"none\" /><polyline points=\"17,55 134,29 251,3 \" stroke=\"#5da10b\" stroke-width=\"4.0\" fill=\"none\" /><polyline points=\"17,237 75,237 134,211 \" stroke=\"#959a66\" stroke-width=\"4.0\" fill=\"none\" /><circle cx=\"17\" cy=\"55\" r=\"2\" fill=\"#5da10b\" stroke=\"#5da10b\" fill-opacity=\"1.0\" stroke-opacity=\"1.0\" /><circle cx=\"17\" cy=\"185\" r=\"2\" fill=\"#873fa0\" stroke=\"#873fa0\" fill-opacity=\"1.0\" stroke-opacity=\"1.0\" /><circle cx=\"17\" cy=\"237\" r=\"2\" fill=\"#959a66\" stroke=\"#959a66\" fill-opacity=\"1.0\" stroke-opacity=\"1.0\" /><circle cx=\"75\" cy=\"185\" r=\"2\" fill=\"#873fa0\" stroke=\"#873fa0\" fill-opacity=\"1.0\" stroke-opacity=\"1.0\" /><circle cx=\"75\" cy=\"237\" r=\"2\" fill=\"#959a66\" stroke=\"#959a66\" fill-opacity=\"1.0\" stroke-opacity=\"1.0\" /><circle cx=\"134\" cy=\"29\" r=\"2\" fill=\"#5da10b\" stroke=\"#5da10b\" fill-opacity=\"1.0\" stroke-opacity=\"1.0\" /><circle cx=\"134\" cy=\"185\" r=\"2\" fill=\"#873fa0\" stroke=\"#873fa0\" fill-opacity=\"1.0\" stroke-opacity=\"1.0\" /><circle cx=\"134\" cy=\"211\" r=\"2\" fill=\"#959a66\" stroke=\"#959a66\" fill-opacity=\"1.0\" stroke-opacity=\"1.0\" /><circle cx=\"192\" cy=\"159\" r=\"2\" fill=\"#873fa0\" stroke=\"#873fa0\" fill-opacity=\"1.0\" stroke-opacity=\"1.0\" /><circle cx=\"251\" cy=\"3\" r=\"2\" fill=\"#5da10b\" stroke=\"#5da10b\" fill-opacity=\"1.0\" stroke-opacity=\"1.0\" /><circle cx=\"251\" cy=\"159\" r=\"2\" fill=\"#873fa0\" stroke=\"#873fa0\" fill-opacity=\"1.0\" stroke-opacity=\"1.0\" /><text x=\"17\" text-anchor=\"start\" y=\"253\" font-family=\"Times, serif\" fill=\"#000000\" font-size=\"12px\">1</text><text x=\"251\" text-anchor=\"end\" y=\"253\" font-family=\"Times, serif\" fill=\"#000000\" font-size=\"12px\">5</text><text x=\"134.0\" text-anchor=\"middle\" y=\"253\" font-family=\"Times, serif\" fill=\"#000000\" font-size=\"12px\">x</text><text x=\"13\" text-anchor=\"start\" y=\"237\" font-family=\"Times, serif\" fill=\"#000000\" font-size=\"12px\" transform=\"rotate(-90,13,237)\">3</text><text x=\"13\" text-anchor=\"end\" y=\"3\" font-family=\"Times, serif\" fill=\"#000000\" font-size=\"12px\" transform=\"rotate(-90,13,3)\">12</text><text x=\"13\" text-anchor=\"middle\" y=\"120.0\" font-family=\"Times, serif\" fill=\"#000000\" font-size=\"12px\" transform=\"rotate(-90,13,120.0)\">y</text><rect width=\"255\" height=\"256\" x=\"0\" y=\"0\" fill-opacity=\"0.0\" stroke=\"#000000\" /></svg><svg id=\"xy_49901\" x=\"768.0\"  y=\"0.0\"  width=\"256\" height=\"256\" xmlns=\"http://www.w3.org/2000/svg\"><rect width=\"255\" height=\"255\" x=\"0\" y=\"0\" fill=\"#ffffff\" fill-opacity=\"1.0\" stroke=\"#ffffff\" stroke-opacity=\"1.0\" /><path d=\"M 75.5 211.0 L 192.5 211.0 L 192.5 107.0 Z\" fill-opacity=\"0.0\" stroke=\"#0000ff\" stroke-width=\"4\"/><path d=\"M 192.5 55.0 L 251.0 55.0 L 251.0 107.0 L 192.5 107.0 Z\" fill-opacity=\"0.0\" stroke=\"#0000ff\" stroke-width=\"4\"/><line x1=\"17\" y1=\"239\" x2=\"17\"                 y2=\"3\"      stroke=\"#101010\" stroke-width=\".6\" /><line x1=\"17\" y1=\"239\" x2=\"251\" y2=\"239\"   stroke=\"#101010\" stroke-width=\".6\" /><polyline points=\"17,185 75,185 134,185 192,159 251,159 \" stroke=\"#873fa0\" stroke-width=\"4.0\" fill=\"none\" /><polyline points=\"17,55 134,29 251,3 \" stroke=\"#5da10b\" stroke-width=\"4.0\" fill=\"none\" /><polyline points=\"17,237 75,237 134,211 \" stroke=\"#959a66\" stroke-width=\"4.0\" fill=\"none\" /><circle cx=\"17\" cy=\"55\" r=\"2\" fill=\"#5da10b\" stroke=\"#5da10b\" fill-opacity=\"1.0\" stroke-opacity=\"1.0\" /><circle cx=\"17\" cy=\"185\" r=\"2\" fill=\"#873fa0\" stroke=\"#873fa0\" fill-opacity=\"1.0\" stroke-opacity=\"1.0\" /><circle cx=\"17\" cy=\"237\" r=\"2\" fill=\"#959a66\" stroke=\"#959a66\" fill-opacity=\"1.0\" stroke-opacity=\"1.0\" /><circle cx=\"75\" cy=\"185\" r=\"2\" fill=\"#873fa0\" stroke=\"#873fa0\" fill-opacity=\"1.0\" stroke-opacity=\"1.0\" /><circle cx=\"75\" cy=\"237\" r=\"2\" fill=\"#959a66\" stroke=\"#959a66\" fill-opacity=\"1.0\" stroke-opacity=\"1.0\" /><circle cx=\"134\" cy=\"29\" r=\"2\" fill=\"#5da10b\" stroke=\"#5da10b\" fill-opacity=\"1.0\" stroke-opacity=\"1.0\" /><circle cx=\"134\" cy=\"185\" r=\"2\" fill=\"#873fa0\" stroke=\"#873fa0\" fill-opacity=\"1.0\" stroke-opacity=\"1.0\" /><circle cx=\"134\" cy=\"211\" r=\"2\" fill=\"#959a66\" stroke=\"#959a66\" fill-opacity=\"1.0\" stroke-opacity=\"1.0\" /><circle cx=\"192\" cy=\"159\" r=\"2\" fill=\"#873fa0\" stroke=\"#873fa0\" fill-opacity=\"1.0\" stroke-opacity=\"1.0\" /><circle cx=\"251\" cy=\"3\" r=\"2\" fill=\"#5da10b\" stroke=\"#5da10b\" fill-opacity=\"1.0\" stroke-opacity=\"1.0\" /><circle cx=\"251\" cy=\"159\" r=\"2\" fill=\"#873fa0\" stroke=\"#873fa0\" fill-opacity=\"1.0\" stroke-opacity=\"1.0\" /><text x=\"17\" text-anchor=\"start\" y=\"253\" font-family=\"Times, serif\" fill=\"#000000\" font-size=\"12px\">1</text><text x=\"251\" text-anchor=\"end\" y=\"253\" font-family=\"Times, serif\" fill=\"#000000\" font-size=\"12px\">5</text><text x=\"134.0\" text-anchor=\"middle\" y=\"253\" font-family=\"Times, serif\" fill=\"#000000\" font-size=\"12px\">x</text><text x=\"13\" text-anchor=\"start\" y=\"237\" font-family=\"Times, serif\" fill=\"#000000\" font-size=\"12px\" transform=\"rotate(-90,13,237)\">3</text><text x=\"13\" text-anchor=\"end\" y=\"3\" font-family=\"Times, serif\" fill=\"#000000\" font-size=\"12px\" transform=\"rotate(-90,13,3)\">12</text><text x=\"13\" text-anchor=\"middle\" y=\"120.0\" font-family=\"Times, serif\" fill=\"#000000\" font-size=\"12px\" transform=\"rotate(-90,13,120.0)\">y</text><rect width=\"255\" height=\"256\" x=\"0\" y=\"0\" fill-opacity=\"0.0\" stroke=\"#000000\" /></svg></svg>'"
   ]
  },
  {
   "attachments": {},
   "cell_type": "markdown",
   "metadata": {},
   "source": [
    "## Secondary Axis\n",
    "A secondardy dataframe can be supplied with a separate y-field.  To work properly, the x-axis needs to be the same field."
   ]
  },
  {
   "cell_type": "code",
   "execution_count": null,
   "metadata": {},
   "outputs": [],
   "source": [
    "df  = pd.DataFrame({'timestamp':['2021', '2022', '2023', '2024', '2025'],\n",
    "                     'values':  [10,      11,    13,     13,     10],\n",
    "                     'other':   [200,     210,   211,    205,    210],\n",
    "                     'cat':     ['a',     'a',   'a',    'a',    'a']})\n",
    "df2 = pd.DataFrame({'timestamp':['2020', '2022', '2024', '2026', '2028'],\n",
    "                     'counts':  [100,     101,   101,    102,    100],\n",
    "                     'f':       ['c',     'c',   'c',    'c',    'c']})\n",
    "df ['timestamp'] = df ['timestamp'].astype('datetime64[ms]')\n",
    "df2['timestamp'] = df2['timestamp'].astype('datetime64[ms]')\n",
    "\n",
    "rt.displaySVG(rt.tile([\n",
    "    rt.xy(df,  x_field='timestamp', y_field= 'values', line_groupby_field='cat',                                                        dot_size='large'),\n",
    "    rt.xy(df,  x_field='timestamp', y_field= 'values', line_groupby_field='cat',          y2_field='other',  line2_groupby_field='cat', dot_size='large'),\n",
    "    rt.xy(df2, x_field='timestamp', y_field= 'counts', line_groupby_field='f',                                                          dot_size='large'),\n",
    "    rt.xy(df,  x_field='timestamp', y_field= 'values', line_groupby_field='cat', df2=df2, y2_field='counts', line2_groupby_field='f',   dot_size='large'),\n",
    "]))"
   ]
  },
  {
   "attachments": {},
   "cell_type": "markdown",
   "metadata": {},
   "source": [
    "## Distributions"
   ]
  },
  {
   "attachments": {},
   "cell_type": "markdown",
   "metadata": {},
   "source": []
  }
 ],
 "metadata": {
  "kernelspec": {
   "display_name": "Python 3",
   "language": "python",
   "name": "python3"
  },
  "language_info": {
   "codemirror_mode": {
    "name": "ipython",
    "version": 3
   },
   "file_extension": ".py",
   "mimetype": "text/x-python",
   "name": "python",
   "nbconvert_exporter": "python",
   "pygments_lexer": "ipython3",
   "version": "3.11.1"
  },
  "orig_nbformat": 4
 },
 "nbformat": 4,
 "nbformat_minor": 2
}
