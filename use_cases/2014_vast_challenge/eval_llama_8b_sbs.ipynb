{
 "cells": [
  {
   "cell_type": "code",
   "execution_count": null,
   "metadata": {},
   "outputs": [],
   "source": [
    "import pandas as pd\n",
    "import polars as pl\n",
    "import numpy as np\n",
    "import networkx as nx\n",
    "import json\n",
    "import time\n",
    "import sys\n",
    "sys.path.insert(1, '../../framework')\n",
    "from racetrack import *\n",
    "rt = RACETrack()\n",
    "df = pd.read_csv('llama3_8b_2014_vast_sbs.csv')\n",
    "len(df), df['llama3_8b_time'].sum()/60.0/60.0 # appears to be about 8 hours..."
   ]
  },
  {
   "cell_type": "code",
   "execution_count": null,
   "metadata": {},
   "outputs": [],
   "source": [
    "def listEscapes(s):\n",
    "    _ret_ = []\n",
    "    i = 0\n",
    "    while i < len(s):\n",
    "        if s[i] == '\\\\': _ret_.append(s[i:i+4])\n",
    "        i += 1\n",
    "    return _ret_\n",
    "def fixEscapes(s):\n",
    "    _escapes_ = listEscapes(s)\n",
    "    _ret_ = s\n",
    "    for i in range(len(_escapes_)):\n",
    "        if len(_escapes_[i]) != 4 or _escapes_[i][1] != 'x': continue\n",
    "        _ret_ = _ret_.replace(_escapes_[i], chr(int(_escapes_[i][2:],16)))\n",
    "    return _ret_\n",
    "\n",
    "_failed_parse_counts_, _failed_parses_, _successful_parse_counts_, _ignored_counts_ = 0, [], 0, 0\n",
    "for _json_str_ in df['llama3_8b_response']:\n",
    "    if _json_str_.startswith(\"I cannot\") or _json_str_.startswith(\"I apologize\"):\n",
    "        _ignored_counts_ += 1\n",
    "        continue\n",
    "    _json_str_ = fixEscapes(_json_str_)\n",
    "    if '{' not in _json_str_ or '}' not in _json_str_: \n",
    "        _failed_parse_counts_ += 1\n",
    "        _failed_parses_.append(_json_str_)\n",
    "        continue\n",
    "    _json_str_ = _json_str_[_json_str_.index('{'):_json_str_.rindex('}')+1]\n",
    "    try:\n",
    "        json.loads(_json_str_)\n",
    "        _successful_parse_counts_ += 1\n",
    "    except:\n",
    "        try:\n",
    "            json.loads(_json_str_ + '}')\n",
    "            _successful_parse_counts_ += 1\n",
    "        except:\n",
    "            try:\n",
    "                json.loads(_json_str_ + '] }')\n",
    "                _successful_parse_counts_ += 1\n",
    "            except:    \n",
    "                _failed_parse_counts_ += 1\n",
    "                _failed_parses_.append(_json_str_)\n",
    "_successful_parse_counts_ ,_failed_parse_counts_"
   ]
  },
  {
   "cell_type": "code",
   "execution_count": null,
   "metadata": {},
   "outputs": [],
   "source": [
    "#j = 3\n",
    "#_splits_ = fixEscapes(_failed_parses_[j]).split('\\n')\n",
    "#for i in range(len(_splits_)):\n",
    "#    print(f'{i:-3} {_splits_[i]}')\n",
    "#json.loads(fixEscapes(_failed_parses_[j]) + '] }')"
   ]
  },
  {
   "cell_type": "code",
   "execution_count": null,
   "metadata": {},
   "outputs": [],
   "source": [
    "\n",
    "_set_ = set()\n",
    "for i in range(len(_failed_parses_)): \n",
    "    _escapes_ = listEscapes(_failed_parses_[i])\n",
    "    _set_ = _set_ | set(_escapes_)\n",
    "_set_"
   ]
  },
  {
   "cell_type": "code",
   "execution_count": null,
   "metadata": {},
   "outputs": [],
   "source": [
    "\n",
    "chr(int('eb',16))"
   ]
  },
  {
   "cell_type": "code",
   "execution_count": null,
   "metadata": {},
   "outputs": [],
   "source": []
  }
 ],
 "metadata": {
  "kernelspec": {
   "display_name": ".venv",
   "language": "python",
   "name": "python3"
  },
  "language_info": {
   "codemirror_mode": {
    "name": "ipython",
    "version": 3
   },
   "file_extension": ".py",
   "mimetype": "text/x-python",
   "name": "python",
   "nbconvert_exporter": "python",
   "pygments_lexer": "ipython3",
   "version": "3.11.6"
  }
 },
 "nbformat": 4,
 "nbformat_minor": 2
}
