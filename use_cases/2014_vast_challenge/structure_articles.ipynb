{
 "cells": [
  {
   "cell_type": "code",
   "execution_count": null,
   "metadata": {},
   "outputs": [],
   "source": [
    "import pandas as pd\n",
    "import polars as pl\n",
    "import numpy as np\n",
    "import json\n",
    "import time\n",
    "import sys\n",
    "sys.path.insert(1, '../../framework')\n",
    "from racetrack import *\n",
    "rt = RACETrack()"
   ]
  },
  {
   "cell_type": "code",
   "execution_count": null,
   "metadata": {},
   "outputs": [],
   "source": [
    "df = pd.read_csv('llama3_8b_2014_vast.csv')\n",
    "_broken_ = []\n",
    "for _response_ in df['llama3_8b_response']:\n",
    "    i = _response_.index('```')\n",
    "    j = _response_.index('```', i+1)\n",
    "    try:\n",
    "        json.loads(_response_[i+3:j])\n",
    "    except:\n",
    "        _broken_.append(_response_[i+3:j])\n",
    "    print('.',end='')\n",
    "len(_broken_), len(df)"
   ]
  },
  {
   "cell_type": "code",
   "execution_count": null,
   "metadata": {},
   "outputs": [],
   "source": [
    "df = pd.read_csv('phi_2014_vast.csv')\n",
    "_broken_ = []\n",
    "for _response_ in df['phi_response']:\n",
    "    i = _response_.index('json')\n",
    "    if '```' in _response_[i+1:]: j = _response_.index('```', i+1)\n",
    "    else:                         j = len(_response_)\n",
    "    try:\n",
    "        json.loads(_response_[i+4:j])\n",
    "    except:\n",
    "        _broken_.append(_response_[i+4:j])\n",
    "    print('.',end='')\n",
    "len(_broken_), len(df)"
   ]
  },
  {
   "cell_type": "code",
   "execution_count": null,
   "metadata": {},
   "outputs": [],
   "source": [
    "df = pd.read_csv('mistral_7b_2014_vast.csv')\n",
    "_broken_ = []\n",
    "for _response_ in df['mistral_7b_response']:\n",
    "    _just_json_ = _response_[_response_.index('{'):_response_.rindex('}')+1]\n",
    "    try:\n",
    "        json.loads(_just_json_)\n",
    "    except:\n",
    "        _broken_.append(_just_json_)\n",
    "    print('.',end='')\n",
    "len(_broken_), len(df)"
   ]
  },
  {
   "cell_type": "code",
   "execution_count": null,
   "metadata": {},
   "outputs": [],
   "source": []
  }
 ],
 "metadata": {
  "kernelspec": {
   "display_name": ".venv",
   "language": "python",
   "name": "python3"
  },
  "language_info": {
   "codemirror_mode": {
    "name": "ipython",
    "version": 3
   },
   "file_extension": ".py",
   "mimetype": "text/x-python",
   "name": "python",
   "nbconvert_exporter": "python",
   "pygments_lexer": "ipython3",
   "version": "3.11.6"
  }
 },
 "nbformat": 4,
 "nbformat_minor": 2
}
