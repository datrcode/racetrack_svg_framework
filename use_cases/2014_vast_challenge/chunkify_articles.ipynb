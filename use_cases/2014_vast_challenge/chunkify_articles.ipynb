{
 "cells": [
  {
   "cell_type": "code",
   "execution_count": null,
   "metadata": {},
   "outputs": [],
   "source": [
    "import pandas as pd\n",
    "import numpy as np\n",
    "import os\n",
    "import time\n",
    "import rtsvg\n",
    "\n",
    "rt = rtsvg.RACETrack()\n",
    "\n",
    "_base_dir_ = '../../../data/2014_vast/MC1/News Articles'\n",
    "\n",
    "def breakIntoSentences(_str_):\n",
    "    _ret_, _tuples_ = [], rt.textExtractSentences(_str_)\n",
    "    for _tuple_ in _tuples_: _ret_.append(_tuple_[0])\n",
    "    return _ret_\n",
    "\n",
    "def separateArticle(_str_):\n",
    "    _source_, _title_, _published_, _location_, _sentences_ = '', '', '', '', []\n",
    "    for _part_ in _str_.split('\\n'):\n",
    "        if len(_part_) > 0 and _part_.startswith('<<') == False:\n",
    "            if   _part_.startswith(\"b'SOURCE:\"):   _source_    = _part_.replace(\"b'SOURCE:\",  '')  .strip()\n",
    "            elif _part_.startswith('SOURCE\":'):    _source_    = _part_.replace('SOURCE\":',   '')  .strip()\n",
    "            elif _part_.startswith(\"TITLE:\"):      _title_     = _part_.replace('TITLE:',     '')  .strip()\n",
    "            elif _part_.startswith(\"PUBLISHED:\"):  _published_ = _part_.replace('PUBLISHED:', '')  .strip()\n",
    "            elif _part_.startswith(\"LOCATION:\"):   _location_  = _part_.replace('LOCATION:',  '')  .strip()\n",
    "            else:                                  _sentences_.extend(breakIntoSentences(_part_))\n",
    "    return _source_, _title_, _published_, _location_, _sentences_\n",
    "\n",
    "_lu_       = {'directory':[], 'file':[], 'source':[], 'title':[], 'published':[], 'location':[], 'sentence':[], 'sentence_no':[]}\n",
    "done       = set()\n",
    "\n",
    "for _dir_ in os.listdir(_base_dir_):\n",
    "    for _file_ in os.listdir(os.path.join(_base_dir_, _dir_)):\n",
    "        if _file_ in done: continue\n",
    "        _article_raw_ = open(os.path.join(_base_dir_, _dir_, _file_), 'rb').read()\n",
    "        _src_, _title_, _published_, _location_, _sentences_ = separateArticle(str(_article_raw_).replace('\\\\r', '').replace('\\\\n', '\\n'))\n",
    "        _sentence_no_ = 0\n",
    "        for _ in _sentences_:\n",
    "            if len(_) < 6: continue\n",
    "            ts0_model   = time.time()\n",
    "            ts1_model   = time.time()\n",
    "            _lu_['directory'].append(_dir_)\n",
    "            _lu_['file'].append(_file_)\n",
    "            _lu_['source'].append(_src_)\n",
    "            _lu_['title'].append(_title_)\n",
    "            _lu_['published'].append(_published_)\n",
    "            _lu_['location'].append(_location_)\n",
    "            _lu_['sentence'].append(_)\n",
    "            _lu_['sentence_no'].append(_sentence_no_)\n",
    "            _sentence_no_ += 1\n",
    "        # pd.DataFrame(_lu_).to_csv('llama3_8b_2014_vast_sbs.csv', index=False)\n",
    "df = pd.DataFrame(_lu_)\n",
    "df.to_pickle('articles.pkl')\n",
    "df.sample(100)"
   ]
  },
  {
   "cell_type": "code",
   "execution_count": null,
   "metadata": {},
   "outputs": [],
   "source": []
  }
 ],
 "metadata": {
  "kernelspec": {
   "display_name": ".venv",
   "language": "python",
   "name": "python3"
  },
  "language_info": {
   "codemirror_mode": {
    "name": "ipython",
    "version": 3
   },
   "file_extension": ".py",
   "mimetype": "text/x-python",
   "name": "python",
   "nbconvert_exporter": "python",
   "pygments_lexer": "ipython3",
   "version": "3.12.3"
  }
 },
 "nbformat": 4,
 "nbformat_minor": 2
}
