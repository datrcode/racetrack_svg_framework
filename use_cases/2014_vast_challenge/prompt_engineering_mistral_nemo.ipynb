{
 "cells": [
  {
   "cell_type": "code",
   "execution_count": null,
   "metadata": {},
   "outputs": [],
   "source": [
    "from huggingface_hub import snapshot_download\n",
    "from pathlib import Path\n",
    "\n",
    "mistral_models_path = Path.home().joinpath('mistral_models', 'Nemo-Instruct')\n",
    "mistral_models_path.mkdir(parents=True, exist_ok=True)\n",
    "\n",
    "snapshot_download(repo_id=\"mistralai/Mistral-Nemo-Instruct-2407\", allow_patterns=[\"params.json\", \"consolidated.safetensors\", \"tekken.json\"], local_dir=mistral_models_path)\n",
    "\n",
    "from mistral_inference.transformer import Transformer\n",
    "from mistral_inference.generate import generate\n",
    "\n",
    "from mistral_common.tokens.tokenizers.mistral import MistralTokenizer\n",
    "from mistral_common.protocol.instruct.messages import UserMessage\n",
    "from mistral_common.protocol.instruct.request import ChatCompletionRequest\n",
    "\n",
    "tokenizer = MistralTokenizer.from_file(f\"{mistral_models_path}/tekken.json\")\n",
    "model = Transformer.from_folder(mistral_models_path)\n",
    "\n",
    "def promptModel(prompt, max_new_tokens=64, temperature=0.35):\n",
    "    completion_request = ChatCompletionRequest(messages=[UserMessage(content=prompt)])\n",
    "    tokens = tokenizer.encode_chat_completion(completion_request).tokens\n",
    "    out_tokens, _ = generate([tokens], model, max_tokens=max_new_tokens, temperature=temperature, eos_id=tokenizer.instruct_tokenizer.tokenizer.eos_id)\n",
    "    result = tokenizer.decode(out_tokens[0])\n",
    "    return result\n",
    "\n",
    "#_response_ = promptModel(\"How expensive would it be to ask a window cleaner to clean all windows in Paris. Make a reasonable guess in US Dollar.\", max_new_tokens=512)\n",
    "#print(_response_)"
   ]
  },
  {
   "cell_type": "code",
   "execution_count": null,
   "metadata": {},
   "outputs": [],
   "source": [
    "import pandas as pd\n",
    "import numpy as np\n",
    "n_sentences = 4\n",
    "df = pd.read_pickle('articles.pkl').sort_values(['directory', 'file', 'sentence_no']).reset_index(drop=True)\n",
    "for k, k_df in df.groupby(['directory', 'file']):\n",
    "    if len(k_df) == 0: continue\n",
    "    if len(k_df) <= 10:\n",
    "        _strs_ = []\n",
    "        for i in range(len(k_df)): _strs_.append(k_df.iloc[i]['sentence'])\n",
    "        _str_ = ' '.join(_strs_)\n",
    "    else:\n",
    "        for i in range(len(k_df)-n_sentences+1):\n",
    "            _strs_ = []\n",
    "            for j in range(n_sentences): _strs_.append(k_df.iloc[i+j]['sentence'])\n",
    "            _str_ = ' '.join(_strs_)\n"
   ]
  },
  {
   "cell_type": "code",
   "execution_count": null,
   "metadata": {},
   "outputs": [],
   "source": [
    "prompt_entity_extract = 'Extract all of the entities from the following passage.  Return the entities as an python list of strings.'\n",
    "promptModel(prompt_entity_extract + '\\n\\n' + _str_, max_new_tokens=512)"
   ]
  },
  {
   "cell_type": "code",
   "execution_count": null,
   "metadata": {},
   "outputs": [],
   "source": []
  }
 ],
 "metadata": {
  "kernelspec": {
   "display_name": ".venv",
   "language": "python",
   "name": "python3"
  },
  "language_info": {
   "codemirror_mode": {
    "name": "ipython",
    "version": 3
   },
   "file_extension": ".py",
   "mimetype": "text/x-python",
   "name": "python",
   "nbconvert_exporter": "python",
   "pygments_lexer": "ipython3",
   "version": "3.12.3"
  }
 },
 "nbformat": 4,
 "nbformat_minor": 2
}
