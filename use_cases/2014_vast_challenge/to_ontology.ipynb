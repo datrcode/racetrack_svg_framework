{
 "cells": [
  {
   "cell_type": "code",
   "execution_count": null,
   "metadata": {},
   "outputs": [],
   "source": [
    "import pandas as pd\n",
    "import polars as pl\n",
    "import numpy as np\n",
    "import os\n",
    "import time\n",
    "import sys\n",
    "sys.path.insert(1, '../../framework')\n",
    "from racetrack import *\n",
    "rt = RACETrack()\n",
    "ofv = rt.ontologyFrameworkInstance()"
   ]
  },
  {
   "cell_type": "code",
   "execution_count": null,
   "metadata": {},
   "outputs": [],
   "source": [
    "#\n",
    "# Email File First // file has utf8 issues :(\n",
    "#\n",
    "_bin_ = open('../../../data/2014_vast/MC1/email headers.csv', 'rb').read()\n",
    "print(len(_bin_))\n",
    "as_str = []\n",
    "for i in range(len(_bin_)):\n",
    "    c = chr(_bin_[i])\n",
    "    if (c >= 'a' and c <= 'z') or (c >= 'A' and c <= 'Z') or (c >= '0' and c <= '9') or \\\n",
    "       c == ' ' or c == '.' or c == ',' or c == '_' or \\\n",
    "       c == '-' or c == '!' or c == '@' or c == '\"' or \\\n",
    "       c == ':' or c == '\\t' or c == '\\n' or c == '\\r' or \\\n",
    "       c == '/' or c == '?' or c == ')' or c == '(' or \\\n",
    "       c == \"'\":\n",
    "        as_str.append(c)\n",
    "    elif ord(c) == 146:\n",
    "        as_str.append(\"'\")\n",
    "    else:\n",
    "        print('\"'+c+'\"', ord(c))\n",
    "_str_ = ''.join(as_str)\n",
    "print(len(_str_))\n",
    "open('../../../data/2014_vast/MC1/email_headers_fixed.csv', 'wt').write(_str_)\n",
    "df_email = pl.read_csv('../../../data/2014_vast/MC1/email_headers_fixed.csv')\n",
    "df_email.sample(3)"
   ]
  },
  {
   "cell_type": "code",
   "execution_count": null,
   "metadata": {},
   "outputs": [],
   "source": [
    "#\n",
    "# Ontology Based On:\n",
    "# https://www.semanticdesktop.org/ontologies/2007/03/22/nmo/\n",
    "#\n",
    "for i in range(len(df_email)):\n",
    "    _id_              = ofv.createId('nmo:Email')\n",
    "    _fm_              = df_email['From'][i]\n",
    "    _fm_id_           = ofv.resolveUniqIdAndUpdateLookups(_fm_, 'nco:EmailAddress', 'uniq', 'sbj,obj')\n",
    "    _timestamp_       = df_email['Date'][i]    \n",
    "    _ts_as_int_       = ofv.resolveUniqIdAndUpdateLookups(_timestamp_, 'xsd:dateTime', 'dttm', 'obj')\n",
    "    _subject_         = df_email['Subject'][i]\n",
    "    _subject_literal_ = ofv.resolveUniqIdAndUpdateLookups(_subject_, 'nmo:MessageHeader', 'cont', 'obj')\n",
    "    ofv.bufferTripleToAddLater(_id_, 'nmo:emailFrom',   _fm_id_)\n",
    "    ofv.bufferTripleToAddLater(_id_, 'nmo:sentDate',    _ts_as_int_)\n",
    "    ofv.bufferTripleToAddLater(_id_, 'nmo:headerValue', _subject_literal_)\n",
    "    _to_              = df_email['To'][i]\n",
    "    for _to_actual_ in _to_.split(','):\n",
    "        _to_actual_id_ = ofv.resolveUniqIdAndUpdateLookups(_to_actual_, 'nco:EmailAddress', 'uniq', 'sbj,obj')\n",
    "        ofv.bufferTripleToAddLater(_id_, 'nmo:emailTo', _to_actual_id_)\n",
    "ofv.appendBufferedTriplesAndClearBuffer()\n",
    "len(ofv.df_triples)"
   ]
  },
  {
   "cell_type": "code",
   "execution_count": null,
   "metadata": {},
   "outputs": [],
   "source": [
    "df_employee_recs =pl.read_excel('../../../data/2014_vast/MC1/EmployeeRecords.xlsx')"
   ]
  },
  {
   "cell_type": "code",
   "execution_count": null,
   "metadata": {},
   "outputs": [],
   "source": [
    "#\n",
    "# https://w3id.org/MON/person.owl\n",
    "# https://www.w3.org/TR/vocab-org/\n",
    "#\n",
    "#\n",
    "for i in range(len(df_employee_recs)):\n",
    "    _id_ = ofv.createId('mon:Person')\n",
    "    _last_, _first_, _dob_, _pob_, _gender_ = df_employee_recs['LastName'], df_employee_recs['FirstName'], df_employee_recs['BirthDate'], df_employee_recs['BirthCountry'], df_employee_recs['Gender']\n",
    "    _last_id_   = ofv.resolveUniqIdAndUpdateLookups(_last_,   'xsd:string', 'ambi', 'obj')\n",
    "    _first_id_  = ofv.resolveUniqIdAndUpdateLookups(_first_,  'xsd:string', 'ambi', 'obj')\n",
    "    _pob_id_    = ofv.resolveUniqIdAndUpdateLookups(_pob_,    'xsd:string', 'uniq', 'obj')\n",
    "    _dob_id_    = ofv.resolveUniqIdAndUpdateLookups(_dob_,    'xsd:date',   'date', 'obj')\n",
    "    _gender_id_ = ofv.resolveUniqIdAndUpdateLookups(_gender_, 'mon:Sex',    'cata', 'obj')\n",
    "\n",
    "    ofv.bufferTripleToAddLater(_id_, 'mon:hasBirthDate',  _dob_id_)\n",
    "    ofv.bufferTripleToAddLater(_id_, 'mon:hasBirthPlace', _pob_id_)\n",
    "    ofv.bufferTripleToAddLater(_id_, 'mon:hasGender',     _gender_id_)\n",
    "    ofv.bufferTripleToAddLater(_id_, 'mon:lastName',      _last_id_)\n",
    "    ofv.bufferTripleToAddLater(_id_, 'mon:firstName',     _first_id_)\n",
    "\n",
    "ofv.appendBufferedTriplesAndClearBuffer()\n",
    "len(ofv.df_triples)"
   ]
  },
  {
   "cell_type": "code",
   "execution_count": null,
   "metadata": {},
   "outputs": [],
   "source": [
    "df_employee_recs.sample(3)"
   ]
  },
  {
   "cell_type": "code",
   "execution_count": null,
   "metadata": {},
   "outputs": [],
   "source": []
  }
 ],
 "metadata": {
  "kernelspec": {
   "display_name": ".venv",
   "language": "python",
   "name": "python3"
  },
  "language_info": {
   "codemirror_mode": {
    "name": "ipython",
    "version": 3
   },
   "file_extension": ".py",
   "mimetype": "text/x-python",
   "name": "python",
   "nbconvert_exporter": "python",
   "pygments_lexer": "ipython3",
   "version": "3.11.6"
  }
 },
 "nbformat": 4,
 "nbformat_minor": 2
}
