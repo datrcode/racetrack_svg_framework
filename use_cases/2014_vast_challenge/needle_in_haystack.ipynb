{
 "cells": [
  {
   "cell_type": "code",
   "execution_count": null,
   "metadata": {},
   "outputs": [],
   "source": [
    "import pandas as pd\n",
    "import numpy as np\n",
    "import rtsvg\n",
    "rt = rtsvg.RACETrack()\n",
    "import time\n",
    "import os\n",
    "from ollama import chat\n",
    "from ollama import ChatResponse\n",
    "from pydantic import BaseModel\n",
    "model = 'deepseek-r1:32b'\n",
    "def promptModel(prompt):\n",
    "    response: ChatResponse = chat(model=model, messages=[{ 'role': 'user', 'content': prompt,},])\n",
    "    return response['message']['content']\n",
    "_results_ = promptModel('What is 55*3?  Return a single number.') # force the model load\n",
    "import random\n",
    "import copy\n",
    "def randomizeOrder(_lines_):\n",
    "    _lines_ = copy.deepcopy(_lines_)\n",
    "    new_lines = []\n",
    "    while len(_lines_) > 0:\n",
    "        _index_ = random.randint(0, len(_lines_) - 1)\n",
    "        new_lines.append(_lines_.pop(_index_))\n",
    "    return new_lines\n",
    "social_media_lines = []\n",
    "_mc3_dir_ = '../../../data/2014_vast/MC3'\n",
    "_files_   = ['csv-1700-1830.csv','csv-1831-2000.csv','csv-2001-2131.csv']\n",
    "for _file_ in _files_:\n",
    "    _file_ = _mc3_dir_ + '/' + _file_\n",
    "    with open(_file_, encoding='iso-8859-1') as f:\n",
    "        _lines_ = f.readlines()\n",
    "        social_media_lines.extend(_lines_)\n",
    "newman_lines, non_newman_lines = [], []\n",
    "for i in range(len(social_media_lines)):\n",
    "    if 'newman' in social_media_lines[i].lower(): \n",
    "        if 'rally' in social_media_lines[i].lower(): \n",
    "            newman_lines.append(social_media_lines[i])\n",
    "    else:                                         non_newman_lines.append(social_media_lines[i])\n",
    "print(f'{len(social_media_lines)=} {len(newman_lines)=} {len(non_newman_lines)=}')"
   ]
  },
  {
   "cell_type": "code",
   "execution_count": null,
   "metadata": {},
   "outputs": [],
   "source": [
    "model = 'phi4-mini'\n",
    "def createNeedlePrompt(wo_newman, w_newman):\n",
    "    _lines_  = []\n",
    "    _prompt_ = f'Which doctor spoke at the POK Rally?  Use the following social media to answer the question.  Respond with their complete name and title in JSON format.  If there is no answer, respond with \"None\".\\n\\n'\n",
    "    for i in range(w_newman):   _lines_.append(random.choice(newman_lines))\n",
    "    for i in range(wo_newman):  _lines_.append(random.choice(non_newman_lines))\n",
    "    _lines_ = randomizeOrder(_lines_)\n",
    "    return _prompt_ + ''.join(_lines_)\n",
    "\n",
    "class RallySpeaker(BaseModel):\n",
    "    name: str\n",
    "\n",
    "_lu_ = {'time_taken':[], 'name':[], 'valid':[], 'wo_newman':[], 'w_newman':[]}\n",
    "\n",
    "for i in range(10, len(newman_lines)+len(non_newman_lines), 50):\n",
    "    for j in range(0, 3): # Inclusions of a Newman Line\n",
    "        for k in range(1): # Samples\n",
    "            _prompt_ = createNeedlePrompt(i, j)\n",
    "            t0 = time.time()\n",
    "            response: ChatResponse = chat(model=model, messages=[{ 'role': 'user', 'content':  _prompt_,},], format=RallySpeaker.model_json_schema())\n",
    "            t1 = time.time()\n",
    "            rally_speaker = RallySpeaker.model_validate_json(response['message']['content'])\n",
    "            _lu_['time_taken'].append(t1 - t0)\n",
    "            _lu_['name'].append(rally_speaker.name)\n",
    "            _lu_['wo_newman'].append(i)\n",
    "            _lu_['w_newman'].append(j)\n",
    "            if    j == 0: _lu_['valid'].append(rally_speaker.name.lower() == 'none')\n",
    "            else:         _lu_['valid'].append('newman' in rally_speaker.name.lower())\n",
    "            print('.', end='')"
   ]
  },
  {
   "cell_type": "code",
   "execution_count": null,
   "metadata": {},
   "outputs": [],
   "source": [
    "#df_niah = pd.DataFrame(_lu_)\n",
    "#df_niah.to_parquet(_mc3_dir_ + '/niah_4_phi4.parquet')\n",
    "#rt.smallMultiples(df=df_niah, sm_type='histogram', category_by='w_newman', sm_params={'bin_by':'name'}, color_by='valid', w=1536)"
   ]
  },
  {
   "cell_type": "code",
   "execution_count": null,
   "metadata": {},
   "outputs": [],
   "source": []
  },
  {
   "cell_type": "code",
   "execution_count": null,
   "metadata": {},
   "outputs": [],
   "source": []
  }
 ],
 "metadata": {
  "kernelspec": {
   "display_name": ".venv",
   "language": "python",
   "name": "python3"
  },
  "language_info": {
   "codemirror_mode": {
    "name": "ipython",
    "version": 3
   },
   "file_extension": ".py",
   "mimetype": "text/x-python",
   "name": "python",
   "nbconvert_exporter": "python",
   "pygments_lexer": "ipython3",
   "version": "3.12.3"
  }
 },
 "nbformat": 4,
 "nbformat_minor": 2
}
