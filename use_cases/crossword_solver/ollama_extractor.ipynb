{
 "cells": [
  {
   "cell_type": "code",
   "execution_count": null,
   "metadata": {},
   "outputs": [],
   "source": [
    "import ollama\n",
    "import os\n",
    "\n",
    "screenshots = []\n",
    "_screenshot_dir_ = '../../../data/crossword_puzzle_screenshots/'\n",
    "_files_ = os.listdir(_screenshot_dir_)\n",
    "for _file_ in _files_:\n",
    "    if _file_.endswith('.jpeg'):\n",
    "        screenshots.append(os.path.join(_screenshot_dir_, _file_))\n",
    "        break # just do one\n",
    "\n",
    "print(screenshots)\n",
    "\n",
    "model  = 'gemma3:12b'\n",
    "client = ollama.Client()\n",
    "\n",
    "_prompt_ = \"\"\"Extract the location and length of the crossword puzzle items from the screenshot.  Return the results in the following Python format:\n",
    "\n",
    "[(clue_number, x-coordinate, y-coordinate, across|down, length), ...]\n",
    "\n",
    "For example,\n",
    "\n",
    "[(1, 1, 1, \"across\", 3),\n",
    " (2, 2, 1, \"down\",   5),]\n",
    "\"\"\"\n",
    "\n",
    "response = client.chat(model=model, messages=[\n",
    "    {\n",
    "        'role':    'user',\n",
    "        'content': _prompt_,\n",
    "        'images':  screenshots,\n",
    "    },\n",
    "])\n",
    "print(response['message']['content'])"
   ]
  },
  {
   "cell_type": "code",
   "execution_count": null,
   "metadata": {},
   "outputs": [],
   "source": []
  }
 ],
 "metadata": {
  "kernelspec": {
   "display_name": ".venv",
   "language": "python",
   "name": "python3"
  },
  "language_info": {
   "codemirror_mode": {
    "name": "ipython",
    "version": 3
   },
   "file_extension": ".py",
   "mimetype": "text/x-python",
   "name": "python",
   "nbconvert_exporter": "python",
   "pygments_lexer": "ipython3",
   "version": "3.12.3"
  }
 },
 "nbformat": 4,
 "nbformat_minor": 2
}
