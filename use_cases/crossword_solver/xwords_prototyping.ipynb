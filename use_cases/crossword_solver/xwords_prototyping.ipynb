{
 "cells": [
  {
   "cell_type": "code",
   "execution_count": null,
   "metadata": {},
   "outputs": [],
   "source": [
    "import time\n",
    "import rtsvg\n",
    "rt = rtsvg.RACETrack()\n",
    "from xwords import XWords, XWordsSolver\n",
    "import copy\n",
    "import os\n",
    "_dir_    = '../../../data/crossword_puzzle_screenshots/'\n",
    "_files_  = os.listdir(_dir_)\n",
    "entries_file    = None\n",
    "geometries_file = None\n",
    "blockers_file   = None\n",
    "answers_file    = None\n",
    "for _file_ in _files_:\n",
    "    if   'entries'    in _file_: entries_file    = _dir_ + _file_\n",
    "    elif 'geometries' in _file_: geometries_file = _dir_ + _file_\n",
    "    elif 'blockers'   in _file_: blockers_file   = _dir_ + _file_\n",
    "    elif 'answers'    in _file_: answers_file    = _dir_ + _file_\n",
    "xwords = XWords(rt, entries_file, geometries_file, blockers_file, answers_file)\n",
    "results_lu = {}\n",
    "xwords"
   ]
  },
  {
   "cell_type": "code",
   "execution_count": null,
   "metadata": {},
   "outputs": [],
   "source": [
    "import os\n",
    "import importlib.util\n",
    "import inspect\n",
    "def getClassesFromFile(file_path):\n",
    "    classes = []\n",
    "    module_name = os.path.splitext(os.path.basename(file_path))[0]\n",
    "    spec        = importlib.util.spec_from_file_location(module_name, file_path)\n",
    "    module      = importlib.util.module_from_spec(spec)\n",
    "    spec.loader.exec_module(module)\n",
    "    for name, obj in inspect.getmembers(module):\n",
    "        if inspect.isclass(obj) and obj.__module__ == module.__name__: classes.append(obj)\n",
    "    return classes\n",
    "models = ['gemma3:1b', 'gemma3:27b'] # ['gemma3:1b', 'gemma3:4b', 'phi4', 'qwq', 'gemma3:27b', 'llama3.2', 'granite3.1-dense', 'qwen2.5:14b', 'deepseek-r1:32b']\n",
    "for _filename_ in os.listdir():\n",
    "    if _filename_.endswith('.py') == False: continue\n",
    "    for _class_ in getClassesFromFile(_filename_):\n",
    "        if issubclass(_class_, XWordsSolver):\n",
    "            if _class_.__name__ not in results_lu: results_lu[_class_.__name__] = {}\n",
    "            print(_class_)\n",
    "            for _model_ in models:\n",
    "                if _model_ in results_lu[_class_.__name__]: continue\n",
    "                xwords_copy = copy.deepcopy(xwords)\n",
    "                _instance_ = _class_(xwords=xwords_copy, model=_model_)\n",
    "                answer_lu, request_stats, num_of_llm_requests = _instance_.solve()\n",
    "                char_level_acc = xwords_copy.characterLevelAccuracy()\n",
    "                results_lu[_class_.__name__][_model_] = (answer_lu, request_stats, num_of_llm_requests, char_level_acc, xwords_copy)\n",
    "                print(f'\\n{_class_.__name__} {_model_} {char_level_acc}')"
   ]
  },
  {
   "cell_type": "code",
   "execution_count": null,
   "metadata": {},
   "outputs": [],
   "source": [
    "_tiles_ = []\n",
    "for _algo_ in results_lu.keys():\n",
    "    for _model_ in models:\n",
    "        if _model_ not in results_lu[_algo_]: _xwords_ = copy.deepcopy(xwords)\n",
    "        else:                                 _xwords_ = results_lu[_algo_][_model_][4]\n",
    "        _tiles_.append(_xwords_.smallMultipleSVG())\n",
    "rt.table(_tiles_, per_row=len(models), spacer=10)"
   ]
  },
  {
   "cell_type": "code",
   "execution_count": null,
   "metadata": {},
   "outputs": [],
   "source": [
    "from ollama import chat\n",
    "from ollama import ChatResponse\n",
    "from pydantic import BaseModel\n",
    "_xwords_ = copy.deepcopy(xwords)\n",
    "_model_  = 'gemma3:27b'\n",
    "def promptModel(prompt):\n",
    "    class Guess(BaseModel):\n",
    "        guess: str\n",
    "    response: ChatResponse = chat(model=_model_, messages=[{ 'role': 'user', 'content': prompt,},],format=Guess.model_json_schema())\n",
    "    guess = Guess.model_validate_json(response['message']['content'])\n",
    "    return guess.guess, response['message']['content']\n",
    "_prompt_ = _xwords_.createOverSpecifiedPrompt(95,'across')\n",
    "print(_prompt_)\n",
    "for i in range(3): print(promptModel(_prompt_))"
   ]
  },
  {
   "cell_type": "code",
   "execution_count": null,
   "metadata": {},
   "outputs": [],
   "source": [
    "_prompt_ = '''What is the answer to the crossword puzzle clue \"Steep decline\" which consists of 8 letters?  The answer may be a single word or a multi-word phrase.\n",
    "- The 1st letter is the 2nd letter of the clue \"Not partial\".\n",
    "- The 2nd letter is the 2nd letter of the clue \"Order after closing time\".\n",
    "- The 3rd letter is the 3rd letter of the clue \"Author who originally intended his pen name to rhyme with 'voice,' though Americans pronounce it differenctly\".\n",
    "- The 4th letter is the 3rd letter of the clue \"Walk unsteadily\".\n",
    "- The 5th letter is the 5th letter of the clue \"First to the finish line\".\n",
    "- The 6th letter is the 1st letter of the clue \"Country once led by 93-Across\".\n",
    "- The 7th letter is the 1st letter of the clue \"Like a bodybuilder’s arms\".\n",
    "- The 8th letter is the 1st letter of the clue \"Much-lauded Lauder\".\n",
    "return the answer as a JSON object.'''\n",
    "promptModel(_prompt_)"
   ]
  },
  {
   "cell_type": "code",
   "execution_count": null,
   "metadata": {},
   "outputs": [],
   "source": []
  }
 ],
 "metadata": {
  "kernelspec": {
   "display_name": ".venv",
   "language": "python",
   "name": "python3"
  },
  "language_info": {
   "codemirror_mode": {
    "name": "ipython",
    "version": 3
   },
   "file_extension": ".py",
   "mimetype": "text/x-python",
   "name": "python",
   "nbconvert_exporter": "python",
   "pygments_lexer": "ipython3",
   "version": "3.12.3"
  }
 },
 "nbformat": 4,
 "nbformat_minor": 2
}
