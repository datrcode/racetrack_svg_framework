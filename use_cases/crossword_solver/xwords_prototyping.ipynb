{
 "cells": [
  {
   "cell_type": "code",
   "execution_count": null,
   "metadata": {},
   "outputs": [],
   "source": [
    "class XWords(object):\n",
    "    def __init__(self, entries_file, geometries_file, blockers_file):\n",
    "        self.entries_file    = entries_file\n",
    "        self.geometries_file = geometries_file\n",
    "        self.blockers_file   = blockers_file\n",
    "        with open(self.entries_file) as f:\n",
    "            self.entries    = eval(f.read())\n",
    "        with open(self.geometries_file) as f:\n",
    "            self.geometries = eval(f.read())\n",
    "        with open(self.blockers_file) as f:\n",
    "            self.blockers   = eval(f.read())\n",
    "\n",
    "import os\n",
    "_dir_    = '../../../data/crossword_puzzle_screenshots/'\n",
    "_files_  = os.listdir(_dir_)\n",
    "entries_file    = None\n",
    "geometries_file = None\n",
    "blockers_file   = None\n",
    "for _file_ in _files_:\n",
    "    if   'entries'    in _file_: entries_file    = _dir_ + _file_\n",
    "    elif 'geometries' in _file_: geometries_file = _dir_ + _file_\n",
    "    elif 'blockers'   in _file_: blockers_file   = _dir_ + _file_\n",
    "xwords = XWords(entries_file, geometries_file, blockers_file)"
   ]
  },
  {
   "cell_type": "code",
   "execution_count": null,
   "metadata": {},
   "outputs": [],
   "source": []
  }
 ],
 "metadata": {
  "kernelspec": {
   "display_name": ".venv",
   "language": "python",
   "name": "python3"
  },
  "language_info": {
   "codemirror_mode": {
    "name": "ipython",
    "version": 3
   },
   "file_extension": ".py",
   "mimetype": "text/x-python",
   "name": "python",
   "nbconvert_exporter": "python",
   "pygments_lexer": "ipython3",
   "version": "3.12.3"
  }
 },
 "nbformat": 4,
 "nbformat_minor": 2
}
