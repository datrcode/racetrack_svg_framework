{
 "cells": [
  {
   "cell_type": "code",
   "execution_count": null,
   "metadata": {},
   "outputs": [],
   "source": [
    "import time\n",
    "import rtsvg\n",
    "rt = rtsvg.RACETrack()\n",
    "from xwords import XWords, XWordsSolver\n",
    "import copy\n",
    "import os\n",
    "_dir_    = '../../../data/crossword_puzzle_screenshots/'\n",
    "_files_  = os.listdir(_dir_)\n",
    "entries_file    = None\n",
    "geometries_file = None\n",
    "blockers_file   = None\n",
    "answers_file    = None\n",
    "for _file_ in _files_:\n",
    "    if   'entries'    in _file_: entries_file    = _dir_ + _file_\n",
    "    elif 'geometries' in _file_: geometries_file = _dir_ + _file_\n",
    "    elif 'blockers'   in _file_: blockers_file   = _dir_ + _file_\n",
    "    elif 'answers'    in _file_: answers_file    = _dir_ + _file_\n",
    "xwords = XWords(rt, entries_file, geometries_file, blockers_file, answers_file)\n",
    "# xwords"
   ]
  },
  {
   "cell_type": "code",
   "execution_count": null,
   "metadata": {},
   "outputs": [],
   "source": [
    "import os\n",
    "import importlib.util\n",
    "import inspect\n",
    "def getClassesFromFile(file_path):\n",
    "    classes = []\n",
    "    module_name = os.path.splitext(os.path.basename(file_path))[0]\n",
    "    spec        = importlib.util.spec_from_file_location(module_name, file_path)\n",
    "    module      = importlib.util.module_from_spec(spec)\n",
    "    spec.loader.exec_module(module)\n",
    "    for name, obj in inspect.getmembers(module):\n",
    "        if inspect.isclass(obj) and obj.__module__ == module.__name__: classes.append(obj)\n",
    "    return classes\n",
    "models     = ['gemma3:4b'] # ['gemma3:1b', 'gemma3:4b', 'phi4', 'qwq', 'gemma3:27b', 'llama3.2', 'granite3.1-dense', 'qwen2.5:14b', 'deepseek-r1:32b']\n",
    "results_lu = {}\n",
    "for _filename_ in os.listdir():\n",
    "    if _filename_.endswith('.py') == False: continue\n",
    "    for _class_ in getClassesFromFile(_filename_):\n",
    "        if issubclass(_class_, XWordsSolver):\n",
    "            results_lu[_class_.__name__] = {}\n",
    "            print(_class_)\n",
    "            for _model_ in models:\n",
    "                xwords_copy = copy.deepcopy(xwords)\n",
    "                _instance_ = _class_(xwords=xwords_copy, model=_model_)\n",
    "                answer_lu, request_stats, num_of_llm_requests = _instance_.solve()\n",
    "                char_level_acc = xwords_copy.characterLevelAccuracy()\n",
    "                results_lu[_class_.__name__][_model_] = (answer_lu, request_stats, num_of_llm_requests, char_level_acc, xwords_copy)\n",
    "                print(f'\\n{_class_.__name__} {_model_} {char_level_acc}')"
   ]
  },
  {
   "cell_type": "code",
   "execution_count": null,
   "metadata": {},
   "outputs": [],
   "source": [
    "_xwords_ = results_lu['SweepAcrossContextDownSolver']['gemma3:4b'][4]\n",
    "_xwords_"
   ]
  },
  {
   "cell_type": "code",
   "execution_count": null,
   "metadata": {},
   "outputs": [],
   "source": [
    "import polars as pl\n",
    "import networkx as nx\n",
    "import types\n",
    "def sweepClipGraphs(self):\n",
    "    g_p, g_n = nx.Graph(), nx.Graph()\n",
    "    for yi in range(self.y_tiles):\n",
    "        for xi in range(self.x_tiles):\n",
    "            _cell_ = self.cells[yi][xi]\n",
    "            if _cell_.isBlocker() == False and len(_cell_.__guesses__) >= 2:\n",
    "                _as_list_ = list(_cell_.__guesses__.keys())\n",
    "                a_i, a_j     = _as_list_[0], _as_list_[1]\n",
    "                a_i_u, a_j_v = _cell_.__guesses__[a_i], _cell_.__guesses__[a_j]\n",
    "                if a_i_u == a_j_v: g_p.add_edge(a_i, a_j)\n",
    "                else:              g_n.add_edge(a_i, a_j)\n",
    "    return g_p, g_n\n",
    "_xwords_.sweepClipGraphs = types.MethodType(sweepClipGraphs, _xwords_)\n",
    "_gp_, _gn_ = _xwords_.sweepClipGraphs()\n",
    "\n",
    "_lu_ = {'a_i':[], 'a_j':[]}\n",
    "for _node_ in _gp_.nodes:\n",
    "    _nbors_ = _gp_.neighbors(_node_)\n",
    "    for _nbor_ in _nbors_:\n",
    "        _lu_['a_i'].append(str(_node_))\n",
    "        _lu_['a_j'].append(str(_nbor_))\n",
    "pos = nx.spring_layout(_gp_)\n",
    "_pos_ = {}\n",
    "for k, v in pos.items(): _pos_[k] = (float(v[0]), float(v[1]))\n",
    "pos = _pos_\n",
    "_df_      = pl.DataFrame(_lu_)\n",
    "ln_params = {'relationships': [('a_i', 'a_j')], 'pos':pos, 'node_size':'small'}\n",
    "_igl_     = rt.interactiveGraphLayout(_df_, ln_params=ln_params, w=900, h=600)\n",
    "_igl_"
   ]
  },
  {
   "cell_type": "code",
   "execution_count": null,
   "metadata": {},
   "outputs": [],
   "source": []
  }
 ],
 "metadata": {
  "kernelspec": {
   "display_name": ".venv",
   "language": "python",
   "name": "python3"
  },
  "language_info": {
   "codemirror_mode": {
    "name": "ipython",
    "version": 3
   },
   "file_extension": ".py",
   "mimetype": "text/x-python",
   "name": "python",
   "nbconvert_exporter": "python",
   "pygments_lexer": "ipython3",
   "version": "3.12.3"
  }
 },
 "nbformat": 4,
 "nbformat_minor": 2
}
