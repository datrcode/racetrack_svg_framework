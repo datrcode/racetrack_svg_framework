{
 "cells": [
  {
   "cell_type": "code",
   "execution_count": null,
   "metadata": {},
   "outputs": [],
   "source": [
    "import rtsvg\n",
    "rt = rtsvg.RACETrack()\n",
    "\n",
    "class XWords(object):\n",
    "    def __init__(self, rt_self, entries_file, geometries_file, blockers_file, cell_w=16, cell_h=16):\n",
    "        self.rt_self         = rt_self\n",
    "        self.entries_file    = entries_file\n",
    "        self.geometries_file = geometries_file\n",
    "        self.blockers_file   = blockers_file\n",
    "        self.cell_w          = cell_w\n",
    "        self.cell_h          = cell_h\n",
    "        with open(self.entries_file) as f:\n",
    "            self.entries    = eval(f.read())\n",
    "        with open(self.geometries_file) as f:\n",
    "            self.geometries = eval(f.read())\n",
    "        with open(self.blockers_file) as f:\n",
    "            self.blockers   = eval(f.read())\n",
    "        \n",
    "        self.x_tiles, self.y_tiles = 1, 1\n",
    "        for blocker in self.blockers:\n",
    "            self.x_tiles = max(self.x_tiles, blocker[0] + 1)\n",
    "            self.y_tiles = max(self.y_tiles, blocker[1] + 1)\n",
    "        for geometry in self.geometries:\n",
    "            self.x_tiles = max(self.x_tiles, geometry[1] + 1)\n",
    "            self.y_tiles = max(self.y_tiles, geometry[2] + 1)\n",
    "        self.w = self.x_tiles * cell_w\n",
    "        self.h = self.y_tiles * cell_h\n",
    "\n",
    "    def _repr_svg_(self):\n",
    "        svg = [f'<svg x=\"0\" y=\"0\" width=\"{self.w}\" height=\"{self.h}\" viewBox=\"-5 -5 {self.w+10} {self.h+10}\">']\n",
    "        for x_tile in range(self.x_tiles+1):\n",
    "            svg.append(f'<line x1=\"{x_tile*self.cell_w}\" y1=\"0\" x2=\"{x_tile*self.cell_w}\" y2=\"{self.h}\" stroke=\"black\" stroke-width=\"0.25\" />')\n",
    "        for y_tile in range(self.x_tiles+1):\n",
    "            svg.append(f'<line x1=\"0\" y1=\"{y_tile*self.cell_h}\" x2=\"{self.w}\" y2=\"{y_tile*self.cell_h}\" stroke=\"black\" stroke-width=\"0.25\" />')\n",
    "        for blocker in self.blockers:\n",
    "            svg.append(f'<rect x=\"{blocker[0]*self.cell_w}\" y=\"{blocker[1]*self.cell_h}\" width=\"{self.cell_w}\" height=\"{self.cell_h}\" fill=\"black\" />')\n",
    "\n",
    "\n",
    "        svg.append('</svg>')\n",
    "        return ''.join(svg)\n",
    "\n",
    "import os\n",
    "_dir_    = '../../../data/crossword_puzzle_screenshots/'\n",
    "_files_  = os.listdir(_dir_)\n",
    "entries_file    = None\n",
    "geometries_file = None\n",
    "blockers_file   = None\n",
    "for _file_ in _files_:\n",
    "    if   'entries'    in _file_: entries_file    = _dir_ + _file_\n",
    "    elif 'geometries' in _file_: geometries_file = _dir_ + _file_\n",
    "    elif 'blockers'   in _file_: blockers_file   = _dir_ + _file_\n",
    "xwords = XWords(rt, entries_file, geometries_file, blockers_file)\n",
    "xwords"
   ]
  },
  {
   "cell_type": "code",
   "execution_count": null,
   "metadata": {},
   "outputs": [],
   "source": []
  }
 ],
 "metadata": {
  "kernelspec": {
   "display_name": ".venv",
   "language": "python",
   "name": "python3"
  },
  "language_info": {
   "codemirror_mode": {
    "name": "ipython",
    "version": 3
   },
   "file_extension": ".py",
   "mimetype": "text/x-python",
   "name": "python",
   "nbconvert_exporter": "python",
   "pygments_lexer": "ipython3",
   "version": "3.12.3"
  }
 },
 "nbformat": 4,
 "nbformat_minor": 2
}
