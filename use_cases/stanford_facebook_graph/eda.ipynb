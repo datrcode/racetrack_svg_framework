{
 "cells": [
  {
   "cell_type": "code",
   "execution_count": null,
   "metadata": {},
   "outputs": [],
   "source": [
    "#\n",
    "# https://snap.stanford.edu/data/egonets-Facebook.html\n",
    "#\n",
    "# J. McAuley and J. Leskovec. Learning to Discover Social Circles in Ego Networks. NIPS, 2012.\n",
    "#\n",
    "import polars as pl\n",
    "import pandas as pd\n",
    "import numpy as np\n",
    "import networkx as nx\n",
    "import sys\n",
    "sys.path.insert(1, '../../framework') # base location of the .py classes\n",
    "from racetrack import *\n",
    "rt = RACETrack()"
   ]
  },
  {
   "cell_type": "code",
   "execution_count": null,
   "metadata": {},
   "outputs": [],
   "source": [
    "_base_network_ = '0'\n",
    "_base_dir_     = '../../../data/stanford/facebook/'\n",
    "_edges_ = open(_base_dir_ + _base_network_ + '.edges', 'rt').read()\n",
    "_lu_ = {'fm':[], 'to':[]}\n",
    "for _edge_ in _edges_.split('\\n'):\n",
    "    if _edge_ == '': continue\n",
    "    _lu_['fm'].append(_edge_.split(' ')[0])\n",
    "    _lu_['to'].append(_edge_.split(' ')[1])\n",
    "df = pl.DataFrame(_lu_)\n",
    "len(df), len(set(df['fm'])), len(set(df['to'])), len(set(df['fm']) | set(df['to']))"
   ]
  },
  {
   "cell_type": "code",
   "execution_count": null,
   "metadata": {},
   "outputs": [],
   "source": [
    "relates = [('fm', 'to')]\n",
    "g   = rt.createNetworkXGraph(df, relates)\n",
    "pos = nx.spring_layout(g)"
   ]
  },
  {
   "cell_type": "code",
   "execution_count": null,
   "metadata": {},
   "outputs": [],
   "source": [
    "ln_params = {'relationships':relates, 'pos':pos, 'draw_labels':False, 'node_size':'small'}\n",
    "_rtg_ = rt.interactiveGraphLayout(df, ln_params, w=512, h=512)\n",
    "_rtg_"
   ]
  },
  {
   "cell_type": "code",
   "execution_count": null,
   "metadata": {},
   "outputs": [],
   "source": [
    "# circles from the 0.circles file...\n",
    "#_rtg_.selectEntities(['71', '215', '54', '61', '298', '229', '81', '253', '193', '97', '264', '29', '132', '110', '163', '259', '183', '334', '245', '222'])\n",
    "#_rtg_.selectEntities(['155', '99', '327', '140', '116', '147', '144', '150', '270'])"
   ]
  },
  {
   "cell_type": "code",
   "execution_count": null,
   "metadata": {},
   "outputs": [],
   "source": [
    "#\n",
    "# So... the circles files have nodes that exist in more than one circle\n",
    "#\n",
    "_circles_ = open(_base_dir_ + _base_network_ + '.circles', 'rt').read()\n",
    "_already_seen_ = set()\n",
    "_circle_lu_ = {'name':[], 'node':[]}\n",
    "for _circle_ in _circles_.split('\\n'):\n",
    "    _circle_name_ = _circle_.split('\\t')[0]\n",
    "    if _circle_ == '': continue\n",
    "    _set_ = set(_circle_.split('\\t')[1:])\n",
    "    for x in _set_:\n",
    "        _circle_lu_['node'].append(x), _circle_lu_['name'].append(_circle_name_)\n",
    "    _already_seen_ = _already_seen_ | _set_\n",
    "len(_already_seen_)\n",
    "df_circles = pd.DataFrame(_circle_lu_)\n",
    "rt.histogram(df_circles, bin_by='node', count_by='name', h=768)"
   ]
  },
  {
   "cell_type": "code",
   "execution_count": null,
   "metadata": {},
   "outputs": [],
   "source": []
  }
 ],
 "metadata": {
  "kernelspec": {
   "display_name": ".venv",
   "language": "python",
   "name": "python3"
  },
  "language_info": {
   "codemirror_mode": {
    "name": "ipython",
    "version": 3
   },
   "file_extension": ".py",
   "mimetype": "text/x-python",
   "name": "python",
   "nbconvert_exporter": "python",
   "pygments_lexer": "ipython3",
   "version": "3.11.6"
  }
 },
 "nbformat": 4,
 "nbformat_minor": 2
}
