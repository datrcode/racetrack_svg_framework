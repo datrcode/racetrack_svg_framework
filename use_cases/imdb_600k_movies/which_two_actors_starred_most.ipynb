{
 "cells": [
  {
   "cell_type": "code",
   "execution_count": null,
   "metadata": {},
   "outputs": [],
   "source": [
    "#\n",
    "# Which two actors starred the most together across the dataset?\n",
    "#\n",
    "import pandas as pd\n",
    "import polars as pl\n",
    "import numpy as np\n",
    "import networkx as nx\n",
    "import json\n",
    "import time\n",
    "import os\n",
    "import sys\n",
    "sys.path.insert(1, '../../framework')\n",
    "from racetrack import *\n",
    "rt = RACETrack()\n",
    "ofi = rt.ontologyFrameworkInstance(base_filename='../../../data/kaggle_imdb_600k/20240519_ontology')"
   ]
  },
  {
   "cell_type": "code",
   "execution_count": null,
   "metadata": {},
   "outputs": [],
   "source": [
    "# Draw the degree distribution\n",
    "df = ofi.df_triples.filter(pl.col('vrb') == 'castMemberOf')\n",
    "g  = rt.createNetworkXGraph(df, [('sbj','obj','vrb')])\n",
    "degrees = [g.degree(n) for n in g.nodes()]\n",
    "rt.xy(pl.DataFrame({'degree':degrees}).filter(pl.col('degree') < 100), 'degree', 'degree', render_x_distribution=100, w=1024, distribution_style='inside', distribution_h_perc=1.0)"
   ]
  },
  {
   "cell_type": "code",
   "execution_count": null,
   "metadata": {},
   "outputs": [],
   "source": [
    "# Remove 1-Degrees Until There are No One Degrees Left\n",
    "last_size = len(g.nodes()) + 1\n",
    "print(f'{last_size=}')\n",
    "while last_size != len(g.nodes()):\n",
    "    last_size = len(g.nodes())\n",
    "    to_be_removed = [x for x in g.nodes() if g.degree(x) <= 1]\n",
    "    print(f'{len(to_be_removed)}', end='... ')\n",
    "    g.remove_nodes_from(to_be_removed)\n",
    "print(f'{len(g.nodes())=}')"
   ]
  },
  {
   "cell_type": "code",
   "execution_count": null,
   "metadata": {},
   "outputs": [],
   "source": [
    "# Re-draw the degree distribution\n",
    "degrees = [g.degree(n) for n in g.nodes()]\n",
    "rt.xy(pl.DataFrame({'degree':degrees}).filter(pl.col('degree') < 100), 'degree', 'degree', render_x_distribution=100, w=1024, distribution_style='inside', distribution_h_perc=1.0)"
   ]
  },
  {
   "cell_type": "code",
   "execution_count": null,
   "metadata": {},
   "outputs": [],
   "source": []
  }
 ],
 "metadata": {
  "kernelspec": {
   "display_name": ".venv",
   "language": "python",
   "name": "python3"
  },
  "language_info": {
   "codemirror_mode": {
    "name": "ipython",
    "version": 3
   },
   "file_extension": ".py",
   "mimetype": "text/x-python",
   "name": "python",
   "nbconvert_exporter": "python",
   "pygments_lexer": "ipython3",
   "version": "3.11.6"
  }
 },
 "nbformat": 4,
 "nbformat_minor": 2
}
