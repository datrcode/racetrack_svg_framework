{
 "cells": [
  {
   "cell_type": "code",
   "execution_count": null,
   "metadata": {},
   "outputs": [],
   "source": [
    "import polars as pl\n",
    "import numpy as np\n",
    "import networkx as nx\n",
    "from datetime import datetime, timedelta\n",
    "import os\n",
    "import sys\n",
    "sys.path.insert(1, '../../framework')\n",
    "from racetrack import *\n",
    "rt = RACETrack()"
   ]
  },
  {
   "cell_type": "code",
   "execution_count": null,
   "metadata": {},
   "outputs": [],
   "source": [
    "import json\n",
    "from jsonpath_ng import jsonpath, parse\n",
    "_base_ = '../../../data/kaggle_imdb_600k/international-movies-json/'\n",
    "_files_ = os.listdir(_base_)\n",
    "for _file_ in _files_:\n",
    "    _txt_  = open(_base_ + _file_).read()\n",
    "    _json_ = json.loads(_txt_)"
   ]
  },
  {
   "cell_type": "code",
   "execution_count": null,
   "metadata": {},
   "outputs": [],
   "source": [
    "_xform_map_ = '''\n",
    "'$[*]._id'             |xsd:string|uniq --- \"hasTitle\"       --- '$[*].name'          | xsd:string\n",
    "'$[*]._id'             |xsd:string|uniq --- \"yearReleased\"   --- '$[*].year'          | xsd:date\n",
    "'$[*]._id'             |xsd:string|uniq --- \"runTime\"        --- '$[*].runtime'       | xsd:duration\n",
    "'$[*]._id'             |xsd:string|uniq --- \"genre\"          --- '$[*].genre'         | array(xsd:string)\n",
    "'$[*]._id'             |xsd:string|uniq --- \"ratingValue\"    --- '$[*].ratingValue'   | xsd:float\n",
    "'$[*]._id'             |xsd:string|uniq --- \"summary\"        --- '$[*].summary_text'  | xsd:string\n",
    "'$[*].director.name_id'|xsd:string|uniq --- \"directedMovie\"  --- '$[*]._id'           | xsd:string | uniq\n",
    "'$[*].director.name_id'|xsd:string|uniq --- \"hasName\"        --- '$[*].director.name' | xsd:string\n",
    "'$[*].cast.[*].name_id'|xsd:string|uniq --- \"castMember\"     --- '$[*]._id'           | xsd:string | uniq\n",
    "'$[*].cast.[*].name_id'|xsd:string|uniq --- \"hasName\"        --- '$[*].cast.[*].name' | xsd:string\n",
    "'''\n",
    "#jsp_expr = parse('$[:3].name')\n",
    "#[match.value for match in jsp_expr.find(_json_)]"
   ]
  },
  {
   "cell_type": "code",
   "execution_count": null,
   "metadata": {},
   "outputs": [],
   "source": [
    "#_json_[0]"
   ]
  },
  {
   "cell_type": "code",
   "execution_count": null,
   "metadata": {},
   "outputs": [],
   "source": []
  }
 ],
 "metadata": {
  "kernelspec": {
   "display_name": ".venv",
   "language": "python",
   "name": "python3"
  },
  "language_info": {
   "codemirror_mode": {
    "name": "ipython",
    "version": 3
   },
   "file_extension": ".py",
   "mimetype": "text/x-python",
   "name": "python",
   "nbconvert_exporter": "python",
   "pygments_lexer": "ipython3",
   "version": "3.11.6"
  }
 },
 "nbformat": 4,
 "nbformat_minor": 2
}
