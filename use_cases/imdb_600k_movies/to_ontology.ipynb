{
 "cells": [
  {
   "cell_type": "code",
   "execution_count": null,
   "metadata": {},
   "outputs": [],
   "source": [
    "import pandas as pd\n",
    "import polars as pl\n",
    "import numpy as np\n",
    "import networkx as nx\n",
    "import json\n",
    "import time\n",
    "import os\n",
    "import sys\n",
    "sys.path.insert(1, '../../framework')\n",
    "from racetrack import *\n",
    "rt = RACETrack()"
   ]
  },
  {
   "cell_type": "code",
   "execution_count": null,
   "metadata": {},
   "outputs": [],
   "source": [
    "_xform_map_ = '''\n",
    "__id__              = '$[*]._id'              | MovieID      | uniq\n",
    "__director__        = '$[*].director.name_id' | DirectorID   | uniq\n",
    "__castmember__      = '$[*].cast.[*].name_id' | CastMemberID | uniq\n",
    "__id__              --- \"hasTitle\"       --- '$[*].name'          | xsd:string          ^^^ \"imdb_600k_international_movies\"\n",
    "__id__              --- \"yearReleased\"   --- '$[*].year'          | xsd:date     | yyyy ^^^ \"imdb_600k_international_movies\"\n",
    "__id__              --- \"runTime\"        --- '$[*].runtime'       | xsd:duration | dura ^^^ \"imdb_600k_international_movies\"\n",
    "__id__              --- \"hasGenre\"       --- '$[*].genre[*]'      | xsd.string   | cata ^^^ \"imdb_600k_international_movies\"\n",
    "__id__              --- \"ratingValue\"    --- '$[*].ratingValue'   | xsd:float    | valu ^^^ \"imdb_600k_international_movies\"\n",
    "__id__              --- \"summary\"        --- '$[*].summary_text'  | xsd:string   | cont ^^^ \"imdb_600k_international_movies\"\n",
    "__director__        --- \"directedMovie\"  --- __id__                                     ^^^ \"imdb_600k_international_movies\"\n",
    "__director__        --- \"hasName\"        --- '$[*].director.name' | xsd:string          ^^^ \"imdb_600k_international_movies\"\n",
    "__castmember__      --- \"castMemberOf\"   --- __id__                                     ^^^ \"imdb_600k_international_movies\"\n",
    "__castmember__      --- \"hasName\"        --- '$[*].cast.[*].name' | xsd:string          ^^^ \"imdb_600k_international_movies\"\n",
    "'''\n",
    "\n",
    "#\n",
    "# linear increase in processing time -- at the end (2500th file), approximately 4.3 seconds to process\n",
    "#\n",
    "ofv = rt.ontologyFrameworkInstance(xform_spec=_xform_map_)\n",
    "times = {'file_no':[], 'time_proc':[]}\n",
    "_base_ = '../../../data/kaggle_imdb_600k/international-movies-json/'\n",
    "_files_ = os.listdir(_base_)\n",
    "print(f'{len(_files_)} files...')\n",
    "for i in range(len(_files_)):\n",
    "    _file_ = _files_[i]\n",
    "    _txt_  = open(_base_ + _file_).read()\n",
    "    _json_ = json.loads(_txt_)\n",
    "    t0 = time.time()\n",
    "    ofv.parse(_json_)\n",
    "    t1 = time.time()\n",
    "    times['file_no'].append(i), times['time_proc'].append(t1-t0)\n",
    "    if i % 100 == 0: print(f'Processed {_file_} {i}/{len(_files_)}...')\n",
    "ofv.to_files('imdb_600k_international_movies')"
   ]
  },
  {
   "cell_type": "code",
   "execution_count": null,
   "metadata": {},
   "outputs": [],
   "source": [
    "rt.xy(pd.DataFrame(times), x_field='file_no', y_field='time_proc', dot_size='small', w=512)"
   ]
  },
  {
   "cell_type": "code",
   "execution_count": null,
   "metadata": {},
   "outputs": [],
   "source": []
  }
 ],
 "metadata": {
  "kernelspec": {
   "display_name": ".venv",
   "language": "python",
   "name": "python3"
  },
  "language_info": {
   "codemirror_mode": {
    "name": "ipython",
    "version": 3
   },
   "file_extension": ".py",
   "mimetype": "text/x-python",
   "name": "python",
   "nbconvert_exporter": "python",
   "pygments_lexer": "ipython3",
   "version": "3.11.6"
  }
 },
 "nbformat": 4,
 "nbformat_minor": 2
}
