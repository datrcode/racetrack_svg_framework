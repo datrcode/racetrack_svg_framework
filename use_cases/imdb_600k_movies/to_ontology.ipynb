{
 "cells": [
  {
   "cell_type": "code",
   "execution_count": null,
   "metadata": {},
   "outputs": [],
   "source": [
    "import pandas as pd\n",
    "import polars as pl\n",
    "import numpy as np\n",
    "import networkx as nx\n",
    "import json\n",
    "import time\n",
    "import os\n",
    "import sys\n",
    "sys.path.insert(1, '../../framework')\n",
    "from racetrack import *\n",
    "rt = RACETrack()"
   ]
  },
  {
   "cell_type": "code",
   "execution_count": null,
   "metadata": {},
   "outputs": [],
   "source": [
    "_xform_map_ = '''\n",
    "__id__              = '$[*]._id'              | MovieID      | uniq\n",
    "__director__        = '$[*].director.name_id' | DirectorID   | uniq\n",
    "__castmember__      = '$[*].cast.[*].name_id' | CastMemberID | uniq\n",
    "__id__              --- \"hasTitle\"       --- '$[*].name'          | xsd:string          ^^^ \"imdb_600k_international_movies\"\n",
    "__id__              --- \"yearReleased\"   --- '$[*].year'          | xsd:date     | yyyy ^^^ \"imdb_600k_international_movies\"\n",
    "__id__              --- \"runTime\"        --- '$[*].runtime'       | xsd:duration | dura ^^^ \"imdb_600k_international_movies\"\n",
    "__id__              --- \"hasGenre\"       --- '$[*].genre[*]'      | xsd.string   | cata ^^^ \"imdb_600k_international_movies\"\n",
    "__id__              --- \"ratingValue\"    --- '$[*].ratingValue'   | xsd:float    | valu ^^^ \"imdb_600k_international_movies\"\n",
    "__id__              --- \"summary\"        --- '$[*].summary_text'  | xsd:string   | cont ^^^ \"imdb_600k_international_movies\"\n",
    "__director__        --- \"directedMovie\"  --- __id__                                     ^^^ \"imdb_600k_international_movies\"\n",
    "__director__        --- \"hasName\"        --- '$[*].director.name' | xsd:string          ^^^ \"imdb_600k_international_movies\"\n",
    "__castmember__      --- \"castMemberOf\"   --- __id__                                     ^^^ \"imdb_600k_international_movies\"\n",
    "__castmember__      --- \"hasName\"        --- '$[*].cast.[*].name' | xsd:string          ^^^ \"imdb_600k_international_movies\"\n",
    "'''\n",
    "ofv = rt.ontologyFrameworkInstance(xform_spec=_xform_map_)\n",
    "_base_ = '../../../data/kaggle_imdb_600k/international-movies-json/'\n",
    "_files_ = os.listdir(_base_)\n",
    "print(f'{len(_files_)} files...')\n",
    "for i in range(len(_files_)):\n",
    "    _file_ = _files_[i]\n",
    "    _txt_  = open(_base_ + _file_).read()\n",
    "    _json_ = json.loads(_txt_)\n",
    "    ofv.parse(_json_)\n",
    "    if i > 2: break"
   ]
  },
  {
   "cell_type": "code",
   "execution_count": null,
   "metadata": {},
   "outputs": [],
   "source": [
    "# rt.chordDiagram(ofv.df_triples.to_pandas(), [('sbj','obj')])\n",
    "nx_g = rt.createNetworkXGraph(ofv.df_triples, [('sbj','obj')])\n",
    "pos  = nx.spring_layout(nx_g)"
   ]
  },
  {
   "cell_type": "code",
   "execution_count": null,
   "metadata": {},
   "outputs": [],
   "source": [
    "rt.linkNode(ofv.df_triples, [('sbj','obj')], pos, node_size='small', w=1536, h=1024)"
   ]
  },
  {
   "cell_type": "code",
   "execution_count": null,
   "metadata": {},
   "outputs": [],
   "source": []
  }
 ],
 "metadata": {
  "kernelspec": {
   "display_name": ".venv",
   "language": "python",
   "name": "python3"
  },
  "language_info": {
   "codemirror_mode": {
    "name": "ipython",
    "version": 3
   },
   "file_extension": ".py",
   "mimetype": "text/x-python",
   "name": "python",
   "nbconvert_exporter": "python",
   "pygments_lexer": "ipython3",
   "version": "3.11.6"
  }
 },
 "nbformat": 4,
 "nbformat_minor": 2
}
