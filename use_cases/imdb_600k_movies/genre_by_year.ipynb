{
 "cells": [
  {
   "cell_type": "code",
   "execution_count": null,
   "metadata": {},
   "outputs": [],
   "source": [
    "import pandas as pd\n",
    "import polars as pl\n",
    "import numpy as np\n",
    "import networkx as nx\n",
    "import json\n",
    "import time\n",
    "import os\n",
    "import sys\n",
    "sys.path.insert(1, '../../framework')\n",
    "from racetrack import *\n",
    "rt = RACETrack()\n",
    "ofi = rt.ontologyFrameworkInstance(base_filename='../../../data/kaggle_imdb_600k/20240519_ontology')"
   ]
  },
  {
   "cell_type": "code",
   "execution_count": null,
   "metadata": {},
   "outputs": [],
   "source": [
    "_genre_ = ofi.df_triples.filter(pl.col('vrb') == 'hasGenre')    \\\n",
    "             .drop(['stype', 'sdisp', 'vrb', 'otype', 'odisp', 'grp', 'gdisp', 'src']) \\\n",
    "             .rename({'sbj':'MovieID', 'obj':'genre'})\n",
    "_year_  = ofi.df_triples.filter(pl.col('vrb') == 'yearReleased') \\\n",
    "             .drop(['stype', 'sdisp', 'vrb', 'otype', 'odisp', 'grp', 'gdisp', 'src']) \\\n",
    "             .rename({'sbj':'MovieID', 'obj':'year'})\n",
    "_genre_year_ = _genre_.join(_year_, on='MovieID', how='inner')"
   ]
  },
  {
   "cell_type": "code",
   "execution_count": null,
   "metadata": {},
   "outputs": [],
   "source": [
    "for _uid_ in set(_genre_year_['genre']):\n",
    "    print(ofi.uid_lu[_uid_])"
   ]
  },
  {
   "cell_type": "code",
   "execution_count": null,
   "metadata": {},
   "outputs": [],
   "source": [
    "for _uid_ in set(_genre_year_['year']):\n",
    "    print(ofi.uid_lu[_uid_])"
   ]
  },
  {
   "cell_type": "code",
   "execution_count": null,
   "metadata": {},
   "outputs": [],
   "source": []
  }
 ],
 "metadata": {
  "kernelspec": {
   "display_name": ".venv",
   "language": "python",
   "name": "python3"
  },
  "language_info": {
   "codemirror_mode": {
    "name": "ipython",
    "version": 3
   },
   "file_extension": ".py",
   "mimetype": "text/x-python",
   "name": "python",
   "nbconvert_exporter": "python",
   "pygments_lexer": "ipython3",
   "version": "3.11.6"
  }
 },
 "nbformat": 4,
 "nbformat_minor": 2
}
