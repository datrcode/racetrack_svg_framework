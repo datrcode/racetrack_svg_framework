{
 "cells": [
  {
   "cell_type": "code",
   "execution_count": null,
   "metadata": {},
   "outputs": [],
   "source": [
    "import pandas as pd\n",
    "import polars as pl\n",
    "import numpy as np\n",
    "import json\n",
    "import os\n",
    "from os.path import exists\n",
    "import time\n",
    "import sys\n",
    "sys.path.insert(1, '../../framework')\n",
    "from racetrack import *\n",
    "rt = RACETrack()"
   ]
  },
  {
   "cell_type": "code",
   "execution_count": null,
   "metadata": {},
   "outputs": [],
   "source": [
    "_data_ = json.loads(open('../../../data/2024_vast/MC1/mc1.json').read())"
   ]
  },
  {
   "cell_type": "code",
   "execution_count": null,
   "metadata": {},
   "outputs": [],
   "source": [
    "_json_repr_ = rt.jsonRepr(_data_)\n",
    "_df_, _relates_, _labels_ = _json_repr_.starPathGraphDataFrame()\n",
    "g   = rt.createNetworkXGraph(_df_, _relates_)\n",
    "pos = rt.hyperTreeLayout(g)\n",
    "#rt.interactiveGraphLayout(_df_, ln_params={'relationships':_relates_, 'node_labels':_labels_, 'pos':pos}, w=800, h=600)"
   ]
  },
  {
   "cell_type": "code",
   "execution_count": null,
   "metadata": {},
   "outputs": [],
   "source": [
    "_lu_ = {'sort':[]}\n",
    "for i in range(len(_data_['nodes'])):    \n",
    "    as_list = list(_data_['nodes'][i].keys())\n",
    "    as_list.sort()\n",
    "    _lu_['sort'].append('-'.join(as_list))\n",
    "rt.co_mgr.optimizeCategoricalColors(set(_lu_['sort']))\n",
    "rt.histogram(pd.DataFrame(_lu_), bin_by='sort', color_by='sort', w=384, h=64)"
   ]
  },
  {
   "cell_type": "code",
   "execution_count": null,
   "metadata": {},
   "outputs": [],
   "source": [
    "_lu_ = {'links':[]}\n",
    "for i in range(len(_data_['links'])):    \n",
    "    as_list = list(_data_['links'][i].keys())\n",
    "    as_list.sort()\n",
    "    _lu_['links'].append('-'.join(as_list))\n",
    "rt.co_mgr.optimizeCategoricalColors(set(_lu_['links']))\n",
    "rt.histogram(pd.DataFrame(_lu_), bin_by='links', color_by='links', w=768, h=64)"
   ]
  },
  {
   "cell_type": "code",
   "execution_count": null,
   "metadata": {},
   "outputs": [],
   "source": []
  }
 ],
 "metadata": {
  "kernelspec": {
   "display_name": ".venv",
   "language": "python",
   "name": "python3"
  },
  "language_info": {
   "codemirror_mode": {
    "name": "ipython",
    "version": 3
   },
   "file_extension": ".py",
   "mimetype": "text/x-python",
   "name": "python",
   "nbconvert_exporter": "python",
   "pygments_lexer": "ipython3",
   "version": "3.12.3"
  }
 },
 "nbformat": 4,
 "nbformat_minor": 2
}
