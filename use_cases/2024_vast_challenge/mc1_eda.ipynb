{
 "cells": [
  {
   "cell_type": "code",
   "execution_count": null,
   "metadata": {},
   "outputs": [],
   "source": [
    "import pandas as pd\n",
    "import polars as pl\n",
    "import numpy as np\n",
    "import json\n",
    "import os\n",
    "from os.path import exists\n",
    "import time\n",
    "import sys\n",
    "sys.path.insert(1, '../../framework')\n",
    "from racetrack import *\n",
    "rt = RACETrack()"
   ]
  },
  {
   "cell_type": "code",
   "execution_count": null,
   "metadata": {},
   "outputs": [],
   "source": [
    "_data_ = json.loads(open('../../../data/2024_vast/MC1/mc1.json').read())"
   ]
  },
  {
   "cell_type": "code",
   "execution_count": null,
   "metadata": {},
   "outputs": [],
   "source": [
    "_json_repr_ = rt.jsonRepr(_data_)\n",
    "_df_, _relates_, _labels_ = _json_repr_.starPathGraphDataFrame()\n",
    "g   = rt.createNetworkXGraph(_df_, _relates_)\n",
    "pos = rt.hyperTreeLayout(g)\n",
    "#rt.interactiveGraphLayout(_df_, ln_params={'relationships':_relates_, 'node_labels':_labels_, 'pos':pos}, w=800, h=600)"
   ]
  },
  {
   "cell_type": "code",
   "execution_count": null,
   "metadata": {},
   "outputs": [],
   "source": [
    "_lu_ = {'sort':[]}\n",
    "for i in range(len(_data_['nodes'])):    \n",
    "    as_list = list(_data_['nodes'][i].keys())\n",
    "    as_list.sort()\n",
    "    _lu_['sort'].append('-'.join(as_list))\n",
    "rt.co_mgr.optimizeCategoricalColors(set(_lu_['sort']))\n",
    "svgs = [rt.histogram(pd.DataFrame(_lu_), bin_by='sort', color_by='sort', w=256, h=64)._repr_svg_()]\n",
    "\n",
    "_lu_ = {'links':[]}\n",
    "for i in range(len(_data_['links'])):    \n",
    "    as_list = list(_data_['links'][i].keys())\n",
    "    as_list.sort()\n",
    "    _lu_['links'].append('-'.join(as_list))\n",
    "rt.co_mgr.optimizeCategoricalColors(set(_lu_['links']))\n",
    "svgs.append(rt.histogram(pd.DataFrame(_lu_), bin_by='links', color_by='links', w=600, h=64)._repr_svg_())\n",
    "\n",
    "rt.tile(svgs)"
   ]
  },
  {
   "cell_type": "code",
   "execution_count": null,
   "metadata": {},
   "outputs": [],
   "source": [
    "ofi = rt.ontologyFrameworkInstance()\n",
    "\n",
    "#\n",
    "# nodes\n",
    "#\n",
    "for i in range(len(_data_['nodes'])):\n",
    "    _obj_ = _data_['nodes'][i]\n",
    "    if   'dob'     in _obj_:\n",
    "        _country_, _dob_, _id_, _type_ = _obj_['country'], _obj_['dob'], _obj_['id'], _obj_['type']\n",
    "        _country_uid_ = ofi.resolveUniqIdAndUpdateLookups(_country_, 'obj:Country',  'uniq', 'obj')\n",
    "        _dob_id_      = ofi.resolveUniqIdAndUpdateLookups(_dob_,     'xsd:date',     'date', 'obj')\n",
    "        _id_uid_      = ofi.resolveUniqIdAndUpdateLookups(_id_,      _type_,         'uniq', 'sbj,obj')\n",
    "        ofi.bufferTripleToAddLater(_id_uid_, 'Property.hasCitizenship', _country_uid_)\n",
    "        ofi.bufferTripleToAddLater(_id_uid_, 'Property.hasBirthDate',   _dob_id_)\n",
    "    elif 'country' in _obj_:\n",
    "        _country_, _id_, _type_ = _obj_['country'], _obj_['id'], _obj_['type']\n",
    "        _country_uid_ = ofi.resolveUniqIdAndUpdateLookups(_country_, 'obj:Country',  'uniq', 'obj')\n",
    "        _id_uid_      = ofi.resolveUniqIdAndUpdateLookups(_id_,      _type_,         'uniq', 'sbj,obj')\n",
    "        ofi.bufferTripleToAddLater(_id_uid_, 'Property.incorporatedIn', _country_uid_)\n",
    "    else:\n",
    "        _id_, _type_  = _obj_['id'], _obj_['type']\n",
    "        _id_uid_      = ofi.resolveUniqIdAndUpdateLookups(_id_,      _type_,         'uniq', 'sbj,obj')\n",
    "\n",
    "#\n",
    "# links\n",
    "#\n",
    "for i in range(len(_data_['links'])):\n",
    "    _obj_ = _data_['links'][i]\n",
    "    if '_algorithm' in _obj_:\n",
    "        _algorithm_, _article_id_, _date_added_ = _obj_['_algorithm'], _obj_['_articleid'], _obj_['_date_added']\n",
    "        _last_edited_by_, _raw_source_, _key_   = _obj_['_last_edited_by'], _obj_['_raw_source'], _obj_['key']\n",
    "        _source_, _target_, _type_              = _obj_['source'], _obj_['target'], _obj_['type']\n",
    "        _algorithm_uid_      = ofi.resolveUniqIdAndUpdateLookups(_algorithm_,      'obj:Algorithm', 'uniq', 'obj')\n",
    "        _article_id_uid_     = ofi.resolveUniqIdAndUpdateLookups(_article_id_,     'obj:Article',   'uniq', 'obj')\n",
    "        _date_added_id_      = ofi.resolveUniqIdAndUpdateLookups(_date_added_,     'xsd:date',      'date', 'obj')\n",
    "        _last_edited_by_uid_ = ofi.resolveUniqIdAndUpdateLookups(_last_edited_by_, 'Entity.Person', 'uniq', 'obj')\n",
    "        _key_uid_            = ofi.resolveUniqIdAndUpdateLookups(_key_,            'xsd:integer',   'valu', 'obj')\n",
    "        _source_uid_         = ofi.resolveUniqId(_source_)\n",
    "        _target_uid_         = ofi.resolveUniqId(_target_)\n",
    "        link_uid             = ofi.bufferTripleToAddLater(_source_uid_, _type_, _target_uid_)\n",
    "        ofi.bufferTripleToAddLater(link_uid, 'Source.fromAlgorithm',   _algorithm_uid_)\n",
    "        ofi.bufferTripleToAddLater(link_uid, 'Source.fromArticle',     _article_id_uid_)\n",
    "        ofi.bufferTripleToAddLater(link_uid, 'Property.dateAdded',     _date_added_id_)\n",
    "        ofi.bufferTripleToAddLater(link_uid, 'Property.lastEditedBy',  _last_edited_by_uid_)\n",
    "        ofi.bufferTripleToAddLater(link_uid, 'Property.hasKey',        _key_uid_)\n",
    "    else:\n",
    "        _date_added_                 = _obj_['_date_added']\n",
    "        _key_                        = _obj_['key']\n",
    "        _source_, _target_, _type_   = _obj_['source'], _obj_['target'], _obj_['type']\n",
    "        _date_added_id_  = ofi.resolveUniqIdAndUpdateLookups(_date_added_,  'xsd:date',      'date', 'obj')\n",
    "        _key_uid_        = ofi.resolveUniqIdAndUpdateLookups(_key_,         'xsd:integer',   'valu', 'obj')\n",
    "        _source_uid_     = ofi.resolveUniqId(_source_)\n",
    "        _target_uid_     = ofi.resolveUniqId(_target_)\n",
    "        link_uid         = ofi.bufferTripleToAddLater(_source_uid_, _type_, _target_uid_)\n",
    "        ofi.bufferTripleToAddLater(link_uid, 'Property.dateAdded', _date_added_id_)\n",
    "        ofi.bufferTripleToAddLater(link_uid, 'Property.hasKey',    _key_uid_)\n",
    "\n",
    "ofi.appendBufferedTriplesAndClearBuffer()"
   ]
  },
  {
   "cell_type": "code",
   "execution_count": null,
   "metadata": {},
   "outputs": [],
   "source": [
    "rt.histogram(ofi.df_triples, bin_by='vrb', w=256, h=384)"
   ]
  },
  {
   "cell_type": "code",
   "execution_count": null,
   "metadata": {},
   "outputs": [],
   "source": [
    "#ofi.to_files('../../../data/2024_vast/MC1/2024_rt_ontology')\n",
    "#rt.ontologyFrameworkInstance().fm_files('../../../data/2024_vast/MC1/2024_rt_ontology')"
   ]
  },
  {
   "cell_type": "code",
   "execution_count": null,
   "metadata": {},
   "outputs": [],
   "source": []
  }
 ],
 "metadata": {
  "kernelspec": {
   "display_name": ".venv",
   "language": "python",
   "name": "python3"
  },
  "language_info": {
   "codemirror_mode": {
    "name": "ipython",
    "version": 3
   },
   "file_extension": ".py",
   "mimetype": "text/x-python",
   "name": "python",
   "nbconvert_exporter": "python",
   "pygments_lexer": "ipython3",
   "version": "3.12.3"
  }
 },
 "nbformat": 4,
 "nbformat_minor": 2
}
