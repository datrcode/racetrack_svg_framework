{
 "cells": [
  {
   "cell_type": "code",
   "execution_count": null,
   "metadata": {},
   "outputs": [],
   "source": [
    "import pandas as pd\n",
    "import polars as pl\n",
    "import numpy as np\n",
    "import random\n",
    "import sys\n",
    "sys.path.insert(1, '../framework')\n",
    "from racetrack import *\n",
    "rt = RACETrack()"
   ]
  },
  {
   "cell_type": "code",
   "execution_count": null,
   "metadata": {},
   "outputs": [],
   "source": [
    "df = pd.DataFrame({'cat':['a',  'a',     'b',   'b',   'c',   'c',   'd',   'd',   'd'],\n",
    "                   'bin':['x',  'y',     'x',   'y',   'x',   'y',   'x',   'y',   'z'],\n",
    "                   'num':[80,   20,      70,    30,    200,   200,   100,   800,   100]})\n",
    "df_pl = pl.DataFrame(df)\n",
    "_svgs_ = []\n",
    "params = {'category_by':'cat', 'sm_type':'pieChart', 'color_by':'bin', 'count_by':'num', 'w_sm_override':64, 'h_sm_override':64, 'w':512}\n",
    "_svgs_.append(rt.smallMultiples(df,    **params))\n",
    "_svgs_.append(rt.smallMultiples(df_pl, **params))\n",
    "_svgs_.append(rt.smallMultiples(df,    sort_by='records', **params))\n",
    "_svgs_.append(rt.smallMultiples(df_pl, sort_by='records', **params))\n",
    "_svgs_.append(rt.smallMultiples(df,    sort_by='field', sort_by_field='num', **params))\n",
    "_svgs_.append(rt.smallMultiples(df_pl, sort_by='field', sort_by_field='num', **params))\n",
    "_svgs_.append(rt.smallMultiples(df,    show_df_multiple=False, **params))\n",
    "_svgs_.append(rt.smallMultiples(df_pl, show_df_multiple=False, **params))\n",
    "_svgs_.append(rt.smallMultiples(df,    max_categories=2,       **params))\n",
    "_svgs_.append(rt.smallMultiples(df_pl, max_categories=2,       **params))\n",
    "rt.table(_svgs_, per_row=2)"
   ]
  },
  {
   "cell_type": "code",
   "execution_count": null,
   "metadata": {},
   "outputs": [],
   "source": [
    "_svgs_ = []\n",
    "params = {'category_by':'cat', 'sm_type':'histogram', 'sm_params':{'bin_by':'bin'}, 'color_by':'bin', 'count_by':'num', 'w_sm_override':64, 'h_sm_override':64, 'w':512}\n",
    "_svgs_.append(rt.smallMultiples(df,    **params))\n",
    "_svgs_.append(rt.smallMultiples(df_pl, **params))\n",
    "_svgs_.append(rt.smallMultiples(df,    y_axis_independent=False, **params))\n",
    "_svgs_.append(rt.smallMultiples(df_pl, y_axis_independent=False, **params))\n",
    "_svgs_.append(rt.smallMultiples(df,    y_axis_independent=False, x_axis_independent=False, **params))\n",
    "_svgs_.append(rt.smallMultiples(df_pl, y_axis_independent=False, x_axis_independent=False, **params))\n",
    "rt.table(_svgs_, per_row=2)"
   ]
  },
  {
   "cell_type": "code",
   "execution_count": null,
   "metadata": {},
   "outputs": [],
   "source": [
    "df = pd.DataFrame({'cat':[ 1,   1,   1,     2,   2,   2,   2,    2,    2,    2,    2,    2],\n",
    "                   'fm': ['a', 'b', 'c',   'w', 'x', 'y', 'z',  'w',  'w',  'w',  'z',  'z'],\n",
    "                   'to': ['b', 'c', 'a',   'x', 'y', 'z', 'z0', 'w0', 'w1', 'w2', 'z1', 'z2']})\n",
    "df_pl = pl.DataFrame(df)\n",
    "relates = [('fm','to')]\n",
    "pos = {'a':[0,0], 'b':[2,0], 'c':[2,2], 'w':[5,5], 'x':[6,6], 'y':[7,7], 'z':[8,8], 'w0':[4,4], 'w1':[4,5], 'w2':[4,6], 'z0':[9,9], 'z1':[8,9], 'z2':[9,8]}\n",
    "params = {'category_by':'cat', 'sm_type':'linkNode', 'sm_params':{'relationships':relates, 'pos':pos}, 'w_sm_override':128, 'h_sm_override':128, 'w':512}\n",
    "_svgs_ = []\n",
    "_svgs_.append(rt.smallMultiples(df,    **params))\n",
    "_svgs_.append(rt.smallMultiples(df_pl, **params))\n",
    "_svgs_.append(rt.smallMultiples(df,    x_axis_independent=False, **params))\n",
    "_svgs_.append(rt.smallMultiples(df_pl, x_axis_independent=False, **params))\n",
    "rt.table(_svgs_, per_row=2)"
   ]
  },
  {
   "cell_type": "code",
   "execution_count": null,
   "metadata": {},
   "outputs": [],
   "source": [
    "df = pd.DataFrame({'bin':['a',          'a',          'a',          'a',          'a',          'a',          'a',\n",
    "                          'b',          'b',          'b',          'b',          'b',          'b',          'b',\n",
    "                          'c',          'c',          'c',          'c',          'c',          'c',          'c'],\n",
    "                   'ts': ['2021-01-01', '2021-01-02', '2021-01-03', '2021-01-04', '2021-01-05', '2021-01-06', '2021-01-07',\n",
    "                          '2021-01-01', '2021-01-02', '2021-01-03', '2021-01-04', '2021-01-05', '2021-01-06', '2021-01-07',\n",
    "                          '2021-01-01', '2021-01-02', '2021-01-03', '2021-01-04', '2021-01-05', '2021-01-06', '2021-01-07'],\n",
    "                   'no': [5,            6,            6.3,          6,            5,            4,            4,\n",
    "                          1,            1.2,          1.3,          1.35,         1.3,          1.2,          1,\n",
    "                          9,            8,            7,            7,            7,            8,            9]})\n",
    "df    = rt.columnsAreTimestamps(df, 'ts')\n",
    "df_pl = pl.DataFrame(df)\n",
    "params = {'category_by':'bin', 'sm_type':'periodicBarChart', 'sm_params':{'time_period':'day_of_week'}, \n",
    "          'count_by':'no', 'color_by':'bin', 'h_sm_override':96, 'w_sm_override':128, 'w':640}\n",
    "_svgs_ = []\n",
    "_svgs_.append(rt.smallMultiples(df,    **params))\n",
    "_svgs_.append(rt.smallMultiples(df_pl, **params))\n",
    "_svgs_.append(rt.smallMultiples(df,    x_axis_independent=True,  **params))\n",
    "_svgs_.append(rt.smallMultiples(df_pl, x_axis_independent=True,  **params))\n",
    "_svgs_.append(rt.smallMultiples(df,    y_axis_independent=False, **params)) # Incorrect...\n",
    "_svgs_.append(rt.smallMultiples(df_pl, y_axis_independent=False, **params))\n",
    "rt.table(_svgs_, per_row=2)"
   ]
  },
  {
   "cell_type": "code",
   "execution_count": null,
   "metadata": {},
   "outputs": [],
   "source": [
    "params = {'category_by':'bin', 'sm_type':'temporalBarChart', 'count_by':'no', 'color_by':'bin', 'h_sm_override':96, 'w_sm_override':128, 'w':640}\n",
    "_svgs_ = []\n",
    "_svgs_.append(rt.smallMultiples(df,    **params))\n",
    "_svgs_.append(rt.smallMultiples(df_pl, **params))\n",
    "_svgs_.append(rt.smallMultiples(df,    x_axis_independent=True,  **params))\n",
    "_svgs_.append(rt.smallMultiples(df_pl, x_axis_independent=True,  **params))\n",
    "_svgs_.append(rt.smallMultiples(df,    y_axis_independent=False, **params)) # Correct!\n",
    "_svgs_.append(rt.smallMultiples(df_pl, y_axis_independent=False, **params))\n",
    "rt.table(_svgs_, per_row=2)"
   ]
  },
  {
   "cell_type": "code",
   "execution_count": null,
   "metadata": {},
   "outputs": [],
   "source": [
    "df = pd.DataFrame({'ts': ['2021-03-01','2021-03-02','2021-03-03','2021-03-04','2021-03-20','2021-03-21','2021-03-21','2021-03-22','2021-04-10','2021-04-10','2021-04-11','2021-04-11'],\n",
    "                   'cat':[1,           1,            1,           1,          2,           2,            2,           2,          3,           3,            3,           3],\n",
    "                   'num':[10,          12,           13,          11,         5,           5,            4,           3,          3,           2,            3,           5],\n",
    "                   'col':['red',       'red',        'red',       'red',      'blue',      'blue',       'yellow',    'blue',     'black',     'yellow',     'black',     'yellow']})\n",
    "df = rt.columnsAreTimestamps(df, 'ts')\n",
    "df_pl = pl.DataFrame(df)\n",
    "params = {'category_by':'cat', 'sm_type':'temporalBarChart', 'sm_params':{'ts_field':'ts'}, \n",
    "          'w_sm_override':384, 'h_sm_override':96, 'count_by':'num', 'color_by':'col', 'w':1024}\n",
    "spacer = '<svg x=\"0\" y=\"0\" width=\"800\" height=\"32\"><rect x=\"0\" y=\"0\" width=\"800\" height=\"32\" fill=\"#000000\" /></svg>'\n",
    "_svgs_ = []\n",
    "_svgs_.append(rt.smallMultiples(df,    **params))\n",
    "_svgs_.append(rt.smallMultiples(df_pl, **params))\n",
    "_svgs_.append(spacer), _svgs_.append(spacer)\n",
    "_svgs_.append(rt.smallMultiples(df,    x_axis_independent=False, **params))\n",
    "_svgs_.append(rt.smallMultiples(df_pl, x_axis_independent=False, **params))\n",
    "_svgs_.append(spacer), _svgs_.append(spacer)\n",
    "_svgs_.append(rt.smallMultiples(df,    y_axis_independent=False, **params))\n",
    "_svgs_.append(rt.smallMultiples(df_pl, y_axis_independent=False, **params))\n",
    "_svgs_.append(spacer), _svgs_.append(spacer)\n",
    "_svgs_.append(rt.smallMultiples(df,    x_axis_independent=False, y_axis_independent=False, **params))\n",
    "_svgs_.append(rt.smallMultiples(df_pl, x_axis_independent=False, y_axis_independent=False, **params))\n",
    "rt.table(_svgs_, per_row=2)"
   ]
  },
  {
   "cell_type": "code",
   "execution_count": null,
   "metadata": {},
   "outputs": [],
   "source": [
    "params = {'category_by':'cat', 'sm_type':'xy', \n",
    "          'sm_params':{'x_field':'ts', 'y_field':'num', 'line_groupby_field':'col', 'line_groupby_w':3}, \n",
    "          'w_sm_override':256, 'h_sm_override':96, 'count_by':'num', 'color_by':'col', 'w':768}\n",
    "spacer = '<svg x=\"0\" y=\"0\" width=\"518\" height=\"32\"><rect x=\"0\" y=\"0\" width=\"800\" height=\"32\" fill=\"#000000\" /></svg>'\n",
    "_svgs_ = []\n",
    "_svgs_.append(rt.smallMultiples(df,    **params))\n",
    "_svgs_.append(rt.smallMultiples(df_pl, **params))\n",
    "_svgs_.append(spacer), _svgs_.append(spacer)\n",
    "_svgs_.append(rt.smallMultiples(df,    x_axis_independent=False, **params))\n",
    "_svgs_.append(rt.smallMultiples(df_pl, x_axis_independent=False, **params))\n",
    "_svgs_.append(spacer), _svgs_.append(spacer)\n",
    "_svgs_.append(rt.smallMultiples(df,    y_axis_independent=False, **params))\n",
    "_svgs_.append(rt.smallMultiples(df_pl, y_axis_independent=False, **params))\n",
    "_svgs_.append(spacer), _svgs_.append(spacer)\n",
    "_svgs_.append(rt.smallMultiples(df,    x_axis_independent=False, y_axis_independent=False, **params))\n",
    "_svgs_.append(rt.smallMultiples(df_pl, x_axis_independent=False, y_axis_independent=False, **params))\n",
    "rt.table(_svgs_, per_row=2)"
   ]
  },
  {
   "cell_type": "code",
   "execution_count": null,
   "metadata": {},
   "outputs": [],
   "source": []
  }
 ],
 "metadata": {
  "kernelspec": {
   "display_name": "Python 3",
   "language": "python",
   "name": "python3"
  },
  "language_info": {
   "codemirror_mode": {
    "name": "ipython",
    "version": 3
   },
   "file_extension": ".py",
   "mimetype": "text/x-python",
   "name": "python",
   "nbconvert_exporter": "python",
   "pygments_lexer": "ipython3",
   "version": "3.11.6"
  }
 },
 "nbformat": 4,
 "nbformat_minor": 2
}
