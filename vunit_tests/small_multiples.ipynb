{
 "cells": [
  {
   "cell_type": "code",
   "execution_count": null,
   "metadata": {},
   "outputs": [],
   "source": [
    "import pandas as pd\n",
    "import polars as pl\n",
    "import numpy as np\n",
    "import random\n",
    "import sys\n",
    "sys.path.insert(1, '../framework')\n",
    "from racetrack import *\n",
    "rt = RACETrack()"
   ]
  },
  {
   "cell_type": "code",
   "execution_count": null,
   "metadata": {},
   "outputs": [],
   "source": [
    "df = pd.DataFrame({'cat':['a',  'a',     'b',   'b',   'c',   'c',   'd',   'd',   'd'],\n",
    "                   'bin':['x',  'y',     'x',   'y',   'x',   'y',   'x',   'y',   'z'],\n",
    "                   'num':[80,   20,      70,    30,    200,   200,   100,   800,   100]})\n",
    "df_pl = pl.DataFrame(df)\n",
    "_svgs_ = []\n",
    "params = {'category_by':'cat', 'sm_type':'pieChart', 'color_by':'bin', 'count_by':'num', 'w_sm_override':64, 'h_sm_override':64, 'w':512}\n",
    "_svgs_.append(rt.smallMultiples(df,    **params))\n",
    "_svgs_.append(rt.smallMultiples(df_pl, **params))\n",
    "_svgs_.append(rt.smallMultiples(df,    sort_by='records', **params))\n",
    "_svgs_.append(rt.smallMultiples(df_pl, sort_by='records', **params))\n",
    "_svgs_.append(rt.smallMultiples(df,    sort_by='field', sort_by_field='num', **params))\n",
    "_svgs_.append(rt.smallMultiples(df_pl, sort_by='field', sort_by_field='num', **params))\n",
    "_svgs_.append(rt.smallMultiples(df,    show_df_multiple=False, **params))\n",
    "_svgs_.append(rt.smallMultiples(df_pl, show_df_multiple=False, **params))\n",
    "_svgs_.append(rt.smallMultiples(df,    max_categories=2,       **params))\n",
    "_svgs_.append(rt.smallMultiples(df_pl, max_categories=2,       **params))\n",
    "rt.table(_svgs_, per_row=2)"
   ]
  },
  {
   "cell_type": "code",
   "execution_count": null,
   "metadata": {},
   "outputs": [],
   "source": [
    "_svgs_ = []\n",
    "params = {'category_by':'cat', 'sm_type':'histogram', 'sm_params':{'bin_by':'bin'}, 'color_by':'bin', 'count_by':'num', 'w_sm_override':64, 'h_sm_override':64, 'w':512}\n",
    "_svgs_.append(rt.smallMultiples(df,    **params))\n",
    "_svgs_.append(rt.smallMultiples(df_pl, **params))\n",
    "_svgs_.append(rt.smallMultiples(df,    y_axis_independent=False, **params))\n",
    "_svgs_.append(rt.smallMultiples(df_pl, y_axis_independent=False, **params))\n",
    "rt.table(_svgs_, per_row=2)"
   ]
  },
  {
   "cell_type": "code",
   "execution_count": null,
   "metadata": {},
   "outputs": [],
   "source": []
  }
 ],
 "metadata": {
  "kernelspec": {
   "display_name": "Python 3",
   "language": "python",
   "name": "python3"
  },
  "language_info": {
   "codemirror_mode": {
    "name": "ipython",
    "version": 3
   },
   "file_extension": ".py",
   "mimetype": "text/x-python",
   "name": "python",
   "nbconvert_exporter": "python",
   "pygments_lexer": "ipython3",
   "version": "3.11.6"
  }
 },
 "nbformat": 4,
 "nbformat_minor": 2
}
