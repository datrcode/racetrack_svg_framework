{
 "cells": [
  {
   "cell_type": "code",
   "execution_count": null,
   "metadata": {},
   "outputs": [],
   "source": [
    "import pandas as pd\n",
    "import numpy as np\n",
    "import sys\n",
    "sys.path.insert(1, '../framework')\n",
    "from racetrack import *\n",
    "rt = RACETrack()"
   ]
  },
  {
   "cell_type": "code",
   "execution_count": null,
   "metadata": {},
   "outputs": [],
   "source": [
    "df = pd.DataFrame({'fm': ['a',    'b',    'c',    'a',    'a',    'a',    'b',    'c',    'd',    'd',    'd',    'd',    'd',    'd'],\n",
    "                   'fmi':[0,      1,      2,      0,      0,      0,      1,      3,      3,      3,      3,      3,      3,      3],\n",
    "                   'to': ['b',    'c',    'd',    'a0',   'a1',   'a2',   'b1',   'c0',   'd0',   'd1',   'd2',   'd3',   'd3',   'd3'],\n",
    "                   'toi':[1,      2,      3,      10,     11,     12,     21,     30,     40,     41,     42,     43,     43,     43],\n",
    "                   'ct': [5,      5,      5,      1,      1,      1,      3,      2,      2,      2,      2,      2,      2,      2],\n",
    "                   'co': ['core', 'core', 'core', 'sub1', 'sub1', 'sub1', 'spur', 'spur', 'sub2', 'sub2', 'sub2', 'sub2', 'sub2', 'sub2']})\n",
    "relates = [('fm','to')]\n",
    "pos     = {\"a\":  [-0.13,-0.72],           \"a0\": [-0.13,-1.00],           \"a1\": [ 0.09,-0.87],           \"a2\": [-0.35,-0.88],\n",
    "           \"b\":  [-0.12,-0.30],           \"b1\": [-0.37,-0.30],           \"c\":  [-0.00, 0.12],           \"d\":  [ 0.13, 0.55],\n",
    "           \"d0\": [ 0.31, 0.82],           \"d1\": [ 0.41, 0.48],           \"d2\": [ 0.04, 0.84],           \"d3\": [-0.13, 0.64],\n",
    "           \"c0\": [ 0.24, 0.10]}\n",
    "svgs = []\n",
    "svgs.append(rt.linkNode(df, relates, pos))\n",
    "svgs.append(rt.linkNode(df, relates, pos, count_by='ct', link_size='vary',  node_size='vary'))\n",
    "svgs.append(rt.linkNode(df, relates, pos, color_by='co', link_size='vary',  link_color='vary', min_link_size=3, max_link_size=5, node_size='vary'))\n",
    "svgs.append(rt.linkNode(df, relates, pos, color_by='co', link_size='large', link_color='vary', node_size=None))\n",
    "svgs.append(rt.linkNode(df, relates, pos, color_by='co', link_size=None,    node_size='medium'))\n",
    "svgs.append(rt.linkNode(df, relates, pos, color_by='co', link_size=None,    node_size='small',  node_shape='square'))\n",
    "svgs.append(rt.linkNode(df, relates, pos, color_by='co', link_size='vary',  node_size='medium', link_shape='curve',  min_link_size=3, max_link_size=5, link_color='vary'))\n",
    "svgs.append(rt.linkNode(df, relates, pos, color_by='co', link_size='vary',  node_size='small',  link_shape='curve',  min_link_size=3, max_link_size=5, link_color='vary', link_arrow=True))\n",
    "rt.displaySVG(rt.table(svgs))"
   ]
  },
  {
   "cell_type": "markdown",
   "metadata": {},
   "source": [
    "<img src='linknode0.png'>"
   ]
  },
  {
   "cell_type": "code",
   "execution_count": null,
   "metadata": {},
   "outputs": [],
   "source": [
    "relates = [('fmi','toi')]\n",
    "pos     = {\"0\":  [-0.13,-0.72],           \"10\": [-0.13,-1.00],           \"11\": [ 0.09,-0.87],           \"12\": [-0.35,-0.88],\n",
    "           \"1\":  [-0.12,-0.30],           \"21\": [-0.37,-0.30],           \"2\":  [-0.00, 0.12],           \"3\":  [ 0.13, 0.55],\n",
    "           \"40\": [ 0.31, 0.82],           \"41\": [ 0.41, 0.48],           \"42\": [ 0.04, 0.84],           \"43\": [-0.13, 0.64],\n",
    "           \"30\": [ 0.24, 0.10]}\n",
    "svgs = []\n",
    "svgs.append(rt.linkNode(df, relates, pos))\n",
    "svgs.append(rt.linkNode(df, relates, pos, count_by='ct', link_size='vary',  node_size='vary'))\n",
    "svgs.append(rt.linkNode(df, relates, pos, color_by='co', link_size='vary',  link_color='vary', min_link_size=3, max_link_size=5, node_size='vary'))\n",
    "svgs.append(rt.linkNode(df, relates, pos, color_by='co', link_size='large', link_color='vary', node_size=None))\n",
    "svgs.append(rt.linkNode(df, relates, pos, color_by='co', link_size=None,    node_size='medium'))\n",
    "svgs.append(rt.linkNode(df, relates, pos, color_by='co', link_size=None,    node_size='small',  node_shape='square'))\n",
    "svgs.append(rt.linkNode(df, relates, pos, color_by='co', link_size='vary',  node_size='medium', link_shape='curve',  min_link_size=3, max_link_size=5, link_color='vary'))\n",
    "svgs.append(rt.linkNode(df, relates, pos, color_by='co', link_size='vary',  node_size='small',  link_shape='curve',  min_link_size=3, max_link_size=5, link_color='vary', link_arrow=True))\n",
    "svgs.append(rt.linkNode(df, relates, pos))\n",
    "svgs.append(rt.linkNode(df, relates, pos, count_by='ct', link_size='vary',  node_size='vary'))\n",
    "svgs.append(rt.linkNode(df, relates, pos, color_by='co', link_size='vary',  link_color='vary', min_link_size=3, max_link_size=5, node_size='vary'))\n",
    "svgs.append(rt.linkNode(df, relates, pos, color_by='co', link_size='large', link_color='vary', node_size=None))\n",
    "rt.displaySVG(rt.table(svgs))"
   ]
  },
  {
   "cell_type": "markdown",
   "metadata": {},
   "source": [
    "<img src='linknode1.png'>"
   ]
  },
  {
   "cell_type": "code",
   "execution_count": null,
   "metadata": {},
   "outputs": [],
   "source": [
    "df_a = pd.DataFrame({'fm':['a','b','c'],\n",
    "                     'to':['b','c','d']})\n",
    "df_b = pd.DataFrame({'src':['a','a','a','d','d','d'],\n",
    "                     'dst':[1,  2,  3,  4,  5,  6]})\n",
    "pos = {'a': [0,0], 1:[-0.5,-0.5], 2:[-0.5,0.0], 3:[-0.5,0.5],\n",
    "       'b': [1,1],\n",
    "       'c': [0,2],\n",
    "       'd': [1,3], 4:[1.5, 2.5],  5:[1.5, 3.0],  6:[1.5, 3.5]}\n",
    "relates = [('fm','to'),('src','dst')]\n",
    "svgs = []\n",
    "svgs.append(rt.linkNode([df_a, df_b], relates, pos))\n",
    "svgs.append(rt.linkNode([df_a, df_b], relates, pos, label_only=set(['1','2','3','4','5','6'])))\n",
    "_lu_ = {'[a123]':'#ff0000', '[d456]':'#0000ff'}\n",
    "svgs.append(rt.linkNode([df_a, df_b], relates, pos, label_only=set(['1','2','3','4','5','6','a','d']), convex_hull_lu=_lu_))\n",
    "\n",
    "\n",
    "df1 = pd.DataFrame({'fm':['a','b','c'],      'to':['b','c','d'],      'count':[10, 20, 1]})\n",
    "df2 = pd.DataFrame({'src':['x','y','z','a'], 'dst':['1','2','3','4'], 'count':[8,   2, 4, 12]})\n",
    "\n",
    "multi_relates = [('fm','to'),('src','dst')]\n",
    "node_shapes   = {'fm':'ellipse','to':'square','src':'triangle','dst':'plus'}\n",
    "\n",
    "pos = {'a':[0,0],'b':[1,0],'c':[1,1],'d':[0,1],'x':[0,0.4],'1':[0.2,0.4],'y':[0,0.2],'2':[0.2,0.2],'z':[0,0.6],'3':[0.2,0.6],'4':[0.6,0.2]}\n",
    "\n",
    "svgs.append(rt.linkNode([df1,df2], multi_relates, pos, count_by='count', \n",
    "                        node_size='vary', node_color='#ff0000', node_shape=node_shapes,\n",
    "                        link_size='medium', link_dash=\"4 3\"))\n",
    "svgs.append(rt.linkNode([df1,df2], multi_relates, pos, count_by='count', \n",
    "                        node_size='vary', node_color='#ff0000', node_shape=node_shapes,\n",
    "                        link_size='medium', link_dash={('fm','to'):\"2 4\"}))\n",
    "svgs.append(rt.linkNode([df1,df2], multi_relates, pos, count_by='count', \n",
    "                         node_size='vary', node_color='#ff0000', node_shape=node_shapes,\n",
    "                         link_size={('fm','to'):'large', ('src','dst'):'nil'}, link_dash={('fm','to'):\"5 5\"}))\n",
    "\n",
    "rt.displaySVG(rt.table(svgs))"
   ]
  },
  {
   "cell_type": "code",
   "execution_count": null,
   "metadata": {},
   "outputs": [],
   "source": []
  }
 ],
 "metadata": {
  "kernelspec": {
   "display_name": "Python 3",
   "language": "python",
   "name": "python3"
  },
  "language_info": {
   "codemirror_mode": {
    "name": "ipython",
    "version": 3
   },
   "file_extension": ".py",
   "mimetype": "text/x-python",
   "name": "python",
   "nbconvert_exporter": "python",
   "pygments_lexer": "ipython3",
   "version": "3.11.5"
  },
  "orig_nbformat": 4
 },
 "nbformat": 4,
 "nbformat_minor": 2
}
