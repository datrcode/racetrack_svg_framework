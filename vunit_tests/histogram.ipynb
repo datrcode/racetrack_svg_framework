{
 "cells": [
  {
   "cell_type": "code",
   "execution_count": null,
   "metadata": {},
   "outputs": [],
   "source": [
    "import pandas as pd\n",
    "import polars as pl\n",
    "import numpy as np\n",
    "from math import cos, sin\n",
    "import sys\n",
    "sys.path.insert(1, '../framework')\n",
    "from racetrack import *\n",
    "rt = RACETrack()"
   ]
  },
  {
   "cell_type": "code",
   "execution_count": null,
   "metadata": {},
   "outputs": [],
   "source": [
    "df = pd.DataFrame({'bin':   ['a',   'a',     'b',   'b',     'c',   'c',    'c',      'd',   'd',     'd',    'd'],\n",
    "                   'bin2':  ['x',   'x',     'x',   'x',     'x',   'y',    'z',      'x',   'y',     'z',    'w'],\n",
    "                   'amt':   [10,    5,       10,    30,      1,     2,      1,        1,      2,      3,      4],\n",
    "                   'amt2':  [1,     2,       1,     2,       1,     2,      3,        1,      2,      3,      4],\n",
    "                   'color': ['red', 'blue',  'red', 'red',   'red', 'blue', 'yellow', 'blue', 'blue', 'blue', 'red']})\n",
    "df_pl = pl.DataFrame(df)\n",
    "_parms_ = {'w':160,'h':96}\n",
    "_svgs_  = []\n",
    "\n",
    "_svgs_.append(rt.histogram(df, bin_by='bin',                   **_parms_))\n",
    "_svgs_.append(rt.histogram(df, bin_by='bin', count_by='bin2',  **_parms_))\n",
    "_svgs_.append(rt.histogram(df, bin_by='bin', count_by='amt',   **_parms_))\n",
    "_svgs_.append(rt.histogram(df, bin_by='bin', count_by='amt2',  **_parms_))\n",
    "_svgs_.append(rt.histogram(df, bin_by='bin', count_by='color', **_parms_))\n",
    "\n",
    "_svgs_.append(rt.histogram(df_pl, bin_by='bin',                   **_parms_))\n",
    "_svgs_.append(rt.histogram(df_pl, bin_by='bin', count_by='bin2',  **_parms_))\n",
    "_svgs_.append(rt.histogram(df_pl, bin_by='bin', count_by='amt',   **_parms_))\n",
    "_svgs_.append(rt.histogram(df_pl, bin_by='bin', count_by='amt2',  **_parms_))\n",
    "_svgs_.append(rt.histogram(df_pl, bin_by='bin', count_by='color', **_parms_))\n",
    "\n",
    "_parms_['color_by'] = 'color'\n",
    "\n",
    "_svgs_.append(rt.histogram(df, bin_by='bin',                   **_parms_))\n",
    "_svgs_.append(rt.histogram(df, bin_by='bin', count_by='bin2',  **_parms_))\n",
    "_svgs_.append(rt.histogram(df, bin_by='bin', count_by='amt',   **_parms_))\n",
    "_svgs_.append(rt.histogram(df, bin_by='bin', count_by='amt2',  **_parms_)) # second row shows a little bit more than the row on top...  both should be 6\n",
    "_svgs_.append(rt.histogram(df, bin_by='bin', count_by='color', **_parms_))\n",
    "\n",
    "_svgs_.append(rt.histogram(df_pl, bin_by='bin',                   **_parms_))\n",
    "_svgs_.append(rt.histogram(df_pl, bin_by='bin', count_by='bin2',  **_parms_))\n",
    "_svgs_.append(rt.histogram(df_pl, bin_by='bin', count_by='amt',   **_parms_))\n",
    "_svgs_.append(rt.histogram(df_pl, bin_by='bin', count_by='amt2',  **_parms_)) # second row shows a little bit more than the row on top...  both should be 6\n",
    "_svgs_.append(rt.histogram(df_pl, bin_by='bin', count_by='color', **_parms_))\n",
    "\n",
    "rt.displaySVG(rt.table(_svgs_, per_row=5))"
   ]
  },
  {
   "cell_type": "markdown",
   "metadata": {},
   "source": [
    "<img src=\"histogram0.png\"/>"
   ]
  },
  {
   "cell_type": "code",
   "execution_count": null,
   "metadata": {},
   "outputs": [],
   "source": [
    "_parms_ = {'w':160,'h':128}\n",
    "_svgs_ = []\n",
    "\n",
    "_str_ = 'bin'\n",
    "_svgs_.append(rt.histogram(df, bin_by=_str_, count_by=_str_, color_by=_str_, **_parms_))\n",
    "_str_ = 'bin2'\n",
    "_svgs_.append(rt.histogram(df, bin_by=_str_, count_by=_str_, color_by=_str_, **_parms_))\n",
    "_str_ = 'amt'\n",
    "_svgs_.append(rt.histogram(df, bin_by=_str_, count_by=_str_, color_by=_str_, **_parms_))\n",
    "_str_ = 'amt2'\n",
    "_svgs_.append(rt.histogram(df, bin_by=_str_, count_by=_str_, color_by=_str_, **_parms_))\n",
    "_str_ = 'color'\n",
    "_svgs_.append(rt.histogram(df, bin_by=_str_, count_by=_str_, color_by=_str_, **_parms_))\n",
    "\n",
    "_str_ = 'bin'\n",
    "_svgs_.append(rt.histogram(df_pl, bin_by=_str_, count_by=_str_, color_by=_str_, **_parms_))\n",
    "_str_ = 'bin2'\n",
    "_svgs_.append(rt.histogram(df_pl, bin_by=_str_, count_by=_str_, color_by=_str_, **_parms_))\n",
    "_str_ = 'amt'\n",
    "_svgs_.append(rt.histogram(df_pl, bin_by=_str_, count_by=_str_, color_by=_str_, **_parms_))\n",
    "_str_ = 'amt2'\n",
    "_svgs_.append(rt.histogram(df_pl, bin_by=_str_, count_by=_str_, color_by=_str_, **_parms_))\n",
    "_str_ = 'color'\n",
    "_svgs_.append(rt.histogram(df_pl, bin_by=_str_, count_by=_str_, color_by=_str_, **_parms_))\n",
    "\n",
    "rt.displaySVG(rt.table(_svgs_, per_row=5))"
   ]
  },
  {
   "cell_type": "markdown",
   "metadata": {},
   "source": [
    "<img src=\"histogram1.png\" />"
   ]
  },
  {
   "cell_type": "code",
   "execution_count": null,
   "metadata": {},
   "outputs": [],
   "source": []
  }
 ],
 "metadata": {
  "kernelspec": {
   "display_name": "Python 3",
   "language": "python",
   "name": "python3"
  },
  "language_info": {
   "codemirror_mode": {
    "name": "ipython",
    "version": 3
   },
   "file_extension": ".py",
   "mimetype": "text/x-python",
   "name": "python",
   "nbconvert_exporter": "python",
   "pygments_lexer": "ipython3",
   "version": "3.11.6"
  }
 },
 "nbformat": 4,
 "nbformat_minor": 2
}
