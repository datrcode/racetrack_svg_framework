{
 "cells": [
  {
   "cell_type": "code",
   "execution_count": null,
   "metadata": {},
   "outputs": [],
   "source": [
    "import pandas as pd\n",
    "import numpy as np\n",
    "from math import cos, sin\n",
    "import sys\n",
    "sys.path.insert(1, '../framework')\n",
    "from racetrack import *\n",
    "rt = RACETrack()"
   ]
  },
  {
   "cell_type": "code",
   "execution_count": null,
   "metadata": {},
   "outputs": [],
   "source": [
    "_ts_, _td_, d = pd.to_datetime('2023-01-01'), pd.Timedelta(days=1), 0.0\n",
    "timestamps, colors, counts = [], [], []\n",
    "for i in range(360):\n",
    "    timestamps.append(_ts_), counts.append(2.4 + sin(d)),            colors.append('red')\n",
    "    timestamps.append(_ts_), counts.append(2.8 + cos(d)),            colors.append('green')\n",
    "    timestamps.append(_ts_), counts.append(3   + cos(d) + 2*sin(d)), colors.append('blue')\n",
    "    d    += pi/16\n",
    "    _ts_ += _td_\n",
    "df = pd.DataFrame({'timestamp':timestamps, 'count':counts, 'color':colors})\n",
    "svgs = []\n",
    "svgs.append(rt.temporalBarChart(df,                         count_by='count',     color_by='color', w=1280))\n",
    "svgs.append(rt.temporalBarChart(df.query('color==\"red\"'),   count_by='count',     color_by='color', w=1280, h=64))\n",
    "svgs.append(rt.temporalBarChart(df.query('color==\"green\"'), count_by='count',     color_by='color', w=1280, h=64))\n",
    "svgs.append(rt.temporalBarChart(df.query('color==\"blue\"'),  count_by='count',     color_by='color', w=1280, h=64))\n",
    "svgs.append(rt.xy              (df, x_field ='timestamp', y_field='count',  color_by='color', dot_size=None, line_groupby_field='color', w=1280,h=128))\n",
    "rt.displaySVG(rt.tile(svgs,horz=False))"
   ]
  },
  {
   "cell_type": "markdown",
   "metadata": {},
   "source": [
    "<img src=\"temporal0.png\" />"
   ]
  },
  {
   "cell_type": "code",
   "execution_count": null,
   "metadata": {},
   "outputs": [],
   "source": [
    "df_agg = rt.temporalStatsAggregationWithGBFields(df, ts_field='timestamp', fields='count', freq='W', gb_fields='color').reset_index()\n",
    "rt.displaySVG(rt.tile([rt.temporalBarChart(df.query('color == \"red\"'), count_by='count',     color_by='color', w=768, ignore_unintuitive=False),\n",
    "                       rt.xy              (df_agg.query('color == \"red\"'), x_field ='timestamp', y_field='count_sum',  color_by='color', dot_size='small', line_groupby_field='color', w=768,h=128)], horz=False))"
   ]
  },
  {
   "cell_type": "markdown",
   "metadata": {},
   "source": [
    "<img src=\"temporal1.png\" />"
   ]
  },
  {
   "cell_type": "code",
   "execution_count": null,
   "metadata": {},
   "outputs": [],
   "source": [
    "df['day_of_month'] = df['timestamp'].apply(lambda x: x.day)\n",
    "df['month']        = df['timestamp'].apply(lambda x: x.month)\n",
    "svgs = []\n",
    "svgs.append(rt.temporalBarChart(df.query('day_of_month < 10 or day_of_month > 20'),         count_by='count', color_by='color', w=1280))\n",
    "svgs.append(rt.temporalBarChart(df.query('month == 1 or day_of_month > 5'),                 count_by='count', color_by='color', w=1280))\n",
    "svgs.append(rt.temporalBarChart(df.query('month == 1 or month == 12 or day_of_month < 20'), count_by='count', color_by='color', w=1280))\n",
    "rt.displaySVG(rt.tile(svgs, horz=False))"
   ]
  },
  {
   "cell_type": "markdown",
   "metadata": {},
   "source": [
    "<img src=\"temporal2.png\" />"
   ]
  },
  {
   "cell_type": "code",
   "execution_count": null,
   "metadata": {},
   "outputs": [],
   "source": [
    "timestamps = ['2022-01-01', '2022-01-01', '2022-01-01',   '2022-01-02', '2022-01-02',   '2022-01-03', '2022-01-03', '2022-01-03', '2022-01-03', '2022-01-03',   '2022-01-04', '2022-01-04', '2022-01-04']\n",
    "colors     = ['red',        'red',        'red',          'red',        'red',          'red',        'red',        'red',        'blue',       'blue',         'green',      'red',        'blue']\n",
    "setops     = ['a',          'a',          'b',            'a',          'a',            'a',          'b',          'c',          'a',          'a',            'a',          'a',          'a']\n",
    "counts     = [1,            2,            3,              5,            2,              2,            1,            1,            4,            1,              10,           1,            3]\n",
    "df = pd.DataFrame({'timestamp':timestamps, 'color':colors, 'setop':setops, 'count':counts})\n",
    "df['timestamp'] = df['timestamp'].astype('datetime64[ms]')\n",
    "\n",
    "svgs = []\n",
    "svgs.append(rt.temporalBarChart(df, color_by='color', count_by='setop',                      w=256))\n",
    "svgs.append(rt.temporalBarChart(df, color_by='color',                                        w=256))\n",
    "svgs.append(rt.temporalBarChart(df, color_by='color', count_by='count',                      w=256))\n",
    "svgs.append(rt.temporalBarChart(df, color_by='color', count_by='count',   count_by_set=True, w=256))\n",
    "rt.displaySVG(rt.table(svgs))"
   ]
  },
  {
   "cell_type": "markdown",
   "metadata": {},
   "source": [
    "<img src=\"temporal3.png\" />"
   ]
  },
  {
   "cell_type": "code",
   "execution_count": null,
   "metadata": {},
   "outputs": [],
   "source": []
  }
 ],
 "metadata": {
  "kernelspec": {
   "display_name": "Python 3",
   "language": "python",
   "name": "python3"
  },
  "language_info": {
   "codemirror_mode": {
    "name": "ipython",
    "version": 3
   },
   "file_extension": ".py",
   "mimetype": "text/x-python",
   "name": "python",
   "nbconvert_exporter": "python",
   "pygments_lexer": "ipython3",
   "version": "3.11.5"
  },
  "orig_nbformat": 4
 },
 "nbformat": 4,
 "nbformat_minor": 2
}
