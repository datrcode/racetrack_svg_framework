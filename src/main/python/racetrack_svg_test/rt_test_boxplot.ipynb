{
 "cells": [
  {
   "cell_type": "code",
   "execution_count": null,
   "id": "cc5ec30b-60e9-4ac2-ae42-ca1281cc777f",
   "metadata": {
    "vscode": {
     "languageId": "javascript"
    }
   },
   "outputs": [],
   "source": [
    "import pandas as pd\n",
    "\n",
    "import sys\n",
    "sys.path.insert(1, '../racetrack')\n",
    "\n",
    "from racetrack import *\n",
    "\n",
    "from IPython.display import Javascript, HTML, display\n",
    "%matplotlib inline"
   ]
  },
  {
   "cell_type": "code",
   "execution_count": null,
   "id": "87ad7aa2-8a86-4f06-8370-b91819774bec",
   "metadata": {
    "vscode": {
     "languageId": "javascript"
    }
   },
   "outputs": [],
   "source": [
    "rt = RACETrack()"
   ]
  },
  {
   "cell_type": "code",
   "execution_count": null,
   "id": "9298b8d1-8058-4038-ae86-360cf008fe41",
   "metadata": {
    "vscode": {
     "languageId": "javascript"
    }
   },
   "outputs": [],
   "source": [
    "df = pd.DataFrame({'pet':   ['dog',  'dog',   'dog',    'cat',    'cat',  'cat'],\n",
    "                   'color': ['brown','yellow','yellow', 'yellow', 'gray', 'white'],\n",
    "                   'weight':[10,      20,     30,       5,         10,    8]})\n",
    "rt.displaySVG(rt.boxplot(df,'pet',count_by='weight'))"
   ]
  },
  {
   "cell_type": "code",
   "execution_count": null,
   "id": "d9c0136e",
   "metadata": {
    "vscode": {
     "languageId": "javascript"
    }
   },
   "outputs": [],
   "source": [
    "rt.displaySVG(rt.boxplot(df,'color',count_by='weight'))"
   ]
  },
  {
   "cell_type": "code",
   "execution_count": null,
   "id": "253e1947-b17b-4fce-8173-6bccd7422f1e",
   "metadata": {
    "vscode": {
     "languageId": "javascript"
    }
   },
   "outputs": [],
   "source": [
    "df = pd.DataFrame({'first name':['mary',   'david',  'john',   'david',  'david', 'john',  'david',   'david',   'john'],\n",
    "                          'age':[50,       40,       30,       45,       20,      30,      50,        50,        30],\n",
    "                         'hair':['brown',  'brown',  'black',  'black',  'red',   'red',   'brown',   'brown',   'black'],\n",
    "                       'salary':[150000,   60000,    90000,    20000,    20000,   80000,   40000,     35000,     40000]})\n",
    "\n",
    "rt.displaySVG(rt.boxplot(df=df,bin_by=['first name'],count_by='salary',color_by='age',w=512,h=256))"
   ]
  },
  {
   "cell_type": "code",
   "execution_count": null,
   "id": "f98089c2",
   "metadata": {
    "vscode": {
     "languageId": "javascript"
    }
   },
   "outputs": [],
   "source": [
    "df_nf        = pd.read_csv(\"../../../../data/netflow/netflow_sample.csv\")\n",
    "df_nf['beg'] = df_nf['beg'].astype(np.datetime64)\n",
    "df_nf        = df_nf.rename({'beg':'timestamp'},axis=1)\n",
    "\n",
    "rt.displaySVG(rt.boxplot(df_nf, 'dpt', style='barchart', color_by='dpt', h_gap=1, w=512, h=256))"
   ]
  },
  {
   "cell_type": "code",
   "execution_count": null,
   "id": "ea2a76cd",
   "metadata": {
    "vscode": {
     "languageId": "javascript"
    }
   },
   "outputs": [],
   "source": [
    "from math import log10\n",
    "df_nf['SBYT_log10'] = df_nf['SBYT'].apply(lambda x: log10(x+1))\n",
    "\n",
    "rt.displaySVG(rt.boxplot(df_nf, 'dip', style='boxplot', count_by='SBYT_log10', color_by='dpt', order_by='max', extra_label_space=30, w=1200, h=256))"
   ]
  },
  {
   "cell_type": "code",
   "execution_count": null,
   "id": "28ae85df",
   "metadata": {
    "vscode": {
     "languageId": "javascript"
    }
   },
   "outputs": [],
   "source": [
    "# Only keep destination IPs with more than 500 rows\n",
    "_df = pd.DataFrame(df_nf.groupby('dip').size()).reset_index()\n",
    "_set = set(_df[_df[0] >= 500]['dip'])\n",
    "df_nf_500 = df_nf[df_nf['dip'].isin(_set)]\n",
    "rt.displaySVG(rt.boxplot(df_nf_500, 'dip', style='boxplot_w_swarm', count_by='SBYT_log10', color_by='dpt', order_by='average', ascending=False, w=1200, h=256))"
   ]
  },
  {
   "cell_type": "code",
   "execution_count": null,
   "id": "763d3326",
   "metadata": {
    "vscode": {
     "languageId": "javascript"
    }
   },
   "outputs": [],
   "source": [
    "rt.displaySVG(rt.boxplot(df_nf_500, 'dip', style='boxplot_w_swarm', count_by='SBYT_log10', color_by='dpt', order_by='average', ascending=False, \n",
    "                         sm_type='pieChart', extra_label_space=40, w=1200, h=256))"
   ]
  },
  {
   "cell_type": "code",
   "execution_count": null,
   "id": "ec417e19",
   "metadata": {
    "vscode": {
     "languageId": "javascript"
    }
   },
   "outputs": [],
   "source": [
    "rt.displaySVG(rt.boxplot(df_nf_500, 'dip', style='boxplot_w_swarm', count_by='SBYT_log10', color_by='dpt', order_by='average', ascending=False, \n",
    "                         sm_type='xy', sm_params={'x_field':'timestamp','y_field':['sip','dip'],'dot_size':'small'},\n",
    "                         w=1200, h=256))"
   ]
  },
  {
   "cell_type": "code",
   "execution_count": null,
   "id": "af4da47b",
   "metadata": {
    "vscode": {
     "languageId": "javascript"
    }
   },
   "outputs": [],
   "source": [
    "# Only keep destination IPs with more than 5000 rows\n",
    "_df = pd.DataFrame(df_nf.groupby('dip').size()).reset_index()\n",
    "_set = set(_df[_df[0] >= 5000]['dip'])\n",
    "df_nf_5000 = df_nf[df_nf['dip'].isin(_set)]\n",
    "rt.displaySVG(rt.boxplot(df_nf_5000, 'dip', style='boxplot_w_swarm', count_by='SBYT_log10', color_by='dpt', order_by='max', ascending=False, \n",
    "                         sm_type='xy', sm_params={'x_field':'timestamp','y_field':['sip','dip'],'dot_size':'small'},\n",
    "                         w=1200, h=256))"
   ]
  },
  {
   "cell_type": "code",
   "execution_count": null,
   "id": "a27e8ae3",
   "metadata": {
    "vscode": {
     "languageId": "javascript"
    }
   },
   "outputs": [],
   "source": [
    "rt.displaySVG(rt.boxplot(df_nf_5000, 'dip', style='boxplot_w_swarm', count_by='SBYT_log10', color_by='dpt', order_by='max', ascending=False, \n",
    "                         sm_type='xy', sm_params={'x_field':'timestamp','y_field':['sip','dip'],'dot_size':'small'},\n",
    "                         w=1000, h=256))"
   ]
  },
  {
   "cell_type": "code",
   "execution_count": null,
   "id": "f47ff5ef",
   "metadata": {
    "vscode": {
     "languageId": "javascript"
    }
   },
   "outputs": [],
   "source": [
    "rt.displaySVG(rt.boxplot(df_nf_5000, 'dip', style='boxplot_w_swarm', count_by='SBYT_log10', color_by='dpt', order_by='max', ascending=False, \n",
    "                         sm_type='xy', sm_params={'x_field':'timestamp','y_field':['sip','dip'],'dot_size':'small'},\n",
    "                         w=800, h=256))"
   ]
  },
  {
   "cell_type": "code",
   "execution_count": null,
   "id": "4a1174ab",
   "metadata": {
    "vscode": {
     "languageId": "javascript"
    }
   },
   "outputs": [],
   "source": [
    "rt.displaySVG(rt.boxplot(df_nf_5000, 'dip', style='boxplot_w_swarm', count_by='SBYT_log10', color_by='dpt', order_by='max', ascending=False, \n",
    "                         sm_type='xy', sm_params={'x_field':'timestamp','y_field':['sip','dip'],'dot_size':'small'},\n",
    "                         w=600, h=256))"
   ]
  },
  {
   "cell_type": "code",
   "execution_count": null,
   "id": "6de0e105",
   "metadata": {
    "vscode": {
     "languageId": "javascript"
    }
   },
   "outputs": [],
   "source": [
    "rt.displaySVG(rt.boxplot(df_nf_5000, 'dip', style='boxplot_w_swarm', count_by='SBYT_log10', color_by='dpt', order_by='max', ascending=False, \n",
    "                         sm_type='xy', sm_params={'x_field':'timestamp','y_field':['sip','dip'],'dot_size':'small'},\n",
    "                         extra_label_space=20, w=500, h=256))"
   ]
  },
  {
   "cell_type": "code",
   "execution_count": null,
   "id": "6f4e8631",
   "metadata": {
    "vscode": {
     "languageId": "javascript"
    }
   },
   "outputs": [],
   "source": [
    "rt.displaySVG(rt.boxplot(df_nf_5000, 'dip', style='boxplot_w_swarm', count_by='SBYT_log10', color_by='dpt', order_by='max', ascending=False, \n",
    "                         sm_type='xy', sm_params={'x_field':'timestamp','y_field':['sip','dip'],'dot_size':'small'},\n",
    "                         extra_label_space=10, w=400, h=256))"
   ]
  },
  {
   "cell_type": "code",
   "execution_count": null,
   "id": "5e510aa7",
   "metadata": {
    "vscode": {
     "languageId": "javascript"
    }
   },
   "outputs": [],
   "source": [
    "rt.displaySVG(rt.boxplot(df_nf_5000, 'dip', style='boxplot_w_swarm', count_by='SBYT_log10', color_by='dpt', order_by='max', ascending=False, \n",
    "                         sm_type='xy', sm_params={'x_field':'timestamp','y_field':['sip','dip'],'dot_size':'small'},\n",
    "                         w=300, h=256))"
   ]
  },
  {
   "cell_type": "code",
   "execution_count": null,
   "id": "dd625995",
   "metadata": {
    "vscode": {
     "languageId": "javascript"
    }
   },
   "outputs": [],
   "source": [
    "rt.displaySVG(rt.boxplot(df_nf_5000, 'dip', style='boxplot_w_swarm', count_by='SBYT_log10', color_by='dpt', order_by='max', ascending=False, \n",
    "                         sm_type='xy', sm_params={'x_field':'timestamp','y_field':['sip','dip'],'dot_size':'small'},\n",
    "                         w=200, h=256))"
   ]
  },
  {
   "cell_type": "code",
   "execution_count": null,
   "id": "e38de54f",
   "metadata": {
    "vscode": {
     "languageId": "javascript"
    }
   },
   "outputs": [],
   "source": [
    "rt.displaySVG(rt.boxplot(df_nf_5000, 'dip', style='boxplot_w_swarm', count_by='SBYT_log10', color_by='dpt', order_by='max', ascending=False, \n",
    "                         sm_type='xy', sm_params={'x_field':'timestamp','y_field':['sip','dip'],'dot_size':'small'},\n",
    "                         w=100, h=256))"
   ]
  },
  {
   "cell_type": "code",
   "execution_count": null,
   "id": "01bae3bf",
   "metadata": {
    "vscode": {
     "languageId": "javascript"
    }
   },
   "outputs": [],
   "source": [
    "\n",
    "rt.displaySVG(rt.boxplot(df_nf_5000, 'dip', style='boxplot_w_swarm', count_by='SBYT_log10', color_by='dpt', order_by='max', ascending=False, \n",
    "                         sm_type='xy', sm_params={'x_field':'timestamp','y_field':['sip','dip'],'dot_size':'small'},\n",
    "                         draw_labels=False, w=100, h=256))"
   ]
  },
  {
   "cell_type": "code",
   "execution_count": null,
   "id": "297c1520",
   "metadata": {
    "vscode": {
     "languageId": "javascript"
    }
   },
   "outputs": [],
   "source": [
    "rt.displaySVG(rt.boxplot(df_nf_5000, 'dip', style='barchart', count_by='SBYT_log10', color_by='dpt', order_by='max', ascending=False, \n",
    "                         sm_type='xy', sm_params={'x_field':'timestamp','y_field':['sip','dip'],'dot_size':'small'},\n",
    "                         w=100, h=256))"
   ]
  },
  {
   "cell_type": "code",
   "execution_count": null,
   "id": "8e80becc",
   "metadata": {
    "vscode": {
     "languageId": "javascript"
    }
   },
   "outputs": [],
   "source": [
    "rt.displaySVG(rt.boxplot(df_nf_5000, 'dip', style='barchart', count_by='SBYT_log10', color_by='dpt', order_by='max', ascending=False, \n",
    "                         sm_type='xy', sm_params={'x_field':'timestamp','y_field':['sip','dip'],'dot_size':'small'},\n",
    "                         draw_labels=False, w=100, h=256))"
   ]
  },
  {
   "cell_type": "code",
   "execution_count": null,
   "id": "76276720",
   "metadata": {
    "vscode": {
     "languageId": "javascript"
    }
   },
   "outputs": [],
   "source": [
    "rt.displaySVG(rt.boxplot(df_nf_5000,'dip',style='barchart',order_by=['71.254.205.167', '69.51.125.23'],w=128,h=256))"
   ]
  },
  {
   "cell_type": "code",
   "execution_count": null,
   "id": "fb4caca1",
   "metadata": {
    "vscode": {
     "languageId": "javascript"
    }
   },
   "outputs": [],
   "source": [
    "rt.displaySVG(rt.boxplot(df_nf_5000,'dip',count_by='DBYT',style='boxplot',order_by=['71.254.205.167', '69.51.125.23'],w=128,h=256))"
   ]
  },
  {
   "cell_type": "code",
   "execution_count": null,
   "id": "494b8207",
   "metadata": {
    "vscode": {
     "languageId": "javascript"
    }
   },
   "outputs": [],
   "source": []
  }
 ],
 "metadata": {
  "kernelspec": {
   "display_name": "Python 3",
   "language": "python",
   "name": "python3"
  },
  "language_info": {
   "codemirror_mode": {
    "name": "ipython",
    "version": 3
   },
   "file_extension": ".py",
   "mimetype": "text/x-python",
   "name": "python",
   "nbconvert_exporter": "python",
   "pygments_lexer": "ipython3",
   "version": "3.11.1"
  },
  "vscode": {
   "interpreter": {
    "hash": "677ca678853aa41fc137f4b55f2bc0c694e45735c0d2faa667d2ec5acb71e67d"
   }
  }
 },
 "nbformat": 4,
 "nbformat_minor": 5
}
