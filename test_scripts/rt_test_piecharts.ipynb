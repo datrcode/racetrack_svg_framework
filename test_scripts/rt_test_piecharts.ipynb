{
 "cells": [
  {
   "cell_type": "code",
   "execution_count": null,
   "metadata": {},
   "outputs": [],
   "source": [
    "import pandas as pd\n",
    "\n",
    "import sys\n",
    "sys.path.insert(1, '../framework')\n",
    "\n",
    "from racetrack import *\n",
    "from IPython.display import Javascript, HTML, display\n",
    "\n",
    "%matplotlib inline"
   ]
  },
  {
   "cell_type": "code",
   "execution_count": null,
   "metadata": {},
   "outputs": [],
   "source": [
    "rt = RACETrack()"
   ]
  },
  {
   "cell_type": "code",
   "execution_count": null,
   "metadata": {},
   "outputs": [],
   "source": [
    "df = pd.DataFrame({'color':['yellow','blue'], 'count':[60,40]})\n",
    "display(HTML(rt.pieChart(df,color_by='color',count_by='count',w=64,h=64)))\n",
    "rt.displaySVG(rt.pieChartInstance(df,color_by='color',count_by='count',w=64,h=64).renderSVG())"
   ]
  },
  {
   "cell_type": "code",
   "execution_count": null,
   "metadata": {},
   "outputs": [],
   "source": [
    "rt.displaySVG(rt.pieChartInstance(df,color_by='color',count_by='count',style='waffle',w=512,h=512, draw_background=True).renderSVG())"
   ]
  },
  {
   "cell_type": "code",
   "execution_count": null,
   "metadata": {},
   "outputs": [],
   "source": [
    "df = pd.DataFrame({'color':['red','red','red','blue']})\n",
    "display(HTML(rt.pieChart(df,color_by='color',w=64,h=64)))\n",
    "rt.displaySVG(rt.pieChartInstance(df,color_by='color',w=64,h=64).renderSVG())"
   ]
  },
  {
   "cell_type": "code",
   "execution_count": null,
   "metadata": {},
   "outputs": [],
   "source": [
    "df = pd.DataFrame({'color':['white','white','white','brown','brown','black'],\n",
    "                   'type': ['cat',  'dog',  'horse','cow',  'cow',  'cat']})\n",
    "display(HTML(rt.pieChart(df,color_by='color',count_by='type',w=64,h=64)))\n",
    "rt.displaySVG(rt.pieChartInstance(df,color_by='color',count_by='type',w=64,h=64).renderSVG())"
   ]
  },
  {
   "cell_type": "code",
   "execution_count": null,
   "metadata": {},
   "outputs": [],
   "source": [
    "display(HTML(rt.smallMultiples(df,color_by='color',sm_type='pieChart',category_by='type',w=512,h=128)))"
   ]
  },
  {
   "cell_type": "code",
   "execution_count": null,
   "metadata": {},
   "outputs": [],
   "source": [
    "display(HTML(rt.pieChart(df,color_by='type',count_by='color',w=64,h=64)))\n",
    "rt.displaySVG(rt.pieChartInstance(df,color_by='type',count_by='color',w=64,h=64).renderSVG())"
   ]
  },
  {
   "cell_type": "code",
   "execution_count": null,
   "metadata": {},
   "outputs": [],
   "source": [
    "display(HTML(rt.pieChart(df,color_by='color',count_by='color',w=64,h=64)))\n",
    "rt.displaySVG(rt.pieChartInstance(df,color_by='color',count_by='color',w=64,h=64).renderSVG())"
   ]
  },
  {
   "cell_type": "code",
   "execution_count": null,
   "metadata": {},
   "outputs": [],
   "source": [
    "df        = pd.read_csv(\"../../netflow_sample.csv\")\n",
    "df['beg'] = df['beg'].astype('datetime64[ms]')\n",
    "df        = df.rename({'beg':'timestamp'},axis=1)\n",
    "df.sample(3)"
   ]
  },
  {
   "cell_type": "code",
   "execution_count": null,
   "metadata": {},
   "outputs": [],
   "source": [
    "display(HTML(rt.pieChart(df,color_by='sip',count_by='DBYT',w=128,h=128,draw_background=True)))\n",
    "rt.displaySVG(rt.pieChartInstance(df,color_by='sip',count_by='DBYT',w=128,h=128,draw_background=True).renderSVG())"
   ]
  },
  {
   "cell_type": "code",
   "execution_count": null,
   "metadata": {},
   "outputs": [],
   "source": [
    "display(HTML(rt.smallMultiples(df,color_by='dpt',sm_type='pieChart',category_by='sip',max_categories=20)))"
   ]
  },
  {
   "cell_type": "code",
   "execution_count": null,
   "metadata": {},
   "outputs": [],
   "source": [
    "# Tests one color render in svglib\n",
    "df_one_color = pd.DataFrame({'fld1':['a','a'], 'fld2':['a','b']})\n",
    "rt.displaySVGAsImage(rt.pieChart(df_one_color,color_by='fld1',w=64,h=64))"
   ]
  },
  {
   "cell_type": "code",
   "execution_count": null,
   "metadata": {},
   "outputs": [],
   "source": [
    "# For comparison purposes\n",
    "rt.displaySVG(rt.pieChart(df_one_color,color_by='fld1',w=64,h=64))"
   ]
  },
  {
   "cell_type": "code",
   "execution_count": null,
   "metadata": {},
   "outputs": [],
   "source": [
    "display(HTML(rt.smallMultiples(df,color_by='dpt',sm_type='pieChart',sm_params={'style':'waffle'},category_by='sip',max_categories=20)))"
   ]
  },
  {
   "cell_type": "code",
   "execution_count": null,
   "metadata": {},
   "outputs": [],
   "source": []
  }
 ],
 "metadata": {
  "kernelspec": {
   "display_name": "Python 3",
   "language": "python",
   "name": "python3"
  },
  "language_info": {
   "codemirror_mode": {
    "name": "ipython",
    "version": 3
   },
   "file_extension": ".py",
   "mimetype": "text/x-python",
   "name": "python",
   "nbconvert_exporter": "python",
   "pygments_lexer": "ipython3",
   "version": "3.11.5"
  },
  "orig_nbformat": 4,
  "vscode": {
   "interpreter": {
    "hash": "677ca678853aa41fc137f4b55f2bc0c694e45735c0d2faa667d2ec5acb71e67d"
   }
  }
 },
 "nbformat": 4,
 "nbformat_minor": 2
}
