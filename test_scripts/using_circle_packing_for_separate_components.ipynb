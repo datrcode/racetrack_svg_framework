{
 "cells": [
  {
   "cell_type": "code",
   "execution_count": null,
   "id": "b8ae0d9d",
   "metadata": {},
   "outputs": [],
   "source": [
    "import polars as pl\n",
    "import networkx as nx\n",
    "import random\n",
    "import rtsvg\n",
    "rt = rtsvg.RACETrack()\n",
    "from linknode_graph_patterns import LinkNodeGraphPatterns\n",
    "\n",
    "def graphToDataFrame(_g_):\n",
    "    _lu_ = {'fm':[], 'to':[]}\n",
    "    for _e_ in _g_.edges: _lu_['fm'].append(_e_[0]), _lu_['to'].append(_e_[1])\n",
    "    return pl.DataFrame(_lu_)\n",
    "_dfs_, _patterns_, _node_colors_ = [], LinkNodeGraphPatterns(), {}\n",
    "for _pattern_ in _patterns_.types:\n",
    "    _g_  = _patterns_.createPattern(_pattern_, prefix=_pattern_+'__')\n",
    "    for _node_ in _g_.nodes: _node_colors_[_node_] = _pattern_\n",
    "    _dfs_.append(graphToDataFrame(_g_))\n",
    "df    = pl.concat(_dfs_)\n",
    "g     = rt.createNetworkXGraph(df, [('fm','to')])\n",
    "_pos_ = nx.spring_layout(g) # rtsvg.PolarsForceDirectedLayout(g).results()"
   ]
  },
  {
   "cell_type": "code",
   "execution_count": null,
   "id": "b24123e1",
   "metadata": {},
   "outputs": [],
   "source": [
    "pos_adj, shapes_gen = rt.circlePackGraphComponentPlacement(g, _pos_)\n",
    "pos_tm              = rt.treeMapGraphComponentPlacement(g, _pos_)\n",
    "_params_ = {'df':df, 'relationships':[('fm','to')], 'w':512, 'h':512, 'node_size':3, 'node_color':_node_colors_}\n",
    "rt.tile([rt.link(**_params_, pos=_pos_),rt.link(**_params_, pos=pos_adj, bg_shape_lu=shapes_gen), rt.link(**_params_, pos=pos_tm)])"
   ]
  },
  {
   "cell_type": "code",
   "execution_count": null,
   "id": "646505b0",
   "metadata": {},
   "outputs": [],
   "source": [
    "#_igl_ = rt.interactiveGraphPanel(df, ln_params={'relationships': [('fm','to')], 'pos':pos_adj})\n",
    "#_igl_"
   ]
  },
  {
   "cell_type": "code",
   "execution_count": null,
   "id": "ffc58a36",
   "metadata": {},
   "outputs": [],
   "source": [
    "import time\n",
    "_perf_ = {'points':[], 'time':[], 'correct':[]}\n",
    "for n in range(1,100):\n",
    "    points = [(random.uniform(-100, 100), random.uniform(-100, 100)) for _ in range(n)]\n",
    "    t0 = time.time()\n",
    "    _circle_ = rt.smallestEnclosingCircleApprox(points)\n",
    "    t1 = time.time()\n",
    "    _correct_ = True\n",
    "    for pt in points: \n",
    "        if rt.segmentLength((_circle_, pt)) > 1.01 * _circle_[2]: _correct_ = False\n",
    "    _perf_['points'].append(n), _perf_['time'].append(t1 - t0), _perf_['correct'].append(_correct_)\n",
    "\n",
    "_svg_ = ['<svg x=\"0\" y=\"0\" width=\"512\" height=\"512\" viewBox=\"-150 -150 300 300\"><rect x=\"-150\" y=\"-150\" width=\"300\" height=\"300\" fill=\"white\" stroke=\"black\" stroke-width=\"1\" />']\n",
    "for _pt_ in points: _svg_.append(f'<circle cx=\"{_pt_[0]}\" cy=\"{_pt_[1]}\" r=\"1\" fill=\"black\" />')\n",
    "_svg_.append(f'<circle cx=\"{_circle_[0]}\" cy=\"{_circle_[1]}\" r=\"{_circle_[2]}\" fill=\"None\" stroke=\"red\" />')\n",
    "_svg_.append('</svg>')\n",
    "\n",
    "rt.tile([rt.xy(pl.DataFrame(_perf_), x_field='points', y_field='time', color_by='correct', dot_size='large', w=512, h=512), ''.join(_svg_)])"
   ]
  },
  {
   "cell_type": "code",
   "execution_count": null,
   "id": "24cd42ea",
   "metadata": {},
   "outputs": [],
   "source": [
    "_perf_ = {'points':[], 'time':[]}\n",
    "for n in [0,1,2,3,4,5,10,100,1000,10000]:\n",
    "    print(n)\n",
    "    points = [(random.uniform(-100, 100), random.uniform(-100, 100)) for _ in range(n)]\n",
    "    t0 = time.time()\n",
    "    _circle_ = rt.smallestEnclosingCircleApprox(points)\n",
    "    t1 = time.time()\n",
    "    if n != 0 and n != 1:\n",
    "        for pt in points: assert rt.segmentLength((_circle_, pt)) < 1.01 * _circle_[2] # approximation of the circle\n",
    "    _perf_['points'].append(n), _perf_['time'].append(t1 - t0)\n"
   ]
  },
  {
   "cell_type": "code",
   "execution_count": null,
   "id": "96d1aa50",
   "metadata": {},
   "outputs": [],
   "source": []
  }
 ],
 "metadata": {
  "kernelspec": {
   "display_name": ".venv (3.12.3)",
   "language": "python",
   "name": "python3"
  },
  "language_info": {
   "codemirror_mode": {
    "name": "ipython",
    "version": 3
   },
   "file_extension": ".py",
   "mimetype": "text/x-python",
   "name": "python",
   "nbconvert_exporter": "python",
   "pygments_lexer": "ipython3",
   "version": "3.12.3"
  }
 },
 "nbformat": 4,
 "nbformat_minor": 5
}
