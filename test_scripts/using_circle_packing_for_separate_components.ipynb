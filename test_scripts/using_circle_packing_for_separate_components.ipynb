{
 "cells": [
  {
   "cell_type": "code",
   "execution_count": null,
   "id": "b8ae0d9d",
   "metadata": {},
   "outputs": [],
   "source": [
    "import polars as pl\n",
    "import networkx as nx\n",
    "import rtsvg\n",
    "rt = rtsvg.RACETrack()\n",
    "from linknode_graph_patterns import LinkNodeGraphPatterns\n",
    "\n",
    "def graphToDataFrame(_g_):\n",
    "    _lu_ = {'fm':[], 'to':[]}\n",
    "    for _e_ in _g_.edges: _lu_['fm'].append(_e_[0]), _lu_['to'].append(_e_[1])\n",
    "    return pl.DataFrame(_lu_)\n",
    "_dfs_, _patterns_, _node_colors_ = [], LinkNodeGraphPatterns(), {}\n",
    "for _pattern_ in _patterns_.types:\n",
    "    _g_  = _patterns_.createPattern(_pattern_, prefix=_pattern_+'__')\n",
    "    for _node_ in _g_.nodes: _node_colors_[_node_] = _pattern_\n",
    "    _dfs_.append(graphToDataFrame(_g_))\n",
    "df    = pl.concat(_dfs_)\n",
    "g     = rt.createNetworkXGraph(df, [('fm','to')])\n",
    "_pos_ = nx.spring_layout(g) # rtsvg.PolarsForceDirectedLayout(g).results()"
   ]
  },
  {
   "cell_type": "code",
   "execution_count": null,
   "id": "b24123e1",
   "metadata": {},
   "outputs": [],
   "source": [
    "pos_adj, shapes_gen = rt.circlePackTheSeparateComponents(g, _pos_)\n",
    "pos_tm              = rt.treeMapGraphComponentPlacement(g, _pos_)\n",
    "_params_ = {'df':df, 'relationships':[('fm','to')], 'w':512, 'h':512, 'node_size':3, 'node_color':_node_colors_}\n",
    "rt.tile([rt.link(**_params_, pos=_pos_),rt.link(**_params_, pos=pos_adj, bg_shape_lu=shapes_gen), rt.link(**_params_, pos=pos_tm)])"
   ]
  },
  {
   "cell_type": "code",
   "execution_count": null,
   "id": "646505b0",
   "metadata": {},
   "outputs": [],
   "source": []
  }
 ],
 "metadata": {
  "kernelspec": {
   "display_name": ".venv (3.12.3)",
   "language": "python",
   "name": "python3"
  },
  "language_info": {
   "codemirror_mode": {
    "name": "ipython",
    "version": 3
   },
   "file_extension": ".py",
   "mimetype": "text/x-python",
   "name": "python",
   "nbconvert_exporter": "python",
   "pygments_lexer": "ipython3",
   "version": "3.12.3"
  }
 },
 "nbformat": 4,
 "nbformat_minor": 5
}
