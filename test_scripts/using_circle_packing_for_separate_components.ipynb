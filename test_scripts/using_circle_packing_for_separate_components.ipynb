{
 "cells": [
  {
   "cell_type": "code",
   "execution_count": null,
   "id": "b8ae0d9d",
   "metadata": {},
   "outputs": [],
   "source": [
    "import polars as pl\n",
    "import networkx as nx\n",
    "import rtsvg\n",
    "rt = rtsvg.RACETrack()\n",
    "from linknode_graph_patterns import LinkNodeGraphPatterns\n",
    "\n",
    "def graphToDataFrame(_g_):\n",
    "    _lu_ = {'fm':[], 'to':[]}\n",
    "    for _e_ in _g_.edges: _lu_['fm'].append(_e_[0]), _lu_['to'].append(_e_[1])\n",
    "    return pl.DataFrame(_lu_)\n",
    "_dfs_, _patterns_, _node_colors_ = [], LinkNodeGraphPatterns(), {}\n",
    "for _pattern_ in _patterns_.types:\n",
    "    _g_  = _patterns_.createPattern(_pattern_, prefix=_pattern_+'__')\n",
    "    for _node_ in _g_.nodes: _node_colors_[_node_] = _pattern_\n",
    "    _dfs_.append(graphToDataFrame(_g_))\n",
    "df    = pl.concat(_dfs_)\n",
    "g     = rt.createNetworkXGraph(df, [('fm','to')])\n",
    "_pos_ = nx.spring_layout(g) # rtsvg.PolarsForceDirectedLayout(g).results()"
   ]
  },
  {
   "cell_type": "code",
   "execution_count": null,
   "id": "b24123e1",
   "metadata": {},
   "outputs": [],
   "source": [
    "from math import sqrt\n",
    "\n",
    "# separate g into different graph components\n",
    "g_components              = [g.subgraph(c) for c in nx.connected_components(g)]\n",
    "component_bounds, circles = [], []\n",
    "for _g_ in g_components:\n",
    "    # figure out the extents of the node positions\n",
    "    x0, y0, x1, y1 = None, None, None, None\n",
    "    for _node_ in _g_.nodes:\n",
    "        x, y = _pos_[_node_]\n",
    "        if x0 is None or x < x0: x0 = x\n",
    "        if y0 is None or y < y0: y0 = y\n",
    "        if x1 is None or x > x1: x1 = x\n",
    "        if y1 is None or y > y1: y1 = y\n",
    "    if x0 == x1: x0, x1 = x0 - 0.5, x1 + 0.5\n",
    "    if y0 == y1: y0, y1 = y0 - 0.5, y1 + 0.5\n",
    "    component_bounds.append((x0, y0, x1, y1))\n",
    "    # add a circle to the center of the component\n",
    "    _cx_, _cy_ = (x0+x1)*0.5, (y0+y1)*0.5\n",
    "    _d_        = sqrt((x1-x0)**2 + (y1-y0)**2)\n",
    "    circles.append((_cx_, _cy_, _d_/2.0))\n",
    "_packed_ = rt.packCircles(circles)\n",
    "\n",
    "# move the nodes of the component to the new positions\n",
    "_new_pos_, _shapes_ = {}, {}\n",
    "for i in range(len(g_components)):\n",
    "    _g_ = g_components[i] \n",
    "    _dx_, _dy_ = circles[i][0] - _packed_[i][0], circles[i][1] - _packed_[i][1]\n",
    "    for _node_ in _g_.nodes: _new_pos_[_node_] = _pos_[_node_][0] + _dx_, _pos_[_node_][1] + _dy_\n",
    "    _shapes_[i] = f'<circle cx=\"{_packed_[i][0]}\" cy=\"{_packed_[i][1]}\" r=\"{_packed_[i][2]}\" fill=\"#ffffff\" stroke=\"#000000\" stroke-width=\"1\" />' # bg_shape_lu doesn't handle circles :(\n",
    "\n",
    "_params_ = {'df':df, 'relationships':[('fm','to')], 'w':512, 'h':512, 'node_size':3, 'node_color':_node_colors_}\n",
    "rt.tile([rt.link(**_params_, pos=_pos_),rt.link(**_params_, pos=_new_pos_, bg_shape_lu=_shapes_)])"
   ]
  },
  {
   "cell_type": "code",
   "execution_count": null,
   "id": "a5b8dd61",
   "metadata": {},
   "outputs": [],
   "source": [
    "_df_  = pl.DataFrame({'fm':['a','b','c','d','e'], 'to':['b','a','d','e','c']})\n",
    "_pos_ = {'a':(10.0,10.0), 'b':(15.0,20.0), 'c':(30.0,30.0), 'd':(40.0,40.0), 'e':(30.0,40.0)}\n",
    "_bg_  = {'circle0':'<circle cx=\"12.5\" cy=\"15.0\" r=\"5\"/>',\n",
    "         'circle1':'<circle cx=\"30.0\" cy=\"40.0\" r=\"10.0\"/>'}\n",
    "\n",
    "rt.link(_df_, [('fm','to')], _pos_, bg_shape_lu=_bg_, w=512, h=128)\n"
   ]
  },
  {
   "cell_type": "code",
   "execution_count": null,
   "id": "96db785b",
   "metadata": {},
   "outputs": [],
   "source": []
  }
 ],
 "metadata": {
  "kernelspec": {
   "display_name": ".venv (3.13.7)",
   "language": "python",
   "name": "python3"
  },
  "language_info": {
   "codemirror_mode": {
    "name": "ipython",
    "version": 3
   },
   "file_extension": ".py",
   "mimetype": "text/x-python",
   "name": "python",
   "nbconvert_exporter": "python",
   "pygments_lexer": "ipython3",
   "version": "3.13.7"
  }
 },
 "nbformat": 4,
 "nbformat_minor": 5
}
