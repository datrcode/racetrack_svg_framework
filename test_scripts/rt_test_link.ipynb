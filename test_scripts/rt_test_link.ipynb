{
 "cells": [
  {
   "cell_type": "code",
   "execution_count": null,
   "metadata": {},
   "outputs": [],
   "source": [
    "import pandas as pd\n",
    "import polars as pl\n",
    "import numpy as np\n",
    "import networkx as nx\n",
    "import sys\n",
    "sys.path.insert(1, '../framework')\n",
    "from racetrack import *\n",
    "rt = RACETrack()"
   ]
  },
  {
   "cell_type": "code",
   "execution_count": null,
   "metadata": {},
   "outputs": [],
   "source": [
    "df = pl.DataFrame({'fm': ['a','b','c', None, None, None], \n",
    "                   'to': ['b','c','a', None, None, None],\n",
    "                   'src':[None, None, None, 'x', 'y', 'z'],\n",
    "                   'dst':[None, None, None, 'y', 'z', 'x']})\n",
    "pos = {'a':(0,0), 'b':(1,0), 'c':(1,1), 'x':(10,10), 'y':(11,10), 'z':(11,11)}\n",
    "_link_ = rt.link(df, [('fm','to'),('src','dst')], pos)\n",
    "_link_"
   ]
  },
  {
   "cell_type": "code",
   "execution_count": null,
   "metadata": {},
   "outputs": [],
   "source": [
    "df = pl.DataFrame({'fm': ['a','b','c'], \n",
    "                   'to': ['b','c','a']})\n",
    "pos = {'a':(0,3), 'b':(5,3), 'c':(5,1), 'x':(10,10), 'y':(11,10), 'z':(11,11)}\n",
    "_link2_ = rt.link(df, [('fm','to')], pos)\n",
    "_link2_"
   ]
  },
  {
   "cell_type": "code",
   "execution_count": null,
   "metadata": {},
   "outputs": [],
   "source": []
  }
 ],
 "metadata": {
  "kernelspec": {
   "display_name": ".venv",
   "language": "python",
   "name": "python3"
  },
  "language_info": {
   "codemirror_mode": {
    "name": "ipython",
    "version": 3
   },
   "file_extension": ".py",
   "mimetype": "text/x-python",
   "name": "python",
   "nbconvert_exporter": "python",
   "pygments_lexer": "ipython3",
   "version": "3.11.6"
  }
 },
 "nbformat": 4,
 "nbformat_minor": 2
}
