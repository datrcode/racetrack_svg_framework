{
 "cells": [
  {
   "cell_type": "code",
   "execution_count": null,
   "metadata": {},
   "outputs": [],
   "source": [
    "import pandas as pd\n",
    "import polars as pl\n",
    "import numpy as np\n",
    "import networkx as nx\n",
    "import sys\n",
    "sys.path.insert(1, '../framework')\n",
    "from racetrack import *\n",
    "rt = RACETrack()"
   ]
  },
  {
   "cell_type": "code",
   "execution_count": null,
   "metadata": {},
   "outputs": [],
   "source": [
    "df = pl.DataFrame({'fm': ['a','b','c', None, None, None], \n",
    "                   'to': ['b','c','a', None, None, None],\n",
    "                   'src':[None, None, None, 'x', 'y', 'z'],\n",
    "                   'dst':[None, None, None, 'y', 'z', 'x']})\n",
    "pos = {'a':(0,0), 'b':(1,0), 'c':(1,1), 'x':(10,10), 'y':(11,10), 'z':(11,11)}\n",
    "_link_     = rt.link    (df, [('fm','to'),('src','dst')], pos)\n",
    "_linknode_ = rt.linkNode(df, [('fm','to'),('src','dst')], pos)\n",
    "rt.tile([_link_, _linknode_])"
   ]
  },
  {
   "cell_type": "code",
   "execution_count": null,
   "metadata": {},
   "outputs": [],
   "source": [
    "df = pl.DataFrame({'fm': ['a','b','c'], \n",
    "                   'to': ['b','c','a']})\n",
    "pos = {'a':(0,3), 'b':(5,3), 'c':(5,1), 'x':(10,10), 'y':(11,10), 'z':(11,11)}\n",
    "_link2_     = rt.link    (df, [('fm','to')], pos)\n",
    "_link2node_ = rt.linkNode(df, [('fm','to')], pos)\n",
    "rt.tile([_link2_, _link2node_])"
   ]
  },
  {
   "cell_type": "code",
   "execution_count": null,
   "metadata": {},
   "outputs": [],
   "source": [
    "df = pl.DataFrame({'fm': ['a','b','c'], \n",
    "                   'to': ['b','c','a']})\n",
    "pos = {'a':(0,3), 'b':(5,3), 'c':(5,1)}\n",
    "_link3_     = rt.link    (df, [('fm','to')], pos)\n",
    "_link3node_ = rt.linkNode(df, [('fm','to')], pos)\n",
    "rt.tile([_link3_, _link3node_])"
   ]
  },
  {
   "cell_type": "code",
   "execution_count": null,
   "metadata": {},
   "outputs": [],
   "source": [
    "import random\n",
    "import time\n",
    "\n",
    "_fms_, _tos_ = [], []\n",
    "for i in range(1_000_000):\n",
    "    _fms_.append(random.randint(1,10_000))\n",
    "    _tos_.append(random.randint(1,10_000))\n",
    "df = pl.DataFrame({'fm':_fms_, 'to':_tos_})\n",
    "pos = {}\n",
    "for x in set(df['fm'])|set(df['to']): pos[x] = (random.random(), random.random())\n",
    "t0 = time.time()\n",
    "rt.link    (df, [('fm','to')], pos)._repr_svg_()\n",
    "t1 = time.time()\n",
    "rt.linkNode(df, [('fm','to')], pos)._repr_svg_()\n",
    "t2 = time.time()\n",
    "\n",
    "#\n",
    "# link        |     linkNode      | date             | rows\n",
    "# 2.7s        |     60.7s         | 2024-06-10 21:30 | 1M\n",
    "#\n",
    "print(f'link = {t1-t0} seconds | linkNode = {t2-t1} seconds')"
   ]
  },
  {
   "cell_type": "code",
   "execution_count": null,
   "metadata": {},
   "outputs": [],
   "source": []
  }
 ],
 "metadata": {
  "kernelspec": {
   "display_name": ".venv",
   "language": "python",
   "name": "python3"
  },
  "language_info": {
   "codemirror_mode": {
    "name": "ipython",
    "version": 3
   },
   "file_extension": ".py",
   "mimetype": "text/x-python",
   "name": "python",
   "nbconvert_exporter": "python",
   "pygments_lexer": "ipython3",
   "version": "3.9.6"
  }
 },
 "nbformat": 4,
 "nbformat_minor": 2
}
