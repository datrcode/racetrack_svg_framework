{
 "cells": [
  {
   "cell_type": "code",
   "execution_count": null,
   "metadata": {},
   "outputs": [],
   "source": [
    "import pandas as pd\n",
    "import polars as pl\n",
    "import numpy as np\n",
    "import networkx as nx\n",
    "import sys\n",
    "sys.path.insert(1, '../framework')\n",
    "from racetrack import *\n",
    "rt = RACETrack()"
   ]
  },
  {
   "cell_type": "code",
   "execution_count": null,
   "metadata": {},
   "outputs": [],
   "source": [
    "df = pl.DataFrame({'fm': ['a','b','c', None, None, None], \n",
    "                   'to': ['b','c','a', None, None, None],\n",
    "                   'src':[None, None, None, 'x', 'y', 'z'],\n",
    "                   'dst':[None, None, None, 'y', 'z', 'x']})\n",
    "pos = {'a':(0,0), 'b':(1,0), 'c':(1,1), 'x':(10,10), 'y':(11,10), 'z':(11,11)}\n",
    "_params_ = {'df':df, 'relationships':[('fm','to'),('src','dst')], 'pos':pos}\n",
    "_link_, _linknode_ = rt.link(**_params_) , rt.linkNode(**_params_)\n",
    "_params_['node_size']='nil'\n",
    "_link_nil_, _linknode_nil_ = rt.link(**_params_) , rt.linkNode(**_params_)\n",
    "_params_['node_size']='small'\n",
    "_link_sm_, _linknode_sm_ = rt.link(**_params_) , rt.linkNode(**_params_)\n",
    "_params_['node_size']='medium'\n",
    "_link_med_, _linknode_med_ = rt.link(**_params_) , rt.linkNode(**_params_)\n",
    "_params_['node_size']='large'\n",
    "_link_lrg_, _linknode_lrg_ = rt.link(**_params_) , rt.linkNode(**_params_)\n",
    "rt.table([_link_, _linknode_, \n",
    "         _link_nil_, _linknode_nil_,\n",
    "         _link_sm_,  _linknode_sm_,\n",
    "         _link_med_, _linknode_med_,\n",
    "         _link_lrg_, _linknode_lrg_\n",
    "         ], per_row=4)"
   ]
  },
  {
   "cell_type": "code",
   "execution_count": null,
   "metadata": {},
   "outputs": [],
   "source": [
    "df = pl.DataFrame({'fm': ['a','b','c'], \n",
    "                   'to': ['b','c','a']})\n",
    "pos = {'a':(0,3), 'b':(5,3), 'c':(5,1), 'x':(10,10), 'y':(11,10), 'z':(11,11)}\n",
    "_link2_     = rt.link    (df, [('fm','to')], pos)\n",
    "_link2node_ = rt.linkNode(df, [('fm','to')], pos)\n",
    "rt.tile([_link2_, _link2node_])"
   ]
  },
  {
   "cell_type": "code",
   "execution_count": null,
   "metadata": {},
   "outputs": [],
   "source": [
    "df = pl.DataFrame({'fm': ['a','b','c'], \n",
    "                   'to': ['b','c','a']})\n",
    "pos = {'a':(0,3), 'b':(5,3), 'c':(5,1)}\n",
    "_link3_     = rt.link    (df, [('fm','to')], pos)\n",
    "_link3node_ = rt.linkNode(df, [('fm','to')], pos)\n",
    "rt.tile([_link3_, _link3node_])"
   ]
  },
  {
   "cell_type": "code",
   "execution_count": null,
   "metadata": {},
   "outputs": [],
   "source": [
    "df = pl.DataFrame({'fm': 'a b c a b a b a b a b'.split(), \n",
    "                   'to': 'b c a b a b a b a b a'.split()})\n",
    "pos = {'a':(0,3), 'b':(5,3), 'c':(5,1)}\n",
    "_params4_  = {'df':df, 'relationships':[('fm','to')], 'pos':pos, 'node_size':'vary'}\n",
    "_link4_     = rt.link    (**_params4_)\n",
    "_link4node_ = rt.linkNode(**_params4_)\n",
    "rt.tile([_link4_, _link4node_])"
   ]
  },
  {
   "cell_type": "code",
   "execution_count": null,
   "metadata": {},
   "outputs": [],
   "source": [
    "import random\n",
    "import time\n",
    "\n",
    "_fms_, _tos_ = [], []\n",
    "for i in range(10_000):\n",
    "    _fms_.append(random.randint(1,10_000))\n",
    "    _tos_.append(random.randint(1,10_000))\n",
    "df = pl.DataFrame({'fm':_fms_, 'to':_tos_})\n",
    "pos = {}\n",
    "for x in set(df['fm'])|set(df['to']): pos[x] = (random.random(), random.random())\n",
    "parms = {'df':df, 'relationships':[('fm','to')], 'pos':pos, 'node_size':'vary'}\n",
    "t0 = time.time()\n",
    "_link_ = rt.link    (**parms)\n",
    "_link_._repr_svg_()\n",
    "t1 = time.time()\n",
    "_linknode_ = rt.linkNode(**parms)\n",
    "_linknode_._repr_svg_()\n",
    "t2 = time.time()\n",
    "\n",
    "#\n",
    "# link    |  linkNode    | date             | rows    | cpu/mem      |     | comments\n",
    "# 2.7s    |  60.7s       | 2024-06-10 21:30 | 1M      | M1 Pro / 16g |     |\n",
    "# 2.0s    |  23.6s       | 2024-06-11 19:33 | 1M      | 7900x  / 96g |     |\n",
    "# 0.3s    |   2.7s       | 2024-06-11 19:35 | 100K    | 7900x  / 96g |     |\n",
    "# 1.9s    |  23.6s       | 2024-06-11 20:19 | 1M      | 7900x  / 96g |     | node groupby implemented\n",
    "# 0.4s    |   5.5s       | 2024-06-12 08:30 | 100K    | M1 Pro / 16g | 20K | (baseline for today)\n",
    "# 0.4s    |   5.5s       | 2024-06-12 08:35 | 100K    | M1 Pro / 16g | 20K | basic node sizes done\n",
    "# 0.4s    |   6.1s       | 2024-06-12 08:50 | 100K    | M1 Pro / 16g | 20K | vary node size parameter\n",
    "# 0.7s    |  10.2s       | 2024-06-12 08:55 | 200K    | M1 Pro / 16g | 20K | <same ... double the rows>\n",
    "#\n",
    "print(f'link = {t1-t0:0.1f} seconds | linkNode = {t2-t1:0.1f} seconds | nodes = {len(pos)}')"
   ]
  },
  {
   "cell_type": "code",
   "execution_count": null,
   "metadata": {},
   "outputs": [],
   "source": []
  },
  {
   "cell_type": "code",
   "execution_count": null,
   "metadata": {},
   "outputs": [],
   "source": []
  }
 ],
 "metadata": {
  "kernelspec": {
   "display_name": ".venv",
   "language": "python",
   "name": "python3"
  },
  "language_info": {
   "codemirror_mode": {
    "name": "ipython",
    "version": 3
   },
   "file_extension": ".py",
   "mimetype": "text/x-python",
   "name": "python",
   "nbconvert_exporter": "python",
   "pygments_lexer": "ipython3",
   "version": "3.9.6"
  }
 },
 "nbformat": 4,
 "nbformat_minor": 2
}
