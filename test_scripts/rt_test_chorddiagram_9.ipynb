{
 "cells": [
  {
   "cell_type": "code",
   "execution_count": null,
   "metadata": {},
   "outputs": [],
   "source": [
    "import pandas as pd\n",
    "import polars as pl\n",
    "import numpy as np\n",
    "import sys\n",
    "sys.path.insert(1, '../framework')\n",
    "from racetrack import *\n",
    "rt = RACETrack()"
   ]
  },
  {
   "cell_type": "code",
   "execution_count": null,
   "metadata": {},
   "outputs": [],
   "source": [
    "df = pd.DataFrame({'cat':[ 1,     2],\n",
    "                   'fm': ['a',   'd'],\n",
    "                   'to': ['b',   'e'],\n",
    "                   'ct': [ 5,     100]})\n",
    "params = {'df':df, 'category_by':'cat', 'count_by':'ct', 'sm_type':'chordDiagram', 'show_df_multiple':True,\n",
    "          'sm_params':{'relationships':[('fm','to')], 'max_link_size':4, 'min_link_size':1}, 'w':512, 'h':256}\n",
    "rt.table([rt.smallMultiples(**params, x_axis_independent=True,  y_axis_independent=True),\n",
    "          rt.smallMultiples(**params, x_axis_independent=True,  y_axis_independent=False),\n",
    "          rt.smallMultiples(**params, x_axis_independent=False, y_axis_independent=False),\n",
    "          rt.smallMultiples(**params, x_axis_independent=False, y_axis_independent=True)], per_row=2)"
   ]
  },
  {
   "cell_type": "code",
   "execution_count": null,
   "metadata": {},
   "outputs": [],
   "source": [
    "params['sm_params']['link_style'] = 'wide'\n",
    "rt.table([rt.smallMultiples(**params, x_axis_independent=True,  y_axis_independent=True),\n",
    "          rt.smallMultiples(**params, x_axis_independent=True,  y_axis_independent=False),\n",
    "          rt.smallMultiples(**params, x_axis_independent=False, y_axis_independent=False),\n",
    "          rt.smallMultiples(**params, x_axis_independent=False, y_axis_independent=True)], per_row=2)"
   ]
  },
  {
   "cell_type": "code",
   "execution_count": null,
   "metadata": {},
   "outputs": [],
   "source": [
    "params['sm_params']['link_style'] = 'bundled'\n",
    "rt.table([rt.smallMultiples(**params, x_axis_independent=True,  y_axis_independent=True),\n",
    "          rt.smallMultiples(**params, x_axis_independent=True,  y_axis_independent=False),\n",
    "          rt.smallMultiples(**params, x_axis_independent=False, y_axis_independent=False),\n",
    "          rt.smallMultiples(**params, x_axis_independent=False, y_axis_independent=True)], per_row=2)"
   ]
  },
  {
   "cell_type": "code",
   "execution_count": null,
   "metadata": {},
   "outputs": [],
   "source": [
    "rt.chordDiagram(df, [('fm','to')], link_style='bundled')"
   ]
  },
  {
   "cell_type": "code",
   "execution_count": null,
   "metadata": {},
   "outputs": [],
   "source": []
  }
 ],
 "metadata": {
  "kernelspec": {
   "display_name": ".venv",
   "language": "python",
   "name": "python3"
  },
  "language_info": {
   "codemirror_mode": {
    "name": "ipython",
    "version": 3
   },
   "file_extension": ".py",
   "mimetype": "text/x-python",
   "name": "python",
   "nbconvert_exporter": "python",
   "pygments_lexer": "ipython3",
   "version": "3.11.6"
  }
 },
 "nbformat": 4,
 "nbformat_minor": 2
}
