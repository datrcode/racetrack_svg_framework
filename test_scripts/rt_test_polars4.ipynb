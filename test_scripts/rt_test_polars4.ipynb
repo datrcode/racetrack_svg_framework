{
 "cells": [
  {
   "cell_type": "code",
   "execution_count": null,
   "metadata": {},
   "outputs": [],
   "source": [
    "import pandas as pd\n",
    "import polars as pl\n",
    "import numpy  as np\n",
    "import sys\n",
    "sys.path.insert(1, '../framework')\n",
    "from racetrack import *\n",
    "rt = RACETrack()"
   ]
  },
  {
   "cell_type": "code",
   "execution_count": null,
   "metadata": {},
   "outputs": [],
   "source": [
    "df = pd.DataFrame({'str':['a',  'a',  'a',  'b',  'b',  'b',  'b',  'b',  'c'],\n",
    "                   'st2':[ 1,    1,    2,    1,    3,    5,    7,    7,    1],\n",
    "                   'set':['x',  'x',  'y',  'x',  'y',  'z',  'w',  'x',  'x'],\n",
    "                   'num':[ 1,    1,    2,    3,    3,    2,    3,    4,    10]})\n",
    "df_pl = pl.DataFrame(df)"
   ]
  },
  {
   "cell_type": "code",
   "execution_count": null,
   "metadata": {},
   "outputs": [],
   "source": [
    "params = {'w':64, 'h':64}\n",
    "_svgs_ = []\n",
    "for color_by in df.columns:\n",
    "    columns_plus_none = list(df.columns)\n",
    "    columns_plus_none.append(None)\n",
    "    for count_by in columns_plus_none:\n",
    "        _svgs_.append(rt.pieChart(df,    count_by=count_by, color_by=color_by, **params))\n",
    "        _svgs_.append(rt.pieChart(df_pl, count_by=count_by, color_by=color_by, **params))\n",
    "rt.displaySVG(rt.table(_svgs_, per_row=8))"
   ]
  },
  {
   "cell_type": "code",
   "execution_count": null,
   "metadata": {},
   "outputs": [],
   "source": []
  }
 ],
 "metadata": {
  "kernelspec": {
   "display_name": "Python 3",
   "language": "python",
   "name": "python3"
  },
  "language_info": {
   "codemirror_mode": {
    "name": "ipython",
    "version": 3
   },
   "file_extension": ".py",
   "mimetype": "text/x-python",
   "name": "python",
   "nbconvert_exporter": "python",
   "pygments_lexer": "ipython3",
   "version": "3.11.6"
  }
 },
 "nbformat": 4,
 "nbformat_minor": 2
}
