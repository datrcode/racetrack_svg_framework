{
 "cells": [
  {
   "cell_type": "code",
   "execution_count": null,
   "metadata": {},
   "outputs": [],
   "source": [
    "import pandas as pd\n",
    "import polars as pl\n",
    "import numpy as np\n",
    "import heapq\n",
    "import sys\n",
    "sys.path.insert(1, '../framework')\n",
    "from racetrack import *\n",
    "rt = RACETrack()"
   ]
  },
  {
   "cell_type": "code",
   "execution_count": null,
   "metadata": {},
   "outputs": [],
   "source": [
    "df = pd.DataFrame({'fm':['a','a','b','b','b','c','e','f'],\n",
    "                   'to':['b','d','a','c','d','d','d','d']})\n",
    "rt.tile([rt.chordDiagram(df, [('fm','to')], draw_labels=True, txt_h=20),\n",
    "         rt.chordDiagram(df, [('fm','to')], draw_labels=True, txt_h=20, link_style='wide'),\n",
    "         rt.chordDiagram(df, [('fm','to')], draw_labels=True, txt_h=20,                    equal_size_nodes=True),\n",
    "         rt.chordDiagram(df, [('fm','to')], draw_labels=True, txt_h=20, link_style='wide', equal_size_nodes=True)])"
   ]
  },
  {
   "cell_type": "code",
   "execution_count": null,
   "metadata": {},
   "outputs": [],
   "source": [
    "# 2024-03-08 - doesn't work ... module 'networkx' has no attribute 'to_scipy_sparse_matrix'\n",
    "#\n",
    "# Following from the documentation located here:\n",
    "#\n",
    "# https://markov-clustering.readthedocs.io/en/latest/readme.html\n",
    "#\n",
    "\n",
    "#import markov_clustering as mc\n",
    "#import networkx as nx\n",
    "#import random\n",
    "## number of nodes to use\n",
    "#numnodes = 200\n",
    "## generate random positions as a dictionary where the key is the node id and the value\n",
    "## is a tuple containing 2D coordinates\n",
    "#positions = {i:(random.random() * 2 - 1, random.random() * 2 - 1) for i in range(numnodes)}\n",
    "## use networkx to generate the graph\n",
    "#network = nx.random_geometric_graph(numnodes, 0.3, pos=positions)\n",
    "## then get the adjacency matrix (in sparse form)\n",
    "#matrix = nx.to_scipy_sparse_matrix(network)"
   ]
  },
  {
   "cell_type": "code",
   "execution_count": null,
   "metadata": {},
   "outputs": [],
   "source": []
  }
 ],
 "metadata": {
  "kernelspec": {
   "display_name": ".venv",
   "language": "python",
   "name": "python3"
  },
  "language_info": {
   "codemirror_mode": {
    "name": "ipython",
    "version": 3
   },
   "file_extension": ".py",
   "mimetype": "text/x-python",
   "name": "python",
   "nbconvert_exporter": "python",
   "pygments_lexer": "ipython3",
   "version": "3.11.6"
  }
 },
 "nbformat": 4,
 "nbformat_minor": 2
}
