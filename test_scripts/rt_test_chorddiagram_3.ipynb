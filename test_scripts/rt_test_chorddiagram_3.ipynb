{
 "cells": [
  {
   "cell_type": "code",
   "execution_count": null,
   "metadata": {},
   "outputs": [],
   "source": [
    "import pandas as pd\n",
    "import polars as pl\n",
    "import numpy as np\n",
    "import heapq\n",
    "import sys\n",
    "sys.path.insert(1, '../framework')\n",
    "from racetrack import *\n",
    "rt = RACETrack()"
   ]
  },
  {
   "cell_type": "code",
   "execution_count": null,
   "metadata": {},
   "outputs": [],
   "source": [
    "df = pd.DataFrame({'fm':['a','a','b','b','b','c','e','f'],\n",
    "                   'to':['b','d','a','c','d','d','d','d']})\n",
    "rt.tile([rt.chordDiagram(df, [('fm','to')], draw_labels=True, txt_h=20),\n",
    "         rt.chordDiagram(df, [('fm','to')], draw_labels=True, txt_h=20, link_style='wide'),\n",
    "         rt.chordDiagram(df, [('fm','to')], draw_labels=True, txt_h=20,                    equal_size_nodes=True),\n",
    "         rt.chordDiagram(df, [('fm','to')], draw_labels=True, txt_h=20, link_style='wide', equal_size_nodes=True)])"
   ]
  },
  {
   "cell_type": "code",
   "execution_count": null,
   "metadata": {},
   "outputs": [],
   "source": [
    "rt.bezierCurve((0,0),(1,1),(2,2),(3,3))(0.9)"
   ]
  },
  {
   "cell_type": "code",
   "execution_count": null,
   "metadata": {},
   "outputs": [],
   "source": []
  }
 ],
 "metadata": {
  "kernelspec": {
   "display_name": ".venv",
   "language": "python",
   "name": "python3"
  },
  "language_info": {
   "codemirror_mode": {
    "name": "ipython",
    "version": 3
   },
   "file_extension": ".py",
   "mimetype": "text/x-python",
   "name": "python",
   "nbconvert_exporter": "python",
   "pygments_lexer": "ipython3",
   "version": "3.9.6"
  }
 },
 "nbformat": 4,
 "nbformat_minor": 2
}
