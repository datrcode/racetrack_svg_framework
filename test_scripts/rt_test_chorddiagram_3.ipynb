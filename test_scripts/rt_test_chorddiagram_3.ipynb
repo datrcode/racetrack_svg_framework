{
 "cells": [
  {
   "cell_type": "code",
   "execution_count": null,
   "metadata": {},
   "outputs": [],
   "source": [
    "import pandas as pd\n",
    "import polars as pl\n",
    "import numpy as np\n",
    "import heapq\n",
    "import sys\n",
    "sys.path.insert(1, '../framework')\n",
    "from racetrack import *\n",
    "rt = RACETrack()"
   ]
  },
  {
   "cell_type": "code",
   "execution_count": null,
   "metadata": {},
   "outputs": [],
   "source": [
    "df = pd.DataFrame({'fm':['a','a','b','b','b','c','e','f'],\n",
    "                   'to':['b','d','a','c','d','d','d','d']})\n",
    "params = {'df':df, 'relationships':[('fm','to')], 'draw_labels':True, 'txt_h':20, 'w':256, 'h':256, 'x_ins':10, 'y_ins':10}\n",
    "rt.tile([rt.chordDiagram(                                           **params),\n",
    "         rt.chordDiagram(link_style='wide',                         **params),\n",
    "         rt.chordDiagram(                   equal_size_nodes=True,  **params),\n",
    "         rt.chordDiagram(link_style='wide', equal_size_nodes=True,  **params)])"
   ]
  },
  {
   "cell_type": "code",
   "execution_count": null,
   "metadata": {},
   "outputs": [],
   "source": [
    "# 2024-03-08 - doesn't work ... module 'networkx' has no attribute 'to_scipy_sparse_matrix'\n",
    "#\n",
    "# Following from the documentation located here:\n",
    "#\n",
    "# https://markov-clustering.readthedocs.io/en/latest/readme.html\n",
    "#\n",
    "\n",
    "#import markov_clustering as mc\n",
    "#import networkx as nx\n",
    "#import random\n",
    "## number of nodes to use\n",
    "#numnodes = 200\n",
    "## generate random positions as a dictionary where the key is the node id and the value\n",
    "## is a tuple containing 2D coordinates\n",
    "#positions = {i:(random.random() * 2 - 1, random.random() * 2 - 1) for i in range(numnodes)}\n",
    "## use networkx to generate the graph\n",
    "#network = nx.random_geometric_graph(numnodes, 0.3, pos=positions)\n",
    "## then get the adjacency matrix (in sparse form)\n",
    "#matrix = nx.to_scipy_sparse_matrix(network)"
   ]
  },
  {
   "cell_type": "code",
   "execution_count": null,
   "metadata": {},
   "outputs": [],
   "source": [
    "load_lots_of_netflow = True\n",
    "if load_lots_of_netflow:\n",
    "    _base_ = '../../data/2013_vast_challenge/mc3_netflow/nf/'\n",
    "    df = pl.concat([pl.read_csv(_base_ + 'nf-chunk1.csv'),\n",
    "                    pl.read_csv(_base_ + 'nf-chunk2.csv'),\n",
    "                    pl.read_csv(_base_ + 'nf-chunk3.csv')])\n",
    "    df = df.rename({'TimeSeconds':'secs',                  'parsedDate':'timestamp',                'dateTimeStr':'timestamp_str',\n",
    "                    'ipLayerProtocol':'pro_str',           'ipLayerProtocolCode':'pro',             'firstSeenSrcIp':'sip',\n",
    "                    'firstSeenDestIp':'dip',               'firstSeenSrcPort':'spt',                'firstSeenDestPort':'dpt',\n",
    "                    'moreFragments':'mfrag',               'contFragments':'cfrag',                 'durationSeconds':'dur',\n",
    "                    'firstSeenSrcPayloadBytes':'soct_pay', 'firstSeenDestPayloadBytes':'doct_pay',  'firstSeenSrcTotalBytes':'soct',\n",
    "                    'firstSeenDestTotalBytes':'doct',      'firstSeenSrcPacketCount':'spkt',        'firstSeenDestPacketCount':'dpkt',\n",
    "                    'recordForceOut':'out'})\n",
    "    df = df.sample(1000000)\n",
    "else:\n",
    "    df = pl.DataFrame({'sip':['1.2.3.4'], 'dip':['5.6.7.8']})\n",
    "cd = rt.chordDiagram(df, [('sip','dip')], equal_size_nodes=True, draw_labels=False, txt_h=16, w=200, h=200, x_ins=2, y_ins=2)\n",
    "cd"
   ]
  },
  {
   "cell_type": "code",
   "execution_count": null,
   "metadata": {},
   "outputs": [],
   "source": [
    "import hdbscan\n",
    "\n",
    "handled   = set()\n",
    "fmto_list = []\n",
    "span_list = []\n",
    "xs_list   = []\n",
    "ys_list   = []\n",
    "for node in cd.node_dir_arc:\n",
    "    for fm in cd.node_dir_arc[node]:\n",
    "        for to in cd.node_dir_arc[node][fm]:\n",
    "            key = str(fm) + '|' + str(to)\n",
    "            if key not in handled:\n",
    "                handled.add(key)\n",
    "                fm_span  = cd.node_dir_arc[node][fm][to]\n",
    "                fm_coord = (fm_span[0]+fm_span[1])/720.0 - 0.5\n",
    "                xs_list.append(fm_coord)\n",
    "                if fm == node:\n",
    "                    to_span  = cd.node_dir_arc[to][fm][to]\n",
    "                    to_coord = (to_span[0]+to_span[1])/720.0 - 0.5\n",
    "                    fmto_list.append(key)\n",
    "                    span_list.append((fm_coord,to_coord))\n",
    "                    ys_list.append(to_coord)\n",
    "                else:\n",
    "                    to_span  = cd.node_dir_arc[fm][fm][to]\n",
    "                    to_coord = (to_span[0]+to_span[1])/720.0 - 0.5\n",
    "                    fmto_list.append(key)\n",
    "                    span_list.append((fm_coord,to_coord))\n",
    "                    ys_list.append(to_coord)\n",
    "            else:\n",
    "                pass\n",
    "                # print(f'\"{key}\" already handled')\n",
    "clusterer = hdbscan.HDBSCAN()\n",
    "clusterer.fit(span_list)\n",
    "print(\"n_clusters =\", len(set(clusterer.labels_)))\n",
    "rt.xy(pd.DataFrame({'x':xs_list,'y':ys_list,'c':clusterer.labels_}),x_field='x',y_field='y',color_by='c')"
   ]
  },
  {
   "cell_type": "code",
   "execution_count": null,
   "metadata": {},
   "outputs": [],
   "source": [
    "cd.time_lu"
   ]
  },
  {
   "cell_type": "code",
   "execution_count": null,
   "metadata": {},
   "outputs": [],
   "source": []
  }
 ],
 "metadata": {
  "kernelspec": {
   "display_name": ".venv",
   "language": "python",
   "name": "python3"
  },
  "language_info": {
   "codemirror_mode": {
    "name": "ipython",
    "version": 3
   },
   "file_extension": ".py",
   "mimetype": "text/x-python",
   "name": "python",
   "nbconvert_exporter": "python",
   "pygments_lexer": "ipython3",
   "version": "3.11.6"
  }
 },
 "nbformat": 4,
 "nbformat_minor": 2
}
