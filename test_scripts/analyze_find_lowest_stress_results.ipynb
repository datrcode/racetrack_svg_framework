{
 "cells": [
  {
   "cell_type": "code",
   "execution_count": null,
   "id": "3971aaed",
   "metadata": {},
   "outputs": [],
   "source": [
    "import polars as pl\n",
    "import os\n",
    "import rtsvg\n",
    "rt = rtsvg.RACETrack()\n",
    "_dir_   = '../../20251006_stresses/'\n",
    "_files_ = os.listdir(_dir_)\n",
    "_dfs_   = []\n",
    "for _file_ in _files_:\n",
    "    if _file_.endswith('_stresses.csv'): _dfs_.append(pl.read_csv(_dir_ + _file_))\n",
    "df = pl.concat(_dfs_).with_columns(pl.col('stress').log10().alias('log_stress'))\n",
    "rt.smallMultiples(df, category_by='pattern', color_by='algo', w_sm_override=128, w=1280,\n",
    "                  sm_type='xy', sm_params={'x_field':'log_stress', 'y_field':'time', 'dot_size':'small'})"
   ]
  },
  {
   "cell_type": "code",
   "execution_count": null,
   "id": "8a576e8c",
   "metadata": {},
   "outputs": [],
   "source": [
    "df = df.sort('pattern')\n",
    "for k, k_df in df.group_by('pattern'):\n",
    "    _df_ = k_df.sort('log_stress')\n",
    "    print(f'{k[0]:<30} {_df_['stress'][0]:0.4f} {_df_['algo'][0]}')"
   ]
  },
  {
   "cell_type": "code",
   "execution_count": null,
   "id": "836c4b8b",
   "metadata": {},
   "outputs": [],
   "source": []
  }
 ],
 "metadata": {
  "kernelspec": {
   "display_name": ".venv (3.13.7)",
   "language": "python",
   "name": "python3"
  },
  "language_info": {
   "codemirror_mode": {
    "name": "ipython",
    "version": 3
   },
   "file_extension": ".py",
   "mimetype": "text/x-python",
   "name": "python",
   "nbconvert_exporter": "python",
   "pygments_lexer": "ipython3",
   "version": "3.13.7"
  }
 },
 "nbformat": 4,
 "nbformat_minor": 5
}
