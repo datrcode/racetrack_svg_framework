{
 "cells": [
  {
   "cell_type": "code",
   "execution_count": null,
   "id": "3971aaed",
   "metadata": {},
   "outputs": [],
   "source": [
    "import polars as pl\n",
    "import os\n",
    "import rtsvg\n",
    "rt = rtsvg.RACETrack()\n",
    "_dir_   = '../../20251006_stresses/'\n",
    "_files_ = os.listdir(_dir_)\n",
    "_dfs_   = []\n",
    "for _file_ in _files_:\n",
    "    if _file_.endswith('_stresses.csv'): _dfs_.append(pl.read_csv(_dir_ + _file_))\n",
    "df = pl.concat(_dfs_).with_columns(pl.col('stress').log10().alias('log_stress'))\n",
    "rt.smallMultiples(df.filter(pl.col('k') == 0), category_by='pattern', color_by='algo', w_sm_override=128, w=1800, h=512,\n",
    "                  sm_type='xy', sm_params={'x_field':'log_stress', 'y_field':'time', 'dot_size':'small'})"
   ]
  },
  {
   "cell_type": "code",
   "execution_count": null,
   "id": "836c4b8b",
   "metadata": {},
   "outputs": [],
   "source": [
    "rt.smallMultiples(df.filter(pl.col('k') == 1), category_by='pattern', color_by='algo', w_sm_override=128, w=1800, h=512,\n",
    "                  sm_type='xy', sm_params={'x_field':'log_stress', 'y_field':'time', 'dot_size':'small'})"
   ]
  },
  {
   "cell_type": "code",
   "execution_count": null,
   "id": "ba97f1ad",
   "metadata": {},
   "outputs": [],
   "source": [
    "#\n",
    "# Output as an array of dictionaries\n",
    "#\n",
    "df = df.sort(['pattern','k'])\n",
    "print('[')\n",
    "for k, k_df in df.group_by(['pattern','k']):\n",
    "    _df_ = k_df.sort('log_stress')\n",
    "    print(f'{{\"k\":{_df_[\"k\"][0]}, \"distance_metric\":\\'dijkstra\\', \"pattern\":\\'{_df_[\"pattern\"][0]}\\', \"stress_min\":{_df_[\"stress\"][0]}}},')\n",
    "print(']')"
   ]
  },
  {
   "cell_type": "code",
   "execution_count": null,
   "id": "ea354694",
   "metadata": {},
   "outputs": [],
   "source": []
  }
 ],
 "metadata": {
  "kernelspec": {
   "display_name": ".venv (3.12.3)",
   "language": "python",
   "name": "python3"
  },
  "language_info": {
   "codemirror_mode": {
    "name": "ipython",
    "version": 3
   },
   "file_extension": ".py",
   "mimetype": "text/x-python",
   "name": "python",
   "nbconvert_exporter": "python",
   "pygments_lexer": "ipython3",
   "version": "3.12.3"
  }
 },
 "nbformat": 4,
 "nbformat_minor": 5
}
