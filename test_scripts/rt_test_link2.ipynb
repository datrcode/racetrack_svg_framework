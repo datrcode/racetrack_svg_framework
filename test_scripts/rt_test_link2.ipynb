{
 "cells": [
  {
   "cell_type": "code",
   "execution_count": null,
   "metadata": {},
   "outputs": [],
   "source": [
    "import pandas as pd\n",
    "import polars as pl\n",
    "import numpy as np\n",
    "import networkx as nx\n",
    "from shapely import Polygon, Point\n",
    "import sys\n",
    "sys.path.insert(1, '../framework')\n",
    "from racetrack import *\n",
    "rt = RACETrack()"
   ]
  },
  {
   "cell_type": "code",
   "execution_count": null,
   "metadata": {},
   "outputs": [],
   "source": [
    "df = pl.DataFrame({'fm':'a b c d e f g'.split(),\n",
    "                   'to':'b c d e f g a'.split()})\n",
    "pos = {'a':(0.0,0.0), 'b':(0.5,0.0), 'c':(1.0,1.0), 'd':(1.0,1.0),\n",
    "       'e':(1.0,1.0), 'f':(0.5,1.0), 'g':(0.0,0.0)}\n",
    "_link_ = rt.link(df, [('fm','to')], pos, w=128, h=128, bounds_percent=0.2)\n",
    "_link_"
   ]
  },
  {
   "cell_type": "code",
   "execution_count": null,
   "metadata": {},
   "outputs": [],
   "source": [
    "_rect_ = Polygon([(50,15), (50,115), (120,115), (120,15)])\n",
    "_link_.overlappingEntities(_rect_)"
   ]
  },
  {
   "cell_type": "code",
   "execution_count": null,
   "metadata": {},
   "outputs": [],
   "source": [
    "_link_.entitiesAtPoint((20,107))"
   ]
  },
  {
   "cell_type": "code",
   "execution_count": null,
   "metadata": {},
   "outputs": [],
   "source": [
    "_svgs_ = ['<svg x=\"0\" y=\"0\" width=\"128\" height=\"128\">']\n",
    "_svgs_.append(_link_._repr_svg_())\n",
    "_svgs_.append('</svg>')\n",
    "_all_  = _link_.__createPathDescriptionForAllEntities__()\n",
    "_svgs_.append(f'<path d=\"{_all_}\" stroke=\"#0000ff\" stroke-width=\"2.0\" fill=\"#0000ff\" />')\n",
    "_sel_  = _link_.__createPathDescriptionOfSelectedEntities__(my_selection=['b', 'c', 'f', 'e', 'd'])\n",
    "_svgs_.append(f'<path d=\"{_sel_}\" stroke=\"#ff0000\" stroke-width=\"2.0\" fill=\"none\" />')\n",
    "rt.tile([''.join(_svgs_)])"
   ]
  },
  {
   "cell_type": "code",
   "execution_count": null,
   "metadata": {},
   "outputs": [],
   "source": [
    "print(_link_.pos['b'])\n",
    "_link_.selectEntities(['b'])\n",
    "_link_.__moveSelectedEntities__((-10,-10))\n",
    "print(_link_.pos['b'])\n",
    "_link_.renderSVG()\n",
    "_link_"
   ]
  },
  {
   "cell_type": "code",
   "execution_count": null,
   "metadata": {},
   "outputs": [],
   "source": []
  }
 ],
 "metadata": {
  "kernelspec": {
   "display_name": "Python 3",
   "language": "python",
   "name": "python3"
  },
  "language_info": {
   "codemirror_mode": {
    "name": "ipython",
    "version": 3
   },
   "file_extension": ".py",
   "mimetype": "text/x-python",
   "name": "python",
   "nbconvert_exporter": "python",
   "pygments_lexer": "ipython3",
   "version": "3.11.6"
  }
 },
 "nbformat": 4,
 "nbformat_minor": 2
}
