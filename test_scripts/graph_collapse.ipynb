{
 "cells": [
  {
   "cell_type": "code",
   "execution_count": null,
   "metadata": {},
   "outputs": [],
   "source": [
    "import pandas as pd\n",
    "import polars as pl\n",
    "import numpy as np\n",
    "import rtsvg\n",
    "import networkx as nx\n",
    "rt = rtsvg.RACETrack()\n",
    "\n",
    "df = pl.DataFrame({'fm':'a b c d e f g g h h i i i f e'.split(),\n",
    "                   'to':'b c d a a g f i i i a b c h h'.split(),\n",
    "                   'ct':[1,9,2,3,4,1,2,7,3,4,2,3,9,2,3]})\n",
    "relates  = [('fm','to')]\n",
    "clusters = {'__cluster_a__':['a','b','c'],\n",
    "            '__cluster_b__':['d','e']} \n",
    "g        = rt.createNetworkXGraph(df, relates)\n",
    "pos      = nx.spring_layout(g)\n",
    "_link_   = rt.link(df, relates, pos, draw_labels=True,w=256,h=256)"
   ]
  },
  {
   "cell_type": "code",
   "execution_count": null,
   "metadata": {},
   "outputs": [],
   "source": [
    "#\n",
    "# collapseGraph()\n",
    "# - limitations -- only single field from/tos can be used (i.e., no multifield nodes)\n",
    "# - multirelationships get collapsed down to one relationships\n",
    "#\n",
    "def collapseGraph(df, relationships, node_clusters, count_by=None, count_by_set=False, color_by=None):\n",
    "    # Create the reverse maps\n",
    "    rev_map = {}\n",
    "    for k, v in node_clusters.items():\n",
    "        for v_ in v: rev_map[v_] = k \n",
    "    \n",
    "    # Per relationship\n",
    "    __dfs__ = []\n",
    "    for _relates_ in relationships:\n",
    "        _fm_, _to_ = _relates_[0], _relates_[1]\n",
    "        all_nodes  = set(df[_fm_]) | set(df[_to_])\n",
    "        # fill in the reverse map\n",
    "        for n in all_nodes:\n",
    "            if n not in rev_map: rev_map[n] = n\n",
    "        # remap the nodes in the dataframe\n",
    "        rev_map_fn = lambda x: rev_map[x]\n",
    "        df_tmp     = df.with_columns(pl.col(_fm_).replace_strict(rev_map).alias('__fm__'),\n",
    "                                     pl.col(_to_).replace_strict(rev_map).alias('__to__'))\n",
    "        df_counter = rt.polarsCounter(df_tmp, ['__fm__','__to__'], count_by, count_by_set)\n",
    "        __dfs__.append(df_counter)\n",
    "\n",
    "    return pl.concat(__dfs__)\n",
    "\n",
    "df_collapsed     = collapseGraph(df, relates, clusters)\n",
    "_link_collapsed_ = rt.link(df_collapsed, [('__fm__','__to__')], pos, draw_labels=True,w=256,h=256)\n",
    "rt.tile([_link_, _link_collapsed_], 20)"
   ]
  },
  {
   "cell_type": "code",
   "execution_count": null,
   "metadata": {},
   "outputs": [],
   "source": [
    "rt.polarsCounter"
   ]
  }
 ],
 "metadata": {
  "kernelspec": {
   "display_name": ".venv",
   "language": "python",
   "name": "python3"
  },
  "language_info": {
   "codemirror_mode": {
    "name": "ipython",
    "version": 3
   },
   "file_extension": ".py",
   "mimetype": "text/x-python",
   "name": "python",
   "nbconvert_exporter": "python",
   "pygments_lexer": "ipython3",
   "version": "3.12.3"
  }
 },
 "nbformat": 4,
 "nbformat_minor": 2
}
