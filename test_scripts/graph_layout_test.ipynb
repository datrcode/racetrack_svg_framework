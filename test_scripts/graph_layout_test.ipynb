{
 "cells": [
  {
   "cell_type": "code",
   "execution_count": null,
   "metadata": {},
   "outputs": [],
   "source": [
    "import pandas   as pd\n",
    "import polars   as pl\n",
    "import numpy    as np\n",
    "import networkx as nx\n",
    "import squarify\n",
    "import rtsvg\n",
    "rt      = rtsvg.RACETrack()\n",
    "relates = [('fm','to')]\n",
    "\n",
    "# Read in the simple graph templates\n",
    "df      = pl.read_csv('../rtsvg/config/simple_graphs_df.csv')\n",
    "g       = rt.createNetworkXGraph(df, relates)\n",
    "\n",
    "# Create the component lookup structure\n",
    "comp_lu = {}\n",
    "for _node_set_ in nx.connected_components(g):\n",
    "    _g_              = g.subgraph(_node_set_)\n",
    "    _nodes_, _edges_ = _g_.number_of_nodes(), _g_.number_of_edges()\n",
    "    if _nodes_ not in comp_lu:          comp_lu[_nodes_]          = {}\n",
    "    if _edges_ not in comp_lu[_nodes_]: comp_lu[_nodes_][_edges_] = []\n",
    "    comp_lu[_nodes_][_edges_].append(_g_)\n",
    "\n",
    "# Positional Information\n",
    "_df_    = pd.read_csv('../rtsvg/config/simple_graph_layouts.csv')\n",
    "pos_templates  = {}\n",
    "for i in range(len(_df_)): pos_templates[_df_['node'][i]] = [_df_['x'][i], _df_['y'][i]]\n",
    "\n",
    "# Sanity Check\n",
    "set(df['fm']) | set(df['to']) == set(pos_templates.keys())"
   ]
  },
  {
   "cell_type": "code",
   "execution_count": null,
   "metadata": {},
   "outputs": [],
   "source": [
    "#pos = rt.treeMapGraphComponentPlacement(g, pos_templates, bounds_percent=0.3)\n",
    "#rt.link(df, relates, pos, w=1200,h=900)"
   ]
  },
  {
   "cell_type": "code",
   "execution_count": null,
   "metadata": {},
   "outputs": [],
   "source": [
    "def layoutSimpleTemplates(self, g, pos):\n",
    "    for _node_set_ in nx.connected_components(g):\n",
    "        _g_              = g.subgraph(_node_set_)\n",
    "        _nodes_, _edges_ = _g_.number_of_nodes(), _g_.number_of_edges()\n",
    "        if _nodes_ in comp_lu and _edges_ in comp_lu[_nodes_]:\n",
    "            for _g_template_ in comp_lu[_nodes_][_edges_]:\n",
    "                if nx.is_isomorphic(_g_, _g_template_):\n",
    "                    gm     = nx.isomorphism.GraphMatcher(_g_, _g_template_)\n",
    "                    _dict_ = next(gm.subgraph_isomorphisms_iter())\n",
    "                    for k in _dict_.keys(): pos[k] = pos_templates[_dict_[k]]\n",
    "                    break\n",
    "    return self.treeMapGraphComponentPlacement(g, pos, bounds_percent=0.3)\n",
    "\n",
    "df2   = pl.DataFrame({'src':['a','b','c','d','e','f'],'dst':['b','c','a','e','f','d']})\n",
    "g_df2 = rt.createNetworkXGraph(df2, [('src','dst')])\n",
    "pos   = {}\n",
    "pos   = layoutSimpleTemplates(rt, g_df2, pos)\n",
    "rt.link(df2, [('src','dst')], pos)"
   ]
  },
  {
   "cell_type": "code",
   "execution_count": null,
   "metadata": {},
   "outputs": [],
   "source": []
  }
 ],
 "metadata": {
  "kernelspec": {
   "display_name": ".venv",
   "language": "python",
   "name": "python3"
  },
  "language_info": {
   "codemirror_mode": {
    "name": "ipython",
    "version": 3
   },
   "file_extension": ".py",
   "mimetype": "text/x-python",
   "name": "python",
   "nbconvert_exporter": "python",
   "pygments_lexer": "ipython3",
   "version": "3.12.3"
  }
 },
 "nbformat": 4,
 "nbformat_minor": 2
}
