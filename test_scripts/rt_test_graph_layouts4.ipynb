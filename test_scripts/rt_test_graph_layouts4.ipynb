{
 "cells": [
  {
   "cell_type": "code",
   "execution_count": null,
   "metadata": {},
   "outputs": [],
   "source": [
    "import pandas as pd\n",
    "import numpy as np\n",
    "import networkx as nx\n",
    "import random\n",
    "import sys\n",
    "sys.path.insert(1, '../framework')\n",
    "from racetrack import *\n",
    "rt = RACETrack()"
   ]
  },
  {
   "cell_type": "code",
   "execution_count": null,
   "metadata": {},
   "outputs": [],
   "source": [
    "parents, children = [], []\n",
    "def addChildren(parent, depth, max_depth=5):\n",
    "    if depth < max_depth:\n",
    "        num_children = random.randint(0, 6)\n",
    "        for i in range(num_children):\n",
    "            child_name = parent + chr(ord('a') + i)\n",
    "            parents.append(parent)\n",
    "            children.append(child_name)\n",
    "            addChildren(child_name, depth + 1)\n",
    "addChildren('r',0)\n",
    "df = pd.DataFrame({'parent': parents, 'child': children})"
   ]
  },
  {
   "cell_type": "code",
   "execution_count": null,
   "metadata": {},
   "outputs": [],
   "source": [
    "\n",
    "relates = [('child','parent')]\n",
    "g_nx = rt.createNetworkXGraph(df, relates)\n",
    "pos  = rt.hyperTreeLayout(g_nx)\n",
    "rt.linkNode(df, relates, pos, draw_labels=False,node_size='small',\n",
    "            link_arrow=False,link_shape='line',w=512,h=512)"
   ]
  },
  {
   "cell_type": "code",
   "execution_count": null,
   "metadata": {},
   "outputs": [],
   "source": [
    "g_nx.nodes"
   ]
  },
  {
   "cell_type": "code",
   "execution_count": null,
   "metadata": {},
   "outputs": [],
   "source": []
  }
 ],
 "metadata": {
  "kernelspec": {
   "display_name": "Python 3",
   "language": "python",
   "name": "python3"
  },
  "language_info": {
   "codemirror_mode": {
    "name": "ipython",
    "version": 3
   },
   "file_extension": ".py",
   "mimetype": "text/x-python",
   "name": "python",
   "nbconvert_exporter": "python",
   "pygments_lexer": "ipython3",
   "version": "3.11.7"
  },
  "orig_nbformat": 4,
  "vscode": {
   "interpreter": {
    "hash": "677ca678853aa41fc137f4b55f2bc0c694e45735c0d2faa667d2ec5acb71e67d"
   }
  }
 },
 "nbformat": 4,
 "nbformat_minor": 2
}
