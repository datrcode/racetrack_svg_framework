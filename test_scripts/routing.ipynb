{
 "cells": [
  {
   "cell_type": "code",
   "execution_count": null,
   "metadata": {},
   "outputs": [],
   "source": [
    "import pandas as pd\n",
    "import polars as pl\n",
    "import numpy  as np\n",
    "import networkx as nx\n",
    "from math import pi, cos, sin, sqrt, atan2\n",
    "import random\n",
    "from os.path import exists\n",
    "from rtsvg import *\n",
    "rt = RACETrack()\n",
    "# Load the data\n",
    "edges_filename  = '../../data/stanford/facebook/348.edges'\n",
    "layout_filename = '../../data/stanford/facebook/348.edges.layout.parquet'\n",
    "_lu_ = {'fm':[], 'to':[]}\n",
    "for _edge_ in open(edges_filename, 'rt').read().split('\\n'):\n",
    "    if _edge_ == '': continue\n",
    "    _split_     = _edge_.split()\n",
    "    _fm_, _to_  = int(_split_[0]), int(_split_[1])\n",
    "    _lu_['fm'].append(_fm_), _lu_['to'].append(_to_)\n",
    "my_df             = pl.DataFrame(_lu_)\n",
    "g                 = rt.createNetworkXGraph(my_df, [('fm','to')])"
   ]
  },
  {
   "cell_type": "code",
   "execution_count": null,
   "metadata": {},
   "outputs": [],
   "source": [
    "# Find the communities\n",
    "communities       = nx.community.louvain_communities(g)\n",
    "community_lu      = {}\n",
    "cluster_number    = max(max(my_df['fm']),max(my_df['to'])) + 1000\n",
    "for _community_ in communities:\n",
    "    community_lu[cluster_number] = set(_community_)\n",
    "    cluster_number += 1"
   ]
  },
  {
   "cell_type": "code",
   "execution_count": null,
   "metadata": {},
   "outputs": [],
   "source": [
    "# Collapse the communities\n",
    "my_df_communities = rt.collapseDataFrameGraphByClusters(my_df, [('fm','to')], community_lu)\n",
    "g_communities     = rt.createNetworkXGraph(my_df_communities, [('__fm__','__to__')])\n",
    "communities_pos   = nx.spring_layout(g_communities)"
   ]
  },
  {
   "cell_type": "code",
   "execution_count": null,
   "metadata": {},
   "outputs": [],
   "source": [
    "# Find the bounding box and determine the coordinate transforms\n",
    "x_min, y_min, x_max, y_max = rt.positionExtents(communities_pos)\n",
    "w, h         = 900, 900\n",
    "cd_r         = 64\n",
    "x_ins, y_ins = cd_r + 10, cd_r + 10\n",
    "wxToSx       = lambda x: 1.5*cd_r + 5 + (w - 3*cd_r)*(x-x_min)/(x_max-x_min)\n",
    "wyToSy       = lambda y: 1.5*cd_r + 5 + (h - 3*cd_r)*(y-y_min)/(y_max-y_min)"
   ]
  },
  {
   "cell_type": "code",
   "execution_count": null,
   "metadata": {},
   "outputs": [],
   "source": [
    "svg = [f'<svg x=\"0\" y=\"0\" width=\"{w}\" height=\"{h}\"><rect x=\"0\" y=\"0\" width=\"{w}\" height=\"{h}\" fill=\"white\" />']\n",
    "for _community_ in community_lu:\n",
    "    _df_   = my_df.filter(pl.col('fm').is_in(community_lu[_community_]) | pl.col('to').is_in(community_lu[_community_]))\n",
    "    _opacity_ = max(0.8 - len(community_lu[_community_])/20.0, 0.02)\n",
    "    _cd_   = rt.chordDiagram(_df_, [('fm', 'to')], w=cd_r*2, h=cd_r*2, x_ins=0, y_ins=0, link_opacity=_opacity_, draw_border=False, node_h=4)\n",
    "    sx, sy = wxToSx(communities_pos[_community_][0]), wyToSy(communities_pos[_community_][1])\n",
    "    svg.append(f'<g transform=\"translate({sx-cd_r}, {sy-cd_r})\">{_cd_._repr_svg_()}</g>')\n",
    "svg.append('</svg>')\n",
    "rt.tile([''.join(svg)])"
   ]
  },
  {
   "cell_type": "code",
   "execution_count": null,
   "metadata": {},
   "outputs": [],
   "source": []
  }
 ],
 "metadata": {
  "kernelspec": {
   "display_name": ".venv",
   "language": "python",
   "name": "python3"
  },
  "language_info": {
   "codemirror_mode": {
    "name": "ipython",
    "version": 3
   },
   "file_extension": ".py",
   "mimetype": "text/x-python",
   "name": "python",
   "nbconvert_exporter": "python",
   "pygments_lexer": "ipython3",
   "version": "3.12.3"
  }
 },
 "nbformat": 4,
 "nbformat_minor": 2
}
