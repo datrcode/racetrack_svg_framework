{
 "cells": [
  {
   "cell_type": "code",
   "execution_count": null,
   "metadata": {},
   "outputs": [],
   "source": [
    "import pandas as pd\n",
    "import polars as pl\n",
    "import numpy  as np\n",
    "import networkx as nx\n",
    "from math import sin, cos, pi, sqrt, atan2\n",
    "from os.path import exists\n",
    "import time\n",
    "from rtsvg import *\n",
    "rt = RACETrack()\n",
    "ts1 = time.time()\n",
    "df = pl.concat([pl.read_csv('../../data/2013_vast_challenge/mc3_netflow/nf/nf-chunk1.csv'),\n",
    "                pl.read_csv('../../data/2013_vast_challenge/mc3_netflow/nf/nf-chunk2.csv'),\n",
    "                pl.read_csv('../../data/2013_vast_challenge/mc3_netflow/nf/nf-chunk3.csv')])\n",
    "df = rt.columnsAreTimestamps(df, 'parsedDate')\n",
    "ts2 = time.time()\n",
    "print(f'Loading Time ... {ts2 - ts1:0.2} sec')\n",
    "\n",
    "df = df.drop(['TimeSeconds',\n",
    "              #'parsedDate',\n",
    "              'dateTimeStr',\n",
    "              #'ipLayerProtocol',\n",
    "              'ipLayerProtocolCode',\n",
    "              #'firstSeenSrcIp',\n",
    "              #'firstSeenDestIp',\n",
    "              #'firstSeenSrcPort',\n",
    "              #'firstSeenDestPort',\n",
    "              'moreFragments',\n",
    "              'contFragments',\n",
    "              #'durationSeconds',\n",
    "              'firstSeenSrcPayloadBytes',\n",
    "              'firstSeenDestPayloadBytes',\n",
    "              #'firstSeenSrcTotalBytes',\n",
    "              #'firstSeenDestTotalBytes',\n",
    "              #'firstSeenSrcPacketCount',\n",
    "              #'firstSeenDestPacketCount',\n",
    "              'recordForceOut'])\n",
    "\n",
    "df = df.rename({'parsedDate':'ts',\n",
    "               'ipLayerProtocol':'pro',\n",
    "               'firstSeenSrcIp':'sip',\n",
    "               'firstSeenDestIp':'dip',\n",
    "               'firstSeenSrcPort':'spt',\n",
    "               'firstSeenDestPort':'dpt',\n",
    "               'durationSeconds':'dur',\n",
    "               'firstSeenSrcTotalBytes':'soct',\n",
    "               'firstSeenDestTotalBytes':'doct',\n",
    "               'firstSeenSrcPacketCount':'spkt',\n",
    "               'firstSeenDestPacketCount':'dpkt'})\n",
    "\n",
    "df.sample(3)"
   ]
  },
  {
   "cell_type": "code",
   "execution_count": null,
   "metadata": {},
   "outputs": [],
   "source": [
    "layout_file = '../../data/2013_vast_challenge/mc3_netflow/spring_layout.csv'\n",
    "relates = [('sip','dip')]\n",
    "g       = rt.createNetworkXGraph(df, relates)\n",
    "pos = {} if exists(layout_file) else nx.spring_layout(g)\n",
    "#rt.link(df, relates, pos)"
   ]
  },
  {
   "cell_type": "code",
   "execution_count": null,
   "metadata": {},
   "outputs": [],
   "source": [
    "df_uniqs = df.unique(subset=['sip','dip'])\n",
    "total_nodes = len(set(df_uniqs['sip']) | set(df_uniqs['dip']))\n",
    "print(f'{len(df_uniqs)=} | {total_nodes=}')\n",
    "_igl_ = rt.interactiveGraphLayout(df_uniqs, {'relationships':relates, 'pos':pos, 'draw_labels':False, 'bounds_percent':0.02}, w=1200, h=800)\n",
    "if exists(layout_file): _igl_.loadLayout(layout_file)\n",
    "#_igl_"
   ]
  },
  {
   "cell_type": "code",
   "execution_count": null,
   "metadata": {},
   "outputs": [],
   "source": [
    "#_igl_.saveLayout(layout_file)\n",
    "#print(_igl_)"
   ]
  },
  {
   "cell_type": "code",
   "execution_count": null,
   "metadata": {},
   "outputs": [],
   "source": [
    "# Collapse the original graph into one based on position of nodes in xy coordinates\n",
    "g      = rt.createNetworkXGraph(df_uniqs, relates)\n",
    "_link_ = rt.link(df_uniqs, relates, pos, w=1000,h=600)\n",
    "_link_.renderSVG() # force a render so that xT and yT exist\n",
    "all_nodes    = set(df_uniqs['sip']) | set(df_uniqs['dip'])\n",
    "all_nodes_ls = list(all_nodes)\n",
    "x_min, y_min, x_max, y_max = 1e9, 1e9, -1e9, -1e9 # probably not a safe assumption :(\n",
    "node_to_xy = {}\n",
    "xy_to_node = {}\n",
    "for node in all_nodes:\n",
    "    x,y              = _link_.xT(pos[node][0]), _link_.yT(pos[node][1])\n",
    "    xy               = (x,y)\n",
    "    x_min, x_max     = min(x_min, x), max(x_max, x)\n",
    "    y_min, y_max     = min(y_min, y), max(y_max, y)\n",
    "    node_to_xy[node] = xy\n",
    "    if xy not in xy_to_node: xy_to_node[xy] = []\n",
    "    xy_to_node[xy].append(node)\n",
    "#_link_"
   ]
  },
  {
   "cell_type": "code",
   "execution_count": null,
   "metadata": {},
   "outputs": [],
   "source": [
    "import hdbscan\n",
    "vecs  = []\n",
    "xy_lu = {'x':[], 'y':[], 'c':[]}\n",
    "for node in all_nodes_ls:\n",
    "    xy  = node_to_xy[node]\n",
    "    v_i = [(xy[0]-x_min)/(x_max-x_min), (xy[1]-y_min)/(y_max-y_min)]\n",
    "    vecs.append(v_i)\n",
    "    xy_lu['x'].append(xy[0]), xy_lu['y'].append(xy[1])\n",
    "clusterer = hdbscan.HDBSCAN()\n",
    "clusterer.fit(vecs)\n",
    "for c in clusterer.labels_: xy_lu['c'].append(c)\n",
    "#rt.xy(pl.DataFrame(xy_lu), x_field='x', y_field='y', color_by='c', w=800, h=600)"
   ]
  },
  {
   "cell_type": "code",
   "execution_count": null,
   "metadata": {},
   "outputs": [],
   "source": [
    "degrees_lu = {'degree':[]}\n",
    "for node in all_nodes_ls: degrees_lu['degree'].append(g.degree(node))\n",
    "#rt.histogram(pl.DataFrame(degrees_lu), bin_by='degree')\n",
    "degree_histogram_lu = {'threshold':[], 'count':[]}\n",
    "for i in range (500, 1000):\n",
    "    count = 0\n",
    "    for node in all_nodes_ls:\n",
    "        if g.degree(node) >= i: count += 1\n",
    "    degree_histogram_lu['threshold'].append(i), degree_histogram_lu['count'].append(count)\n",
    "rt.xy(pl.DataFrame(degree_histogram_lu), x_field='threshold', y_field='count')"
   ]
  },
  {
   "cell_type": "code",
   "execution_count": null,
   "metadata": {},
   "outputs": [],
   "source": []
  }
 ],
 "metadata": {
  "kernelspec": {
   "display_name": ".venv",
   "language": "python",
   "name": "python3"
  },
  "language_info": {
   "codemirror_mode": {
    "name": "ipython",
    "version": 3
   },
   "file_extension": ".py",
   "mimetype": "text/x-python",
   "name": "python",
   "nbconvert_exporter": "python",
   "pygments_lexer": "ipython3",
   "version": "3.12.3"
  }
 },
 "nbformat": 4,
 "nbformat_minor": 2
}
