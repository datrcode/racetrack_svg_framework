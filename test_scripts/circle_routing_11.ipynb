{
 "cells": [
  {
   "cell_type": "code",
   "execution_count": null,
   "metadata": {},
   "outputs": [],
   "source": [
    "import pandas as pd\n",
    "import polars as pl\n",
    "import numpy  as np\n",
    "import networkx as nx\n",
    "from math import sin, cos, pi, sqrt, atan2\n",
    "from os.path import exists\n",
    "import time\n",
    "from rtsvg import *\n",
    "rt = RACETrack()\n",
    "df = pl.concat([pl.read_csv('../../data/2013_vast_challenge/mc3_netflow/nf/nf-chunk1.csv'),\n",
    "                pl.read_csv('../../data/2013_vast_challenge/mc3_netflow/nf/nf-chunk2.csv'),\n",
    "                pl.read_csv('../../data/2013_vast_challenge/mc3_netflow/nf/nf-chunk3.csv')])\n",
    "ts1 = time.time()\n",
    "df = rt.columnsAreTimestamps(df, 'parsedDate')\n",
    "ts2 = time.time()\n",
    "print(f'Loading Time ... {ts2 - ts1:0.2} sec')\n",
    "\n",
    "df = df.drop(['TimeSeconds',\n",
    "              #'parsedDate',\n",
    "              'dateTimeStr',\n",
    "              #'ipLayerProtocol',\n",
    "              'ipLayerProtocolCode',\n",
    "              #'firstSeenSrcIp',\n",
    "              #'firstSeenDestIp',\n",
    "              #'firstSeenSrcPort',\n",
    "              #'firstSeenDestPort',\n",
    "              'moreFragments',\n",
    "              'contFragments',\n",
    "              #'durationSeconds',\n",
    "              'firstSeenSrcPayloadBytes',\n",
    "              'firstSeenDestPayloadBytes',\n",
    "              #'firstSeenSrcTotalBytes',\n",
    "              #'firstSeenDestTotalBytes',\n",
    "              #'firstSeenSrcPacketCount',\n",
    "              #'firstSeenDestPacketCount',\n",
    "              'recordForceOut'])\n",
    "\n",
    "df = df.rename({'parsedDate':'ts',\n",
    "               'ipLayerProtocol':'pro',\n",
    "               'firstSeenSrcIp':'sip',\n",
    "               'firstSeenDestIp':'dip',\n",
    "               'firstSeenSrcPort':'spt',\n",
    "               'firstSeenDestPort':'dpt',\n",
    "               'durationSeconds':'dur',\n",
    "               'firstSeenSrcTotalBytes':'soct',\n",
    "               'firstSeenDestTotalBytes':'doct',\n",
    "               'firstSeenSrcPacketCount':'spkt',\n",
    "               'firstSeenDestPacketCount':'dpkt'})\n",
    "\n",
    "df.sample(3)"
   ]
  },
  {
   "cell_type": "code",
   "execution_count": null,
   "metadata": {},
   "outputs": [],
   "source": [
    "layout_file = '../../data/2013_vast_challenge/mc3_netflow/spring_layout.csv'\n",
    "relates = [('sip','dip')]\n",
    "g       = rt.createNetworkXGraph(df, relates)\n",
    "pos = {} if exists(layout_file) else nx.spring_layout(g)\n",
    "#rt.link(df, relates, pos)"
   ]
  },
  {
   "cell_type": "code",
   "execution_count": null,
   "metadata": {},
   "outputs": [],
   "source": [
    "df_uniqs = df.unique(subset=['sip','dip'])\n",
    "total_nodes = len(set(df_uniqs['sip']) | set(df_uniqs['dip']))\n",
    "print(f'{len(df_uniqs)=} | {total_nodes=}')\n",
    "_igl_ = rt.interactiveGraphLayout(df_uniqs, {'relationships':relates, 'pos':pos, 'draw_labels':False, 'bounds_percent':0.02}, w=1200, h=800)\n",
    "if exists(layout_file): _igl_.loadLayout(layout_file)\n",
    "_igl_"
   ]
  },
  {
   "cell_type": "code",
   "execution_count": null,
   "metadata": {},
   "outputs": [],
   "source": [
    "_igl_.saveLayout(layout_file)"
   ]
  },
  {
   "cell_type": "code",
   "execution_count": null,
   "metadata": {},
   "outputs": [],
   "source": [
    "print(_igl_)"
   ]
  },
  {
   "cell_type": "code",
   "execution_count": null,
   "metadata": {},
   "outputs": [],
   "source": []
  }
 ],
 "metadata": {
  "kernelspec": {
   "display_name": ".venv",
   "language": "python",
   "name": "python3"
  },
  "language_info": {
   "codemirror_mode": {
    "name": "ipython",
    "version": 3
   },
   "file_extension": ".py",
   "mimetype": "text/x-python",
   "name": "python",
   "nbconvert_exporter": "python",
   "pygments_lexer": "ipython3",
   "version": "3.12.3"
  }
 },
 "nbformat": 4,
 "nbformat_minor": 2
}
