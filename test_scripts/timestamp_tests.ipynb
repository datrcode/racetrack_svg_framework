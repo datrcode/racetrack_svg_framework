{
 "cells": [
  {
   "cell_type": "code",
   "execution_count": null,
   "metadata": {},
   "outputs": [],
   "source": [
    "import pandas as pd\n",
    "import polars as pl\n",
    "import numpy  as np\n",
    "import sys\n",
    "sys.path.insert(1, '../framework')\n",
    "from racetrack import *\n",
    "rt = RACETrack()"
   ]
  },
  {
   "cell_type": "code",
   "execution_count": null,
   "metadata": {},
   "outputs": [],
   "source": [
    "examples = ['1985-04-12T23:20:50.52Z',      # Examples from https://www.rfc-editor.org/rfc/rfc3339\n",
    "            '1996-12-19T16:39:57-08:00',\n",
    "            '1990-12-31T23:59:60Z',\n",
    "            '1990-12-31T15:59:60-08:00',\n",
    "            '1937-01-01T12:00:27.87+00:20']\n",
    "\n",
    "for x in examples:\n",
    "    print(x)\n",
    "    df = pd.DataFrame({'timestamp': [x]})\n",
    "    df = rt.columnsAreTimestamps(df, 'timestamp')\n",
    "    df = pl.DataFrame({'timestamp': [x]})\n",
    "    df = rt.columnsAreTimestamps(df, 'timestamp')"
   ]
  },
  {
   "cell_type": "code",
   "execution_count": null,
   "metadata": {},
   "outputs": [],
   "source": []
  }
 ],
 "metadata": {
  "kernelspec": {
   "display_name": "Python 3",
   "language": "python",
   "name": "python3"
  },
  "language_info": {
   "codemirror_mode": {
    "name": "ipython",
    "version": 3
   },
   "file_extension": ".py",
   "mimetype": "text/x-python",
   "name": "python",
   "nbconvert_exporter": "python",
   "pygments_lexer": "ipython3",
   "version": "3.11.7"
  }
 },
 "nbformat": 4,
 "nbformat_minor": 2
}
