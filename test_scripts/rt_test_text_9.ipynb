{
 "cells": [
  {
   "cell_type": "code",
   "execution_count": null,
   "metadata": {},
   "outputs": [],
   "source": [
    "import pandas as pd\n",
    "import numpy as np\n",
    "import sys\n",
    "sys.path.insert(1, '../framework/') # base location of the .py classes\n",
    "from racetrack import *\n",
    "rt = RACETrack()"
   ]
  },
  {
   "cell_type": "code",
   "execution_count": null,
   "metadata": {},
   "outputs": [],
   "source": [
    "#\n",
    "# Source:  https://en.wikipedia.org/wiki/Selma_to_Montgomery_marches\n",
    "# ... three sentence summary\n",
    "#\n",
    "_text = \"\"\"The Selma to Montgomery marches were three protest marches, held in 1965, along the 54-mile (87 km) highway from Selma, Alabama, to the state capital of Montgomery. The marches were organized by nonviolent activists to demonstrate the desire of African-American citizens to exercise their constitutional right to vote, in defiance of segregationist repression; they were part of a broader voting rights movement underway in Selma and throughout the American South. By highlighting racial injustice, they contributed to passage that year of the Voting Rights Act, a landmark federal achievement of the civil rights movement.\n",
    "Since the late 19th century, Southern state legislatures had passed and maintained a series of Jim Crow laws that had disenfranchised the millions of African Americans across the South and enforced racial segregation. The initial voter registration drive, started in 1963 by the African-American Dallas County Voters League (DCVL) and the Student Nonviolent Coordinating Committee (SNCC) failed as local White officials arrested the organizers and otherwise harassed Blacks wishing to register to vote. The passage of the Civil Rights Act of 1964 legally ended segregation but the situation in Selma changed little. The DCVL then invited Rev. Martin Luther King Jr. and the activists of the Southern Christian Leadership Conference (SCLC) to amplify the efforts, and these figures drew more prominent people to Alabama. Local and regional protests began in January 1965, with 3,000 people arrested by the end of February. On 26 February, activist and deacon Jimmie Lee Jackson died after being shot several days earlier by state trooper James Bonard Fowler during a peaceful march in nearby Marion. To defuse and refocus the Black community's outrage, James Bevel, who was directing SCLC's Selma voting rights movement, called for a march of dramatic length, from Selma to the state capital of Montgomery, calling for an unhindered exercise of the right to vote.[3][4]\n",
    "The first march took place on March 7, 1965, led by figures including Bevel and Amelia Boynton, but was ended by state troopers and county possemen, who charged on about 600 unarmed protesters with batons and tear gas after they crossed the Edmund Pettus Bridge in the direction of Montgomery. The event became known as Bloody Sunday.[5][6] Law enforcement beat Boynton unconscious, and the media publicized worldwide a picture of her lying wounded on the bridge.[7] The second march took place two days later but King cut it short as a federal court issued a temporary injunction against further marches. That night, a White group murdered civil rights activist James Reeb, a Unitarian Universalist minister from Boston.[8] The third march, which started on March 21, was escorted by the Alabama National Guard under federal control, the FBI and federal marshals (segregationist Governor George Wallace refused to protect the protesters). Thousands of marchers averaged 10 mi (16 km) a day along U.S. Route 80, reaching Montgomery on March 24. The following day, 25,000 people staged a demonstration on the steps of the Alabama State Capitol.\n",
    "The violence of \"Bloody Sunday\" and Reeb's murder resulted in a national outcry, and the marches were widely discussed in national and international news media. The protesters campaigned for a new federal voting rights law to enable African Americans to register and vote without harassment. President Lyndon B. Johnson seized the opportunity and held a historic, nationally televised joint session of Congress on March 15, asking lawmakers to pass what is now known as the Voting Rights Act of 1965. He enacted it on August 6, removing obstacles for Blacks to register en masse. The march route is memorialized as the Selma to Montgomery National Historic Trail, a designated National Historic Trail.\"\"\"\n",
    "rttb = rt.textBlock(_text,word_wrap=True,txt_h=10,w=384)\n",
    "lu   = {}\n",
    "lu[(   0,  31)]           = '#ff0000'\n",
    "lu[( 624, 841)]           = '#00ff00'\n",
    "lu[(3717,3838)]           = '#0000ff'\n",
    "lu['marches']             = '#202020'\n",
    "lu['march']               = '#202020'\n",
    "rt.displaySVG(rt.tile([rttb.highlights(lu), '<svg x=\"0\" y=\"0\" width=\"10\" height=\"10\"></svg>', rttb.pixelRepr(lu)]))"
   ]
  },
  {
   "cell_type": "code",
   "execution_count": null,
   "metadata": {},
   "outputs": [],
   "source": []
  },
  {
   "cell_type": "code",
   "execution_count": null,
   "metadata": {},
   "outputs": [],
   "source": []
  }
 ],
 "metadata": {
  "kernelspec": {
   "display_name": "Python 3",
   "language": "python",
   "name": "python3"
  },
  "language_info": {
   "codemirror_mode": {
    "name": "ipython",
    "version": 3
   },
   "file_extension": ".py",
   "mimetype": "text/x-python",
   "name": "python",
   "nbconvert_exporter": "python",
   "pygments_lexer": "ipython3",
   "version": "3.11.4"
  },
  "orig_nbformat": 4
 },
 "nbformat": 4,
 "nbformat_minor": 2
}
