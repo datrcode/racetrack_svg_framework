{
 "cells": [
  {
   "cell_type": "code",
   "execution_count": null,
   "id": "71406afd",
   "metadata": {},
   "outputs": [],
   "source": [
    "import polars   as pl\n",
    "import networkx as nx\n",
    "import rtsvg\n",
    "rt = rtsvg.RACETrack()\n",
    "from  rtsvg                   import PolarsSpringLayout\n",
    "from  linknode_graph_patterns import LinkNodeGraphPatterns\n",
    "import random\n",
    "import copy\n",
    "import time\n",
    "def graphToDataFrame(_g_):\n",
    "    _lu_ = {'fm':[], 'to':[]}\n",
    "    for _node_ in _g_.nodes(): \n",
    "        for _nbor_ in _g_.neighbors(_node_):\n",
    "            _lu_['fm'].append(_node_), _lu_['to'].append(_nbor_)\n",
    "    return pl.DataFrame(_lu_), [('fm','to')]\n",
    "\n",
    "_patterns_ = LinkNodeGraphPatterns()\n",
    "_tiles_    = []\n",
    "for _type_ in _patterns_.types:\n",
    "    _g_             = _patterns_.createPattern(_type_)\n",
    "    _df_, _relates_ = graphToDataFrame(_g_)\n",
    "    t0 = time.time()\n",
    "    _pos1_ = nx.spring_layout(_g_)\n",
    "    t1 = time.time()\n",
    "    _pos2_ = rt.springLayout(_g_, use_weights=True)\n",
    "    t2 = time.time()\n",
    "    _pos3_ = PolarsSpringLayout(_g_).results()\n",
    "    t3 = time.time()\n",
    "    _tiles_.append(rt.addTitleToSVG(rt.link(_df_, _relates_, _pos1_), f'{_type_} | NetworkX | {t1-t0:0.2f}s'))\n",
    "    _tiles_.append(rt.addTitleToSVG(rt.link(_df_, _relates_, _pos2_), f'{_type_} | Ref | {t2-t1:0.2f}s'))\n",
    "    _tiles_.append(rt.addTitleToSVG(rt.link(_df_, _relates_, _pos3_), f'{_type_} | Polars | {t3-t2:0.2f}s'))\n",
    "rt.table(_tiles_, per_row=3, spacer=10)"
   ]
  },
  {
   "cell_type": "code",
   "execution_count": null,
   "id": "3155ec9a",
   "metadata": {},
   "outputs": [],
   "source": [
    "_psl_ = PolarsSpringLayout(_patterns_.createPattern('uscities'), iterations=512)\n",
    "rt.tile([_psl_.svgAnimation(draw_links=False, r=0.3)])"
   ]
  },
  {
   "cell_type": "code",
   "execution_count": null,
   "id": "b5019537",
   "metadata": {},
   "outputs": [],
   "source": []
  }
 ],
 "metadata": {
  "kernelspec": {
   "display_name": ".venv (3.13.3)",
   "language": "python",
   "name": "python3"
  },
  "language_info": {
   "codemirror_mode": {
    "name": "ipython",
    "version": 3
   },
   "file_extension": ".py",
   "mimetype": "text/x-python",
   "name": "python",
   "nbconvert_exporter": "python",
   "pygments_lexer": "ipython3",
   "version": "3.13.3"
  }
 },
 "nbformat": 4,
 "nbformat_minor": 5
}
