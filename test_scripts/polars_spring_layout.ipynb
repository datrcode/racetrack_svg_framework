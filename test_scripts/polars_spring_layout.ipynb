{
 "cells": [
  {
   "cell_type": "code",
   "execution_count": null,
   "id": "71406afd",
   "metadata": {},
   "outputs": [],
   "source": [
    "import polars as pl\n",
    "import rtsvg\n",
    "rt = rtsvg.RACETrack()\n",
    "from  polars_spring_layout import PolarsSpringLayout\n",
    "import random\n",
    "\n",
    "\"\"\"\n",
    "edges_filename  = '../../data/stanford/facebook/348.edges'\n",
    "_lu_  = {'fm':[], 'to':[]}\n",
    "_pos_ = {}\n",
    "for _edge_ in open(edges_filename, 'rt').read().split('\\n'):\n",
    "    if _edge_ == '': continue\n",
    "    _split_     = _edge_.split()\n",
    "    _fm_, _to_  = int(_split_[0]), int(_split_[1])\n",
    "    _lu_['fm'].append(_fm_), _lu_['to'].append(_to_)\n",
    "    _pos_[_fm_] = [10.0+random.random()*100.0, 20.0+random.random()*100.0]\n",
    "    _pos_[_to_] = [10.0+random.random()*100.0, 20.0+random.random()*100.0]\n",
    "df  = pl.DataFrame(_lu_)\n",
    "\"\"\"\n",
    "\n",
    "_lu_ = {'fm':'a b c a0 b0 c0'.split(), 'to':'b c a a b c'.split()}\n",
    "df  = pl.DataFrame(_lu_)\n",
    "_g_   = rt.createNetworkXGraph(df, [('fm','to')])\n",
    "_pos_ = {}\n",
    "for _node_ in _g_.nodes(): _pos_[_node_] = [10.0+random.random()*100.0, 20.0+random.random()*100.0]\n",
    "_psl_ = PolarsSpringLayout(_g_, _pos_)\n",
    "rt.tile([_psl_.svgAnimation()])"
   ]
  },
  {
   "cell_type": "code",
   "execution_count": null,
   "id": "b93d8a6a",
   "metadata": {},
   "outputs": [],
   "source": []
  }
 ],
 "metadata": {
  "kernelspec": {
   "display_name": ".venv (3.13.3)",
   "language": "python",
   "name": "python3"
  },
  "language_info": {
   "codemirror_mode": {
    "name": "ipython",
    "version": 3
   },
   "file_extension": ".py",
   "mimetype": "text/x-python",
   "name": "python",
   "nbconvert_exporter": "python",
   "pygments_lexer": "ipython3",
   "version": "3.13.3"
  }
 },
 "nbformat": 4,
 "nbformat_minor": 5
}
