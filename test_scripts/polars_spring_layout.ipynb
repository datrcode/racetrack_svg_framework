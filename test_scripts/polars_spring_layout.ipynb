{
 "cells": [
  {
   "cell_type": "code",
   "execution_count": null,
   "id": "71406afd",
   "metadata": {},
   "outputs": [],
   "source": [
    "import polars as pl\n",
    "pl.Config(tbl_width_chars=500)\n",
    "pl.Config(tbl_cols=-1)\n",
    "import rtsvg\n",
    "rt = rtsvg.RACETrack()\n",
    "from  polars_spring_layout import PolarsSpringLayout\n",
    "import random\n",
    "import copy\n",
    "import time\n",
    "\n",
    "edges_filename  = '../../data/stanford/facebook/348.edges'\n",
    "_lu_  = {'fm':[], 'to':[]}\n",
    "_pos_ = {}\n",
    "for _edge_ in open(edges_filename, 'rt').read().split('\\n'):\n",
    "    if _edge_ == '': continue\n",
    "    _split_     = _edge_.split()\n",
    "    _fm_, _to_  = int(_split_[0]), int(_split_[1])\n",
    "    _lu_['fm'].append(_fm_), _lu_['to'].append(_to_)\n",
    "    _pos_[_fm_] = [10.0+random.random()*100.0, 20.0+random.random()*100.0]\n",
    "    _pos_[_to_] = [10.0+random.random()*100.0, 20.0+random.random()*100.0]\n",
    "\n",
    "#_lu_  = {'fm':'a b c a b c c c c c c c'.split(), 'to':'b c a a0 b0 c0 c1 c2 c3 c4 c5 c6'.split()}\n",
    "_df_  = pl.DataFrame(_lu_)\n",
    "_g_   = rt.createNetworkXGraph(_df_, [('fm','to')])\n",
    "_pos_ = {}\n",
    "for _node_ in _g_.nodes(): _pos_[_node_] = [random.random(), random.random()]\n",
    "_iterations_ = None\n",
    "t0 = time.time()\n",
    "_pos_ref_ = rt.springLayout   (_g_, copy.deepcopy(_pos_), iterations=_iterations_)\n",
    "t1 = time.time()\n",
    "_psl_     = PolarsSpringLayout(_g_, copy.deepcopy(_pos_), iterations=_iterations_)\n",
    "t2 = time.time()\n",
    "_pos_     = _psl_.results()\n",
    "rt.tile([_psl_.svgAnimation(), rt.link(_df_, [('fm','to')], _pos_ref_), rt.link(_df_, [('fm','to')], _pos_)], spacer=10)"
   ]
  },
  {
   "cell_type": "code",
   "execution_count": null,
   "id": "fa30b00d",
   "metadata": {},
   "outputs": [],
   "source": [
    "# Ref Time = 5.1s | Polars Time = 0.8s | M1 Pro @ 16GB\n",
    "print(f'Ref Time = {t1-t0}, Polars Time = {t2-t1}')"
   ]
  }
 ],
 "metadata": {
  "kernelspec": {
   "display_name": ".venv (3.13.3)",
   "language": "python",
   "name": "python3"
  },
  "language_info": {
   "codemirror_mode": {
    "name": "ipython",
    "version": 3
   },
   "file_extension": ".py",
   "mimetype": "text/x-python",
   "name": "python",
   "nbconvert_exporter": "python",
   "pygments_lexer": "ipython3",
   "version": "3.13.3"
  }
 },
 "nbformat": 4,
 "nbformat_minor": 5
}
