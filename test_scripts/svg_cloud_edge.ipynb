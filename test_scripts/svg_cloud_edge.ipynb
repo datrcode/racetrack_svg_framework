{
 "cells": [
  {
   "cell_type": "code",
   "execution_count": null,
   "metadata": {},
   "outputs": [],
   "source": [
    "import pandas as pd\n",
    "import numpy as np\n",
    "import random\n",
    "from math import ceil, sqrt\n",
    "import sys\n",
    "sys.path.insert(1, '../framework')\n",
    "from racetrack import *\n",
    "rt = RACETrack()\n",
    "\n",
    "def svgCloudEdge(x0, y0, x1, y1, h=20, r=14, rd=10, _stroke_='#ff0000', _fill_='#ff0000'):    \n",
    "    vx, vy   = x1 - x0, y1 - y0\n",
    "    l        = sqrt(vx * vx + vy * vy)\n",
    "    vx, vy   = vx / l, vy / l\n",
    "    vxp, vyp = vy, -vx\n",
    "    _svg_ = f'<path d=\"m {x0} {y0} l {vxp*h} {vyp*h} l {vx*l} {vy*l} l {-vxp*h} {-vyp*h} z\" stroke=\"{_stroke_}\" fill=\"{_fill_}\" />'\n",
    "\n",
    "    circles = ceil(l / r)\n",
    "    for i in range(int(circles)+1):\n",
    "        x, y = x0 + vxp*h + vx*l*i/circles, y0 + vyp*h + vy*l*i/circles\n",
    "        rr, xr, yr = r + rd*(random.random()-0.5), x + rd*(random.random()-0.5), y + rd*(random.random()-0.5)\n",
    "        _svg_ += f'<circle cx=\"{xr}\" cy=\"{yr}\" r=\"{rr}\" stroke=\"{_stroke_}\" fill=\"{_fill_}\" />'\n",
    "\n",
    "    rr     = h/2\n",
    "    xr, yr = x0 + vxp*rr, y0 + vyp*rr\n",
    "    _svg_ += f'<circle cx=\"{xr}\" cy=\"{yr}\" r=\"{rr}\" stroke=\"{_stroke_}\" fill=\"{_fill_}\" />'\n",
    "\n",
    "    rr     = h/2\n",
    "    xr, yr = x0 + vxp*rr + l*vx, y0 + vyp*rr + l*vy\n",
    "    _svg_ += f'<circle cx=\"{xr}\" cy=\"{yr}\" r=\"{rr}\" stroke=\"{_stroke_}\" fill=\"{_fill_}\" />'\n",
    "    return _svg_\n"
   ]
  },
  {
   "cell_type": "code",
   "execution_count": null,
   "metadata": {},
   "outputs": [],
   "source": [
    "_svg_ =  '<svg width=\"300\" height=\"300\">'\n",
    "_svg_ += '<rect x=\"0\" y=\"0\" width=\"300\" height=\"300\" fill=\"#ffffff\"/>'\n",
    "_svg_ += svgCloudEdge(100,  50, 200,  50)\n",
    "_svg_ += svgCloudEdge(200,  50, 200, 150)\n",
    "_svg_ += svgCloudEdge(200, 150, 100, 150)\n",
    "_svg_ += svgCloudEdge(100, 150, 100,  50)\n",
    "_svg_ += '</svg>'\n",
    "rt.displaySVG(_svg_)"
   ]
  },
  {
   "cell_type": "code",
   "execution_count": null,
   "metadata": {},
   "outputs": [],
   "source": [
    "r"
   ]
  },
  {
   "cell_type": "code",
   "execution_count": null,
   "metadata": {},
   "outputs": [],
   "source": [
    "rd"
   ]
  },
  {
   "cell_type": "code",
   "execution_count": null,
   "metadata": {},
   "outputs": [],
   "source": []
  }
 ],
 "metadata": {
  "kernelspec": {
   "display_name": "Python 3",
   "language": "python",
   "name": "python3"
  },
  "language_info": {
   "codemirror_mode": {
    "name": "ipython",
    "version": 3
   },
   "file_extension": ".py",
   "mimetype": "text/x-python",
   "name": "python",
   "nbconvert_exporter": "python",
   "pygments_lexer": "ipython3",
   "version": "3.11.6"
  }
 },
 "nbformat": 4,
 "nbformat_minor": 2
}
