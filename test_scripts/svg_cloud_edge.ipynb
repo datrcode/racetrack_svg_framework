{
 "cells": [
  {
   "cell_type": "code",
   "execution_count": null,
   "metadata": {},
   "outputs": [],
   "source": [
    "import pandas as pd\n",
    "import numpy as np\n",
    "import random\n",
    "from math import ceil, sqrt\n",
    "from shapely.geometry import Point, Polygon\n",
    "import sys\n",
    "sys.path.insert(1, '../framework')\n",
    "from racetrack import *\n",
    "rt = RACETrack()\n",
    "\n",
    "def svgCloudEdge(x0, y0, x1, y1, h=20, r=14, rd=10, _stroke_='#ff0000', _fill_='#ff0000'):    \n",
    "    vx, vy   = x1 - x0, y1 - y0\n",
    "    l        = sqrt(vx * vx + vy * vy)\n",
    "    vx, vy   = vx / l, vy / l\n",
    "    vxp, vyp = vy, -vx\n",
    "    _svg_ = f'<path d=\"m {x0} {y0} l {vxp*h} {vyp*h} l {vx*l} {vy*l} l {-vxp*h} {-vyp*h} z\" stroke=\"{_stroke_}\" fill=\"{_fill_}\" />'\n",
    "\n",
    "    circles = ceil(l / r)\n",
    "    for i in range(int(circles)+1):\n",
    "        x, y = x0 + vxp*h + vx*l*i/circles, y0 + vyp*h + vy*l*i/circles\n",
    "        rr, xr, yr = r + rd*(random.random()-0.5), x + rd*(random.random()-0.5), y + rd*(random.random()-0.5)\n",
    "        _svg_ += f'<circle cx=\"{xr}\" cy=\"{yr}\" r=\"{rr}\" stroke=\"{_stroke_}\" fill=\"{_fill_}\" />'\n",
    "\n",
    "    rr     = h/2\n",
    "    xr, yr = x0 + vxp*rr, y0 + vyp*rr\n",
    "    _svg_ += f'<circle cx=\"{xr}\" cy=\"{yr}\" r=\"{rr}\" stroke=\"{_stroke_}\" fill=\"{_fill_}\" />'\n",
    "\n",
    "    rr     = h/2\n",
    "    xr, yr = x0 + vxp*rr + l*vx, y0 + vyp*rr + l*vy\n",
    "    _svg_ += f'<circle cx=\"{xr}\" cy=\"{yr}\" r=\"{rr}\" stroke=\"{_stroke_}\" fill=\"{_fill_}\" />'\n",
    "    return _svg_\n"
   ]
  },
  {
   "cell_type": "code",
   "execution_count": null,
   "metadata": {},
   "outputs": [],
   "source": [
    "_svg_ =  '<svg width=\"300\" height=\"300\">'\n",
    "_svg_ += '<rect x=\"0\" y=\"0\" width=\"300\" height=\"300\" fill=\"#ffffff\"/>'\n",
    "_svg_ += svgCloudEdge(100,  50, 200,  50)\n",
    "_svg_ += svgCloudEdge(200,  50, 200, 150)\n",
    "_svg_ += svgCloudEdge(200, 150, 100, 150)\n",
    "_svg_ += svgCloudEdge(100, 150, 100,  50)\n",
    "_svg_ += '</svg>'\n",
    "rt.displaySVG(_svg_)"
   ]
  },
  {
   "cell_type": "code",
   "execution_count": null,
   "metadata": {},
   "outputs": [],
   "source": [
    "import math\n",
    "\n",
    "def extrudePolygon(core, r): # Only works on convex shapes...\n",
    "    pts     = core.exterior.coords\n",
    "    extrusion_pts = []\n",
    "    for i in range(0, len(pts)-1):\n",
    "        x0,y0,x1,y1 = pts[i][0], pts[i][1], pts[i+1][0], pts[i+1][1]\n",
    "        vx, vy      = x1-x0, y1-y0\n",
    "        l           = math.sqrt(vx*vx + vy*vy)\n",
    "        if l < 0.001:\n",
    "            l = 1.0\n",
    "        vxn, vyn     = vx/l, vy/l\n",
    "        vxn_p, vyn_p = -vyn, vxn\n",
    "        extrusion_pts.append((x0+vxn_p*r, y0+vyn_p*r))\n",
    "        extrusion_pts.append((x1+vxn_p*r, y1+vyn_p*r))\n",
    "    extrusion = Polygon(extrusion_pts)\n",
    "    return extrusion\n",
    "\n",
    "def cloudCircleEdges(core, r):\n",
    "    circle_tuples = []\n",
    "    pts     = core.exterior.coords\n",
    "    for i in range(0, len(pts)-1):\n",
    "        x0,y0,x1,y1 = pts[i][0], pts[i][1], pts[i+1][0], pts[i+1][1]\n",
    "        vx, vy      = x1-x0, y1-y0\n",
    "        l           = math.sqrt(vx*vx + vy*vy)\n",
    "        if l < 0.001:\n",
    "            l = 1.0\n",
    "        vxn, vyn     = vx/l, vy/l\n",
    "        vxn_p, vyn_p = -vyn, vxn\n",
    "\n",
    "        t = random.random() * (r/2)\n",
    "        while t < l:\n",
    "            from_edge = random.random() * r\n",
    "            radius    = random.random() * r/2 + r/2\n",
    "            circle_tuples.append((x0+vxn*t+vxn_p*from_edge, y0+vyn*t+vyn_p*from_edge, radius))\n",
    "            t += random.random() * (r/2)\n",
    "\n",
    "    return circle_tuples\n",
    "\n",
    "def svgCloud(core, r=50):\n",
    "    svg = ''\n",
    "    svg += f'<path d=\"{rt.shapelyPolygonToSVGPathDescription(core)}\" fill=\"none\" stroke=\"#000000\"/>'\n",
    "    svg += f'<path d=\"{rt.shapelyPolygonToSVGPathDescription(extrudePolygon(core,r))}\" fill=\"none\" stroke=\"#ff0000\"/>'\n",
    "    _tuples_ = cloudCircleEdges(core, r)\n",
    "    for _t_ in _tuples_:\n",
    "        svg += f'<circle cx=\"{_t_[0]}\" cy=\"{_t_[1]}\" r=\"{_t_[2]}\" fill=\"none\" stroke=\"#000000\" />'\n",
    "    return svg\n",
    "\n",
    "x,y,w,h = 150,150,200,200\n",
    "my_rectangle = Polygon([(x,y), (x,y+h), (x+w,y+h), (x+w,y)])\n",
    "rt.displaySVG('<svg x=\"0\" y=\"0\" width=\"500\" height=\"500\"><rect x=\"0\" y=\"0\" width=\"500\" height=\"500\" fill=\"#ffffff\"/>' + svgCloud(my_rectangle) + '</svg>')"
   ]
  },
  {
   "cell_type": "code",
   "execution_count": null,
   "metadata": {},
   "outputs": [],
   "source": [
    "my_rectangle"
   ]
  },
  {
   "cell_type": "code",
   "execution_count": null,
   "metadata": {},
   "outputs": [],
   "source": []
  }
 ],
 "metadata": {
  "kernelspec": {
   "display_name": "Python 3",
   "language": "python",
   "name": "python3"
  },
  "language_info": {
   "codemirror_mode": {
    "name": "ipython",
    "version": 3
   },
   "file_extension": ".py",
   "mimetype": "text/x-python",
   "name": "python",
   "nbconvert_exporter": "python",
   "pygments_lexer": "ipython3",
   "version": "3.11.6"
  }
 },
 "nbformat": 4,
 "nbformat_minor": 2
}
