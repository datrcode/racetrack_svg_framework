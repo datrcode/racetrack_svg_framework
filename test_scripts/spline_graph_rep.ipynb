{
 "cells": [
  {
   "cell_type": "code",
   "execution_count": null,
   "id": "a82ac7c8",
   "metadata": {},
   "outputs": [],
   "source": [
    "#\n",
    "# Representation using splines for edges\n",
    "#\n",
    "import polars   as pl\n",
    "import networkx as nx\n",
    "import rtsvg\n",
    "rt = rtsvg.RACETrack()\n",
    "\n",
    "edges_filename  = '../../data/stanford/facebook/348.edges'\n",
    "layout_filename = '../../data/stanford/facebook/348.rt_layout.parquet'\n",
    "\n",
    "_lu_ = {'fm':[], 'to':[]}\n",
    "for _edge_ in open(edges_filename, 'rt').read().split('\\n'):\n",
    "    if _edge_ == '': continue\n",
    "    _split_     = _edge_.split()\n",
    "    _fm_, _to_  = int(_split_[0]), int(_split_[1])\n",
    "    _lu_['fm'].append(_fm_), _lu_['to'].append(_to_)\n",
    "df  = pl.DataFrame(_lu_)\n",
    "g   = rt.createNetworkXGraph(df, [('fm','to')])\n",
    "pos = nx.spring_layout(g)\n",
    "#rt.link(df, [('fm','to')], pos, w=800, h=600, link_shape='curve', link_size=1)"
   ]
  },
  {
   "cell_type": "code",
   "execution_count": null,
   "id": "4e846fdd",
   "metadata": {},
   "outputs": [],
   "source": [
    "df = df.with_columns(pl.col('fm').map_elements(lambda x: pos[x][0], return_dtype=pl.Float32).alias('x0'),\n",
    "                     pl.col('fm').map_elements(lambda y: pos[y][1], return_dtype=pl.Float32).alias('y0'),\n",
    "                     pl.col('to').map_elements(lambda x: pos[x][0], return_dtype=pl.Float32).alias('x1'),\n",
    "                     pl.col('to').map_elements(lambda y: pos[y][1], return_dtype=pl.Float32).alias('y1'))\n",
    "df = df.with_columns((pl.col('x1') - pl.col('x0')).alias('dx'),\n",
    "                     (pl.col('y1') - pl.col('y0')).alias('dy'))\n",
    "df = df.with_columns((pl.col('dx')**2 + pl.col('dy')**2).sqrt().alias('l'))\n",
    "df = df.with_columns((pl.col('dx')/pl.col('l')).alias('u'),\n",
    "                     (pl.col('dy')/pl.col('l')).alias('v'))\n",
    "df = df.with_columns((-1.0 * pl.col('v')).alias('pu'),\n",
    "                             pl.col('u') .alias('pv'))\n",
    "df = df.with_columns(((pl.col('x1') - pl.col('x0')) * (1.0/3.0) + pl.col('x0') + pl.col('pu')*0.01).alias('xa'),\n",
    "                     ((pl.col('y1') - pl.col('y0')) * (1.0/3.0) + pl.col('y0') + pl.col('pv')*0.01).alias('ya'),\n",
    "                     ((pl.col('x1') - pl.col('x0')) * (2.0/3.0) + pl.col('x0') + pl.col('pu')*0.01).alias('xb'),\n",
    "                     ((pl.col('y1') - pl.col('y0')) * (2.0/3.0) + pl.col('y0') + pl.col('pv')*0.01).alias('yb'))\n",
    "# Render Operation\n",
    "_ops_ = [pl.lit('<path d=\"M '), pl.col('x0'), pl.lit(' '), pl.col('y0'), pl.lit(' C '),\n",
    "          pl.col('xa'), pl.lit(' '), pl.col('ya'), pl.lit(' '),\n",
    "          pl.col('xb'), pl.lit(' '), pl.col('yb'), pl.lit(' '),\n",
    "          pl.col('x1'), pl.lit(' '), pl.col('y1'), pl.lit('\" fill=\"none\" stroke=\"#000000\" stroke-width=\"0.002\" />')]\n",
    "x0, y0, x1, y1 = min(df['x0'].min(), df['x1'].min()), min(df['y0'].min(), df['y1'].min()), max(df['x0'].max(), df['x1'].max()), max(df['y0'].max(), df['y1'].max())\n",
    "svg = [f'<svg x=\"0\" y=\"0\" width=\"768\" height=\"768\" viewBox=\"{x0} {y0} {x1-x0} {y1-y0}\" xmlns=\"http://www.w3.org/2000/svg\">']\n",
    "svg.append(f'<rect x=\"{x0}\" y=\"{y0}\" width=\"{x1-x0}\" height=\"{y1-y0}\" fill=\"#ffffff\" />')\n",
    "df = df.with_columns(pl.concat_str(_ops_).alias('svg'))\n",
    "svg.extend(df['svg'].to_list())\n",
    "svg.append('</svg>')\n",
    "rt.tile([''.join(svg)])"
   ]
  },
  {
   "cell_type": "code",
   "execution_count": null,
   "id": "d321d664",
   "metadata": {},
   "outputs": [],
   "source": []
  },
  {
   "cell_type": "code",
   "execution_count": null,
   "id": "dae261c7",
   "metadata": {},
   "outputs": [],
   "source": []
  }
 ],
 "metadata": {
  "kernelspec": {
   "display_name": ".venv",
   "language": "python",
   "name": "python3"
  },
  "language_info": {
   "codemirror_mode": {
    "name": "ipython",
    "version": 3
   },
   "file_extension": ".py",
   "mimetype": "text/x-python",
   "name": "python",
   "nbconvert_exporter": "python",
   "pygments_lexer": "ipython3",
   "version": "3.13.3"
  }
 },
 "nbformat": 4,
 "nbformat_minor": 5
}
