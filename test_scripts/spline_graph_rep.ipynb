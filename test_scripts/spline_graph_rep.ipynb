{
 "cells": [
  {
   "cell_type": "code",
   "execution_count": null,
   "id": "a82ac7c8",
   "metadata": {},
   "outputs": [],
   "source": [
    "#\n",
    "# Representation using splines for edges\n",
    "#\n",
    "import polars   as pl\n",
    "import networkx as nx\n",
    "import rtsvg\n",
    "rt = rtsvg.RACETrack()\n",
    "\n",
    "edges_filename  = '../../data/stanford/facebook/348.edges'\n",
    "layout_filename = '../../data/stanford/facebook/348.rt_layout.parquet'\n",
    "\n",
    "_lu_ = {'fm':[], 'to':[]}\n",
    "for _edge_ in open(edges_filename, 'rt').read().split('\\n'):\n",
    "    if _edge_ == '': continue\n",
    "    _split_     = _edge_.split()\n",
    "    _fm_, _to_  = int(_split_[0]), int(_split_[1])\n",
    "    _lu_['fm'].append(_fm_), _lu_['to'].append(_to_)\n",
    "df  = pl.DataFrame(_lu_)\n",
    "g   = rt.createNetworkXGraph(df, [('fm','to')])\n",
    "pos = nx.spring_layout(g)\n",
    "#rt.link(df, [('fm','to')], pos, w=800, h=600, link_shape='curve', link_size=1)"
   ]
  },
  {
   "cell_type": "code",
   "execution_count": null,
   "id": "4e846fdd",
   "metadata": {},
   "outputs": [],
   "source": [
    "df = df.with_columns(pl.col('fm').map_elements(lambda x: pos[x][0], return_dtype=pl.Float32).alias('x0'),\n",
    "                     pl.col('fm').map_elements(lambda y: pos[y][1], return_dtype=pl.Float32).alias('y0'),\n",
    "                     pl.col('to').map_elements(lambda x: pos[x][0], return_dtype=pl.Float32).alias('x1'),\n",
    "                     pl.col('to').map_elements(lambda y: pos[y][1], return_dtype=pl.Float32).alias('y1'))\n",
    "df = df.with_columns((pl.col('x1') - pl.col('x0')).alias('dx'),\n",
    "                     (pl.col('y1') - pl.col('y0')).alias('dy'))\n",
    "df = df.with_columns((pl.col('dx')**2 + pl.col('dy')**2).sqrt().alias('l'))\n",
    "df = df.with_columns((pl.col('dx')/pl.col('l')).alias('u'),\n",
    "                     (pl.col('dy')/pl.col('l')).alias('v'))\n",
    "df = df.with_columns((-1.0 * pl.col('v')).alias('pu'),\n",
    "                             pl.col('u') .alias('pv'))\n",
    "df = df.with_columns(((pl.col('x1') - pl.col('x0')) * (1.0/3.0) + pl.col('x0') + pl.col('pu')*0.01).alias('xa'),\n",
    "                     ((pl.col('y1') - pl.col('y0')) * (1.0/3.0) + pl.col('y0') + pl.col('pv')*0.01).alias('ya'),\n",
    "                     ((pl.col('x1') - pl.col('x0')) * (2.0/3.0) + pl.col('x0') + pl.col('pu')*0.01).alias('xb'),\n",
    "                     ((pl.col('y1') - pl.col('y0')) * (2.0/3.0) + pl.col('y0') + pl.col('pv')*0.01).alias('yb'))\n",
    "df"
   ]
  },
  {
   "cell_type": "code",
   "execution_count": null,
   "id": "d321d664",
   "metadata": {},
   "outputs": [],
   "source": []
  }
 ],
 "metadata": {
  "kernelspec": {
   "display_name": ".venv",
   "language": "python",
   "name": "python3"
  },
  "language_info": {
   "codemirror_mode": {
    "name": "ipython",
    "version": 3
   },
   "file_extension": ".py",
   "mimetype": "text/x-python",
   "name": "python",
   "nbconvert_exporter": "python",
   "pygments_lexer": "ipython3",
   "version": "3.13.3"
  }
 },
 "nbformat": 4,
 "nbformat_minor": 5
}
