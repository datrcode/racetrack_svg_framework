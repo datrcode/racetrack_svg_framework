{
 "cells": [
  {
   "cell_type": "code",
   "execution_count": null,
   "metadata": {},
   "outputs": [],
   "source": [
    "import pandas as pd\n",
    "import polars as pl\n",
    "import numpy as np\n",
    "import panel as pn\n",
    "import time\n",
    "import random\n",
    "import copy\n",
    "import rtsvg\n",
    "rt = rtsvg.RACETrack()\n",
    "\n",
    "df1 = pl.read_csv('../../data/2013_vast_challenge/mc3_netflow/nf/nf-chunk1.csv')\n",
    "#df2 = pl.read_csv('../../data/2013_vast_challenge/mc3_netflow/nf/nf-chunk2.csv')\n",
    "#df3 = pl.read_csv('../../data/2013_vast_challenge/mc3_netflow/nf/nf-chunk3.csv')\n",
    "df  = pl.concat([df1]) # , df2, df3])\n",
    "\n",
    "df = rt.columnsAreTimestamps(df, 'parsedDate')\n",
    "df = df.rename({'TimeSeconds':                '_del1_',    'parsedDate':                 'timestamp',     'dateTimeStr':                '_del2_',\n",
    "                'ipLayerProtocol':            'pro',       'ipLayerProtocolCode':        '_del3_',        'firstSeenSrcIp':             'sip',\n",
    "                'firstSeenDestIp':            'dip',       'firstSeenSrcPort':           'spt',           'firstSeenDestPort':          'dpt',\n",
    "                'moreFragments':              '_del4_',    'contFragments':              '_del5_',        'durationSeconds':            'dur',\n",
    "                'firstSeenSrcPayloadBytes':   '_del6_',    'firstSeenDestPayloadBytes':  '_del7_',        'firstSeenSrcTotalBytes':     'soct',\n",
    "                'firstSeenDestTotalBytes':    'doct',      'firstSeenSrcPacketCount':    'spkt',          'firstSeenDestPacketCount':   'dpkt',\n",
    "                'recordForceOut':             '_del8_'})\n",
    "df = df.drop(['_del1_', '_del2_', '_del3_', '_del4_', '_del5_', '_del6_', '_del7_', '_del8_'])\n",
    "df = df.sample(1_000)\n",
    "_relates_ = [('sip','dip')]\n",
    "#params_rt = {'df':df, 'relationships':_relates_, 'node_color':'node', 'every':'1d', 'h':384}\n",
    "#sl        = rt.spreadLines(node_focus='172.10.0.6', **params_rt)\n",
    "#rt.tile([sl])"
   ]
  },
  {
   "cell_type": "code",
   "execution_count": null,
   "metadata": {},
   "outputs": [],
   "source": [
    "_spec_    = {\n",
    "             (0,0,1,1):('linkNode',    {'relationships':_relates_}),\n",
    "             (1,0,1,1):('histogram',   {'bin_by':'sip'}),\n",
    "             (2,0,4,1):('spreadLines', {'relationships':_relates_, 'node_focus':'172.10.0.6'})\n",
    "            }\n",
    "_ip_      = rt.interactivePanel(df, _spec_, 1000, 200)\n",
    "_ip_"
   ]
  },
  {
   "cell_type": "code",
   "execution_count": null,
   "metadata": {},
   "outputs": [],
   "source": [
    "_ln_params_ = {'relationships':_relates_, 'pos':{}, 'link_shape':'curve', 'link_size':'vary'}\n",
    "_igl_       = rt.interactiveGraphPanel(df, _ln_params_, w=600, h=600)\n",
    "_ln_params_ = {'relationships':_relates_, 'pos':{}, 'link_shape':'curve', 'link_size':'vary'}\n",
    "_igl2_      = rt.interactiveGraphPanel(df, _ln_params_, w=600, h=600)\n",
    "_histogram_ = rt.interactivePanel(df, {(0,0,1,1):('histogram', {'bin_by':'sip', 'count_by':'dip'})}, 200, 600)\n",
    "_igl_.register_companion_viz(_histogram_),     _igl_.register_companion_viz(_igl2_)\n",
    "_igl2_.register_companion_viz(_histogram_),    _igl2_.register_companion_viz(_igl_)\n",
    "_histogram_.register_companion_viz(_igl_),     _histogram_.register_companion_viz(_igl2_)\n",
    "pn.Row(_igl_, _igl2_, _histogram_) #.show()"
   ]
  }
 ],
 "metadata": {
  "kernelspec": {
   "display_name": ".venv",
   "language": "python",
   "name": "python3"
  },
  "language_info": {
   "codemirror_mode": {
    "name": "ipython",
    "version": 3
   },
   "file_extension": ".py",
   "mimetype": "text/x-python",
   "name": "python",
   "nbconvert_exporter": "python",
   "pygments_lexer": "ipython3",
   "version": "3.13.3"
  }
 },
 "nbformat": 4,
 "nbformat_minor": 2
}
