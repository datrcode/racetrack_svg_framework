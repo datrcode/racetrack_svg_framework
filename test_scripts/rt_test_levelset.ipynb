{
 "cells": [
  {
   "cell_type": "code",
   "execution_count": null,
   "metadata": {},
   "outputs": [],
   "source": [
    "import pandas as pd\n",
    "\n",
    "import sys\n",
    "sys.path.insert(1, '../racetrack/') # base location of the .py classes\n",
    "from racetrack import *\n",
    "rt = RACETrack()"
   ]
  },
  {
   "cell_type": "code",
   "execution_count": null,
   "metadata": {},
   "outputs": [],
   "source": [
    "_w,_h = 128,128\n",
    "_base = [[None for x in range(_w)] for y in range(_h)]\n",
    "for x in range(60,70):\n",
    "    for y in range(60,70):\n",
    "        _base[y][x] = -1\n",
    "\n",
    "for x in range(30,32):\n",
    "    for y in range(0,50):\n",
    "        _base[y][x] = -1\n",
    "    for y in range(55,128):\n",
    "        _base[y][x] = -1\n",
    "\n",
    "_base[10][10] = 1\n",
    "_base[90][90] = 2\n",
    "_base[2][120] = 3\n",
    "_base[90][5]  = 4\n",
    "\n",
    "_state, _found_time, _origin = rt.levelSet(_base)"
   ]
  },
  {
   "cell_type": "code",
   "execution_count": null,
   "metadata": {},
   "outputs": [],
   "source": [
    "rt.displaySVG(rt.levelSetStateAndFoundTimeSVG(_state,_found_time))"
   ]
  },
  {
   "cell_type": "code",
   "execution_count": null,
   "metadata": {},
   "outputs": [],
   "source": []
  }
 ],
 "metadata": {
  "kernelspec": {
   "display_name": "Python 3",
   "language": "python",
   "name": "python3"
  },
  "language_info": {
   "codemirror_mode": {
    "name": "ipython",
    "version": 3
   },
   "file_extension": ".py",
   "mimetype": "text/x-python",
   "name": "python",
   "nbconvert_exporter": "python",
   "pygments_lexer": "ipython3",
   "version": "3.11.1"
  },
  "orig_nbformat": 4
 },
 "nbformat": 4,
 "nbformat_minor": 2
}
