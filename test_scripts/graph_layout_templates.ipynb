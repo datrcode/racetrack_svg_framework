{
 "cells": [
  {
   "cell_type": "code",
   "execution_count": null,
   "metadata": {},
   "outputs": [],
   "source": [
    "import polars as pl\n",
    "import numpy as np\n",
    "import networkx as nx\n",
    "import random\n",
    "import rtsvg\n",
    "rt = rtsvg.RACETrack()\n",
    "relates = [('fm','to')]\n",
    "def randStr(n=5): return ''.join(random.choices('abcdefghijklmnopqrstuvwxyzABCDEFGHIJKLMNOPQRSTUVWXYZ', k=n))"
   ]
  },
  {
   "cell_type": "code",
   "execution_count": null,
   "metadata": {},
   "outputs": [],
   "source": [
    "# Two Nodes\n",
    "_lu_ = {'fm':[], 'to':[]}\n",
    "for i in range(20): _lu_['fm'].append(f'2node{2*i}'), _lu_['to'].append(f'2node{2*i+1}')\n",
    "rt.link(pl.DataFrame(_lu_), relates)"
   ]
  },
  {
   "cell_type": "code",
   "execution_count": null,
   "metadata": {},
   "outputs": [],
   "source": [
    "# Three Nodes\n",
    "for i in range(20):\n",
    "    _str_ = randStr() # pattern 1 - triangle\n",
    "    _lu_['fm'].append(f'{_str_}0'), _lu_['to'].append(f'{_str_}1')\n",
    "    _lu_['fm'].append(f'{_str_}1'), _lu_['to'].append(f'{_str_}2')\n",
    "    _lu_['fm'].append(f'{_str_}2'), _lu_['to'].append(f'{_str_}0')\n",
    "    _str_ = randStr() # pattern 2 - \"L\"\n",
    "    _lu_['fm'].append(f'{_str_}0'), _lu_['to'].append(f'{_str_}1')\n",
    "    _lu_['fm'].append(f'{_str_}1'), _lu_['to'].append(f'{_str_}2')\n",
    "rt.link(pl.DataFrame(_lu_), relates)"
   ]
  },
  {
   "cell_type": "code",
   "execution_count": 4,
   "metadata": {},
   "outputs": [],
   "source": [
    "g = rt.createNetworkXGraph(pl.DataFrame(_lu_), relates)\n",
    "for _comp_ in nx.connected_components(g):\n",
    "    g.subgraph(_comp_)"
   ]
  },
  {
   "cell_type": "code",
   "execution_count": null,
   "metadata": {},
   "outputs": [],
   "source": [
    "#\n",
    "# graphCreateAllEdgeCombinationsForConnectedGraph()\n",
    "# - This function will create all possible connected graphs with the given number of nodes\n",
    "#\n",
    "# Scalability:\n",
    "# - 5 nodes -- time taken is  0.5s on M1 Pro\n",
    "# - 6 nodes -- time taken is 24.6s on M1 Pro\n",
    "#\n",
    "def graphCreateAllEdgeCombinationsForConnectedGraph(nodes=6):\n",
    "    if nodes > 6: raise ValueError('Too many nodes -- only up to 6 nodes supported')\n",
    "    max_edges           = nodes*(nodes-1)//2\n",
    "    gs_found, lus_found = [], []\n",
    "    for i in range(1, 2**max_edges):\n",
    "        mini_lu = {'fm':[], 'to':[]}\n",
    "        bit_no  = 0\n",
    "        for node_0 in range(nodes):\n",
    "            for node_1 in range(node_0+1, nodes):\n",
    "                if i & (1<<bit_no): mini_lu['fm'].append(f'{node_0}'), mini_lu['to'].append(f'{node_1}')\n",
    "                bit_no += 1\n",
    "        # Create this spectific graph\n",
    "        g_mini = rt.createNetworkXGraph(pl.DataFrame(mini_lu), relates)\n",
    "        # Make sure it is connected and has the right number of nodes\n",
    "        if nx.is_connected(g_mini) and nx.number_of_nodes(g_mini) == nodes:\n",
    "            # Make sure this graph is not already found\n",
    "            already_seen = False\n",
    "            for _other_ in gs_found:\n",
    "                if nx.is_isomorphic(g_mini, _other_):\n",
    "                    already_seen = True\n",
    "                    break\n",
    "            # If it is not already found, add it\n",
    "            if not already_seen:\n",
    "                gs_found.append(g_mini)\n",
    "                lus_found.append(mini_lu)\n",
    "    # transpose into a single dictionary\n",
    "    _lu_ = {'fm':[], 'to':[], 'fm_i':[], 'to_i':[], 'graph_no':[]}\n",
    "    for graph_no in range(len(lus_found)):\n",
    "        graph_no_str = f'{nodes}_{graph_no}'\n",
    "        my_lu = lus_found[graph_no]\n",
    "        for i in range(len(my_lu['fm'])):\n",
    "            _lu_['fm']      .append(f'{graph_no_str}_{my_lu[\"fm\"][i]}')\n",
    "            _lu_['to']      .append(f'{graph_no_str}_{my_lu[\"to\"][i]}')\n",
    "            _lu_['fm_i']    .append(int(my_lu['fm'][i]))\n",
    "            _lu_['to_i']    .append(int(my_lu['to'][i]))\n",
    "            _lu_['graph_no'].append(graph_no_str)\n",
    "    return _lu_\n",
    "\n",
    "graphCreateAllEdgeCombinationsForConnectedGraph(5)"
   ]
  },
  {
   "cell_type": "code",
   "execution_count": null,
   "metadata": {},
   "outputs": [],
   "source": []
  }
 ],
 "metadata": {
  "kernelspec": {
   "display_name": ".venv",
   "language": "python",
   "name": "python3"
  },
  "language_info": {
   "codemirror_mode": {
    "name": "ipython",
    "version": 3
   },
   "file_extension": ".py",
   "mimetype": "text/x-python",
   "name": "python",
   "nbconvert_exporter": "python",
   "pygments_lexer": "ipython3",
   "version": "3.12.3"
  }
 },
 "nbformat": 4,
 "nbformat_minor": 2
}
