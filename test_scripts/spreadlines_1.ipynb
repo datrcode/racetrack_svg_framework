{
 "cells": [
  {
   "cell_type": "code",
   "execution_count": null,
   "metadata": {},
   "outputs": [],
   "source": [
    "import pandas as pd\n",
    "import polars as pl\n",
    "import numpy as np\n",
    "import time\n",
    "import random\n",
    "import copy\n",
    "import rtsvg\n",
    "rt = rtsvg.RACETrack()\n",
    "\n",
    "from spreadlines_prototyping import spreadLines\n",
    "\n",
    "df1 = pl.read_csv('../../data/2013_vast_challenge/mc3_netflow/nf/nf-chunk1.csv')\n",
    "#df2 = pl.read_csv('../../data/2013_vast_challenge/mc3_netflow/nf/nf-chunk2.csv')\n",
    "#df3 = pl.read_csv('../../data/2013_vast_challenge/mc3_netflow/nf/nf-chunk3.csv')\n",
    "df  = pl.concat([df1]) # , df2, df3])\n",
    "\n",
    "df = rt.columnsAreTimestamps(df, 'parsedDate')\n",
    "df = df.rename({'TimeSeconds':                '_del1_',                'parsedDate':                 'timestamp',\n",
    "                'dateTimeStr':                '_del2_',                'ipLayerProtocol':            'pro',\n",
    "                'ipLayerProtocolCode':        '_del3_',                'firstSeenSrcIp':             'sip',\n",
    "                'firstSeenDestIp':            'dip',                   'firstSeenSrcPort':           'spt',\n",
    "                'firstSeenDestPort':          'dpt',                   'moreFragments':              '_del4_',\n",
    "                'contFragments':              '_del5_',                'durationSeconds':            'dur',\n",
    "                'firstSeenSrcPayloadBytes':   '_del6_',                'firstSeenDestPayloadBytes':  '_del7_',\n",
    "                'firstSeenSrcTotalBytes':     'soct',                'firstSeenDestTotalBytes':    'doct',\n",
    "                'firstSeenSrcPacketCount':    'spkt',                'firstSeenDestPacketCount':   'dpkt',\n",
    "                'recordForceOut':             '_del8_'})\n",
    "df = df.drop(['_del1_', '_del2_', '_del3_', '_del4_', '_del5_', '_del6_', '_del7_', '_del8_'])\n",
    "df = df.sample(500_000)"
   ]
  },
  {
   "cell_type": "code",
   "execution_count": null,
   "metadata": {},
   "outputs": [],
   "source": [
    "# original impl:               about 14s per render ... total is about 43s\n",
    "# w/out the alter concat step: about  9s per render ... total is about 28s\n",
    "#params    = {'rt_self':rt, 'df':df, 'relationships':[('sip','dip')], 'node_color':'node', 'every':'1d', 'h':384}\n",
    "#sl0       =       spreadLines(node_focus='172.30.0.4', **params)\n",
    "#sl0_2     = rtsvg.spreadLines(node_focus='172.30.0.4', **params)\n",
    "params_rt = {              'df':df, 'relationships':[('sip','dip')], 'node_color':'node', 'every':'1h', 'h':384}\n",
    "sl0_3     =    rt.spreadLines(node_focus='172.30.0.4', **params_rt)\n",
    "rt.tile([sl0_3], horz=False)"
   ]
  },
  {
   "cell_type": "code",
   "execution_count": null,
   "metadata": {},
   "outputs": [],
   "source": [
    "#sl1   =       spreadLines(node_focus='172.30.0.4', only_render_nodes=set(['10.156.165.212', '10.16.5.15',]), **params)\n",
    "#sl1_2 = rtsvg.spreadLines(node_focus='172.30.0.4', only_render_nodes=set(['10.156.165.212', '10.16.5.15',]), **params)\n",
    "sl1_3 = rt.spreadLines(node_focus='172.30.0.4', only_render_nodes=set(['10.156.165.212', '10.16.5.15',]), **params_rt)\n",
    "rt.tile([sl1_3], horz=False)"
   ]
  },
  {
   "cell_type": "code",
   "execution_count": null,
   "metadata": {},
   "outputs": [],
   "source": [
    "#sl2   =       spreadLines(node_focus='172.30.0.4', only_render_nodes=set(),                                  **params)\n",
    "#sl2_2 = rtsvg.spreadLines(node_focus='172.30.0.4', only_render_nodes=set(),                                  **params)\n",
    "sl2_3  = rt.spreadLines(node_focus='172.30.0.4', only_render_nodes=set(),                                     **params_rt)\n",
    "rt.tile([sl2_3], horz=False)"
   ]
  },
  {
   "cell_type": "code",
   "execution_count": null,
   "metadata": {},
   "outputs": [],
   "source": [
    "params_rt = {              'df':df, 'relationships':[('sip','dip')], 'node_color':'node', 'every':'2h', 'w':1600, 'h':384}\n",
    "sl3_3     = rt.spreadLines(node_focus=['172.30.0.4','10.6.6.6', '10.7.6.3', '10.16.5.15'], **params_rt)\n",
    "rt.tile([sl3_3], horz=False)"
   ]
  },
  {
   "cell_type": "code",
   "execution_count": null,
   "metadata": {},
   "outputs": [],
   "source": [
    "sl3_3     = rt.spreadLines(node_focus=['10.7.6.3', '10.16.5.15'], **params_rt)\n",
    "rt.tile([sl3_3], horz=False)"
   ]
  },
  {
   "cell_type": "code",
   "execution_count": null,
   "metadata": {},
   "outputs": [],
   "source": []
  }
 ],
 "metadata": {
  "kernelspec": {
   "display_name": ".venv",
   "language": "python",
   "name": "python3"
  },
  "language_info": {
   "codemirror_mode": {
    "name": "ipython",
    "version": 3
   },
   "file_extension": ".py",
   "mimetype": "text/x-python",
   "name": "python",
   "nbconvert_exporter": "python",
   "pygments_lexer": "ipython3",
   "version": "3.13.3"
  }
 },
 "nbformat": 4,
 "nbformat_minor": 2
}
