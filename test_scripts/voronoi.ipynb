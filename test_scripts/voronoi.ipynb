{
 "cells": [
  {
   "cell_type": "code",
   "execution_count": null,
   "metadata": {},
   "outputs": [],
   "source": [
    "import random\n",
    "import rtsvg\n",
    "rt = rtsvg.RACETrack()"
   ]
  },
  {
   "cell_type": "code",
   "execution_count": null,
   "metadata": {},
   "outputs": [],
   "source": [
    "_n_, w, h = 20, 600, 400\n",
    "pts = []\n",
    "for i in range(_n_):\n",
    "    x, y = random.randint(20,w-20), random.randint(20,h-20)\n",
    "    pts.append((x,y))\n",
    "\n",
    "# Base Image\n",
    "_svg_ = [f'<svg x=\"0\" y=\"0\" width=\"{w}\" height=\"{h}\">']\n",
    "_svg_.append('<rect x=\"0\" y=\"0\" width=\"{w}\" height=\"{h}\" fill=\"#ffffff\" />')\n",
    "for i in range(_n_): _svg_.append(f'<circle cx=\"{pts[i][0]}\" cy=\"{pts[i][1]}\" r=\"2\" stroke=\"#000000\" fill=\"#000000\" />')\n",
    "\n",
    "# Perpendicular lines\n",
    "_perps_ = []\n",
    "for i in range(_n_):\n",
    "    for j in range(i+1, _n_):\n",
    "        x, y = (pts[i][0]+pts[j][0])/2, (pts[i][1]+pts[j][1])/2\n",
    "        dx, dy = rt.unitVector((pts[i],pts[j]))\n",
    "        pdx, pdy = dy, -dx\n",
    "        l = max(w,y)\n",
    "        _perps_.append(f'<line x1=\"{x+pdx*l}\" y1=\"{y+pdy*l}\" x2=\"{x-pdx*l}\" y2=\"{y-pdy*l}\" stroke=\"#000000\" stroke-width=\"0.1\" />')\n",
    "        _perps_.append(f'<circle cx=\"{x}\" cy=\"{y}\" r=\"2\" fill=\"none\" stroke=\"#ff0000\" stroke-width=\"0.2\" />')\n",
    "\n",
    "rt.tile([''.join(_svg_) + '</svg>', ''.join(_svg_) + ''.join(_perps_) + '</svg>'])"
   ]
  },
  {
   "cell_type": "code",
   "execution_count": null,
   "metadata": {},
   "outputs": [],
   "source": [
    "# Perpendicular lines\n",
    "_single_ = []\n",
    "i  = 0\n",
    "_single_.append(f'<circle cx=\"{pts[0][0]}\" cy=\"{pts[0][1]}\" r=\"4\" fill=\"none\" stroke=\"#ff0000\" stroke-width=\"1\" />')\n",
    "for j in range(1, _n_):\n",
    "    x, y = (pts[i][0]+pts[j][0])/2, (pts[i][1]+pts[j][1])/2\n",
    "    dx, dy = rt.unitVector((pts[i],pts[j]))\n",
    "    pdx, pdy = dy, -dx\n",
    "    l = max(w,y)\n",
    "    _single_.append(f'<line x1=\"{x+pdx*l}\" y1=\"{y+pdy*l}\" x2=\"{x-pdx*l}\" y2=\"{y-pdy*l}\" stroke=\"#000000\" stroke-width=\"0.1\" />')\n",
    "    _single_.append(f'<circle cx=\"{x}\" cy=\"{y}\" r=\"2\" fill=\"none\" stroke=\"#ff0000\" stroke-width=\"0.2\" />')\n",
    "rt.tile([''.join(_svg_) + ''.join(_single_) + '</svg>'])"
   ]
  },
  {
   "cell_type": "code",
   "execution_count": null,
   "metadata": {},
   "outputs": [],
   "source": []
  }
 ],
 "metadata": {
  "kernelspec": {
   "display_name": ".venv",
   "language": "python",
   "name": "python3"
  },
  "language_info": {
   "codemirror_mode": {
    "name": "ipython",
    "version": 3
   },
   "file_extension": ".py",
   "mimetype": "text/x-python",
   "name": "python",
   "nbconvert_exporter": "python",
   "pygments_lexer": "ipython3",
   "version": "3.12.3"
  }
 },
 "nbformat": 4,
 "nbformat_minor": 2
}
