{
 "cells": [
  {
   "cell_type": "code",
   "execution_count": null,
   "id": "a82ac7c8",
   "metadata": {},
   "outputs": [],
   "source": [
    "#\n",
    "# Using Uniform Sample Distribution To Better Distribute the Nodes\n",
    "#\n",
    "import polars   as pl\n",
    "import networkx as nx\n",
    "import rtsvg\n",
    "rt = rtsvg.RACETrack()\n",
    "\n",
    "# Parse the file format into a dataframe\n",
    "edges_filename, layout_filename  = '../../data/stanford/facebook/414.edges', '../../data/stanford/facebook/414.rt_layout.parquet'\n",
    "_lu_ = {'fm':[], 'to':[]}\n",
    "for _edge_ in open(edges_filename, 'rt').read().split('\\n'):\n",
    "    if _edge_ == '': continue\n",
    "    _split_     = _edge_.split()\n",
    "    _fm_, _to_  = int(_split_[0]), int(_split_[1])\n",
    "    _lu_['fm'].append(_fm_), _lu_['to'].append(_to_)\n",
    "df  = pl.DataFrame(_lu_)\n",
    "\n",
    "# Relationship & networkx graph w/ a spring layout\n",
    "_relates_ = [('fm','to')]\n",
    "g   = rt.createNetworkXGraph(df, _relates_)\n",
    "pos = nx.spring_layout(g)\n",
    "\n",
    "# Expands nodes using Uniformm Sample Distribution algorithm / better filling the space on the screen\n",
    "_nodes_                   = list(pos.keys())\n",
    "_xs_, _ys_, _ws_, _ns_ = [], [], [], []\n",
    "for i in range(len(_nodes_)):\n",
    "    _xs_   .append(pos[_nodes_[i]][0])\n",
    "    _ys_   .append(pos[_nodes_[i]][1])\n",
    "    _ws_   .append(g.degree(_nodes_[i]))\n",
    "    _ns_   .append(_nodes_[i])\n",
    "_df_         = pl.DataFrame({'x':_xs_, 'y':_ys_, 'w':_ws_, 'node':_ns_})\n",
    "_df_results_ = rt.uniformSampleDistributionInScatterplotsViaSectorBasedTransformation(_df_, 'x', 'y', wgt_field='w', iterations=128)\n",
    "_pos_ = {}\n",
    "for i in range(len(_df_results_)): _pos_[_df_results_['node'][i]] = (_df_results_['x'][i], _df_results_['y'][i])\n",
    "\n",
    "# Provides colors based on community\n",
    "_node_colors_ = {}\n",
    "community_i   = 0\n",
    "for _community_ in nx.community.louvain_communities(g):\n",
    "    community_i += 1\n",
    "    for _node_ in _community_: _node_colors_[_node_] = rt.co_mgr.getColor(community_i)\n",
    "_ln_params_ = {'relationships':_relates_, 'pos':_pos_, 'color_by':None, 'node_color':_node_colors_, 'link_shape':'curve', 'link_size':'small', 'draw_labels':False}\n",
    "\n",
    "# Interactive Graph Layout\n",
    "_igl_ = rt.interactiveGraphLayout(df, _ln_params_, w=600, h=600)\n",
    "_igl_"
   ]
  },
  {
   "cell_type": "code",
   "execution_count": null,
   "id": "d483d42a",
   "metadata": {},
   "outputs": [],
   "source": []
  }
 ],
 "metadata": {
  "kernelspec": {
   "display_name": ".venv",
   "language": "python",
   "name": "python3"
  },
  "language_info": {
   "codemirror_mode": {
    "name": "ipython",
    "version": 3
   },
   "file_extension": ".py",
   "mimetype": "text/x-python",
   "name": "python",
   "nbconvert_exporter": "python",
   "pygments_lexer": "ipython3",
   "version": "3.13.3"
  }
 },
 "nbformat": 4,
 "nbformat_minor": 5
}
