{
 "cells": [
  {
   "cell_type": "code",
   "execution_count": null,
   "metadata": {},
   "outputs": [],
   "source": [
    "import pandas as pd\n",
    "import rtsvg\n",
    "rt = rtsvg.RACETrack()\n",
    "import random\n",
    "import string\n",
    "def randomString(): return ''.join(random.choices(string.ascii_uppercase + string.digits, k=10))\n",
    "_tiles_ = []\n",
    "for _number_of_models_ in range(3,6,2): # range(2, 8):\n",
    "    for _question_id_ in range(1, 3): \n",
    "        for _number_of_scus_ in range(10, 40, 20): # range(4, 100, 4):\n",
    "            _qid_  = f'q{_question_id_}_m{_number_of_models_}_scu{_number_of_scus_}'\n",
    "            _scus_ = []\n",
    "            for i in range(_number_of_scus_): _scus_.append(randomString())\n",
    "            _lu_ = {'qid':[], 'q':[], 'm':[], 'scu':[]}\n",
    "            for _model_no_ in range(_number_of_models_):\n",
    "                num_of_scus = random.randint(1, len(_scus_))\n",
    "                _scus_choices_ = random.sample(_scus_, num_of_scus)\n",
    "                for _scu_ in _scus_choices_:\n",
    "                    _lu_['qid'].append(_qid_)\n",
    "                    _lu_['q']  .append('???')\n",
    "                    _lu_['m']  .append(f'm{_model_no_}')\n",
    "                    _lu_['scu'].append(_scu_)\n",
    "            df_test         = pd.DataFrame(_lu_)\n",
    "            scu_pyramid_test = rtsvg.SCUPyramidMethodDiagram(rt, df_test, 'qid', 'scu', 'm', q_id_multiple=1.2)\n",
    "            _tiles_.append(scu_pyramid_test.svgSnowman(_qid_))\n",
    "            _tiles_.append(scu_pyramid_test.svgPyramid(_qid_))\n",
    "rt.table(_tiles_, per_row=6, spacer=10)"
   ]
  },
  {
   "cell_type": "code",
   "execution_count": null,
   "metadata": {},
   "outputs": [],
   "source": []
  }
 ],
 "metadata": {
  "kernelspec": {
   "display_name": ".venv",
   "language": "python",
   "name": "python3"
  },
  "language_info": {
   "codemirror_mode": {
    "name": "ipython",
    "version": 3
   },
   "file_extension": ".py",
   "mimetype": "text/x-python",
   "name": "python",
   "nbconvert_exporter": "python",
   "pygments_lexer": "ipython3",
   "version": "3.12.3"
  }
 },
 "nbformat": 4,
 "nbformat_minor": 2
}
