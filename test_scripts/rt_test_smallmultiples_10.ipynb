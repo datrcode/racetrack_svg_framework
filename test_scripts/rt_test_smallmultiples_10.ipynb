{
 "cells": [
  {
   "cell_type": "code",
   "execution_count": null,
   "id": "5becd1c4-1970-499c-adcc-3deb8a2fb655",
   "metadata": {},
   "outputs": [],
   "source": [
    "import pandas as pd\n",
    "import polars as pl\n",
    "import sys\n",
    "sys.path.insert(1, '../framework')\n",
    "from racetrack import *\n",
    "rt = RACETrack()\n",
    "df = pd.DataFrame({'x':[1,1,1], 'y':[1,1,1], 'b':['a','b','c'],'c':[20,10,5]})\n",
    "rt.xy(df, x_field='x', y_field='y', sm_type='histogram', sm_params={'bin_by':'b'}, sm_w=90, sm_h=90)"
   ]
  },
  {
   "cell_type": "code",
   "execution_count": null,
   "id": "23d1b88b",
   "metadata": {},
   "outputs": [],
   "source": [
    "rt.smallMultiples(df, category_by='x', sm_type='histogram', sm_params={'bin_by':'b'}, y_axis_independent=False, w=200, h=200)"
   ]
  },
  {
   "cell_type": "code",
   "execution_count": null,
   "id": "119009c6",
   "metadata": {},
   "outputs": [],
   "source": []
  }
 ],
 "metadata": {
  "kernelspec": {
   "display_name": "Python 3",
   "language": "python",
   "name": "python3"
  },
  "language_info": {
   "codemirror_mode": {
    "name": "ipython",
    "version": 3
   },
   "file_extension": ".py",
   "mimetype": "text/x-python",
   "name": "python",
   "nbconvert_exporter": "python",
   "pygments_lexer": "ipython3",
   "version": "3.9.6"
  },
  "vscode": {
   "interpreter": {
    "hash": "677ca678853aa41fc137f4b55f2bc0c694e45735c0d2faa667d2ec5acb71e67d"
   }
  }
 },
 "nbformat": 4,
 "nbformat_minor": 5
}
