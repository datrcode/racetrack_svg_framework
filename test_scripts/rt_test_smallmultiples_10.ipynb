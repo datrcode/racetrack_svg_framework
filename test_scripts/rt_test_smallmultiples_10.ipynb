{
 "cells": [
  {
   "cell_type": "code",
   "execution_count": null,
   "id": "5becd1c4-1970-499c-adcc-3deb8a2fb655",
   "metadata": {},
   "outputs": [],
   "source": [
    "import pandas as pd\n",
    "import polars as pl\n",
    "import sys\n",
    "sys.path.insert(1, '../framework')\n",
    "from racetrack import *\n",
    "rt = RACETrack()\n",
    "#df = pd.DataFrame({'x':[1,1,1], 'y':[1,1,1], 'b':['a','b','c'],'c':[20,10,5]})\n",
    "#rt.xy(df, x_field='x', y_field='y', sm_type='histogram', sm_params={'bin_by':'b'}, sm_w=90, sm_h=90)\n",
    "#rt.smallMultiples(df, category_by='x', sm_type='histogram', sm_params={'bin_by':'b'}, y_axis_independent=False, w=200, h=200)\n",
    "df  = pd.DataFrame({'fm':['a','a','b','b'],'to':['b','c','c','c']})\n",
    "pos = {'a':(10,10), 'b':(10,20), 'c':(20,10)} \n",
    "rt.linkNode(pl.DataFrame(df), [('fm','to')], pos, bounds_percent=0.4, color_by='fm', \n",
    "            sm_type='histogram', sm_params={'bin_by':'fm'})"
   ]
  },
  {
   "cell_type": "code",
   "execution_count": null,
   "id": "23d1b88b",
   "metadata": {},
   "outputs": [],
   "source": [
    "df = pd.DataFrame({'fm':['a', 'b', 'c', 'a',  'a',  'a',  'd',  'd',  'd'],\n",
    "                   'to':['b', 'c', 'd', 'a0', 'a1', 'a1', 'd0', 'd0', 'd2'],\n",
    "                   'no':[ 10,  5,   5,   20,   6,    3,    4,    5,    8],\n",
    "                   'co':['r', 'r', 'r', 'b',  'g',  'y',  'g',  'b',  'y']})\n",
    "relates = [('fm','to')]\n",
    "pos     = {'a':(0,0), 'b':(1,1), 'c':(2,2), 'd':(3,3), 'a0':(0,1), 'a1':(1,0), 'd0':(3,2), 'd2':(2,3)}\n",
    "_svgs_ = []\n",
    "#_svgs_.append(rt.linkNode(df, relates, pos, \n",
    "#                          w=512, h=512, x_ins=64, y_ins=64, node_size=24,\n",
    "#                          sm_type='pieChart', link_shape='curve',\n",
    "#                          color_by='co', count_by='no'))\n",
    "_svgs_.append(rt.linkNode(pl.DataFrame(df), relates, pos, \n",
    "                          w=512, h=512, x_ins=64, y_ins=64, node_size=24,\n",
    "                          sm_type='pieChart', link_shape='curve',\n",
    "                          color_by='co', count_by='no'))\n",
    "rt.tile(_svgs_)"
   ]
  },
  {
   "cell_type": "code",
   "execution_count": null,
   "id": "119009c6",
   "metadata": {},
   "outputs": [],
   "source": []
  }
 ],
 "metadata": {
  "kernelspec": {
   "display_name": "Python 3",
   "language": "python",
   "name": "python3"
  },
  "language_info": {
   "codemirror_mode": {
    "name": "ipython",
    "version": 3
   },
   "file_extension": ".py",
   "mimetype": "text/x-python",
   "name": "python",
   "nbconvert_exporter": "python",
   "pygments_lexer": "ipython3",
   "version": "3.9.6"
  },
  "vscode": {
   "interpreter": {
    "hash": "677ca678853aa41fc137f4b55f2bc0c694e45735c0d2faa667d2ec5acb71e67d"
   }
  }
 },
 "nbformat": 4,
 "nbformat_minor": 5
}
