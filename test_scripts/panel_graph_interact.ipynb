{
 "cells": [
  {
   "cell_type": "code",
   "execution_count": null,
   "metadata": {},
   "outputs": [],
   "source": [
    "import pandas as pd\n",
    "import polars as pl\n",
    "\n",
    "import sys\n",
    "sys.path.insert(1, '../framework')\n",
    "from racetrack      import *\n",
    "from rt_panel_mixin import RTGraphInteractiveLayout\n",
    "\n",
    "rt = RACETrack()\n",
    "\n",
    "df = pl.DataFrame({'fm':'a b c d e a'.split(),\n",
    "                   'to':'b c d e a d'.split()})\n",
    "_params_ = {'relationships':[('fm','to')], 'draw_labels':True, 'render_pos_context':True}\n",
    "_pos_    = {'a':(0.0,0.0), 'b':(1.0,0.0), 'c':(1.0,1.0), 'd':(0.5,1.0), 'e':(0.0,1.0)}\n",
    "_rtg_ = RTGraphInteractiveLayout(rt, df, _params_, _pos_)\n",
    "_rtg_"
   ]
  },
  {
   "cell_type": "code",
   "execution_count": null,
   "metadata": {},
   "outputs": [],
   "source": [
    "_rtg_.selected_entities, _rtg_.selectionpath, _rtg_.last_key, _rtg_.allentities_x0, _rtg_.allentities_y0"
   ]
  },
  {
   "cell_type": "code",
   "execution_count": null,
   "metadata": {},
   "outputs": [],
   "source": [
    "#rt.linkNode(df, pos=_pos_, **_params_)"
   ]
  },
  {
   "cell_type": "code",
   "execution_count": null,
   "metadata": {},
   "outputs": [],
   "source": [
    "df_nf  = pl.read_csv('../../netflow_sample.csv').sample(20_000)\n",
    "print(len(set(df_nf['sip']) | set(df_nf['dip'])))\n",
    "pos_nf = {}"
   ]
  },
  {
   "cell_type": "code",
   "execution_count": null,
   "metadata": {},
   "outputs": [],
   "source": [
    "_rtg_nf_ = RTGraphInteractiveLayout(rt, df_nf, {'relationships':[('sip','dip')], 'draw_labels':True, 'link_opacity':0.2}, pos_nf)\n",
    "_rtg_nf_"
   ]
  },
  {
   "cell_type": "code",
   "execution_count": null,
   "metadata": {},
   "outputs": [],
   "source": [
    "# ... so only keys that are safe with shift will be used // 2024-06-16\n",
    "# in firefox for jupyter lab, neither \"m\" nor \"r\" are safe to use (unless defaults are prevented... then everything\n",
    "# is safe (assuming w/out control being pressed) ... except that's not how visual studio code works...\n",
    "# okay \"  c e ghi   mn pqrstu w yz\" -- these keys don't seem to be shortcuts // visual studio code\n",
    "# okay \"  c e ghi    n pq stu w yz\" -- these keys don't seem to be shortcuts // firefox for jupyter lab\n",
    "# used \"  c e g         q st  w  z\"\n",
    "# aval \"       hi    n p    u     \" -- set(okay) - set(used)\n",
    "# ... all are safe with \"shift\"\n",
    "\n",
    "# 'c' :            - layout selection (SUNFLOWER)\n",
    "# 'c' : shift      - layout selection (CIRCLE)\n",
    "# 'e' :            - expand selection \n",
    "# 'e' : shift      - use a digraph\n",
    "# 'g' :            - layout selection (grid)\n",
    "# 'g' : shift      - layout selection (line)\n",
    "# 'q' :            - invert selection\n",
    "# 'q' : shift      - select common neighbors\n",
    "# 's' :            - set selected nodes to the sticky label set\n",
    "# 's' : shift      - subtract nodes from sticky labels\n",
    "# 't':             - combine into a single node\n",
    "# 'w' :            - add nodes to sticky labels\n",
    "# 'w' : shift      - toggle through \"all labels\" / \"sticky labels\" / \"no labels\"\n",
    "# 'y':             - vertical line of nodes (selected)\n",
    "# 'y':  shift      - horizontal line of nodes (selected)\n",
    "# 'z' :            - zoom (if selected nodes, fit all selected in view) ... if none selected, fit all nodes in the view\n",
    "# 'z' : shift      - selected w/ all neighbors in view\n",
    "\n",
    "# 'spc':           - remove nodes from dataframe (push new dataframe onto the stack)\n",
    "# 'spc': shift     - add them back in (go up the stack)\n",
    "# 'spc': ctrl      - go down the stack (what's already on the stack)\n",
    "\n",
    "# '1..90':         - select nodes by degree w/ 0 == > 9 degree\n",
    "# '1..90':         - (if nodes are already selected... do the intersection with those nodes)\n",
    "# '1..90': shift   - subtract those nodes from the selection\n",
    "\n",
    "#\n",
    "# OLD KEYBOARD SHORTCUTS (used ctrl) // prior to 2024-06-16\n",
    "#\n",
    "\n",
    "# ... that leaves \"cehimstuyz\" as the only safe keys for shift & control combinations\n",
    "# ... used so far \"ce   st  z\"\n",
    "# ... 1..9 are all safe... shift + 1..9 are all safe... but not ctrl + 1..9\n",
    "# ... usually - \"shift\" is subtract, \"ctrl\" is add, and \"shift-ctrl\" is intersect\n",
    "\n",
    "## LAYOUT\n",
    "# DONE 'c': grid       (most common use)\n",
    "# DONE 'c': shift      - line\n",
    "# DONE 'c': ctrl       - sunflower\n",
    "# DONE 'c': ctrl-shift - circle\n",
    "# DONE 't': shift      - horizontal (or vertical)\n",
    "# DONE 't': ctrl       - vertical (or horizontal)\n",
    "# DONE 't': collapse to a single point\n",
    "\n",
    "## SHORTCUTS\n",
    "# DONE 'e' :                 - expand selection \n",
    "# DONE 'e' : ctrl            - use a digraph\n",
    "# DONE 'e' : shift           - invert selection\n",
    "# DONE 'e' : ctrl-shift      - select common neighbors\n",
    "# DONE 's' :                 - set selected nodes to the sticky label set\n",
    "# DONE 's' : ctrl            - add nodes to sticky labels\n",
    "# DONE 's' : shift           - subtract nodes from sticky labels\n",
    "# DONE 's' : ctrl-shift      - toggle through \"all labels\" / \"sticky labels\" / \"no labels\"\n",
    "# DONE 'z' :                 - zoom (if selected nodes, fit all selected in view) ... if none selected, fit all nodes in the view\n",
    "# DONE 'z' : shift           - reset to all nodes in view (if you wanted to just keep your selection)\n",
    "# DONE 'z' : ctrl-shift      - selected w/ all neighbors in view\n",
    "# DONE:'spc':                - remove nodes from dataframe (push new dataframe onto the stack)\n",
    "# DONE:'spc': shift          - add them back in (go up the stack)\n",
    "# DONE:'spc': ctrl           - go down the stack (what's already on the stack)\n",
    "\n",
    "## INTERACTION (Dragging w/ the Mouse)\n",
    "# DONE : select\n",
    "# DONE : ctrl       - add to select\n",
    "# DONE : shift      - subtract from select\n",
    "# DONE : ctrl-shift - intersect with select\n",
    "\n",
    "# ???     : select color under the mouse / shift-subtract / ctrl-add\n",
    "# '1..90' : select node by degree 1...9 ... 0 is degree 10 or more // only shift is safe... can't use control\n"
   ]
  },
  {
   "cell_type": "code",
   "execution_count": null,
   "metadata": {},
   "outputs": [],
   "source": [
    "g = rt.createNetworkXGraph(df, [('fm','to')])\n",
    "g.degree('a')"
   ]
  },
  {
   "cell_type": "code",
   "execution_count": null,
   "metadata": {},
   "outputs": [],
   "source": []
  }
 ],
 "metadata": {
  "kernelspec": {
   "display_name": "Python 3 (ipykernel)",
   "language": "python",
   "name": "python3"
  },
  "language_info": {
   "codemirror_mode": {
    "name": "ipython",
    "version": 3
   },
   "file_extension": ".py",
   "mimetype": "text/x-python",
   "name": "python",
   "nbconvert_exporter": "python",
   "pygments_lexer": "ipython3",
   "version": "3.11.6"
  }
 },
 "nbformat": 4,
 "nbformat_minor": 4
}
