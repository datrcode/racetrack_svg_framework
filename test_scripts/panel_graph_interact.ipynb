{
 "cells": [
  {
   "cell_type": "code",
   "execution_count": null,
   "metadata": {},
   "outputs": [],
   "source": [
    "import pandas as pd\n",
    "import polars as pl\n",
    "\n",
    "import sys\n",
    "sys.path.insert(1, '../framework')\n",
    "from racetrack      import *\n",
    "from rt_panel_mixin import RTGraphInteractiveLayout\n",
    "\n",
    "rt = RACETrack()\n",
    "\n",
    "df = pd.DataFrame({'fm':'a b c d e a'.split(),\n",
    "                   'to':'b c d e a d'.split()})\n",
    "_params_ = {'relationships':[('fm','to')], 'draw_labels':True}\n",
    "_pos_    = {'a':(0,0), 'b':(1,0), 'c':(1,1), 'd':(0.5,1), 'e':(0,1)}\n",
    "_rtg_ = RTGraphInteractiveLayout(rt, df, _params_, _pos_)\n",
    "_rtg_"
   ]
  },
  {
   "cell_type": "code",
   "execution_count": null,
   "metadata": {},
   "outputs": [],
   "source": [
    "_rtg_.last_drag_box, _rtg_.selected_entities, _rtg_.selectionpath, _rtg_.last_key"
   ]
  },
  {
   "cell_type": "code",
   "execution_count": null,
   "metadata": {},
   "outputs": [],
   "source": [
    "#rt.linkNode(df, pos=_pos_, **_params_)"
   ]
  },
  {
   "cell_type": "code",
   "execution_count": null,
   "metadata": {},
   "outputs": [],
   "source": [
    "#df_nf  = pl.read_csv('../../netflow_sample.csv').sample(100_000)\n",
    "#print(len(set(df_nf['sip']) | set(df_nf['dip'])))\n",
    "#pos_nf = {}"
   ]
  },
  {
   "cell_type": "code",
   "execution_count": null,
   "metadata": {},
   "outputs": [],
   "source": [
    "#_rtg_nf_ = RTGraphInteractHTML(rt, df_nf, {'relationships':[('sip','dip')], 'draw_labels':False, 'link_opacity':0.2}, pos_nf)\n",
    "#_rtg_nf_"
   ]
  },
  {
   "cell_type": "code",
   "execution_count": null,
   "metadata": {},
   "outputs": [],
   "source": [
    "# ... that leaves \"cehimstuyz\" as the only safe keys for shift & control combinations\n",
    "# ... 1..9 are all safe... shift + 1..9 are all safe... but not ctrl + 1..9\n",
    "# ... usually - \"shift\" is subtract, \"ctrl\" is add, and \"shift-ctrl\" is intersect\n",
    "\n",
    "## ICONS (along bottom, left to right)\n",
    "# reset view (all nodes)\n",
    "# reset view (selected nodes)\n",
    "# tagging? / done the right hand side of the view?\n",
    "\n",
    "## LAYOUT\n",
    "# 'c': grid       (most common use)\n",
    "# DONE 'c': shift      - line\n",
    "# DONE 'c': ctrl       - sunflower\n",
    "# DONE 'c': ctrl-shift - circle\n",
    "# DONE 't': shift      - horizontal (or vertical)\n",
    "# DONE 't': ctrl       - vertical (or horizontal)\n",
    "# DONE 't': collapse to a single point\n",
    "\n",
    "## SHORTCUTS\n",
    "# DONE 'e' : expand selection \n",
    "# DONE 'e' : ctrl            - use a digraph\n",
    "# DONE 'e' : shift           - invert selection\n",
    "# DONE 'e' : ctrl-shift      - select common neighbors\n",
    "# MAYB 's' : set selected nodes to the sticky label set\n",
    "# MAYB 's' : ctrl            - add nodes to sticky labels\n",
    "# MAYB 's' : shift           - subtract nodes from sticky labels\n",
    "# MAYB 's' : ctrl-shift      - toggle through \"all labels\" / \"sticky labels\" / \"no labels\"\n",
    "# DONE 'z' : zoom (if selected nodes, fit all selected in view) ... if none selected, fit all nodes in the view\n",
    "# Done 'z' : shift           - reset to all nodes in view (if you wanted to just keep your selection)\n",
    "# DONE 'z' : ctrl-shift      - selected w/ all neighbors in view\n",
    "\n",
    "# ???     : select color under the mouse / shift-subtract / ctrl-add\n",
    "# '1..90' : select node by degree 1...9 ... 0 is degree 10 or more // only shift is safe... can't use control\n",
    "# 'spc'   : remove selected nodes from the graph , 'ctrl-spc' to add nodes back in (go up the stack)\n",
    "\n",
    "## INTERACTION\n",
    "# DONE : select\n",
    "# DONE : ctrl       - add to select\n",
    "# DONE : shift      - subtract from select\n",
    "# DONE : ctrl-shift - intersect with select\n"
   ]
  },
  {
   "cell_type": "code",
   "execution_count": null,
   "metadata": {},
   "outputs": [],
   "source": []
  }
 ],
 "metadata": {
  "kernelspec": {
   "display_name": ".venv",
   "language": "python",
   "name": "python3"
  },
  "language_info": {
   "codemirror_mode": {
    "name": "ipython",
    "version": 3
   },
   "file_extension": ".py",
   "mimetype": "text/x-python",
   "name": "python",
   "nbconvert_exporter": "python",
   "pygments_lexer": "ipython3",
   "version": "3.9.6"
  }
 },
 "nbformat": 4,
 "nbformat_minor": 2
}
