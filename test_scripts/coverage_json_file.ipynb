{
 "cells": [
  {
   "cell_type": "code",
   "execution_count": null,
   "id": "5c94466f",
   "metadata": {},
   "outputs": [],
   "source": [
    "import polars as pl\n",
    "import networkx as nx\n",
    "from   pathlib import Path\n",
    "import json\n",
    "import rtsvg\n",
    "rt = rtsvg.RACETrack()\n",
    "coverage = json.load(open(Path('../../20250921_coverage_json_files/20251022_2010_coverage.json'), 'rt'))\n",
    "# coverage['files']['rtsvg/circle_packer.py'].keys()\n",
    "_file_order_ = [_tuple_[1] for _tuple_ in sorted([(int(coverage['files'][_file_]['summary']['percent_covered_display']), _file_) for _file_ in coverage['files'].keys()])]\n",
    "_tiles_ = []\n",
    "for _file_ in _file_order_:\n",
    "    _executed_lines_ = coverage['files'][_file_]['executed_lines']\n",
    "    _missing_lines_  = coverage['files'][_file_]['missing_lines']\n",
    "    _excluded_lines_ = coverage['files'][_file_]['excluded_lines']\n",
    "    _lu_ = {'line':[], 'status':[]}\n",
    "    for _status_ in ['executed_lines', 'missing_lines', 'excluded_lines']:\n",
    "        for _line_ in coverage['files'][_file_][_status_]:\n",
    "            _lu_['line'].append(_line_), _lu_['status'].append(_status_)\n",
    "    rt.co_mgr.str_to_color_lu['executed_lines'] = '#0000ff' # blue\n",
    "    rt.co_mgr.str_to_color_lu['missing_lines']  = '#ff0000' # red\n",
    "    rt.co_mgr.str_to_color_lu['excluded_lines'] = '#ff8000' # orange\n",
    "    _xy_ = rt.xy(pl.DataFrame(_lu_), x_field='line', y_field='status', color_by='status', dot_size='medium', w=512, h=64, y_ins=10)\n",
    "    _perc_covered_ = coverage['files'][_file_]['summary']['percent_covered_display']\n",
    "    _tiles_.append(rt.titleSVG(_xy_, f'{_file_} {_perc_covered_}%'))\n",
    "#rt.table(_tiles_, per_row=3, spacer=10)"
   ]
  },
  {
   "cell_type": "code",
   "execution_count": null,
   "id": "b83a525c",
   "metadata": {},
   "outputs": [],
   "source": [
    "#import inspect\n",
    "#dir(rt)\n",
    "#inspect.getmembers(rt)"
   ]
  },
  {
   "cell_type": "code",
   "execution_count": null,
   "id": "848a2e0b",
   "metadata": {},
   "outputs": [],
   "source": [
    "#help(inspect)"
   ]
  },
  {
   "cell_type": "code",
   "execution_count": null,
   "id": "45710141",
   "metadata": {},
   "outputs": [],
   "source": [
    "#inspect.getsourcelines(rtsvg)"
   ]
  },
  {
   "cell_type": "code",
   "execution_count": null,
   "id": "61cc6717",
   "metadata": {},
   "outputs": [],
   "source": [
    "#\n",
    "# Trying to implement the graph from the following paper:\n",
    "#\n",
    "# C. Collberg, S. G. Kobourov, J. Nagra, J. Pitts, and K. Wampler. \n",
    "# A system for graph-based visualization of the evolution of software. \n",
    "# In ACM Symposium on Software Visualization (SoftVis), pages 77–86, 2003.\n",
    "#\n",
    "# FunctionCallCollector prototype from Google AI\n",
    "#\n",
    "import ast\n",
    "import os\n",
    "class FunctionCallCollector(ast.NodeVisitor):\n",
    "    def __init__(self): \n",
    "        self.hierarchy            = []\n",
    "        self.graph_edges          = {'fm':[], 'fm_type':[], 'to':[], 'to_type':[]}\n",
    "    def hierarchyString(self, include_last=True):\n",
    "        strs   = []\n",
    "        offset = 0 if include_last else 1\n",
    "        for i in range(len(self.hierarchy)-offset): strs.append(self.hierarchy[i][0])\n",
    "        return '.'.join(strs)\n",
    "    def visit_FunctionDef(self, node):\n",
    "        self.hierarchy.append((node.name, 'function', node.lineno))\n",
    "        if len(self.hierarchy) >= 2:\n",
    "            self.graph_edges['fm'].append(self.hierarchyString(False)), self.graph_edges['fm_type'].append(self.hierarchy[-2][1])\n",
    "            self.graph_edges['to'].append(self.hierarchyString()),      self.graph_edges['to_type'].append(self.hierarchy[-1][1])\n",
    "        self.generic_visit(node)\n",
    "        self.hierarchy.pop()\n",
    "    def visit_Call(self, node):\n",
    "        _name_ = None\n",
    "        if   isinstance(node.func, ast.Name):      _name_ = node.func.id\n",
    "        elif isinstance(node.func, ast.Attribute): _name_ = node.func.attr\n",
    "        elif isinstance(node.func, ast.Call):      _name_ = node.func.func.id\n",
    "        elif isinstance(node.func, ast.Subscript): _name_ = '[]' # i'm guessing...\n",
    "        else:                                      print(f'!!! {type(node.func)}')\n",
    "        if len(self.hierarchy) > 0:\n",
    "            self.graph_edges['fm'].append(self.hierarchyString()), self.graph_edges['fm_type'].append(self.hierarchy[-1][1])\n",
    "            self.graph_edges['to'].append(_name_),                 self.graph_edges['to_type'].append('call')\n",
    "        self.generic_visit(node)\n",
    "    def visit_ClassDef(self, node):\n",
    "        self.hierarchy.append((node.name, 'class', node.lineno))\n",
    "        self.generic_visit(node)\n",
    "        self.hierarchy.pop()\n",
    "_file_to_lines_ = {}\n",
    "ast_parses      = []\n",
    "_dfs_           = []\n",
    "for _file_ in os.listdir('../rtsvg'):\n",
    "    if _file_.endswith('.py'):\n",
    "        with open(os.path.join('../rtsvg', _file_), 'rt') as _f_:\n",
    "            _file_to_lines_[_file_] = _f_.readlines()\n",
    "        _ast_parse_ = ast.parse(''.join(_file_to_lines_[_file_]))\n",
    "        ast_parses.append(_ast_parse_)\n",
    "        collector = FunctionCallCollector()\n",
    "        collector.visit(_ast_parse_)\n",
    "        _dfs_.append(pl.DataFrame(collector.graph_edges))\n",
    "df  = pl.concat(_dfs_).drop_nulls()\n",
    "g   = rt.createNetworkXGraph(df, [('fm','to')])\n",
    "_params_ = {'relationships':[('fm','to')]}\n",
    "_igp_    = rt.interactiveGraphPanel(df, ln_params=_params_, w=800, h=700)\n",
    "#_igp_"
   ]
  },
  {
   "cell_type": "code",
   "execution_count": null,
   "id": "6731a4a5",
   "metadata": {},
   "outputs": [],
   "source": [
    "import pyclbr\n",
    "_result_ = pyclbr.readmodule('linknode_graph_patterns')\n",
    "_result_"
   ]
  },
  {
   "cell_type": "code",
   "execution_count": null,
   "id": "49088080",
   "metadata": {},
   "outputs": [],
   "source": []
  }
 ],
 "metadata": {
  "kernelspec": {
   "display_name": ".venv (3.12.3)",
   "language": "python",
   "name": "python3"
  },
  "language_info": {
   "codemirror_mode": {
    "name": "ipython",
    "version": 3
   },
   "file_extension": ".py",
   "mimetype": "text/x-python",
   "name": "python",
   "nbconvert_exporter": "python",
   "pygments_lexer": "ipython3",
   "version": "3.12.3"
  }
 },
 "nbformat": 4,
 "nbformat_minor": 5
}
