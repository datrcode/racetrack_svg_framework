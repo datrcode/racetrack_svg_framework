{
 "cells": [
  {
   "cell_type": "code",
   "execution_count": null,
   "id": "5c94466f",
   "metadata": {},
   "outputs": [],
   "source": [
    "from   pathlib import Path\n",
    "import json\n",
    "coverage = json.load(open(Path('../../20250921_coverage_json_files/20251016_2123_coverage.json'), 'rt'))\n",
    "for _file_ in coverage['files'].keys():\n",
    "    print(_file_)"
   ]
  },
  {
   "cell_type": "code",
   "execution_count": null,
   "id": "8860eb91",
   "metadata": {},
   "outputs": [],
   "source": []
  }
 ],
 "metadata": {
  "kernelspec": {
   "display_name": ".venv (3.13.7)",
   "language": "python",
   "name": "python3"
  },
  "language_info": {
   "codemirror_mode": {
    "name": "ipython",
    "version": 3
   },
   "file_extension": ".py",
   "mimetype": "text/x-python",
   "name": "python",
   "nbconvert_exporter": "python",
   "pygments_lexer": "ipython3",
   "version": "3.13.7"
  }
 },
 "nbformat": 4,
 "nbformat_minor": 5
}
