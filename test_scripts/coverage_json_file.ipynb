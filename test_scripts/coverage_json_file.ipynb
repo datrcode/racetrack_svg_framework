{
 "cells": [
  {
   "cell_type": "code",
   "execution_count": null,
   "id": "5c94466f",
   "metadata": {},
   "outputs": [],
   "source": [
    "import polars as pl\n",
    "from   pathlib import Path\n",
    "import json\n",
    "import rtsvg\n",
    "rt = rtsvg.RACETrack()\n",
    "coverage = json.load(open(Path('../../20250921_coverage_json_files/20251016_2123_coverage.json'), 'rt'))\n",
    "# for _file_ in coverage['files'].keys(): print(_file_)\n",
    "coverage['files']['rtsvg/circle_packer.py'].keys()"
   ]
  },
  {
   "cell_type": "code",
   "execution_count": null,
   "id": "8860eb91",
   "metadata": {},
   "outputs": [],
   "source": [
    "_tiles_ = []\n",
    "for _file_ in coverage['files'].keys():\n",
    "    _executed_lines_ = coverage['files'][_file_]['executed_lines']\n",
    "    _missing_lines_  = coverage['files'][_file_]['missing_lines']\n",
    "    _excluded_lines_ = coverage['files'][_file_]['excluded_lines']\n",
    "    _lu_ = {'line':[], 'status':[]}\n",
    "    for _status_ in ['executed_lines', 'missing_lines', 'excluded_lines']:\n",
    "        for _line_ in coverage['files'][_file_][_status_]:\n",
    "            _lu_['line'].append(_line_), _lu_['status'].append(_status_)\n",
    "    rt.co_mgr.str_to_color_lu['executed_lines'] = '#0000ff' # blue\n",
    "    rt.co_mgr.str_to_color_lu['missing_lines']  = '#ff0000' # red\n",
    "    rt.co_mgr.str_to_color_lu['excluded_lines'] = '#ff8000' # orange\n",
    "    _xy_ = rt.xy(pl.DataFrame(_lu_), x_field='line', y_field='status', color_by='status', dot_size='medium', w=512, h=64, y_ins=10)\n",
    "    _perc_covered_ = coverage['files'][_file_]['summary']['percent_covered_display']\n",
    "    _tiles_.append(rt.titleSVG(_xy_, f'{_file_} {_perc_covered_}%'))\n",
    "rt.table(_tiles_, per_row=3, spacer=10)"
   ]
  },
  {
   "cell_type": "code",
   "execution_count": null,
   "id": "b83a525c",
   "metadata": {},
   "outputs": [],
   "source": []
  }
 ],
 "metadata": {
  "kernelspec": {
   "display_name": ".venv (3.13.7)",
   "language": "python",
   "name": "python3"
  },
  "language_info": {
   "codemirror_mode": {
    "name": "ipython",
    "version": 3
   },
   "file_extension": ".py",
   "mimetype": "text/x-python",
   "name": "python",
   "nbconvert_exporter": "python",
   "pygments_lexer": "ipython3",
   "version": "3.13.7"
  }
 },
 "nbformat": 4,
 "nbformat_minor": 5
}
