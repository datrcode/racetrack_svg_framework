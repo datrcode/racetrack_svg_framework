{
 "cells": [
  {
   "cell_type": "code",
   "execution_count": null,
   "metadata": {},
   "outputs": [],
   "source": [
    "import pandas as pd\n",
    "import polars as pl\n",
    "import numpy as np\n",
    "import networkx as nx\n",
    "import random\n",
    "import sys\n",
    "sys.path.insert(1, '../framework')\n",
    "from racetrack import *\n",
    "rt = RACETrack()"
   ]
  },
  {
   "cell_type": "code",
   "execution_count": null,
   "metadata": {},
   "outputs": [],
   "source": [
    "df = pd.DataFrame({'fm':['a0','a1','a2','a3','b0','b1','c0','c1','c2','c3'],\n",
    "                   'to':['b0','b0','b1','b1','c0','c2','d0','d0','d1','d1']})\n",
    "df_pl = pl.from_pandas(df)\n",
    "_relates_ = [('fm','to')]\n",
    "g        = rt.createNetworkXGraph(df, _relates_)\n",
    "g_di     = rt.createNetworkXGraph(df, _relates_, use_digraph=True)\n",
    "pl_g     = rt.createNetworkXGraph(df_pl, _relates_)\n",
    "pl_g_di  = rt.createNetworkXGraph(df_pl, _relates_, use_digraph=True)"
   ]
  },
  {
   "cell_type": "code",
   "execution_count": null,
   "metadata": {},
   "outputs": [],
   "source": [
    "pos = nx.spring_layout(pl_g_di)\n",
    "rt.tile([rt.linkNode(df,    [('fm','to')], pos, bounds_percent=0.2, draw_labels=True),\n",
    "         rt.linkNode(df_pl, [('fm','to')], pos, bounds_percent=0.2, draw_labels=True)])"
   ]
  },
  {
   "cell_type": "code",
   "execution_count": null,
   "metadata": {},
   "outputs": [],
   "source": [
    "df = pd.DataFrame({'fm':['a','a','a','a','b','b','c','c','c','c'],\n",
    "                   'fi':[ 0,  1,  2,  3,  0,  1,  0,  1,  2,  3],\n",
    "                   'to':['b','b','b','b','c','c','d','d','d','d'],\n",
    "                   'ti':[ 0,  0,  1,  1,  0,  2,  0,  0,  1,  1]})\n",
    "df_pl = pl.from_pandas(df)\n",
    "_relates_ = [(('fm','fi'),('to','ti'))]\n",
    "g        = rt.createNetworkXGraph(df, _relates_)\n",
    "g_di     = rt.createNetworkXGraph(df, _relates_, use_digraph=True)\n",
    "pl_g     = rt.createNetworkXGraph(df_pl, _relates_)\n",
    "pl_g_di  = rt.createNetworkXGraph(df_pl, _relates_, use_digraph=True)"
   ]
  },
  {
   "cell_type": "code",
   "execution_count": null,
   "metadata": {},
   "outputs": [],
   "source": [
    "new_pos = {}\n",
    "for x in pos:\n",
    "    new_pos[x[0]+'|'+x[1]] = pos[x]\n",
    "rt.tile([rt.linkNode(df,    _relates_, new_pos, bounds_percent=0.2, draw_labels=True), \n",
    "         rt.linkNode(df_pl, _relates_, new_pos, bounds_percent=0.2, draw_labels=True)])"
   ]
  },
  {
   "cell_type": "code",
   "execution_count": null,
   "metadata": {},
   "outputs": [],
   "source": []
  }
 ],
 "metadata": {
  "kernelspec": {
   "display_name": "Python 3",
   "language": "python",
   "name": "python3"
  },
  "language_info": {
   "codemirror_mode": {
    "name": "ipython",
    "version": 3
   },
   "file_extension": ".py",
   "mimetype": "text/x-python",
   "name": "python",
   "nbconvert_exporter": "python",
   "pygments_lexer": "ipython3",
   "version": "3.11.6"
  }
 },
 "nbformat": 4,
 "nbformat_minor": 2
}
