{
 "cells": [
  {
   "cell_type": "code",
   "execution_count": null,
   "id": "12be7870",
   "metadata": {},
   "outputs": [],
   "source": [
    "import networkx as nx\n",
    "import time\n",
    "import rtsvg\n",
    "rt = rtsvg.RACETrack()\n",
    "\n",
    "from linknode_graph_patterns import LinkNodeGraphPatterns\n",
    "\n",
    "_patterns_ = LinkNodeGraphPatterns()\n",
    "g          = _patterns_.createPattern('mesh')\n",
    "\n",
    "from polars_lazy_force_directed_layout import PolarsLazyForceDirectedLayout\n",
    "\n",
    "t0 = time.time()\n",
    "_pfdl_  = rtsvg.PolarsForceDirectedLayout(g)\n",
    "t1 = time.time()\n",
    "_plfdl_ = PolarsLazyForceDirectedLayout(g)\n",
    "t2 = time.time()\n",
    "\n",
    "print(f'Lazy {t2-t1:.2f}s, Non-lazy {t1-t0:.2f}s') # Lazy 0.22s, Non-lazy 0.13s"
   ]
  },
  {
   "cell_type": "code",
   "execution_count": null,
   "id": "4968fc70",
   "metadata": {},
   "outputs": [],
   "source": []
  }
 ],
 "metadata": {
  "kernelspec": {
   "display_name": ".venv (3.12.3)",
   "language": "python",
   "name": "python3"
  },
  "language_info": {
   "codemirror_mode": {
    "name": "ipython",
    "version": 3
   },
   "file_extension": ".py",
   "mimetype": "text/x-python",
   "name": "python",
   "nbconvert_exporter": "python",
   "pygments_lexer": "ipython3",
   "version": "3.12.3"
  }
 },
 "nbformat": 4,
 "nbformat_minor": 5
}
