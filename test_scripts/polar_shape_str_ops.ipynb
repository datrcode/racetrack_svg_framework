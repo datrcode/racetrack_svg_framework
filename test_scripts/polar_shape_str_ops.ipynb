{
 "cells": [
  {
   "cell_type": "code",
   "execution_count": null,
   "id": "4a282833",
   "metadata": {},
   "outputs": [],
   "source": [
    "import polars as pl\n",
    "import rtsvg\n",
    "rt = rtsvg.RACETrack()\n",
    "_shapes_ = ['square', 'triangle', 'utriangle', 'diamond', 'plus', 'x', 'circle', 'whatsit']\n",
    "_coords_ = []\n",
    "for x in range(len(_shapes_)): _coords_.append(3.0*float(x))\n",
    "dfs = []\n",
    "for y in range(len(_shapes_)):\n",
    "    _ys_  = []\n",
    "    _szs_ = []\n",
    "    for i in range(len(_shapes_)): _ys_.append(3.0*float(y)), _szs_.append(0.5 + 0.4*float(y)/len(_shapes_))\n",
    "    _df_ = pl.DataFrame({'shape':_shapes_, 'x':_coords_, 'y':_ys_, 'sz':_szs_})\n",
    "    dfs.append(_df_)\n",
    "df  = pl.concat(dfs)\n",
    "svg = ['<svg x=\"0\" y=\"0\" width=\"256\" height=\"256\" viewBox=\"-1.0 -1.0 25.0 25.0\">']\n",
    "svg.append('<rect x=\"-1.0\" y=\"-1.0\" width=\"27.0\" height=\"27.0\" fill=\"white\" stroke=\"none\" />')\n",
    "for _shape_ in set(df['shape']):\n",
    "    _df_     = df.filter(pl.col('shape') == _shape_)\n",
    "    _str_op_ = rt.renderShapePolars(_shape_, pl.col('x'), pl.col('y'), pl.col('sz'), fill='red')\n",
    "    _df_     = _df_.with_columns(pl.concat_str(_str_op_, separator='').alias('svg'))\n",
    "    svg.extend(_df_['svg'])\n",
    "svg.append(\"</svg>\")\n",
    "rt.tile([''.join(svg)])"
   ]
  },
  {
   "cell_type": "code",
   "execution_count": null,
   "id": "c438684a",
   "metadata": {},
   "outputs": [],
   "source": []
  }
 ],
 "metadata": {
  "kernelspec": {
   "display_name": ".venv (3.13.3)",
   "language": "python",
   "name": "python3"
  },
  "language_info": {
   "codemirror_mode": {
    "name": "ipython",
    "version": 3
   },
   "file_extension": ".py",
   "mimetype": "text/x-python",
   "name": "python",
   "nbconvert_exporter": "python",
   "pygments_lexer": "ipython3",
   "version": "3.13.3"
  }
 },
 "nbformat": 4,
 "nbformat_minor": 5
}
