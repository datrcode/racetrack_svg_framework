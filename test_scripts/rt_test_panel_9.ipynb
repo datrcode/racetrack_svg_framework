{
 "cells": [
  {
   "cell_type": "code",
   "execution_count": null,
   "metadata": {},
   "outputs": [],
   "source": [
    "import pandas as pd\n",
    "import numpy as np\n",
    "import networkx as nx\n",
    "import sys\n",
    "sys.path.insert(1, '../framework')\n",
    "from racetrack import *\n",
    "rt = RACETrack()\n",
    "df = pd.DataFrame({'fm':['a','b','c','d','e','a','a','a','a','c','f','f','f','f','f','f'],\n",
    "                   'to':['b','c','d','e','f','x','y','z','w','u','v','s','t','r','q','p']})\n",
    "relates = [('fm','to')]\n",
    "g_nx    = rt.createNetworkXGraph(df, relates)\n",
    "pos     = nx.spring_layout(g_nx)\n",
    "spec    = {(0, 0,40, 1):('panelControl'),\n",
    "           (0, 1,20,20):('linkNode', {'relationships':relates,'pos':pos}),\n",
    "           (20,1,20,20):('linkNode', {'relationships':relates,'pos':pos})}"
   ]
  },
  {
   "cell_type": "code",
   "execution_count": null,
   "metadata": {},
   "outputs": [],
   "source": [
    "_panel_ = rt.interactivePanel(df, spec, w=512, h=256)\n",
    "_panel_"
   ]
  },
  {
   "cell_type": "code",
   "execution_count": null,
   "metadata": {},
   "outputs": [],
   "source": [
    "spec2 = {(0, 0, 1, 1):('histogram', {'bin_by':'fm'}),\n",
    "         (1, 0, 1, 1):('histogram', {'bin_by':'to'})}\n",
    "_panel2_ = rt.interactivePanel(df, spec2, w=512, h=256)\n",
    "_panel2_"
   ]
  },
  {
   "cell_type": "code",
   "execution_count": null,
   "metadata": {},
   "outputs": [],
   "source": [
    "_panel_.register_companion_viz(_panel2_), _panel2_.register_companion_viz(_panel_)"
   ]
  },
  {
   "cell_type": "code",
   "execution_count": null,
   "metadata": {},
   "outputs": [],
   "source": []
  }
 ],
 "metadata": {
  "kernelspec": {
   "display_name": ".venv",
   "language": "python",
   "name": "python3"
  },
  "language_info": {
   "codemirror_mode": {
    "name": "ipython",
    "version": 3
   },
   "file_extension": ".py",
   "mimetype": "text/x-python",
   "name": "python",
   "nbconvert_exporter": "python",
   "pygments_lexer": "ipython3",
   "version": "3.9.6"
  }
 },
 "nbformat": 4,
 "nbformat_minor": 2
}
