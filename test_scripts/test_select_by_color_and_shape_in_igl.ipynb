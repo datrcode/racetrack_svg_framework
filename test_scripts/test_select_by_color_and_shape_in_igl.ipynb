{
 "cells": [
  {
   "cell_type": "code",
   "execution_count": null,
   "id": "e5803573",
   "metadata": {},
   "outputs": [],
   "source": [
    "from matplotlib import colors\n",
    "import polars as pl\n",
    "import rtsvg\n",
    "rt = rtsvg.RACETrack()\n",
    "df     = pl.DataFrame({'fm':'a b c d e f'.split(), 'to':'b c d e f a'.split()})\n",
    "pos    = {'d': (0.27, 0.66), 'e': (0.41, 0.51), 'c': (0.41, 0.82),\n",
    "          'f': (0.59, 0.51), 'a': (0.74, 0.66), 'b': (0.59, 0.82)}\n",
    "colors = {'a': 'red',    'b': 'red',    'c': 'green',  'd': 'green',   'e': 'green',   'f': 'blue'}\n",
    "shapes = {'a': 'circle', 'b': 'square', 'c': 'square', 'd': 'diamond', 'e': 'diamond', 'f': 'circle'}\n",
    "params = {'relationships':[('fm','to')], 'pos':pos, 'node_shape':shapes, 'node_color':colors, 'draw_labels':True}\n",
    "_igl_  = rt.interactiveGraphPanel(df, params, w=600, h=600) \n",
    "_igl_"
   ]
  },
  {
   "cell_type": "code",
   "execution_count": null,
   "id": "33eb2f8e",
   "metadata": {},
   "outputs": [],
   "source": []
  }
 ],
 "metadata": {
  "kernelspec": {
   "display_name": ".venv (3.13.3)",
   "language": "python",
   "name": "python3"
  },
  "language_info": {
   "codemirror_mode": {
    "name": "ipython",
    "version": 3
   },
   "file_extension": ".py",
   "mimetype": "text/x-python",
   "name": "python",
   "nbconvert_exporter": "python",
   "pygments_lexer": "ipython3",
   "version": "3.13.3"
  }
 },
 "nbformat": 4,
 "nbformat_minor": 5
}
