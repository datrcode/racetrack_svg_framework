{
 "cells": [
  {
   "cell_type": "code",
   "execution_count": null,
   "id": "e5803573",
   "metadata": {},
   "outputs": [],
   "source": [
    "from matplotlib import colors\n",
    "import polars as pl\n",
    "import rtsvg\n",
    "rt     = rtsvg.RACETrack()\n",
    "df     = pl.DataFrame({'fm':'a b c d e f'.split(), 'to':'b c d e f a'.split()})\n",
    "pos    = {'d': (0.27, 0.66), 'e': (0.41, 0.51), 'c': (0.41, 0.82),\n",
    "          'f': (0.59, 0.51), 'a': (0.74, 0.66), 'b': (0.59, 0.82)}\n",
    "colors = {'a': 'red',    'b': 'red',    'c': 'green',  'd': 'green',   'e': 'green',   'f': 'blue'}\n",
    "shapes = {'a': 'circle', 'b': 'square', 'c': 'square', 'd': 'diamond', 'e': 'diamond', 'f': 'circle'}\n",
    "params = {'relationships':[('fm','to')], 'pos':pos, 'node_shape':shapes, 'node_color':colors, 'draw_labels':True}\n",
    "_link_, _linknode_ = rt.link(df, **params), rt.linkNode(df, **params)\n",
    "_link_._repr_svg_(), _linknode_._repr_svg_()\n",
    "rt.tile([_link_, _linknode_])"
   ]
  },
  {
   "cell_type": "code",
   "execution_count": null,
   "id": "0d79f604",
   "metadata": {},
   "outputs": [],
   "source": [
    "assert _link_    .nodeShape('c') == 'square'\n",
    "assert _linknode_.nodeShape('c') == 'square'\n",
    "assert _link_    .nodeShape('b') == 'square'\n",
    "assert _linknode_.nodeShape('b') == 'square'\n",
    "assert _link_    .nodeShape('d') == 'diamond'\n",
    "assert _linknode_.nodeShape('d') == 'diamond'\n",
    "assert _link_    .nodeShape('e') == 'diamond'\n",
    "assert _linknode_.nodeShape('e') == 'diamond'\n",
    "assert _link_    .nodeShape('a') == 'circle'\n",
    "assert _linknode_.nodeShape('a') == 'circle'\n",
    "assert _link_    .nodeShape('f') == 'circle'\n",
    "assert _linknode_.nodeShape('f') == 'circle'\n",
    "assert _link_    .nodesWithShape('circle')  == {'a', 'f'}\n",
    "assert _linknode_.nodesWithShape('circle')  == {'a', 'f'}\n",
    "assert _link_    .nodesWithShape('diamond') == {'d', 'e'}\n",
    "assert _linknode_.nodesWithShape('diamond') == {'d', 'e'}\n",
    "assert _link_    .nodesWithShape('square')  == {'c', 'b'}\n",
    "assert _linknode_.nodesWithShape('square')  == {'c', 'b'}"
   ]
  },
  {
   "cell_type": "code",
   "execution_count": null,
   "id": "d492ec3c",
   "metadata": {},
   "outputs": [],
   "source": []
  }
 ],
 "metadata": {
  "kernelspec": {
   "display_name": ".venv (3.13.3)",
   "language": "python",
   "name": "python3"
  },
  "language_info": {
   "codemirror_mode": {
    "name": "ipython",
    "version": 3
   },
   "file_extension": ".py",
   "mimetype": "text/x-python",
   "name": "python",
   "nbconvert_exporter": "python",
   "pygments_lexer": "ipython3",
   "version": "3.13.3"
  }
 },
 "nbformat": 4,
 "nbformat_minor": 5
}
