{
 "cells": [
  {
   "cell_type": "code",
   "execution_count": null,
   "id": "cdef69ed",
   "metadata": {},
   "outputs": [],
   "source": [
    "import polars as pl\n",
    "import time\n",
    "import rtsvg\n",
    "rt = rtsvg.RACETrack()\n",
    "from convey_proximity_layout import ConveyProximityLayout\n",
    "from linknode_graph_patterns import LinkNodeGraphPatterns\n",
    "_patterns_ = LinkNodeGraphPatterns()\n",
    "_tiles_    = []\n",
    "g = _patterns_.createPattern('X')\n",
    "t0 = time.time()\n",
    "_cpl_ = ConveyProximityLayout(g)\n",
    "t1 = time.time()\n",
    "print(t1-t0)\n",
    "_cpl_.svgOfVertexAdditions(rt)"
   ]
  },
  {
   "cell_type": "code",
   "execution_count": null,
   "id": "fc22b83a",
   "metadata": {},
   "outputs": [],
   "source": [
    "_df_ = _cpl_.stress_df.with_columns(pl.col('stress').log10().alias('stress_log10'))\n",
    "_params_ = {'x_field':'i_global', 'y_field':'stress_log10', 'line_groupby_field':'trial_global', 'dot_size':None, 'color_by':'trial', 'w':1024, 'h':256, 'line_groupby_w':2.0}\n",
    "rt.tile([rt.xy(_df_,                             **_params_),\n",
    "         rt.xy(_df_.filter(pl.col('best_flag')), **_params_)], horz=False)"
   ]
  },
  {
   "cell_type": "code",
   "execution_count": null,
   "id": "320e455a",
   "metadata": {},
   "outputs": [],
   "source": []
  }
 ],
 "metadata": {
  "kernelspec": {
   "display_name": ".venv (3.13.7)",
   "language": "python",
   "name": "python3"
  },
  "language_info": {
   "codemirror_mode": {
    "name": "ipython",
    "version": 3
   },
   "file_extension": ".py",
   "mimetype": "text/x-python",
   "name": "python",
   "nbconvert_exporter": "python",
   "pygments_lexer": "ipython3",
   "version": "3.13.7"
  }
 },
 "nbformat": 4,
 "nbformat_minor": 5
}
