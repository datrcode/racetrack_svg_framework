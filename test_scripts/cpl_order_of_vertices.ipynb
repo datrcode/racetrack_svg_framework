{
 "cells": [
  {
   "cell_type": "code",
   "execution_count": null,
   "id": "cdef69ed",
   "metadata": {},
   "outputs": [],
   "source": [
    "import rtsvg\n",
    "rt = rtsvg.RACETrack()\n",
    "from convey_proximity_layout import ConveyProximityLayout\n",
    "from linknode_graph_patterns import LinkNodeGraphPatterns\n",
    "_patterns_ = LinkNodeGraphPatterns()\n",
    "_tiles_    = []\n",
    "for i in range(len(_patterns_)):\n",
    "    g          = _patterns_.createPattern(_patterns_[i])\n",
    "    _cpl_      = ConveyProximityLayout(g)\n",
    "    _tiles_.append(_cpl_.svgOfVertexAdditions(rt))\n",
    "rt.tile(_tiles_, horz=False, spacer=50)"
   ]
  },
  {
   "cell_type": "code",
   "execution_count": null,
   "id": "fc22b83a",
   "metadata": {},
   "outputs": [],
   "source": []
  }
 ],
 "metadata": {
  "kernelspec": {
   "display_name": ".venv (3.12.3)",
   "language": "python",
   "name": "python3"
  },
  "language_info": {
   "codemirror_mode": {
    "name": "ipython",
    "version": 3
   },
   "file_extension": ".py",
   "mimetype": "text/x-python",
   "name": "python",
   "nbconvert_exporter": "python",
   "pygments_lexer": "ipython3",
   "version": "3.12.3"
  }
 },
 "nbformat": 4,
 "nbformat_minor": 5
}
