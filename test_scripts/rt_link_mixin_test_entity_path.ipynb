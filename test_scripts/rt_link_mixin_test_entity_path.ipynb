{
 "cells": [
  {
   "cell_type": "code",
   "execution_count": null,
   "id": "f208cdfa",
   "metadata": {},
   "outputs": [],
   "source": [
    "import polars as pl\n",
    "import rtsvg\n",
    "rt = rtsvg.RACETrack()\n",
    "df = pl.DataFrame({'fm':'a b c d'.split(), 'to':'b c d a'.split()})\n",
    "_pos_ = {'a':(0,0), 'b':(1,0), 'c':(1,1), 'd':(1,1)}\n",
    "_ln_ = rt.link(df, [('fm','to')], _pos_, draw_labels=True)\n",
    "_ln_.selectEntities(['a', 'c', 'd'])\n",
    "_ln_._repr_svg_()\n",
    "_ln_.__createPathDescriptionOfSelectedEntities__()"
   ]
  },
  {
   "cell_type": "code",
   "execution_count": null,
   "id": "57d696ab",
   "metadata": {},
   "outputs": [],
   "source": []
  }
 ],
 "metadata": {
  "kernelspec": {
   "display_name": ".venv",
   "language": "python",
   "name": "python3"
  },
  "language_info": {
   "codemirror_mode": {
    "name": "ipython",
    "version": 3
   },
   "file_extension": ".py",
   "mimetype": "text/x-python",
   "name": "python",
   "nbconvert_exporter": "python",
   "pygments_lexer": "ipython3",
   "version": "3.13.3"
  }
 },
 "nbformat": 4,
 "nbformat_minor": 5
}
