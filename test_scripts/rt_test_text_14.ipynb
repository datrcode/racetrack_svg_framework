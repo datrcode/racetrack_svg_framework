{
 "cells": [
  {
   "cell_type": "code",
   "execution_count": null,
   "metadata": {},
   "outputs": [],
   "source": [
    "import pandas as pd\n",
    "import numpy as np\n",
    "\n",
    "import sys\n",
    "sys.path.insert(1, '../framework/') # base location of the .py classes\n",
    "from racetrack import *\n",
    "rt = RACETrack()\n",
    "\n",
    "from transformers import AutoTokenizer, RobertaForMaskedLM\n",
    "import torch\n",
    "import tensorflow as tf"
   ]
  },
  {
   "cell_type": "code",
   "execution_count": null,
   "metadata": {},
   "outputs": [],
   "source": [
    "#\n",
    "# Source:  https://en.wikipedia.org/wiki/Apollo_13\n",
    "# ... four sentence summary\n",
    "# ... chatgpt gave me five though :(\n",
    "#\n",
    "_text = \"\"\"Apollo 13 (April 11–17, 1970) was the seventh crewed mission in the Apollo space program and the third meant to land on the Moon. The craft was launched from Kennedy Space Center on April 11, 1970, but the lunar landing was aborted after an oxygen tank in the service module (SM) failed two days into the mission. The crew instead looped around the Moon in a circumlunar trajectory and returned safely to Earth on April 17. The mission was commanded by Jim Lovell, with Jack Swigert as command module (CM) pilot and Fred Haise as Lunar Module (LM) pilot. Swigert was a late replacement for Ken Mattingly, who was grounded after exposure to rubella.\n",
    "A routine stir of an oxygen tank ignited damaged wire insulation inside it, causing an explosion that vented the contents of both of the SM's oxygen tanks to space. Without oxygen, needed for breathing and for generating electric power, the SM's propulsion and life support systems could not operate. The CM's systems had to be shut down to conserve its remaining resources for reentry, forcing the crew to transfer to the LM as a lifeboat. With the lunar landing canceled, mission controllers worked to bring the crew home alive.\n",
    "Although the LM was designed to support two men on the lunar surface for two days, Mission Control in Houston improvised new procedures so it could support three men for four days. The crew experienced great hardship, caused by limited power, a chilly and wet cabin and a shortage of potable water. There was a critical need to adapt the CM's cartridges for the carbon dioxide scrubber system to work in the LM; the crew and mission controllers were successful in improvising a solution. The astronauts' peril briefly renewed public interest in the Apollo program; tens of millions watched the splashdown in the South Pacific Ocean on television.\n",
    "An investigative review board found fault with preflight testing of the oxygen tank and Teflon being placed inside it. The board recommended changes, including minimizing the use of potentially combustible items inside the tank; this was done for Apollo 14. The story of Apollo 13 has been dramatized several times, most notably in the 1995 film Apollo 13 based on Lost Moon, the 1994 memoir co-authored by Lovell – and an episode of the 1998 miniseries From the Earth to the Moon.\"\"\"\n",
    "# model, tokenizer, device = rt.__textTrainRoBERTaModel__(_text)"
   ]
  },
  {
   "cell_type": "code",
   "execution_count": null,
   "metadata": {},
   "outputs": [],
   "source": [
    "tokenizer = AutoTokenizer.from_pretrained(\"roberta-base\")\n",
    "model = RobertaForMaskedLM.from_pretrained(\"roberta-base\")"
   ]
  },
  {
   "cell_type": "code",
   "execution_count": null,
   "metadata": {},
   "outputs": [],
   "source": [
    "_commented_out = '''\n",
    "inputs = tokenizer(\" Apollo 13 was the <mask> crewed mission in the Apollo space program and the third meant to land on the Moon. \", return_tensors=\"pt\")\n",
    "with torch.no_grad():\n",
    "    output = model(**inputs)\n",
    "    logits = output.logits\n",
    "mask_token_index = (inputs.input_ids == tokenizer.mask_token_id)[0].nonzero(as_tuple=True)[0]\n",
    "predicted_token_id = logits[0, mask_token_index].argmax(axis=-1)\n",
    "tokenizer.decode(predicted_token_id)\n",
    "'''"
   ]
  },
  {
   "cell_type": "code",
   "execution_count": null,
   "metadata": {},
   "outputs": [],
   "source": [
    "_commented_out = '''\n",
    "top_k_indices = tf.math.top_k(logits.detach().numpy(), 10).indices[0].numpy()\n",
    "# tokenizer.decode(top_k_indices[mask_token_index])\n",
    "for x in top_k_indices[mask_token_index]:\n",
    "    print(tokenizer.decode(x))\n",
    "'''"
   ]
  },
  {
   "cell_type": "code",
   "execution_count": null,
   "metadata": {},
   "outputs": [],
   "source": [
    "_commented_out = '''\n",
    "labels = tokenizer(\" Apollo 13 was the seventh crewed mission in the Apollo space program and the third meant to land on the Moon. \", return_tensors=\"pt\")[\"input_ids\"]\n",
    "labels = torch.where(inputs.input_ids == tokenizer.mask_token_id, labels, -100)\n",
    "outputs = model(**inputs, labels=labels)\n",
    "round(outputs.loss.item(), 2)\n",
    "'''"
   ]
  },
  {
   "cell_type": "code",
   "execution_count": null,
   "metadata": {},
   "outputs": [],
   "source": [
    "_commented_out = '''\n",
    "token_i = 5\n",
    "_sort   = []\n",
    "for i in range(len(outputs[1][0][token_i])):\n",
    "    _sort.append((outputs[1][0][token_i][i], i, tokenizer.decode(i)))\n",
    "sorted(_sort, reverse=True)\n",
    "'''"
   ]
  },
  {
   "cell_type": "code",
   "execution_count": null,
   "metadata": {},
   "outputs": [],
   "source": [
    "_commented_out = '''\n",
    "histogram  = outputs[1][0][token_i].histogram(bins=20)\n",
    "word_score = float(outputs[1][0][token_i][labels[0][token_i]])\n",
    "bg         = {'word':[(word_score,0),(word_score,10000)]}\n",
    "_df        = pd.DataFrame({'w':histogram.hist.detach().numpy(), 'x':histogram.bin_edges[1:].detach().numpy(), 'gb':np.ones(len(histogram.hist))})\n",
    "rt.displaySVG(rt.xy(_df, x_field='x', y_field='w', count_by='w', dot_size='small', line_groupby_field='gb', bg_shape_lu=bg, w=256,h=96))\n",
    "'''"
   ]
  },
  {
   "cell_type": "code",
   "execution_count": null,
   "metadata": {},
   "outputs": [],
   "source": [
    "svgs = []\n",
    "_sentence = 'Flight 13 landed at Kennedy Space Center.'\n",
    "_sentence = ' ' + _sentence.strip() + ' '\n",
    "_inputs   = tokenizer(_sentence, return_tensors=\"pt\")\n",
    "for i in range(3,5): # range(1,len(_inputs['input_ids'][0])-2):\n",
    "    _token                  = tokenizer.decode(_inputs['input_ids'][0][i])\n",
    "    _token_stripped_lowered = _token.strip().lower()\n",
    "    _before = ' ' if _token[0]  == ' ' else ''\n",
    "    _after  = ' ' if _token[-1] == ' ' else ''\n",
    "    _sentence_w_mask = tokenizer.decode(_inputs['input_ids'][0][1:i]) + _before + '<mask>' + _after + tokenizer.decode(_inputs['input_ids'][0][i+1:-1])\n",
    "    _inputs_w_mask   = tokenizer(_sentence_w_mask, return_tensors=\"pt\")\n",
    "    with torch.no_grad():\n",
    "        _output = model(**_inputs_w_mask)\n",
    "        _logits = _output.logits\n",
    "        in_top_20,ith = None, 0\n",
    "        top_k_indices = tf.math.top_k(_logits.detach().numpy(), 20).indices[0].numpy()\n",
    "        for x in top_k_indices[i]:\n",
    "            _str = tokenizer.decode(x).strip().lower()\n",
    "            if _str == _token_stripped_lowered and in_top_20 is None:\n",
    "                in_top_20 = ith\n",
    "            ith += 1\n",
    "        mask_token_index   = (_inputs_w_mask.input_ids == tokenizer.mask_token_id)[0].nonzero(as_tuple=True)[0]\n",
    "        predicted_token_id = _logits[0, mask_token_index].argmax(axis=-1)\n",
    "        predicted_word     = tokenizer.decode(predicted_token_id)\n",
    "        print(f'{_sentence_w_mask:70}\\t{predicted_word:30}\\t{_token:30}\\t{in_top_20}\\t| {len(_inputs_w_mask.input_ids[0])}\\t{len(_inputs.input_ids[0])}\\t| {i}\\t{mask_token_index}')\n",
    "\n",
    "        labels  = tokenizer(_sentence, return_tensors=\"pt\")[\"input_ids\"]\n",
    "        labels  = torch.where(_inputs.input_ids==tokenizer.mask_token_id, labels, -100)\n",
    "        outputs = model(**_inputs, labels=labels)\n",
    "        word_score = float(outputs[1][0][i][labels[0][i]])\n",
    "        print(word_score)\n",
    "\n",
    "        histogram  = outputs[1][0][i].histogram(bins=100)\n",
    "        bg         = {'word':[(word_score,0),(word_score,100000)]}\n",
    "        _df        = pd.DataFrame({'w':histogram.hist.detach().numpy(), _token:histogram.bin_edges[1:].detach().numpy(), 'gb':np.ones(len(histogram.hist))})\n",
    "        svgs.append(rt.xy(_df, x_field=_token, y_field='w', count_by='w', dot_size=None, line_groupby_field='gb', bg_shape_lu=bg, w=256,h=96))"
   ]
  },
  {
   "cell_type": "code",
   "execution_count": null,
   "metadata": {},
   "outputs": [],
   "source": [
    "rt.displaySVG(rt.tile(svgs,horz=False))"
   ]
  },
  {
   "cell_type": "code",
   "execution_count": null,
   "metadata": {},
   "outputs": [],
   "source": []
  }
 ],
 "metadata": {
  "kernelspec": {
   "display_name": "Python 3",
   "language": "python",
   "name": "python3"
  },
  "language_info": {
   "codemirror_mode": {
    "name": "ipython",
    "version": 3
   },
   "file_extension": ".py",
   "mimetype": "text/x-python",
   "name": "python",
   "nbconvert_exporter": "python",
   "pygments_lexer": "ipython3",
   "version": "3.11.5"
  },
  "orig_nbformat": 4
 },
 "nbformat": 4,
 "nbformat_minor": 2
}
