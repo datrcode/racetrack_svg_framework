{
 "cells": [
  {
   "cell_type": "code",
   "execution_count": null,
   "metadata": {},
   "outputs": [],
   "source": [
    "import pandas   as pd\n",
    "import numpy    as np\n",
    "import networkx as nx\n",
    "import sys\n",
    "sys.path.insert(1, '../framework')\n",
    "from racetrack import *\n",
    "rt = RACETrack()"
   ]
  },
  {
   "cell_type": "code",
   "execution_count": null,
   "metadata": {},
   "outputs": [],
   "source": [
    "df        = pd.read_csv(\"../../netflow_sample.csv\")\n",
    "df['beg'] = df['beg'].astype('datetime64[ns]')\n",
    "df_s      = df.sample(10000)\n",
    "relates = [('sip','dip')]\n",
    "pos = nx.spring_layout(rt.createNetworkXGraph(df_s, relates))"
   ]
  },
  {
   "cell_type": "code",
   "execution_count": null,
   "metadata": {},
   "outputs": [],
   "source": [
    "_ln_ = rt.linkNodeInstance(df_s, relates, pos, node_size='small', \n",
    "                           link_shape='curve', link_color='vary', color_by='dpt', \n",
    "                           draw_labels=False, w=512, h=512)\n",
    "rt.displaySVG(_ln_)"
   ]
  },
  {
   "cell_type": "code",
   "execution_count": null,
   "metadata": {},
   "outputs": [],
   "source": [
    "_dx_, _dy_ = _ln_.wx1 - _ln_.wx0 , _ln_.wy1 - _ln_.wy0\n",
    "my_wx0 = _ln_.wx0 + 0.25 * _dx_\n",
    "my_wy0 = _ln_.wy0 + 0.25 * _dy_\n",
    "my_wx1 = my_wx0 + 0.5 * _dx_\n",
    "my_wy1 = my_wy0 + 0.5 * _dx_\n",
    "\n",
    "_ln2_ = rt.linkNodeInstance(df_s, relates, pos, node_size='small',\n",
    "                            wx0=my_wx0, wy0=my_wy0, wx1=my_wx1, wy1=my_wy1,\n",
    "                            link_shape='curve', link_color='vary', color_by='dpt', \n",
    "                            draw_labels=False, w=512, h=512)\n",
    "rt.displaySVG(_ln2_)"
   ]
  },
  {
   "cell_type": "code",
   "execution_count": null,
   "metadata": {},
   "outputs": [],
   "source": [
    "_dx_, _dy_ = _ln2_.wx1 - _ln2_.wx0 , _ln2_.wy1 - _ln2_.wy0\n",
    "my_wx0 = _ln2_.wx0 + 0.25 * _dx_\n",
    "my_wy0 = _ln2_.wy0 + 0.25 * _dy_\n",
    "my_wx1  = my_wx0 + 0.5 * _dx_\n",
    "my_wy1  = my_wy0 + 0.5 * _dx_\n",
    "\n",
    "_ln3_ = rt.linkNodeInstance(df_s, relates, pos, node_size='small',\n",
    "                            wx0=my_wx0, wy0=my_wy0, wx1=my_wx1, wy1=my_wy1,\n",
    "                            link_shape='curve', link_color='vary', color_by='dpt', \n",
    "                            draw_labels=False, w=512, h=512)\n",
    "rt.displaySVG(_ln3_)"
   ]
  },
  {
   "cell_type": "code",
   "execution_count": null,
   "metadata": {},
   "outputs": [],
   "source": []
  }
 ],
 "metadata": {
  "kernelspec": {
   "display_name": "Python 3",
   "language": "python",
   "name": "python3"
  },
  "language_info": {
   "codemirror_mode": {
    "name": "ipython",
    "version": 3
   },
   "file_extension": ".py",
   "mimetype": "text/x-python",
   "name": "python",
   "nbconvert_exporter": "python",
   "pygments_lexer": "ipython3",
   "version": "3.11.5"
  },
  "orig_nbformat": 4,
  "vscode": {
   "interpreter": {
    "hash": "677ca678853aa41fc137f4b55f2bc0c694e45735c0d2faa667d2ec5acb71e67d"
   }
  }
 },
 "nbformat": 4,
 "nbformat_minor": 2
}
