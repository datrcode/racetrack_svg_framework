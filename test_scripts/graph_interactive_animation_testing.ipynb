{
 "cells": [
  {
   "cell_type": "code",
   "execution_count": null,
   "id": "1e29112c",
   "metadata": {},
   "outputs": [],
   "source": [
    "#\n",
    "# Script meant to test the ability to show brief \"help\" animations in the interactive graph panel\n",
    "# ... animations still showing incorrect behavior\n",
    "#\n",
    "import polars as pl\n",
    "import rtsvg\n",
    "rt = rtsvg.RACETrack()\n",
    "\n",
    "df        = pl.DataFrame({'fm':'a b c d e'.split(), 'to':'b c a c c'.split()})\n",
    "_relates_ = [('fm','to')]\n",
    "_pos_     = {'b': (0.57, 0.89), 'a': (0.57, 0.58), 'c': (0.43, 0.72), 'e': (0.43, 0.89), 'd': (0.31, 0.72)}\n",
    "_rtg_ = rt.interactiveGraphPanel(df, {'relationships':_relates_, 'pos':_pos_}, w=800, h=500)\n",
    "_rtg_"
   ]
  },
  {
   "cell_type": "code",
   "execution_count": null,
   "id": "f33827e6",
   "metadata": {},
   "outputs": [],
   "source": [
    "#_rtg_.setAnimation('<rect x=\"10\" y=\"10\" width=\"10\" height=\"10\" fill=\"blue\"/>')"
   ]
  },
  {
   "cell_type": "code",
   "execution_count": null,
   "id": "0f49c29c",
   "metadata": {},
   "outputs": [],
   "source": [
    "#_rtg_.setAnimation('<text x=\"5\" y=\"15\" fill=\"black\"> popStack </text>')"
   ]
  },
  {
   "cell_type": "code",
   "execution_count": null,
   "id": "7c7bc6de",
   "metadata": {},
   "outputs": [],
   "source": []
  }
 ],
 "metadata": {
  "kernelspec": {
   "display_name": ".venv (3.13.3)",
   "language": "python",
   "name": "python3"
  },
  "language_info": {
   "codemirror_mode": {
    "name": "ipython",
    "version": 3
   },
   "file_extension": ".py",
   "mimetype": "text/x-python",
   "name": "python",
   "nbconvert_exporter": "python",
   "pygments_lexer": "ipython3",
   "version": "3.13.3"
  }
 },
 "nbformat": 4,
 "nbformat_minor": 5
}
