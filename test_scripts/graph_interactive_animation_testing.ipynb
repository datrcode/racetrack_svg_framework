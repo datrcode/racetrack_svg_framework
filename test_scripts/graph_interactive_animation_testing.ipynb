{
 "cells": [
  {
   "cell_type": "code",
   "execution_count": null,
   "id": "1e29112c",
   "metadata": {},
   "outputs": [],
   "source": [
    "#\n",
    "# Script meant to test the ability to show brief \"help\" animations in the interactive graph panel\n",
    "# ... animations still showing incorrect behavior\n",
    "#\n",
    "import polars as pl\n",
    "import networkx as nx\n",
    "import rtsvg\n",
    "rt = rtsvg.RACETrack()\n",
    "\n",
    "_base_network_ = '0'\n",
    "_base_dir_     = '../../data/stanford/facebook/'\n",
    "_layout_file_  = _base_dir_ + _base_network_ + '.layout.parquet'\n",
    "_edges_ = open(_base_dir_ + _base_network_ + '.edges', 'rt').read()\n",
    "_lu_ = {'fm':[], 'to':[]}\n",
    "for _edge_ in _edges_.split('\\n'):\n",
    "    if _edge_ == '': continue\n",
    "    _lu_['fm'].append(_edge_.split(' ')[0])\n",
    "    _lu_['to'].append(_edge_.split(' ')[1])\n",
    "df        = pl.DataFrame(_lu_)\n",
    "_relates_ = [('fm','to')]\n",
    "g         = rt.createNetworkXGraph(df, _relates_)\n",
    "\n",
    "# Provides colors based on community\n",
    "_node_colors_ = {}\n",
    "community_i   = 0\n",
    "for _community_ in nx.community.louvain_communities(g):\n",
    "    community_i += 1\n",
    "    for _node_ in _community_: _node_colors_[_node_] = rt.co_mgr.getColor(community_i)\n",
    "\n",
    "#_rtg_ = rt.interactiveGraphPanel(df, {'relationships':_relates_, 'node_color':_node_colors_}, w=800, h=500)\n",
    "#_rtg_"
   ]
  },
  {
   "cell_type": "code",
   "execution_count": null,
   "id": "f33827e6",
   "metadata": {},
   "outputs": [],
   "source": [
    "#_rtg_.setAnimation('<rect x=\"10\" y=\"10\" width=\"10\" height=\"10\" fill=\"blue\"/>')"
   ]
  },
  {
   "cell_type": "code",
   "execution_count": null,
   "id": "0f49c29c",
   "metadata": {},
   "outputs": [],
   "source": [
    "#_rtg_.setAnimation('<text x=\"5\" y=\"15\" fill=\"black\"> popStack </text>')"
   ]
  },
  {
   "cell_type": "code",
   "execution_count": null,
   "id": "5a121f37",
   "metadata": {},
   "outputs": [],
   "source": [
    "from rtsvg.polars_force_directed_layout import PolarsForceDirectedLayout\n",
    "_pfdl_ = PolarsForceDirectedLayout(g)"
   ]
  },
  {
   "cell_type": "code",
   "execution_count": null,
   "id": "22f5acfe",
   "metadata": {},
   "outputs": [],
   "source": [
    "# The first element is garbage ... so throw away a few of them...\n",
    "k0, k1, k2 = _pfdl_.stressVector(k=0)[16:], _pfdl_.stressVector(k=1)[16:], _pfdl_.stressVector(k=2)[16:]\n",
    "df0, df1, df2 = pl.DataFrame({'x':[i for i in range(len(k0))], 'y':k0}), pl.DataFrame({'x':[i for i in range(len(k1))], 'y':k1}), pl.DataFrame({'x':[i for i in range(len(k2))], 'y':k2})\n",
    "_params_ = {'x_field':'x', 'y_field':'y'}\n",
    "rt.tile([rt.xy(df0, **_params_), rt.xy(df1, **_params_), rt.xy(df2, **_params_)])"
   ]
  },
  {
   "cell_type": "code",
   "execution_count": null,
   "id": "799bb565",
   "metadata": {},
   "outputs": [],
   "source": [
    "#\n",
    "# Copied from PolarsForceDirectedLayout() - modified (mostly naming) to match the formula within the following paper:\n",
    "#\n",
    "# Drawing Graphs to Convey Proximity: An Incremental Arrangement Method\n",
    "# J.D. Cohen\n",
    "# ACM Transactions on Computer-Human Interaction, Vol. 4, No. 3, September 1997, Pages 197–229.\n",
    "#\n",
    "self   = _pfdl_\n",
    "S_i    = 0\n",
    "g_s    = self.g_s[S_i]\n",
    "df_pos = self.df_anim[S_i][0]\n",
    "mu     = 1.0/(2.0*len(g_s.nodes()))\n",
    "k      = 2.0\n",
    "__dx__, __dy__ = (pl.col('x') - pl.col('x_right')), (pl.col('y') - pl.col('y_right'))\n",
    "df_pos = df_pos.join(df_pos, how='cross') \\\n",
    "                .filter(pl.col('node') != pl.col('node_right')) \\\n",
    "                .with_columns((__dx__**2 + __dy__**2).sqrt().alias('d')) \\\n",
    "                .join(self.df_dist[S_i], left_on=['node', 'node_right'], right_on=['fm','to']) \\\n",
    "                .with_columns(pl.col('t').pow(k).alias('t_k')) \\\n",
    "                .with_columns(pl.when(pl.col('d') < 0.001).then(pl.lit(0.001)).otherwise(pl.col('d')).alias('d'),\n",
    "                              pl.when(pl.col('t') < 0.001).then(pl.lit(0.001)).otherwise(pl.col('t')).alias('w')) \\\n",
    "                .with_columns(((2.0*__dx__*(1.0 - pl.col('t')/pl.col('d')))/pl.col('t_k')).alias('xadd'),\n",
    "                              ((2.0*__dy__*(1.0 - pl.col('t')/pl.col('d')))/pl.col('t_k')).alias('yadd'),\n",
    "                              (((pl.col('t') - pl.col('d'))**2)/pl.col('t_k')).alias('stress')) \\\n",
    "                .group_by(['node','x','y','s']).agg(pl.col('xadd').sum(), pl.col('yadd').sum(), pl.col('stress').sum()/len(g_s.nodes())) \\\n",
    "                .with_columns(pl.when(pl.col('s')).then(pl.col('x')).otherwise(pl.col('x') - mu * pl.col('xadd')).alias('x'),\n",
    "                              pl.when(pl.col('s')).then(pl.col('y')).otherwise(pl.col('y') - mu * pl.col('yadd')).alias('y')) \\\n",
    "                .drop(['xadd','yadd'])\n",
    "df_pos.filter(pl.col('node').is_in({'147','242','5'})).sort('node')"
   ]
  },
  {
   "cell_type": "code",
   "execution_count": null,
   "id": "8fb0ede8",
   "metadata": {},
   "outputs": [],
   "source": []
  }
 ],
 "metadata": {
  "kernelspec": {
   "display_name": ".venv (3.13.7)",
   "language": "python",
   "name": "python3"
  },
  "language_info": {
   "codemirror_mode": {
    "name": "ipython",
    "version": 3
   },
   "file_extension": ".py",
   "mimetype": "text/x-python",
   "name": "python",
   "nbconvert_exporter": "python",
   "pygments_lexer": "ipython3",
   "version": "3.13.7"
  }
 },
 "nbformat": 4,
 "nbformat_minor": 5
}
