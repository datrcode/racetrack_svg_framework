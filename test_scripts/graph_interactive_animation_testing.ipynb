{
 "cells": [
  {
   "cell_type": "code",
   "execution_count": null,
   "id": "1e29112c",
   "metadata": {},
   "outputs": [],
   "source": [
    "#\n",
    "# Script meant to test the ability to show brief \"help\" animations in the interactive graph panel\n",
    "# ... animations still showing incorrect behavior\n",
    "#\n",
    "import polars as pl\n",
    "import networkx as nx\n",
    "import rtsvg\n",
    "rt = rtsvg.RACETrack()\n",
    "\n",
    "_base_network_ = '0'\n",
    "_base_dir_     = '../../data/stanford/facebook/'\n",
    "_layout_file_  = _base_dir_ + _base_network_ + '.layout.parquet'\n",
    "_edges_ = open(_base_dir_ + _base_network_ + '.edges', 'rt').read()\n",
    "_lu_ = {'fm':[], 'to':[]}\n",
    "for _edge_ in _edges_.split('\\n'):\n",
    "    if _edge_ == '': continue\n",
    "    _lu_['fm'].append(_edge_.split(' ')[0])\n",
    "    _lu_['to'].append(_edge_.split(' ')[1])\n",
    "df        = pl.DataFrame(_lu_)\n",
    "_relates_ = [('fm','to')]\n",
    "g         = rt.createNetworkXGraph(df, _relates_)\n",
    "\n",
    "# Provides colors based on community\n",
    "_node_colors_ = {}\n",
    "community_i   = 0\n",
    "for _community_ in nx.community.louvain_communities(g):\n",
    "    community_i += 1\n",
    "    for _node_ in _community_: _node_colors_[_node_] = rt.co_mgr.getColor(community_i)\n",
    "\n",
    "#_rtg_ = rt.interactiveGraphPanel(df, {'relationships':_relates_, 'node_color':_node_colors_}, w=800, h=500)\n",
    "#_rtg_"
   ]
  },
  {
   "cell_type": "code",
   "execution_count": null,
   "id": "f33827e6",
   "metadata": {},
   "outputs": [],
   "source": [
    "#_rtg_.setAnimation('<rect x=\"10\" y=\"10\" width=\"10\" height=\"10\" fill=\"blue\"/>')"
   ]
  },
  {
   "cell_type": "code",
   "execution_count": null,
   "id": "0f49c29c",
   "metadata": {},
   "outputs": [],
   "source": [
    "#_rtg_.setAnimation('<text x=\"5\" y=\"15\" fill=\"black\"> popStack </text>')"
   ]
  },
  {
   "cell_type": "code",
   "execution_count": null,
   "id": "20fd955a",
   "metadata": {},
   "outputs": [],
   "source": [
    "from rtsvg.polars_force_directed_layout import PolarsForceDirectedLayout\n",
    "_pfdl_ = PolarsForceDirectedLayout(g)"
   ]
  },
  {
   "cell_type": "code",
   "execution_count": null,
   "id": "b28d6783",
   "metadata": {},
   "outputs": [],
   "source": [
    "def stress(self, anim_i=0, k=0):\n",
    "    df_pos  = self.df_results[anim_i]\n",
    "    df_dist = self.df_dist[anim_i]\n",
    "    _df_    = df_pos.join(df_pos, how='cross') \\\n",
    "                    .filter(pl.col('node') != pl.col('node_right')) \\\n",
    "                    .join(df_dist, left_on=['node', 'node_right'], right_on=['fm','to']) \\\n",
    "                    .with_columns(((pl.col('x') - pl.col('x_right'))**2 + (pl.col('y') - pl.col('y_right'))**2).sqrt().alias('d')) \\\n",
    "                    .with_columns((pl.col('t')**(2-k)).alias('__prod_1__'),\n",
    "                                  ((pl.col('d') - pl.col('t'))**2 / pl.col('t')**k).alias('__prod_2__'))\n",
    "    return (1.0 / _df_['__prod_1__'].sum()) * _df_['__prod_2__'].sum()\n",
    "\n",
    "stress(_pfdl_, k=0), stress(_pfdl_, k=1), stress(_pfdl_, k=2)"
   ]
  },
  {
   "cell_type": "code",
   "execution_count": null,
   "id": "821beec6",
   "metadata": {},
   "outputs": [],
   "source": [
    "_pfdl_.stress(k=0), _pfdl_.stress(k=1), _pfdl_.stress(k=2)"
   ]
  },
  {
   "cell_type": "code",
   "execution_count": null,
   "id": "5a121f37",
   "metadata": {},
   "outputs": [],
   "source": []
  }
 ],
 "metadata": {
  "kernelspec": {
   "display_name": ".venv (3.13.7)",
   "language": "python",
   "name": "python3"
  },
  "language_info": {
   "codemirror_mode": {
    "name": "ipython",
    "version": 3
   },
   "file_extension": ".py",
   "mimetype": "text/x-python",
   "name": "python",
   "nbconvert_exporter": "python",
   "pygments_lexer": "ipython3",
   "version": "3.13.7"
  }
 },
 "nbformat": 4,
 "nbformat_minor": 5
}
