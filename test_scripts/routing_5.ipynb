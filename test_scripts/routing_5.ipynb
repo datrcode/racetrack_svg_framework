{
 "cells": [
  {
   "cell_type": "code",
   "execution_count": null,
   "metadata": {},
   "outputs": [],
   "source": [
    "# Takes the output from routing_3.ipynb and works on the routing portion of it\n",
    "import polars as pl\n",
    "import numpy as np\n",
    "from rt_bundled_ego_chord_diagram import RTBundledEgoChordDiagram\n",
    "import rtsvg\n",
    "rt = rtsvg.RACETrack()\n",
    "edges_filename  = '../../data/stanford/facebook/1912.edges'\n",
    "_lu_ = {'fm':[], 'to':[]}\n",
    "for _edge_ in open(edges_filename, 'rt').read().split('\\n'):\n",
    "    if _edge_ == '': continue\n",
    "    _split_     = _edge_.split()\n",
    "    _fm_, _to_  = int(_split_[0]), int(_split_[1])\n",
    "    _lu_['fm'].append(_fm_), _lu_['to'].append(_to_)\n",
    "df = pl.DataFrame(_lu_)"
   ]
  },
  {
   "cell_type": "code",
   "execution_count": null,
   "metadata": {},
   "outputs": [],
   "source": [
    "becd = RTBundledEgoChordDiagram(rt, df, [('fm','to')])\n",
    "becd"
   ]
  },
  {
   "cell_type": "code",
   "execution_count": null,
   "metadata": {},
   "outputs": [],
   "source": []
  }
 ],
 "metadata": {
  "kernelspec": {
   "display_name": ".venv",
   "language": "python",
   "name": "python3"
  },
  "language_info": {
   "codemirror_mode": {
    "name": "ipython",
    "version": 3
   },
   "file_extension": ".py",
   "mimetype": "text/x-python",
   "name": "python",
   "nbconvert_exporter": "python",
   "pygments_lexer": "ipython3",
   "version": "3.12.3"
  }
 },
 "nbformat": 4,
 "nbformat_minor": 2
}
