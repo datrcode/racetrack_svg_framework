{
 "cells": [
  {
   "cell_type": "code",
   "execution_count": null,
   "metadata": {},
   "outputs": [],
   "source": [
    "# Takes the output from routing_3.ipynb and works on the routing portion of it\n",
    "import polars as pl\n",
    "import numpy as np\n",
    "import networkx as nx\n",
    "from rt_bundled_ego_chord_diagram import RTBundledEgoChordDiagram\n",
    "import rtsvg\n",
    "rt = rtsvg.RACETrack()\n",
    "'''\n",
    "edges_filename  = '../../data/stanford/facebook/1684.edges'\n",
    "_lu_ = {'fm':[], 'to':[]}\n",
    "for _edge_ in open(edges_filename, 'rt').read().split('\\n'):\n",
    "    if _edge_ == '': continue\n",
    "    _split_     = _edge_.split()\n",
    "    _fm_, _to_  = _split_[0], _split_[1]\n",
    "    _lu_['fm'].append(_fm_), _lu_['to'].append(_to_)\n",
    "df = pl.DataFrame(_lu_)\n",
    "# Only Keep The Largest Component\n",
    "g = rt.createNetworkXGraph(df, [('fm','to')])\n",
    "comp_largest = None\n",
    "for _comp_ in nx.connected_components(g):\n",
    "    if comp_largest is None:            comp_largest = _comp_\n",
    "    if len(_comp_) > len(comp_largest): comp_largest = _comp_\n",
    "df = df.filter(pl.col('fm').is_in(comp_largest) & pl.col('to').is_in(comp_largest))\n",
    "_relates_ = [('fm','to')]\n",
    "'''\n",
    "import os\n",
    "_dir_   = '../../data/2013_vast_challenge/mc3_netflow/nf'\n",
    "_files_ = os.listdir(_dir_)\n",
    "_dfs_   = []\n",
    "for _file_ in _files_:\n",
    "    _dfs_.append(pl.read_csv(_dir_ + '/' + _file_))\n",
    "df = pl.concat(_dfs_)\n",
    "_relates_ = [('firstSeenSrcIp', 'firstSeenDestIp')]\n",
    "df.shape"
   ]
  },
  {
   "cell_type": "code",
   "execution_count": null,
   "metadata": {},
   "outputs": [],
   "source": [
    "becd = RTBundledEgoChordDiagram(rt, df, _relates_, high_degree_node_count=10, chord_diagram_points=8, w=1600, h=1600)\n",
    "rt.table([becd, becd.outlineSVG()], spacer=10, per_row=1)"
   ]
  },
  {
   "cell_type": "code",
   "execution_count": null,
   "metadata": {},
   "outputs": [],
   "source": [
    "def pivot(_lu_):\n",
    "    df_lu = {'bin':[],'__count__':[]}\n",
    "    for k in _lu_: df_lu['bin'].append(k), df_lu['__count__'].append(_lu_[k])\n",
    "    return pl.DataFrame(df_lu)\n",
    "rt.histogram(pivot(becd.time_lu), bin_by='bin', count_by='__count__', w=512)"
   ]
  },
  {
   "cell_type": "code",
   "execution_count": null,
   "metadata": {},
   "outputs": [],
   "source": []
  }
 ],
 "metadata": {
  "kernelspec": {
   "display_name": ".venv",
   "language": "python",
   "name": "python3"
  },
  "language_info": {
   "codemirror_mode": {
    "name": "ipython",
    "version": 3
   },
   "file_extension": ".py",
   "mimetype": "text/x-python",
   "name": "python",
   "nbconvert_exporter": "python",
   "pygments_lexer": "ipython3",
   "version": "3.12.3"
  }
 },
 "nbformat": 4,
 "nbformat_minor": 2
}
