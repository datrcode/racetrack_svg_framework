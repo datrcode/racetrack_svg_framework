{
 "cells": [
  {
   "cell_type": "code",
   "execution_count": null,
   "metadata": {},
   "outputs": [],
   "source": [
    "# Takes the output from routing_3.ipynb and works on the routing portion of it\n",
    "import polars as pl\n",
    "import numpy as np\n",
    "import networkx as nx\n",
    "from rt_bundled_ego_chord_diagram import RTBundledEgoChordDiagram\n",
    "import rtsvg\n",
    "rt = rtsvg.RACETrack()\n",
    "edges_filename  = '../../data/stanford/facebook/1684.edges'\n",
    "_lu_ = {'fm':[], 'to':[]}\n",
    "for _edge_ in open(edges_filename, 'rt').read().split('\\n'):\n",
    "    if _edge_ == '': continue\n",
    "    _split_     = _edge_.split()\n",
    "    _fm_, _to_  = _split_[0], _split_[1]\n",
    "    _lu_['fm'].append(_fm_), _lu_['to'].append(_to_)\n",
    "df = pl.DataFrame(_lu_)\n",
    "# Only Keep The Largest Component\n",
    "g = rt.createNetworkXGraph(df, [('fm','to')])\n",
    "comp_largest = None\n",
    "for _comp_ in nx.connected_components(g):\n",
    "    if comp_largest is None:            comp_largest = _comp_\n",
    "    if len(_comp_) > len(comp_largest): comp_largest = _comp_\n",
    "df = df.filter(pl.col('fm').is_in(comp_largest) & pl.col('to').is_in(comp_largest))\n",
    "df.shape"
   ]
  },
  {
   "cell_type": "code",
   "execution_count": null,
   "metadata": {},
   "outputs": [],
   "source": [
    "becd = RTBundledEgoChordDiagram(rt, df, [('fm','to')])\n",
    "becd"
   ]
  },
  {
   "cell_type": "code",
   "execution_count": null,
   "metadata": {},
   "outputs": [],
   "source": [
    "_lu_ = {'fm':[], 'to':[], 'src':[], 'dst':[], 'ct':[], 'co':[]}\n",
    "_lu_['fm'].append('a'),  _lu_['to'].append('b'),  _lu_['src'].append(None), _lu_['dst'].append(None), _lu_['ct'].append(10), _lu_['co'].append('red')\n",
    "_lu_['fm'].append('b'),  _lu_['to'].append('c'),  _lu_['src'].append(None), _lu_['dst'].append(None), _lu_['ct'].append(20), _lu_['co'].append('red')\n",
    "_lu_['fm'].append('a'),  _lu_['to'].append('c'),  _lu_['src'].append(None), _lu_['dst'].append(None), _lu_['ct'].append(30), _lu_['co'].append('green')\n",
    "_lu_['fm'].append(None), _lu_['to'].append(None), _lu_['src'].append(1),    _lu_['dst'].append(2),    _lu_['ct'].append(1),  _lu_['co'].append('blue')\n",
    "_lu_['fm'].append(None), _lu_['to'].append(None), _lu_['src'].append(2),    _lu_['dst'].append(3),    _lu_['ct'].append(2),  _lu_['co'].append('blue')\n",
    "_lu_['fm'].append(None), _lu_['to'].append(None), _lu_['src'].append(3),    _lu_['dst'].append(1),    _lu_['ct'].append(3),  _lu_['co'].append('orange')\n",
    "_lu_['fm'].append(None), _lu_['to'].append(None), _lu_['src'].append(3),    _lu_['dst'].append(1),    _lu_['ct'].append(5),  _lu_['co'].append('purple')\n",
    "\n",
    "df_test = pl.DataFrame(_lu_)\n",
    "_df0_    = df_test.rename({'fm':'__fm__',  'to':'__to__',  'ct':'__count__', 'co':'__color__'}).filter(pl.col('__fm__').is_not_null() & pl.col('__to__').is_not_null())\n",
    "_df0_    = _df0_.drop(set(_df0_.columns) - set(['__fm__','__to__','__count__','__color__']))\n",
    "\n",
    "_df1_    = df_test.rename({'src':'__fm__', 'dst':'__to__', 'ct':'__count__', 'co':'__color__'}).filter(pl.col('__fm__').is_not_null() & pl.col('__to__').is_not_null())\n",
    "_df1_    = _df1_.drop(set(_df1_.columns) - set(['__fm__','__to__','__count__','__color__']))\n",
    "_df1_    = _df1_.with_columns(pl.col('__fm__').cast(pl.String), pl.col('__to__').cast(pl.String))\n",
    "\n",
    "pl.concat([_df0_, _df1_])"
   ]
  },
  {
   "cell_type": "code",
   "execution_count": null,
   "metadata": {},
   "outputs": [],
   "source": [
    "_tiles_ = []\n",
    "for i in range(8):\n",
    "    g   = rt.createNetworkXGraph(becd.df_communities, [('__fm__','__to__')])\n",
    "    pos = nx.spring_layout(g)\n",
    "    _tiles_.append(rt.link(becd.df_communities, [('__fm__','__to__')], pos, node_size='small', w=192, h=192))\n",
    "rt.tile(_tiles_, spacer=2)"
   ]
  },
  {
   "cell_type": "code",
   "execution_count": null,
   "metadata": {},
   "outputs": [],
   "source": [
    "g   = rt.createNetworkXGraph(df, [('fm','to')])\n",
    "pos = nx.spring_layout(g)\n",
    "rt.link(df, [('fm','to')], pos, w=512, h=512)"
   ]
  },
  {
   "cell_type": "code",
   "execution_count": null,
   "metadata": {},
   "outputs": [],
   "source": []
  }
 ],
 "metadata": {
  "kernelspec": {
   "display_name": ".venv",
   "language": "python",
   "name": "python3"
  },
  "language_info": {
   "codemirror_mode": {
    "name": "ipython",
    "version": 3
   },
   "file_extension": ".py",
   "mimetype": "text/x-python",
   "name": "python",
   "nbconvert_exporter": "python",
   "pygments_lexer": "ipython3",
   "version": "3.12.3"
  }
 },
 "nbformat": 4,
 "nbformat_minor": 2
}
