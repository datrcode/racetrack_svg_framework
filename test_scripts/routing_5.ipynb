{
 "cells": [
  {
   "cell_type": "code",
   "execution_count": null,
   "metadata": {},
   "outputs": [],
   "source": [
    "# Takes the output from routing_3.ipynb and works on the routing portion of it\n",
    "import polars as pl\n",
    "import numpy as np\n",
    "import networkx as nx\n",
    "from rt_bundled_ego_chord_diagram import RTBundledEgoChordDiagram\n",
    "import rtsvg\n",
    "rt = rtsvg.RACETrack()\n",
    "edges_filename  = '../../data/stanford/facebook/1684.edges'\n",
    "_lu_ = {'fm':[], 'to':[]}\n",
    "for _edge_ in open(edges_filename, 'rt').read().split('\\n'):\n",
    "    if _edge_ == '': continue\n",
    "    _split_     = _edge_.split()\n",
    "    _fm_, _to_  = _split_[0], _split_[1]\n",
    "    _lu_['fm'].append(_fm_), _lu_['to'].append(_to_)\n",
    "df = pl.DataFrame(_lu_)\n",
    "# Only Keep The Largest Component\n",
    "g = rt.createNetworkXGraph(df, [('fm','to')])\n",
    "comp_largest = None\n",
    "for _comp_ in nx.connected_components(g):\n",
    "    if comp_largest is None:            comp_largest = _comp_\n",
    "    if len(_comp_) > len(comp_largest): comp_largest = _comp_\n",
    "df = df.filter(pl.col('fm').is_in(comp_largest) & pl.col('to').is_in(comp_largest))\n",
    "df.shape"
   ]
  },
  {
   "cell_type": "code",
   "execution_count": null,
   "metadata": {},
   "outputs": [],
   "source": [
    "becd = RTBundledEgoChordDiagram(rt, df, [('fm','to')], high_degree_node_count=10)\n",
    "rt.tile([becd, becd.outlineSVG(), becd.outlineSVG(render_inter_edges=True)], spacer=10)"
   ]
  },
  {
   "cell_type": "code",
   "execution_count": null,
   "metadata": {},
   "outputs": [],
   "source": [
    "def pivot(_lu_):\n",
    "    df_lu = {'bin':[],'__count__':[]}\n",
    "    for k in _lu_: df_lu['bin'].append(k), df_lu['__count__'].append(_lu_[k])\n",
    "    return pl.DataFrame(df_lu)\n",
    "rt.histogram(pivot(becd.time_lu), bin_by='bin', count_by='__count__', w=512)"
   ]
  },
  {
   "cell_type": "code",
   "execution_count": null,
   "metadata": {},
   "outputs": [],
   "source": [
    "rt.link(becd.df_routing, [('__fm__','__to__')], becd.pos_routing, count_by='__inv_dist__', link_size='vary', link_size_min=0.1, link_size_max=8.0, node_size='tiny', w=512, h=512)"
   ]
  },
  {
   "cell_type": "code",
   "execution_count": null,
   "metadata": {},
   "outputs": [],
   "source": []
  }
 ],
 "metadata": {
  "kernelspec": {
   "display_name": ".venv",
   "language": "python",
   "name": "python3"
  },
  "language_info": {
   "codemirror_mode": {
    "name": "ipython",
    "version": 3
   },
   "file_extension": ".py",
   "mimetype": "text/x-python",
   "name": "python",
   "nbconvert_exporter": "python",
   "pygments_lexer": "ipython3",
   "version": "3.12.3"
  }
 },
 "nbformat": 4,
 "nbformat_minor": 2
}
