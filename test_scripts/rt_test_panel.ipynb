{
 "cells": [
  {
   "cell_type": "code",
   "execution_count": null,
   "id": "70628cb0",
   "metadata": {},
   "outputs": [],
   "source": [
    "import pandas as pd\n",
    "\n",
    "import random\n",
    "\n",
    "import sys\n",
    "sys.path.insert(1, '../framework')\n",
    "\n",
    "from racetrack import *\n",
    "rt = RACETrack()"
   ]
  },
  {
   "cell_type": "code",
   "execution_count": null,
   "id": "557f12da",
   "metadata": {},
   "outputs": [],
   "source": [
    "samples = 1000\n",
    "cats,counts,timestamps = [],[],[]\n",
    "for _sample in range(samples):\n",
    "    _month = random.randint(1,12)\n",
    "    timestamps.append(f'2010-{_month:02}-01')\n",
    "    _r = random.randint(0,3)\n",
    "    if _r == 0:\n",
    "        cats.append('a')\n",
    "    elif _r == 1:\n",
    "        cats.append('b')\n",
    "    elif _r == 2:\n",
    "        cats.append('c')\n",
    "    else:\n",
    "        cats.append('d')\n",
    "    counts.append(random.randint(10,100))\n",
    "df = pd.DataFrame({'timestamp':timestamps,'cat':cats,'count':counts})\n",
    "df['timestamp'] = df['timestamp'].astype('datetime64[s]')\n",
    "spec = {(0,0,4,4):('xy',{'x_field':'timestamp','y_field':'cat'}),\n",
    "        (4,0,2,4):('histogram',{'bin_by':'cat'}),\n",
    "        (0,4,6,2):('temporalBarChart',{}),\n",
    "       }\n",
    "rt.displaySVG(rt.layout(spec,df,w=256,h=256,color_by='cat'))"
   ]
  },
  {
   "cell_type": "code",
   "execution_count": null,
   "id": "090abc10",
   "metadata": {},
   "outputs": [],
   "source": [
    "ipanel = rt.interactivePanel(spec,df,256,256)\n",
    "ipanel"
   ]
  },
  {
   "cell_type": "code",
   "execution_count": null,
   "id": "3037406c",
   "metadata": {},
   "outputs": [],
   "source": [
    "#rt.displaySVG(ipanel.mod_inner)"
   ]
  },
  {
   "cell_type": "code",
   "execution_count": null,
   "id": "cdd4e08b",
   "metadata": {},
   "outputs": [],
   "source": [
    "ipanel.mod_inner = \"\"\"\n",
    "  <svg width=\"256\" height=\"256\">\n",
    "    <circle cx=\"128\" cy=\"128\" r=\"100\" fill=\"#a0a0a0\" />\n",
    "    <circle cx=\"64\"  cy=\"64\"  r=\"50\"  fill=\"#d0d0d0\" />\n",
    "  </svg>\n",
    "\"\"\""
   ]
  },
  {
   "cell_type": "code",
   "execution_count": null,
   "id": "c4bae36c",
   "metadata": {},
   "outputs": [],
   "source": [
    "rt.displaySVG(ipanel.mod_inner)"
   ]
  },
  {
   "cell_type": "code",
   "execution_count": null,
   "id": "fada9da8",
   "metadata": {},
   "outputs": [],
   "source": [
    "ipanel.mod_inner = \"\"\"\n",
    "  <svg width=\"256\" height=\"256\">\n",
    "    <circle cx=\"128\" cy=\"128\" r=\"100\" fill=\"#ff0000\" />\n",
    "    <circle cx=\"64\"  cy=\"64\"  r=\"50\"  fill=\"#ffd0d0\" />\n",
    "  </svg>\n",
    "\"\"\""
   ]
  },
  {
   "cell_type": "code",
   "execution_count": null,
   "id": "88885bc3",
   "metadata": {},
   "outputs": [],
   "source": []
  }
 ],
 "metadata": {
  "kernelspec": {
   "display_name": "Python 3 (ipykernel)",
   "language": "python",
   "name": "python3"
  },
  "language_info": {
   "codemirror_mode": {
    "name": "ipython",
    "version": 3
   },
   "file_extension": ".py",
   "mimetype": "text/x-python",
   "name": "python",
   "nbconvert_exporter": "python",
   "pygments_lexer": "ipython3",
   "version": "3.11.2"
  }
 },
 "nbformat": 4,
 "nbformat_minor": 5
}
