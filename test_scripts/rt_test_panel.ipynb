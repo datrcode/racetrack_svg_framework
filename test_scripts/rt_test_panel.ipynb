{
 "cells": [
  {
   "cell_type": "code",
   "execution_count": null,
   "id": "70628cb0",
   "metadata": {},
   "outputs": [],
   "source": [
    "#\n",
    "# Tested with: \n",
    "#   panel == 0.14.2\n",
    "#   bokeh == 2.4.3\n",
    "#\n",
    "import pandas as pd\n",
    "\n",
    "import random\n",
    "\n",
    "import sys\n",
    "sys.path.insert(1, '../framework')\n",
    "\n",
    "from racetrack import *\n",
    "rt = RACETrack()"
   ]
  },
  {
   "cell_type": "code",
   "execution_count": null,
   "id": "557f12da",
   "metadata": {},
   "outputs": [],
   "source": [
    "samples = 1000\n",
    "cats,cats2,counts,timestamps = [],[],[],[]\n",
    "for _sample in range(samples):\n",
    "    _month = random.randint(1,12)\n",
    "    timestamps.append(f'2010-{_month:02}-01')\n",
    "    cats.append(chr(ord('a')+random.randint(0,3)))\n",
    "    cats2.append(chr(ord('G')+random.randint(0,10)))    \n",
    "    counts.append(random.randint(10,100))\n",
    "df = pd.DataFrame({'timestamp':timestamps,'cat':cats,'cat2':cats2,'count':counts})\n",
    "df['timestamp'] = df['timestamp'].astype('datetime64[s]')\n",
    "spec = {(0,0,4,4):('histogram',{'bin_by':'cat2'}),\n",
    "        (4,0,2,4):('histogram',{'bin_by':'cat'}),\n",
    "        (0,4,6,2):('histogram',{'bin_by':rt.createTField('timestamp','month')}),\n",
    "       }\n",
    "# rt.displaySVG(rt.layout(spec,df,w=256,h=256,color_by='cat'))"
   ]
  },
  {
   "cell_type": "code",
   "execution_count": null,
   "id": "090abc10",
   "metadata": {},
   "outputs": [],
   "source": [
    "ipanel = rt.interactivePanel(spec,256,256,{'color_by':'cat'})\n",
    "ipanel"
   ]
  },
  {
   "cell_type": "code",
   "execution_count": null,
   "id": "3037406c",
   "metadata": {},
   "outputs": [],
   "source": [
    "ipanel.setRoot(df) # Have to do this here... for some reason, cannot apply until after first render..."
   ]
  },
  {
   "cell_type": "code",
   "execution_count": null,
   "id": "7183ba34",
   "metadata": {},
   "outputs": [],
   "source": [
    "spec = {(0,0,4,4):('xy',{'x_field':'timestamp','y_field':'cat','dot_size':'vary'}),\n",
    "        (4,0,2,2):('histogram',{'bin_by':'cat'}),\n",
    "        (4,2,2,2):'pieChart',\n",
    "        (0,4,6,2):('temporalBarChart',{}),\n",
    "        (0,6,6,2):('periodicBarChart',{}),\n",
    "       }\n",
    "ipanel2 = rt.interactivePanel(spec,384,384,{'color_by':'cat2', 'count_by':'count','ts_field':'timestamp'})\n",
    "ipanel2"
   ]
  },
  {
   "cell_type": "code",
   "execution_count": null,
   "id": "c769b1a0",
   "metadata": {},
   "outputs": [],
   "source": [
    "ipanel2.setRoot(df)"
   ]
  },
  {
   "cell_type": "code",
   "execution_count": null,
   "id": "3c367f5b",
   "metadata": {},
   "outputs": [],
   "source": []
  },
  {
   "cell_type": "code",
   "execution_count": null,
   "id": "5e2b5d80",
   "metadata": {},
   "outputs": [],
   "source": []
  }
 ],
 "metadata": {
  "kernelspec": {
   "display_name": "Python 3 (ipykernel)",
   "language": "python",
   "name": "python3"
  },
  "language_info": {
   "codemirror_mode": {
    "name": "ipython",
    "version": 3
   },
   "file_extension": ".py",
   "mimetype": "text/x-python",
   "name": "python",
   "nbconvert_exporter": "python",
   "pygments_lexer": "ipython3",
   "version": "3.11.2"
  }
 },
 "nbformat": 4,
 "nbformat_minor": 5
}
