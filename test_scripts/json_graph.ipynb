{
 "cells": [
  {
   "cell_type": "code",
   "execution_count": null,
   "metadata": {},
   "outputs": [],
   "source": [
    "import pandas as pd\n",
    "import polars as pl\n",
    "import numpy  as np\n",
    "import networkx as nx\n",
    "import time\n",
    "import json\n",
    "import os\n",
    "import sys\n",
    "sys.path.insert(1, '../framework')\n",
    "from racetrack import *\n",
    "rt = RACETrack()"
   ]
  },
  {
   "cell_type": "code",
   "execution_count": null,
   "metadata": {},
   "outputs": [],
   "source": [
    "_txt_  = open('../../data/kaggle_imdb_600k/international-movies-json/03f765ee-8070-449e-a932-e26eef08119f.json').read()\n",
    "_json_ = json.loads(_txt_)"
   ]
  },
  {
   "cell_type": "code",
   "execution_count": null,
   "metadata": {},
   "outputs": [],
   "source": [
    "_rtjson_ = rt.jsonRepr(_json_)\n",
    "_df_, _relates_, _labels_ = _rtjson_.starPathGraphDataframe()\n",
    "_g_ = rt.createNetworkXGraph(_df_, _relates_)\n",
    "_pos_ = rt.hyperTreeLayout(_g_)\n",
    "rt.linkNode(_df_, _relates_, _pos_, node_labels=_labels_, node_labels_only=True, node_size='small', draw_labels=True, w=1536, h=768)"
   ]
  },
  {
   "cell_type": "code",
   "execution_count": null,
   "metadata": {},
   "outputs": [],
   "source": [
    "_df_, _relates_, _labels_ = _rtjson_.absolutePathGraphDataframe()\n",
    "_g_ = rt.createNetworkXGraph(_df_, _relates_)\n",
    "_pos_ = rt.hyperTreeLayout(_g_)\n",
    "rt.linkNode(_df_, _relates_, _pos_, node_labels=_labels_, node_labels_only=True, node_size='small', draw_labels=True, w=1536, h=768)"
   ]
  },
  {
   "cell_type": "code",
   "execution_count": null,
   "metadata": {},
   "outputs": [],
   "source": [
    "_json_simple_txt_ = '''\n",
    "{\"id\":1,\n",
    " \"people\":[{\"first\":\"John\", \"last\":\"Smith\", \"id\":10, \"age\":30, \"city\":\"nyc\",          \"state\":\"ny\", \"country\":\"us\"},\n",
    "           {\"first\":\"Joe\",  \"last\":\"Smith\", \"id\":20, \"age\":35,                        \"state\":\"ny\", \"country\":\"us\"},\n",
    "           {\"first\":\"Mary\", \"last\":\"Jones\", \"id\":30, \"age\":32, \"city\":\"philadelphia\", \"state\":\"pa\", \"country\":\"us\"}],\n",
    " \"knowsFrom\":[[10, 20, \"Conference A\"], \n",
    "              [20, 30, \"Conference B\"]],\n",
    " \"education\":[{\"id\":10, \"degreeReceived\":\"Ph.D. in Computer Science\",   \"university\":\"Stanford University\"},\n",
    "              {\"id\":10, \"degreeReceived\":\"Masters in Computer Science\", \"university\":\"University of Pennsylvania\"}],\n",
    " \"total_people\":3\n",
    "}'''\n",
    "_rtjson_simple_ = rt.jsonRepr(json.loads(_json_simple_txt_))\n",
    "_df_, _relates_, _labels_ = _rtjson_simple_.absolutePathGraphDataframe()\n",
    "_g_   = rt.createNetworkXGraph(_df_, _relates_)\n",
    "_pos_ = rt.hyperTreeLayout(_g_)\n",
    "rt.linkNode(_df_, _relates_, _pos_, node_labels=_labels_, node_labels_only=True, node_size='small', draw_labels=True, w=1536, h=768)"
   ]
  },
  {
   "cell_type": "code",
   "execution_count": null,
   "metadata": {},
   "outputs": [],
   "source": []
  }
 ],
 "metadata": {
  "kernelspec": {
   "display_name": ".venv",
   "language": "python",
   "name": "python3"
  },
  "language_info": {
   "codemirror_mode": {
    "name": "ipython",
    "version": 3
   },
   "file_extension": ".py",
   "mimetype": "text/x-python",
   "name": "python",
   "nbconvert_exporter": "python",
   "pygments_lexer": "ipython3",
   "version": "3.11.6"
  }
 },
 "nbformat": 4,
 "nbformat_minor": 2
}
