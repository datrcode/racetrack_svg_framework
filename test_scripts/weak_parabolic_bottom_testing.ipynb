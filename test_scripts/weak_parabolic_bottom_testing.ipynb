{
 "cells": [
  {
   "cell_type": "code",
   "execution_count": null,
   "id": "18088c0f",
   "metadata": {},
   "outputs": [],
   "source": [
    "import random\n",
    "from rtsvg.polars_spring_layout import WeakParabolicBottom\n",
    "\n",
    "def testFunction(x): # (3, 3.5) is the bottom\n",
    "    if x > 0.0: return 0.1 * (x-8.0) * (x+2.0) + 6.0\n",
    "    return random.random()\n",
    "\n",
    "_wpb_ = WeakParabolicBottom(testFunction)\n",
    "_wpb_"
   ]
  },
  {
   "cell_type": "code",
   "execution_count": null,
   "id": "b9b04f99",
   "metadata": {},
   "outputs": [],
   "source": [
    "_wpb_.bottoms"
   ]
  },
  {
   "cell_type": "code",
   "execution_count": null,
   "id": "b8b4fbd3",
   "metadata": {},
   "outputs": [],
   "source": []
  }
 ],
 "metadata": {
  "kernelspec": {
   "display_name": ".venv (3.13.7)",
   "language": "python",
   "name": "python3"
  },
  "language_info": {
   "codemirror_mode": {
    "name": "ipython",
    "version": 3
   },
   "file_extension": ".py",
   "mimetype": "text/x-python",
   "name": "python",
   "nbconvert_exporter": "python",
   "pygments_lexer": "ipython3",
   "version": "3.13.7"
  }
 },
 "nbformat": 4,
 "nbformat_minor": 5
}
