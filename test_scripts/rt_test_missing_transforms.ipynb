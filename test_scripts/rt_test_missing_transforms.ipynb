{
 "cells": [
  {
   "cell_type": "code",
   "execution_count": null,
   "metadata": {},
   "outputs": [],
   "source": [
    "import pandas as pd\n",
    "import numpy  as np\n",
    "\n",
    "import random\n",
    "\n",
    "from datetime import datetime, timedelta\n",
    "from dateutil.relativedelta import relativedelta\n",
    "\n",
    "import sys\n",
    "sys.path.insert(1, '../framework')\n",
    "from racetrack import *\n",
    "\n",
    "rt = RACETrack()"
   ]
  },
  {
   "cell_type": "code",
   "execution_count": null,
   "metadata": {},
   "outputs": [],
   "source": [
    "df = pd.DataFrame({'timestamp':['2021-01-02', '2021-03-04', '2021-12-01', '2021-12-31'], 'value':[1, 2, 3, 2]})\n",
    "df['timestamp'] = df['timestamp'].astype('datetime64[ms]')\n",
    "rt.displaySVG(rt.tile([rt.xy(df, x_field=rt.createTField('timestamp','day_of_year'), y_field='value', dot_size='large'),\n",
    "                       rt.xy(df, x_field=rt.createTField('timestamp','day_of_week'), y_field='value', dot_size='large'),\n",
    "                       rt.xy(df, x_field=rt.createTField('timestamp','month'),       y_field='value', dot_size='large')]))"
   ]
  },
  {
   "cell_type": "code",
   "execution_count": null,
   "metadata": {},
   "outputs": [],
   "source": [
    "df = pd.DataFrame({'timestamp':['2021-01-02 00:12:00', '2025-03-04 01:00:01', '2026-12-01 12:01:58', '2051-12-31 23:59:59'], 'value':[1, 2, 3, 2]})\n",
    "df['timestamp'] = df['timestamp'].astype('datetime64[ms]')\n",
    "rt.displaySVG(rt.tile([rt.xy(df, x_field=rt.createTField('timestamp','year'),               y_field='value', dot_size='large'),\n",
    "                       rt.xy(df, x_field=rt.createTField('timestamp','day_of_week_hour'),   y_field='value', dot_size='large'),\n",
    "                       rt.xy(df, x_field=rt.createTField('timestamp','hour'),               y_field='value', dot_size='large'),\n",
    "                       rt.xy(df, x_field=rt.createTField('timestamp','minute'),             y_field='value', dot_size='large'),\n",
    "                       rt.xy(df, x_field=rt.createTField('timestamp','second'),             y_field='value', dot_size='large')]))"
   ]
  },
  {
   "cell_type": "code",
   "execution_count": null,
   "metadata": {},
   "outputs": [],
   "source": [
    "df = pd.DataFrame({'timestamp':['2021-01-02 00:12:00', '2025-03-04 01:00:01', '2026-12-01 12:01:58', '2051-12-31 23:59:59'], 'value':[1, 2, 3, 2]})\n",
    "df['timestamp'] = df['timestamp'].astype('datetime64[ms]')\n",
    "rt.displaySVG(rt.tile([rt.xy(df, x_field=rt.createTField('timestamp','year_month'),         y_field='value', dot_size='large'),\n",
    "                       rt.xy(df, x_field=rt.createTField('timestamp','year_month_day'),     y_field='value', dot_size='large'),\n",
    "                       rt.xy(df, x_field=rt.createTField('timestamp','day_of_year_hour'),   y_field='value', dot_size='large'),\n",
    "                       rt.xy(df, x_field=rt.createTField('timestamp','minute'),             y_field='value', dot_size='large'),\n",
    "                       rt.xy(df, x_field=rt.createTField('timestamp','second'),             y_field='value', dot_size='large')]))"
   ]
  },
  {
   "cell_type": "code",
   "execution_count": null,
   "metadata": {},
   "outputs": [],
   "source": [
    "df = pd.DataFrame({'timestamp':['2021-01-01', '2021-01-02', '2021-01-03', '2021-01-04', '2021-01-05', '2021-01-06', '2021-01-07'], \n",
    "                   'value':    [1,            2,            3,            2,            10,           9,            8]})\n",
    "df['timestamp'] = df['timestamp'].astype('datetime64[ms]')\n",
    "rt.displaySVG(rt.tile([rt.xy(df, x_field=rt.createTField('timestamp','day_of_year'), y_field='value', dot_size='medium'),\n",
    "                       rt.xy(df, x_field=rt.createTField('timestamp','day_of_week'), y_field='value', dot_size='medium'),\n",
    "                       rt.xy(df, x_field=rt.createTField('timestamp','month'),       y_field='value', dot_size='medium')]))"
   ]
  },
  {
   "cell_type": "code",
   "execution_count": null,
   "metadata": {},
   "outputs": [],
   "source": []
  }
 ],
 "metadata": {
  "kernelspec": {
   "display_name": "Python 3",
   "language": "python",
   "name": "python3"
  },
  "language_info": {
   "codemirror_mode": {
    "name": "ipython",
    "version": 3
   },
   "file_extension": ".py",
   "mimetype": "text/x-python",
   "name": "python",
   "nbconvert_exporter": "python",
   "pygments_lexer": "ipython3",
   "version": "3.11.1"
  },
  "orig_nbformat": 4,
  "vscode": {
   "interpreter": {
    "hash": "677ca678853aa41fc137f4b55f2bc0c694e45735c0d2faa667d2ec5acb71e67d"
   }
  }
 },
 "nbformat": 4,
 "nbformat_minor": 2
}
