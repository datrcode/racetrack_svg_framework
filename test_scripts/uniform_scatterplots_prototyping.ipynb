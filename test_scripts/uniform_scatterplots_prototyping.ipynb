{
 "cells": [
  {
   "cell_type": "code",
   "execution_count": null,
   "metadata": {},
   "outputs": [],
   "source": [
    "#\n",
    "# Attempts to implement the following:\n",
    "#\n",
    "# H. Rave, V. Molchanov and L. Linsen, \"Uniform Sample Distribution in Scatterplots via Sector-based Transformation,\" \n",
    "# 2024 IEEE Visualization and Visual Analytics (VIS), St. Pete Beach, FL, USA, 2024, pp. 156-160, \n",
    "# doi: 10.1109/VIS55277.2024.00039. \n",
    "# keywords: {Data analysis;Visual analytics;Clutter;Scatterplot de-cluttering;spatial transformation},\n",
    "#"
   ]
  },
  {
   "cell_type": "code",
   "execution_count": null,
   "metadata": {},
   "outputs": [],
   "source": [
    "import polars as pl\n",
    "import numpy as np\n",
    "from math import cos, sin, pi, sqrt, atan2\n",
    "from shapely import Polygon\n",
    "from   udist_scatterplots_via_sectors import UDistScatterPlotsViaSectors, xyUniformSampleDistributionSectorTransformDEBUG, xyUniformSampleDistributionSectorTransform\n",
    "import time\n",
    "import rtsvg\n",
    "rt = rtsvg.RACETrack()\n",
    "df = pl.read_csv('../../data/2013_vast_challenge/mc3_netflow/nf/nf-chunk1.csv')\n",
    "df = rt.columnsAreTimestamps(df, 'parsedDate')\n",
    "df = df.rename({'TimeSeconds':                '_del1_', 'parsedDate':                 'timestamp',\n",
    "                'dateTimeStr':                '_del2_', 'ipLayerProtocol':            'pro',\n",
    "                'ipLayerProtocolCode':        '_del3_', 'firstSeenSrcIp':             'sip',\n",
    "                'firstSeenDestIp':            'dip',    'firstSeenSrcPort':           'spt',\n",
    "                'firstSeenDestPort':          'dpt',    'moreFragments':              '_del4_',\n",
    "                'contFragments':              '_del5_', 'durationSeconds':            'dur',\n",
    "                'firstSeenSrcPayloadBytes':   '_del6_', 'firstSeenDestPayloadBytes':  '_del7_',\n",
    "                'firstSeenSrcTotalBytes':     'soct',   'firstSeenDestTotalBytes':    'doct',\n",
    "                'firstSeenSrcPacketCount':    'spkt',   'firstSeenDestPacketCount':   'dpkt',\n",
    "                'recordForceOut':             '_del8_'})\n",
    "df = df.drop([r'^_del\\d_$'])\n",
    "df = df.sample(2_000_000)\n",
    "xy = rt.xy(df, x_field='soct', y_field='doct', color_by='dpt', align_pixels=False, dot_size='small')\n",
    "xy._repr_svg_() # force a render to get the xy's to populate\n",
    "_xvals_, _yvals_ = list(xy.df[xy.x_axis_col]), list(xy.df[xy.y_axis_col])\n",
    "print(len(_xvals_), len(_yvals_))\n",
    "_weights_        = [1.0] * len(_xvals_)\n",
    "#xy"
   ]
  },
  {
   "cell_type": "code",
   "execution_count": null,
   "metadata": {},
   "outputs": [],
   "source": [
    "import random\n",
    "num_of_pts   = [40, 80, 25]\n",
    "circle_geoms = [(5,5,1),(20,10,2),(8,8,1)]\n",
    "colors       = ['#ff0000','#006400','#0000ff']\n",
    "_xvals_, _yvals_, _weights_, _colors_ = [], [], [], []\n",
    "for i in range(len(num_of_pts)):\n",
    "    for j in range(num_of_pts[i]):\n",
    "        a, l = random.random() * 2 * pi, random.random() * circle_geoms[i][2]\n",
    "        x, y = circle_geoms[i][0] + l * cos(a), circle_geoms[i][1] + l * sin(a)\n",
    "        _xvals_.append(x), _yvals_.append(y), _weights_.append(1.0), _colors_.append(colors[i])\n",
    "\n",
    "#\n",
    "# Simple Renderer\n",
    "#\n",
    "def renderSVG(xs, ys, colors, r=0.2):\n",
    "    x0, y0, x1, y1 = min(xs), min(ys), max(xs), max(ys)\n",
    "    xperc, yperc   = (x1-x0)*0.01, (y1-y0)*0.01\n",
    "    x0, y0, x1, y1 = x0-xperc, y0-yperc, x1+xperc, y1+yperc\n",
    "    svg = []\n",
    "    svg.append(f'<svg x=\"0\" y=\"0\" width=\"256\" height=\"256\" viewBox=\"{x0} {y0} {x1-x0} {y1-y0}\" xmlns=\"http://www.w3.org/2000/svg\">')\n",
    "    svg.append(f'<rect x=\"{x0}\" y=\"{y0}\" width=\"{x1-x0}\" height=\"{y1-y0}\" x=\"0\" y=\"0\" fill=\"#ffffff\" />')\n",
    "    for i in range(len(xs)): svg.append(f'<circle cx=\"{xs[i]}\" cy=\"{ys[i]}\" r=\"{r}\" fill=\"{colors[i]}\" />')\n",
    "    svg.append('</svg>')\n",
    "    return ''.join(svg)\n",
    "\n",
    "#\n",
    "# xyJustVecs() - why not just use vectors?  Because it doesn't work...\n",
    "# ... you need the expected density ... which means you need to divide the space into sectors\n",
    "#\n",
    "def xyJustVecs(xvals, yvals, weights=None, colors=None, iterations=4, vector_scalar=0.1):\n",
    "    xvals_last, yvals_last = xvals, yvals\n",
    "    for iters in range(iterations):\n",
    "        xvals_next, yvals_next = [], []\n",
    "        for i in range(len(xvals_last)):\n",
    "            _x_, _y_ = xvals_last[i], yvals_last[i]\n",
    "            _u_, _v_ = 0.0, 0.0\n",
    "            for j in range(len(xvals_last)):\n",
    "                if i != j:\n",
    "                    _x_next_, _y_next_ = xvals_last[j], yvals_last[j]\n",
    "                    _uv_ = rt.unitVector(((_x_, _y_), (_x_next_, _y_next_)))\n",
    "                    _u_, _v_ = _u_ + _uv_[0], _v_ + _uv_[1]\n",
    "            _uv_ = rt.unitVector(((0.0, 0.0),(_u_, _v_)))\n",
    "            _x_next_, _y_next_ = _x_ - _uv_[0]*vector_scalar, _y_ - _uv_[1]*vector_scalar\n",
    "            xvals_next.append(_x_next_), yvals_next.append(_y_next_)\n",
    "        xvals_last, yvals_last = xvals_next, yvals_next\n",
    "    return xvals_last, yvals_last\n",
    "    \n",
    "x_new, y_new = xyJustVecs(_xvals_, _yvals_, _weights_, _colors_, iterations=80, vector_scalar=0.1)\n",
    "rt.tile([renderSVG(_xvals_, _yvals_, _colors_), renderSVG(x_new, y_new, _colors_)], spacer=10)"
   ]
  },
  {
   "cell_type": "code",
   "execution_count": null,
   "metadata": {},
   "outputs": [],
   "source": [
    "x_new, y_new, svgs, svgs_for_sectors = xyUniformSampleDistributionSectorTransformDEBUG(rt, _xvals_, _yvals_, _weights_, _colors_, iterations=32, border_perc=0.1, vector_scalar=0.1)\n",
    "#rt.table(svgs, per_row=8, spacer=10)"
   ]
  },
  {
   "cell_type": "code",
   "execution_count": null,
   "metadata": {},
   "outputs": [],
   "source": [
    "_to_display_ = []\n",
    "for i in range(1): _to_display_.append(random.choice(svgs_for_sectors))\n",
    "rt.table(_to_display_, per_row=4, spacer=10)"
   ]
  },
  {
   "cell_type": "code",
   "execution_count": null,
   "metadata": {},
   "outputs": [],
   "source": [
    "x_new, y_new = xyUniformSampleDistributionSectorTransform(rt, _xvals_, _yvals_, _weights_, iterations=4, border_perc=0.1, vector_scalar=0.1)\n",
    "rt.tile([renderSVG(_xvals_, _yvals_, _colors_), renderSVG(x_new, y_new, _colors_, r=0.01)], spacer=10)"
   ]
  },
  {
   "cell_type": "code",
   "execution_count": null,
   "metadata": {},
   "outputs": [],
   "source": [
    "#\n",
    "# Area of a Triangle (for sector calculation)\n",
    "# - so, easier if we fix the box to (0.0, 0.0) to (1.0, 1.0)\n",
    "#   ... could then hard-code the segment intersection function\n",
    "#\n",
    "p0, p1, p2 = (0.2, 0.1),(0.9, 0.3),(0.5, 0.9)\n",
    "\n",
    "# Using Heron's formula (requires sqrt)\n",
    "a, b, c    = rt.segmentLength((p0,p1)), rt.segmentLength((p1,p2)), rt.segmentLength((p2,p0))\n",
    "s          = (a+b+c)/2.0\n",
    "_area_     = sqrt(s*(s-a)*(s-b)*(s-c))\n",
    "\n",
    "# Using the cross product (least # of multiplies)\n",
    "_area2_ = abs((p0[0]*(p1[1]-p2[1]) + \n",
    "               p1[0]*(p2[1]-p0[1]) + \n",
    "               p2[0]*(p0[1]-p1[1]))/2.0)\n",
    "\n",
    "# Using the shoelace formula\n",
    "_area3_ = abs((p0[0]*p1[1] - p1[0]*p0[1]) +\n",
    "              (p1[0]*p2[1] - p2[0]*p1[1]) +\n",
    "              (p2[0]*p0[1] - p0[0]*p2[1]))/2.0\n",
    "\n",
    "print(_area_, _area2_, _area3_, Polygon([p0,p1,p2]).area)\n",
    "Polygon([p0,p1,p2])"
   ]
  },
  {
   "cell_type": "code",
   "execution_count": null,
   "metadata": {},
   "outputs": [],
   "source": [
    "#\n",
    "# Demonstrates the shoelace formula on the corner sectors\n",
    "#\n",
    "_points_ = [(0.6,0.4),(0.0, 0.9),(0.0, 1.0),(0.2, 1.0)]\n",
    "_sum_    = 0.0\n",
    "for i in range(len(_points_)):\n",
    "    p, q   = _points_[i], _points_[(i+1)%len(_points_)]\n",
    "    _sum_ += p[0]*q[1] - q[0]*p[1] # p_x * q_y - q_x * p_y\n",
    "_area_ = abs(_sum_)/2.0 # abs required if the order of the points is reversed\n",
    "\n",
    "print(_area_, Polygon(_points_).area)\n",
    "Polygon(_points_)"
   ]
  },
  {
   "cell_type": "code",
   "execution_count": null,
   "metadata": {},
   "outputs": [],
   "source": [
    "#\n",
    "# Demonstrates the shoelace formula on a non-corner sector (if the middle point is just included to make the calculation the same for all sectors)\n",
    "# ... it may just be simpler to calculate the sector areas outside of the polars use for the sector summation...\n",
    "#\n",
    "_points_ = [(0.5,0.3),(0.0, 0.9),(0.0, 0.8),(0.0, 0.6)]\n",
    "_sum_    = 0.0\n",
    "for i in range(len(_points_)):\n",
    "    p, q   = _points_[i], _points_[(i+1)%len(_points_)]\n",
    "    _sum_ += p[0]*q[1] - q[0]*p[1]\n",
    "_area_ = abs(_sum_)/2.0 # abs required if the order of the points is reversed\n",
    "\n",
    "print(_area_, Polygon(_points_).area)\n",
    "Polygon(_points_)"
   ]
  },
  {
   "cell_type": "code",
   "execution_count": null,
   "metadata": {},
   "outputs": [],
   "source": [
    "#\n",
    "# Entire Algorithm As Polars Operations\n",
    "#\n",
    "num_of_pts   = [160, 320, 100]\n",
    "circle_geoms = [(5,5,1),(20,10,2),(8,8,1)]\n",
    "colors       = ['#ff0000','#006400','#0000ff']\n",
    "_xvals_, _yvals_, _weights_, _colors_ = [12.0], [8.0], [1.0], ['#000000']\n",
    "for i in range(len(num_of_pts)):\n",
    "    for j in range(num_of_pts[i]):\n",
    "        a, l = random.random() * 2 * pi, random.random() * circle_geoms[i][2]\n",
    "        x, y = circle_geoms[i][0] + l * cos(a), circle_geoms[i][1] + l * sin(a)\n",
    "        _xvals_.append(x), _yvals_.append(y), _weights_.append(1.0), _colors_.append(colors[i])\n",
    "df            = pl.DataFrame({'x':_xvals_, 'y':_yvals_, 'w':_weights_, 'c':_colors_}) # the 'c' field is not required ... it's for the visualization of the data\n",
    "df_orig       = rt.copyDataFrame(df)\n",
    "t0            = time.time()\n",
    "vector_scalar = 0.01 # parameter for the adjustment\n",
    "iterations    = 256  # parameter for the algorithm\n",
    "\n",
    "udspvs = UDistScatterPlotsViaSectors(_xvals_, _yvals_, _weights_, _colors_, vector_scalar, iterations)\n",
    "df     = udspvs.df_results\n",
    "\n",
    "t1 = time.time()\n",
    "\n",
    "#\n",
    "# Performance\n",
    "# Time Taken (s): 12.910s | Iterations: 128 | Points: 1450 | M1 Pro (16G)\n",
    "# Time Taken (s): 12.693s | Iterations: 128 | Points: 1450 | M1 Pro (16G)\n",
    "# Time Taken (s):  3.302s | Iterations:  32 | Points: 1450 | M1 Pro (16G)\n",
    "# Time Taken (s):  7.364s | Iterations:  64 | Points: 1451 | M1 Pro (16G)\n",
    "#\n",
    "print(f'Time Taken (s): {t1-t0:.3f}s | Iterations: {iterations} | Points: {len(df)}')\n",
    "\n",
    "rt.tile([rt.xy(df_orig, x_field='x', y_field='y', dot_size='small', color_by='c'),\n",
    "         rt.xy(df,      x_field='x', y_field='y', dot_size='small', color_by='c')])"
   ]
  },
  {
   "cell_type": "code",
   "execution_count": null,
   "metadata": {},
   "outputs": [],
   "source": [
    "#\n",
    "# Sector Alignment Examples\n",
    "#\n",
    "for _sector_ in range(16):\n",
    "    # Sector Table Calculation\n",
    "    _a0_     = _sector_*pi/8.0\n",
    "    _a1_     = (_sector_+1)*pi/8.0\n",
    "    _a_      = (_a0_ + _a1_) / 2.0\n",
    "    _u_, _v_ = cos(_a_), sin(_a_)\n",
    "    # Sector Delta Calculation\n",
    "    # df   = df.with_columns(((16*(pl.arctan2(_dy_, _dx_) + pl.lit(pi))/(pl.lit(2*pi))).cast(pl.Int64)).alias('sector'))\n",
    "    _sector_other_ = int(16 * (atan2(_v_, _u_) + pi)/(2*pi))\n",
    "    _sector_align_ = (_sector_ + 8)%16\n",
    "    print(f'{_sector_:>3} | {_sector_other_:>3} | {_sector_align_:>3}')\n"
   ]
  },
  {
   "cell_type": "code",
   "execution_count": null,
   "metadata": {},
   "outputs": [],
   "source": [
    "# Testing the sector alignment...\n",
    "amin, amax = {}, {}\n",
    "for _sector_ in range(16):\n",
    "    # Sector Table Calculation\n",
    "    _a0_     = _sector_*pi/8.0\n",
    "    _a1_     = (_sector_+1)*pi/8.0\n",
    "    amin[_sector_] = _a0_\n",
    "    amax[_sector_] = _a1_\n",
    "\n",
    "# No errors show up this way ... however, errors are present for some of the exact angles\n",
    "# ... but i don't think enough errors to cause the current issue (2025-06-07 0915)\n",
    "_errors_ = 0\n",
    "for i in range(10_000):\n",
    "    a              = random.random() * 360.0\n",
    "    _rad_          = pi * a / 180.0\n",
    "    _sector_       = None\n",
    "    for _s_ in amin.keys():\n",
    "        if _rad_ >= amin[_s_] and _rad_ < amax[_s_]:\n",
    "            _sector_ = _s_\n",
    "            break\n",
    "    _u_, _v_       = cos(_rad_), sin(_rad_)\n",
    "    _atan2_        = atan2(_v_, _u_)\n",
    "    _sector_other_ = int(16 * (atan2(_v_, _u_) + pi)/(2*pi))\n",
    "    _sector_align_ = (_sector_ + 8)%16\n",
    "    #print(f'{a:>3} | {_sector_other_:>3} | {_sector_align_:>3} | {_sector_other_ - _sector_align_:>3}')\n",
    "    if _sector_other_ != _sector_align_: _errors_ += 1\n",
    "\n",
    "print(f'Errors: {_errors_}')"
   ]
  },
  {
   "cell_type": "code",
   "execution_count": null,
   "metadata": {},
   "outputs": [],
   "source": [
    "_point_i_ = 0\n",
    "rt.tile([udspvs.svgOfPoint(rt, _point_i_)]) # , rt.histogram(df_points_all.filter(pl.col('__index__') == _point_i_), bin_by='sector', color_by='sector', bar_h=20, h=768, w=384)])\n",
    "#udspvs.df_fully_filled[0]"
   ]
  },
  {
   "cell_type": "code",
   "execution_count": null,
   "metadata": {},
   "outputs": [],
   "source": [
    "_tiles_ = []\n",
    "for i in range(16): _tiles_.append(udspvs.renderSector(rt, point_i=0, sector=i))\n",
    "rt.table(_tiles_, per_row=8)"
   ]
  },
  {
   "cell_type": "code",
   "execution_count": null,
   "metadata": {},
   "outputs": [],
   "source": [
    "rt.tile([udspvs.animateIterations(animation_dur=\"10.0s\"), udspvs], spacer=10)"
   ]
  },
  {
   "cell_type": "code",
   "execution_count": null,
   "metadata": {},
   "outputs": [],
   "source": []
  }
 ],
 "metadata": {
  "kernelspec": {
   "display_name": ".venv",
   "language": "python",
   "name": "python3"
  },
  "language_info": {
   "codemirror_mode": {
    "name": "ipython",
    "version": 3
   },
   "file_extension": ".py",
   "mimetype": "text/x-python",
   "name": "python",
   "nbconvert_exporter": "python",
   "pygments_lexer": "ipython3",
   "version": "3.13.3"
  }
 },
 "nbformat": 4,
 "nbformat_minor": 2
}
