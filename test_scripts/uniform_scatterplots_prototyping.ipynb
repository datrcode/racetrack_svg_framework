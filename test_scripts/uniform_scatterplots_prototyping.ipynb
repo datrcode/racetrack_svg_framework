{
 "cells": [
  {
   "cell_type": "code",
   "execution_count": null,
   "metadata": {},
   "outputs": [],
   "source": [
    "#\n",
    "# Attempts to implement the following:\n",
    "#\n",
    "# H. Rave, V. Molchanov and L. Linsen, \"Uniform Sample Distribution in Scatterplots via Sector-based Transformation,\" \n",
    "# 2024 IEEE Visualization and Visual Analytics (VIS), St. Pete Beach, FL, USA, 2024, pp. 156-160, \n",
    "# doi: 10.1109/VIS55277.2024.00039. \n",
    "# keywords: {Data analysis;Visual analytics;Clutter;Scatterplot de-cluttering;spatial transformation},\n",
    "#\n",
    "import polars as pl\n",
    "import numpy as np\n",
    "from math import cos, sin, pi, sqrt, atan2\n",
    "from shapely import Polygon\n",
    "from   udist_scatterplots_via_sectors import UDistScatterPlotsViaSectors, xyUniformSampleDistributionSectorTransformDEBUG, xyUniformSampleDistributionSectorTransform\n",
    "import time\n",
    "import rtsvg\n",
    "rt = rtsvg.RACETrack()\n",
    "import random\n",
    "num_of_pts   = [10, 20, 10]\n",
    "circle_geoms = [(5,5,1),(20,10,2),(8,8,1)]\n",
    "colors       = ['#ff0000','#006400','#0000ff']\n",
    "_xvals_, _yvals_, _weights_, _colors_ = [12.0], [8.0], [1.0], ['#000000']\n",
    "for i in range(len(num_of_pts)):\n",
    "    for j in range(num_of_pts[i]):\n",
    "        a, l = random.random() * 2 * pi, random.random() * circle_geoms[i][2]\n",
    "        x, y = circle_geoms[i][0] + l * cos(a), circle_geoms[i][1] + l * sin(a)\n",
    "        _xvals_.append(x), _yvals_.append(y), _weights_.append(1.0), _colors_.append(colors[i])\n",
    "\n",
    "#\n",
    "# Simple Renderer\n",
    "#\n",
    "def renderSVG(xs, ys, colors, r=0.2):\n",
    "    x0, y0, x1, y1 = min(xs), min(ys), max(xs), max(ys)\n",
    "    xperc, yperc   = (x1-x0)*0.01, (y1-y0)*0.01\n",
    "    x0, y0, x1, y1 = x0-xperc, y0-yperc, x1+xperc, y1+yperc\n",
    "    svg = []\n",
    "    svg.append(f'<svg x=\"0\" y=\"0\" width=\"256\" height=\"256\" viewBox=\"{x0} {y0} {x1-x0} {y1-y0}\" xmlns=\"http://www.w3.org/2000/svg\">')\n",
    "    svg.append(f'<rect x=\"{x0}\" y=\"{y0}\" width=\"{x1-x0}\" height=\"{y1-y0}\" x=\"0\" y=\"0\" fill=\"#ffffff\" />')\n",
    "    for i in range(len(xs)): svg.append(f'<circle cx=\"{xs[i]}\" cy=\"{ys[i]}\" r=\"{r}\" fill=\"{colors[i]}\" />')\n",
    "    svg.append('</svg>')\n",
    "    return ''.join(svg)\n",
    "    \n",
    "#x_new, y_new = xyJustVecs(_xvals_, _yvals_, _weights_, _colors_, iterations=80, vector_scalar=0.1)\n",
    "#rt.tile([renderSVG(_xvals_, _yvals_, _colors_), renderSVG(x_new, y_new, _colors_)], spacer=10)\n",
    "\n",
    "x_new, y_new, svgs, svgs_for_sectors, svg_animation, df_fine = xyUniformSampleDistributionSectorTransformDEBUG(rt, _xvals_, _yvals_, _weights_, _colors_, iterations=32)\n",
    "udspvs = UDistScatterPlotsViaSectors(_xvals_, _yvals_, _weights_, _colors_, iterations=32)\n",
    "#rt.table(svgs, per_row=8, spacer=10)\n",
    "rt.tile([svg_animation, udspvs.animateIterations(animation_dur=\"4s\")], spacer=10)"
   ]
  },
  {
   "cell_type": "code",
   "execution_count": null,
   "metadata": {},
   "outputs": [],
   "source": [
    "def comparePointIteration(point_i=0, iteration=0):\n",
    "    _df0_ = df_fine.filter((pl.col('iteration') == iteration) & (pl.col('point_i') == point_i) & (pl.col('s_wgt') > 0.0)).sort('s_wgt')\n",
    "    _df1_ = udspvs.df_fully_filled[iteration].filter(pl.col('__index__') == point_i).sort('_w_sum_')\n",
    "    if set(_df0_['s_wgt']) != set(_df1_['_w_sum_']): \n",
    "        raise Exception(f'Weight sums do not match {point_i=} {iteration=}')\n",
    "    if set(_df0_['s_u']) != set(_df1_['anchor_u']): \n",
    "        l0 = sorted(list(_df0_['s_u']))\n",
    "        l1 = sorted(list(_df1_['anchor_u']))\n",
    "        for i in range(len(l0)):\n",
    "            if l0[i] != l1[i]:\n",
    "                raise Exception(f'Anchor U does not match {point_i=} {iteration=} {l0[i]=} {l1[i]=}')\n",
    "        raise Exception(f'Anchor U does not match {point_i=} {iteration=}')\n",
    "    if set(_df0_['s_v']) != set(_df1_['anchor_v']): \n",
    "        raise Exception(f'Anchor V does not match {point_i=} {iteration=}')\n",
    "\n",
    "#for iteration in range(33):\n",
    "#    print('.',end='')\n",
    "#    for point_i in range(41):\n",
    "#        comparePointIteration(point_i, iteration)"
   ]
  },
  {
   "cell_type": "code",
   "execution_count": null,
   "metadata": {},
   "outputs": [],
   "source": [
    "iteration, point_i = 0, 0\n",
    "df_fine.filter((pl.col('iteration') == iteration) & (pl.col('point_i') == point_i) & (pl.col('s_wgt') > 0.0)).sort('s_wgt')"
   ]
  },
  {
   "cell_type": "code",
   "execution_count": null,
   "metadata": {},
   "outputs": [],
   "source": [
    "udspvs.df_fully_filled[iteration].filter(pl.col('__index__') == point_i).sort('_w_sum_')"
   ]
  },
  {
   "cell_type": "code",
   "execution_count": null,
   "metadata": {},
   "outputs": [],
   "source": [
    "udspvs.df_uv[iteration].filter(pl.col('__index__') == point_i)"
   ]
  },
  {
   "cell_type": "code",
   "execution_count": null,
   "metadata": {},
   "outputs": [],
   "source": [
    "df_fine.filter((pl.col('iteration') == iteration) & (pl.col('point_i') == point_i)).sort('s', descending=True)"
   ]
  },
  {
   "cell_type": "code",
   "execution_count": null,
   "metadata": {},
   "outputs": [],
   "source": [
    "df_fine.filter((pl.col('iteration') == iteration) & (pl.col('point_i') == point_i)).sum()"
   ]
  },
  {
   "cell_type": "code",
   "execution_count": null,
   "metadata": {},
   "outputs": [],
   "source": [
    "df = pl.DataFrame({'x':[1,2,3,4,1,2,3,4,1,4],\n",
    "                   'y':[9,9,9,9,8,8,8,8,7,7],\n",
    "                   'z':[2,3,1,3,5,2,3,5,2,3]})\n",
    "df"
   ]
  },
  {
   "cell_type": "code",
   "execution_count": null,
   "metadata": {},
   "outputs": [],
   "source": [
    "# Get all unique y values\n",
    "unique_y = df['y'].unique().sort(descending=True)\n",
    "\n",
    "# Create complete combinations of x (1,2,3,4) for each y\n",
    "complete_combinations = []\n",
    "for y_val in unique_y:\n",
    "    for x_val in [1, 2, 3]:\n",
    "        complete_combinations.append({'x': x_val, 'y': y_val})\n",
    "\n",
    "complete_df = pl.DataFrame(complete_combinations)\n",
    "\n",
    "# Left join to preserve existing z values and add missing combinations\n",
    "result_df = (complete_df\n",
    "             .join(df, on=['x', 'y'], how='left')\n",
    "             .with_columns(pl.col('z').fill_null(0))\n",
    "             .sort(['y', 'x'], descending=[True, False]))\n",
    "\n",
    "print(\"\\nDataframe with missing combinations filled:\")\n",
    "print(result_df)"
   ]
  },
  {
   "cell_type": "code",
   "execution_count": null,
   "metadata": {},
   "outputs": [],
   "source": [
    "df = pl.DataFrame({'x':[1,5,10,11]})\n",
    "y_values = [1,2]\n",
    "df.join(pl.DataFrame({'y':y_values}), how='cross')"
   ]
  },
  {
   "cell_type": "code",
   "execution_count": null,
   "metadata": {},
   "outputs": [],
   "source": [
    "df_all_sectors = udspvs.df_at_iteration_start[iteration].join(pl.DataFrame({'sector': [i for i in range(16)]}), how='cross').drop(['c','w'])\n",
    "_df_           = udspvs.df_fully_filled[iteration]\n",
    "_df_           = _df_.join(df_all_sectors, on=['__index__', 'x', 'y'], how='left') \\\n",
    "                     .with_columns(pl.col('_w_ratio_').fill_null(0.0))\n",
    "\n",
    "_df_.filter(pl.col('__index__') == point_i).sort('sector')"
   ]
  },
  {
   "cell_type": "code",
   "execution_count": null,
   "metadata": {},
   "outputs": [],
   "source": []
  }
 ],
 "metadata": {
  "kernelspec": {
   "display_name": ".venv",
   "language": "python",
   "name": "python3"
  },
  "language_info": {
   "codemirror_mode": {
    "name": "ipython",
    "version": 3
   },
   "file_extension": ".py",
   "mimetype": "text/x-python",
   "name": "python",
   "nbconvert_exporter": "python",
   "pygments_lexer": "ipython3",
   "version": "3.13.3"
  }
 },
 "nbformat": 4,
 "nbformat_minor": 2
}
