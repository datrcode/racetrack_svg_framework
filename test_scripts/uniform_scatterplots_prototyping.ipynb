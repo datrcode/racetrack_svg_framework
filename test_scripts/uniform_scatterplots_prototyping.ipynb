{
 "cells": [
  {
   "cell_type": "code",
   "execution_count": null,
   "metadata": {},
   "outputs": [],
   "source": [
    "#\n",
    "# Prototyping for the following ... now it's about optimization\n",
    "#\n",
    "# H. Rave, V. Molchanov and L. Linsen, \"Uniform Sample Distribution in Scatterplots via Sector-based Transformation,\" \n",
    "# 2024 IEEE Visualization and Visual Analytics (VIS), St. Pete Beach, FL, USA, 2024, pp. 156-160, \n",
    "# doi: 10.1109/VIS55277.2024.00039. \n",
    "# keywords: {Data analysis;Visual analytics;Clutter;Scatterplot de-cluttering;spatial transformation},\n",
    "#\n",
    "import polars as pl\n",
    "import numpy as np\n",
    "from math import cos, sin, pi, sqrt, atan2\n",
    "from shapely import Polygon\n",
    "from   udist_scatterplots_via_sectors          import UDistScatterPlotsViaSectors\n",
    "from   udist_scatterplots_via_sectors_tile_opt import UDistScatterPlotsViaSectorsTileOpt\n",
    "import time\n",
    "import rtsvg\n",
    "rt = rtsvg.RACETrack()\n",
    "import random\n",
    "# num_of_pts   = [10, 20, 5]\n",
    "num_of_pts   = [200, 400, 100]\n",
    "circle_geoms = [(5,5,1),(20,10,2),(8,8,1)]\n",
    "colors       = ['#ff0000','#006400','#0000ff']\n",
    "_xvals_, _yvals_, _weights_, _colors_ = [12.0], [8.0], [1.0], ['#000000']\n",
    "for i in range(len(num_of_pts)):\n",
    "    for j in range(num_of_pts[i]):\n",
    "        a, l = random.random() * 2 * pi, random.random() * circle_geoms[i][2]\n",
    "        x, y = circle_geoms[i][0] + l * cos(a), circle_geoms[i][1] + l * sin(a)\n",
    "        _xvals_.append(x), _yvals_.append(y), _weights_.append(1.0), _colors_.append(colors[i])\n",
    "for i in range(100):\n",
    "    x, y = 20*random.random(), 20*random.random()\n",
    "    _xvals_.append(x), _yvals_.append(y), _weights_.append(1.0), _colors_.append('#000000')\n",
    "\n",
    "_iterations_ = 16\n",
    "\n",
    "t1 = time.time()\n",
    "udspvs          = UDistScatterPlotsViaSectors(_xvals_, _yvals_, _weights_, _colors_, iterations=_iterations_, debug=True)\n",
    "t2 = time.time()\n",
    "udspvs_tile_opt = UDistScatterPlotsViaSectorsTileOpt(_xvals_, _yvals_, _weights_, _colors_, iterations=_iterations_, debug=True, num_of_tiles=64)\n",
    "t3 = time.time()\n",
    "# 351 Points | 512 Iterations | 5.66s Polars Time | 10.68s Polars Tile Opt Time | (M1 Pro 16G)\n",
    "# 7001 Points | 2 Iterations | 12.30s Polars Time | 4.97s Polars Tile Opt Time (32 tiles) | (M1 Pro 16G)  # After uniquifying the xoyo sectors\n",
    "# 7001 Points | 2 Iterations | 9.38s Polars Time | 2.95s Polars Tile Opt Time (64 tiles) | (M1 Pro 16G) \n",
    "print(f'{len(_xvals_)} Points | {_iterations_} Iterations | {t2-t1:.2f}s Polars Time | {t3-t2:.2f}s Polars Tile Opt Time | (M1 Pro 16G) ')\n",
    "rt.tile([udspvs.animateIterations(animation_dur=\"4s\"), udspvs_tile_opt.animateIterations(animation_dur=\"4s\")], spacer=10)"
   ]
  },
  {
   "cell_type": "code",
   "execution_count": null,
   "metadata": {},
   "outputs": [],
   "source": [
    "_tiles_ = udspvs_tile_opt.renderStages(rt)\n",
    "rt.tile([_tiles_[4], _tiles_[7]], spacer=10)"
   ]
  },
  {
   "cell_type": "code",
   "execution_count": null,
   "metadata": {},
   "outputs": [],
   "source": []
  }
 ],
 "metadata": {
  "kernelspec": {
   "display_name": ".venv",
   "language": "python",
   "name": "python3"
  },
  "language_info": {
   "codemirror_mode": {
    "name": "ipython",
    "version": 3
   },
   "file_extension": ".py",
   "mimetype": "text/x-python",
   "name": "python",
   "nbconvert_exporter": "python",
   "pygments_lexer": "ipython3",
   "version": "3.13.3"
  }
 },
 "nbformat": 4,
 "nbformat_minor": 4
}
