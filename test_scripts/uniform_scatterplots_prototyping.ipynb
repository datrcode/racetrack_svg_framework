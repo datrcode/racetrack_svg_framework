{
 "cells": [
  {
   "cell_type": "code",
   "execution_count": null,
   "metadata": {},
   "outputs": [],
   "source": [
    "#\n",
    "# Prototyping for the following ... now it's about optimization\n",
    "#\n",
    "# H. Rave, V. Molchanov and L. Linsen, \"Uniform Sample Distribution in Scatterplots via Sector-based Transformation,\" \n",
    "# 2024 IEEE Visualization and Visual Analytics (VIS), St. Pete Beach, FL, USA, 2024, pp. 156-160, \n",
    "# doi: 10.1109/VIS55277.2024.00039. \n",
    "# keywords: {Data analysis;Visual analytics;Clutter;Scatterplot de-cluttering;spatial transformation},\n",
    "#\n",
    "import polars as pl\n",
    "import numpy as np\n",
    "from math import cos, sin, pi, sqrt, atan2\n",
    "from shapely import Polygon\n",
    "from   udist_scatterplots_via_sectors          import UDistScatterPlotsViaSectors\n",
    "from   udist_scatterplots_via_sectors_tile_opt import UDistScatterPlotsViaSectorsTileOpt\n",
    "import time\n",
    "import rtsvg\n",
    "rt = rtsvg.RACETrack()\n",
    "import random\n",
    "num_of_pts   = [10, 20, 5]\n",
    "#num_of_pts   = [2_000, 4_000, 1_000]\n",
    "circle_geoms = [(5,5,1),(20,10,2),(8,8,1)]\n",
    "colors       = ['#ff0000','#006400','#0000ff']\n",
    "_xvals_, _yvals_, _weights_, _colors_ = [12.0], [8.0], [1.0], ['#000000']\n",
    "for i in range(len(num_of_pts)):\n",
    "    for j in range(num_of_pts[i]):\n",
    "        a, l = random.random() * 2 * pi, random.random() * circle_geoms[i][2]\n",
    "        x, y = circle_geoms[i][0] + l * cos(a), circle_geoms[i][1] + l * sin(a)\n",
    "        _xvals_.append(x), _yvals_.append(y), _weights_.append(1.0), _colors_.append(colors[i])\n",
    "\n",
    "_iterations_ = 2\n",
    "\n",
    "t1 = time.time()\n",
    "udspvs          = UDistScatterPlotsViaSectors(_xvals_, _yvals_, _weights_, _colors_, iterations=_iterations_, debug=True)\n",
    "t2 = time.time()\n",
    "udspvs_tile_opt = UDistScatterPlotsViaSectorsTileOpt(_xvals_, _yvals_, _weights_, _colors_, iterations=_iterations_, debug=True, num_of_tiles=64)\n",
    "t3 = time.time()\n",
    "# 351 Points | 512 Iterations | 5.66s Polars Time | 10.68s Polars Tile Opt Time | (M1 Pro 16G)\n",
    "# 7001 Points | 2 Iterations | 12.30s Polars Time | 4.97s Polars Tile Opt Time (32 tiles) | (M1 Pro 16G)  # After uniquifying the xoyo sectors\n",
    "# 7001 Points | 2 Iterations | 9.38s Polars Time | 2.95s Polars Tile Opt Time (64 tiles) | (M1 Pro 16G) \n",
    "print(f'{len(_xvals_)} Points | {_iterations_} Iterations | {t2-t1:.2f}s Polars Time | {t3-t2:.2f}s Polars Tile Opt Time | (M1 Pro 16G) ')\n",
    "#rt.tile([udspvs.animateIterations(animation_dur=\"4s\"), udspvs_tile_opt.animateIterations(animation_dur=\"4s\")], spacer=10)"
   ]
  },
  {
   "cell_type": "code",
   "execution_count": null,
   "metadata": {},
   "outputs": [],
   "source": [
    "#rt.table(udspvs_tile_opt.renderStages(rt), spacer=10, per_row=4)"
   ]
  },
  {
   "cell_type": "code",
   "execution_count": null,
   "metadata": {},
   "outputs": [],
   "source": [
    "_pts_ = 10_000\n",
    "_lu_  = {'x0':[], 'y0':[], 'x1':[], 'y1':[], 'x':[], 'y':[]}\n",
    "_x0_, _y0_, _x1_, _y1_ = random.random(), random.random(), random.random(), random.random()\n",
    "for i in range(_pts_):\n",
    "    _lu_['x0'].append(_x0_), _lu_['y0'].append(_y0_)\n",
    "    _lu_['x1'].append(_x1_), _lu_['y1'].append(_y1_)\n",
    "    _lu_['x'] .append(random.random()), _lu_['y'] .append(random.random())\n",
    "_df_ = pl.DataFrame(_lu_)\n",
    "\n",
    "t0 = time.time()\n",
    "_dx_, _dy_ = pl.col('x') - pl.col('x0'), pl.col('y') - pl.col('y0')\n",
    "_df_       = _df_.with_columns(((16*(pl.arctan2(_dy_, _dx_) + pl.lit(pi))/(pl.lit(2*pi))).cast(pl.Int64)).alias('sector'))\n",
    "t1 = time.time()\n",
    "\n",
    "print(f'{t1-t0:.3f}s arctan2')\n",
    "\n",
    "t0 = time.time()\n",
    "_df_ = _df_.with_columns(\n",
    "            pl.when((pl.col('x0') - pl.col('x')) * (pl.col('y1') - pl.col('y')) - (pl.col('y0') - pl.col('y')) * (pl.col('x1') - pl.col('x')) > 0.0)\n",
    "            .then(1)\n",
    "            .otherwise(0)\n",
    "            .alias('right')\n",
    ")\n",
    "t1 = time.time()\n",
    "\n",
    "print(f'{t1-t0:.3f}s pointRightOfLine')\n",
    "\n",
    "# 10M points / arctan2          0.394s / M1 Pro (16G)\n",
    "# 10M points / pointRightOfLine 0.058s / M1 Pro (16G) # Almost 7x faster ...\n",
    "rt.xy(_df_, x_field='x', y_field='y', color_by='right', dot_size='small')"
   ]
  }
 ],
 "metadata": {
  "kernelspec": {
   "display_name": ".venv",
   "language": "python",
   "name": "python3"
  },
  "language_info": {
   "codemirror_mode": {
    "name": "ipython",
    "version": 3
   },
   "file_extension": ".py",
   "mimetype": "text/x-python",
   "name": "python",
   "nbconvert_exporter": "python",
   "pygments_lexer": "ipython3",
   "version": "3.12.3"
  }
 },
 "nbformat": 4,
 "nbformat_minor": 2
}
