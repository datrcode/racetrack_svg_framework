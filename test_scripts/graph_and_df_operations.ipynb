{
 "cells": [
  {
   "cell_type": "code",
   "execution_count": null,
   "id": "cd837309",
   "metadata": {},
   "outputs": [],
   "source": [
    "import polars as pl\n",
    "import rtsvg\n",
    "rt = rtsvg.RACETrack()\n",
    "df = pl.DataFrame({'fm':'a b c d a b c d a b c m'.split(), \n",
    "                   'to':'b c d a b c d a b c d n'.split(),\n",
    "                   'ty':'x x x x x y y y y y y y'.split()})\n",
    "rt.link(df, [('fm','to')], link_shape='curve')"
   ]
  },
  {
   "cell_type": "code",
   "execution_count": null,
   "id": "5573df11",
   "metadata": {},
   "outputs": [],
   "source": [
    "# Keeps a single record per edge\n",
    "df_single_rec = df.group_by(['fm','to']).first()\n",
    "df_single_rec"
   ]
  },
  {
   "cell_type": "code",
   "execution_count": null,
   "id": "f5c3222b",
   "metadata": {},
   "outputs": [],
   "source": [
    "# For two records (i.e., two edges), add back in all the records for those edges... (reverse of the last operation)\n",
    "_df_ = df_single_rec.sample(2)\n",
    "_df_ "
   ]
  },
  {
   "cell_type": "code",
   "execution_count": null,
   "id": "46f63ebf",
   "metadata": {},
   "outputs": [],
   "source": []
  }
 ],
 "metadata": {
  "kernelspec": {
   "display_name": ".venv",
   "language": "python",
   "name": "python3"
  },
  "language_info": {
   "codemirror_mode": {
    "name": "ipython",
    "version": 3
   },
   "file_extension": ".py",
   "mimetype": "text/x-python",
   "name": "python",
   "nbconvert_exporter": "python",
   "pygments_lexer": "ipython3",
   "version": "3.12.3"
  }
 },
 "nbformat": 4,
 "nbformat_minor": 5
}
