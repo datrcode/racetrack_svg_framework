{
 "cells": [
  {
   "cell_type": "code",
   "execution_count": null,
   "metadata": {},
   "outputs": [],
   "source": [
    "import pandas   as pd\n",
    "import numpy    as np\n",
    "import networkx as nx\n",
    "import sys\n",
    "sys.path.insert(1, '../framework')\n",
    "from racetrack import *\n",
    "rt = RACETrack()"
   ]
  },
  {
   "cell_type": "code",
   "execution_count": null,
   "metadata": {},
   "outputs": [],
   "source": [
    "df = pd.DataFrame({'fm':['a','b','c','d',   'a',  'a',  'a',    'd',  'd',  'd'],\n",
    "                   'to':['b','c','d','c',   'a0', 'a1', 'a2',   'd0', 'd1', 'd2']})\n",
    "relates = [('fm','to')]\n",
    "g_nx    = rt.createNetworkXGraph(df, relates)\n",
    "pos     = nx.spring_layout(g_nx)\n",
    "svgs    = []\n",
    "svgs.append(rt.linkNode(df, relates, pos, node_size='small',  link_shape='curve'))\n",
    "svgs.append(rt.linkNode(df, relates, pos, node_size='small',  link_shape='curve', link_arrow_length=20))\n",
    "svgs.append(rt.linkNode(df, relates, pos, node_size='medium', link_shape='curve', link_arrow_length=15, link_size='medium'))\n",
    "svgs.append(rt.linkNode(df, relates, pos, node_size='small',  link_shape='line'))\n",
    "svgs.append(rt.linkNode(df, relates, pos, node_size='small',  link_shape='line', link_arrow_length=20))\n",
    "svgs.append(rt.linkNode(df, relates, pos, node_size='medium', link_shape='line', link_arrow_length=15, link_size='medium'))\n",
    "rt.displaySVG(rt.table(svgs, per_row=3))"
   ]
  },
  {
   "cell_type": "code",
   "execution_count": null,
   "metadata": {},
   "outputs": [],
   "source": [
    "df  = pd.DataFrame({'fm':[0,1,2], 'to':[1,2,3]})\n",
    "pos = {0:[0,0], 1:[0, 1], 2:[1,0], 3:[1,1]}\n",
    "rt.displaySVG(rt.linkNode(df, relates, pos, x_ins=20, y_ins=20, txt_h=18, label_only=set(['1','2'])))"
   ]
  },
  {
   "cell_type": "code",
   "execution_count": null,
   "metadata": {},
   "outputs": [],
   "source": []
  }
 ],
 "metadata": {
  "kernelspec": {
   "display_name": "Python 3",
   "language": "python",
   "name": "python3"
  },
  "language_info": {
   "codemirror_mode": {
    "name": "ipython",
    "version": 3
   },
   "file_extension": ".py",
   "mimetype": "text/x-python",
   "name": "python",
   "nbconvert_exporter": "python",
   "pygments_lexer": "ipython3",
   "version": "3.11.5"
  },
  "orig_nbformat": 4,
  "vscode": {
   "interpreter": {
    "hash": "677ca678853aa41fc137f4b55f2bc0c694e45735c0d2faa667d2ec5acb71e67d"
   }
  }
 },
 "nbformat": 4,
 "nbformat_minor": 2
}
