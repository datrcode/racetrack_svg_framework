{
 "cells": [
  {
   "cell_type": "code",
   "execution_count": null,
   "metadata": {},
   "outputs": [],
   "source": [
    "import pandas as pd\n",
    "import numpy  as np\n",
    "import sys\n",
    "sys.path.insert(1, '../framework')\n",
    "from racetrack import *\n",
    "rt = RACETrack()"
   ]
  },
  {
   "cell_type": "code",
   "execution_count": null,
   "metadata": {},
   "outputs": [],
   "source": [
    "df      = pd.DataFrame({'fm':['a','b','c','d'], 'to':['b','c','d','a']})\n",
    "pos     = {'a':(0,0), 'b':(1,0), 'c':(1,1), 'd':(0,1)}\n",
    "relates =[('fm','to')]\n",
    "_ln_ = rt.linkNode(df, relates, pos, draw_labels=True, bounds_percent=0.2)\n",
    "_cd_ = rt.chordDiagram(df, relates, draw_labels=True)\n",
    "to_annotate = ['a','b','c','d']\n",
    "rt.table([rt.annotateEntities(_ln_, to_annotate, draw_text_border=True),\n",
    "          rt.annotateEntities(_ln_, to_annotate, draw_text_border=True, shape_outline_size=2.0),\n",
    "          rt.annotateEntities(_cd_, to_annotate, draw_text_border=True),\n",
    "          rt.annotateEntities(_cd_, to_annotate, draw_text_border=True, shape_outline_size=2.0)], per_row=2)"
   ]
  },
  {
   "cell_type": "code",
   "execution_count": null,
   "metadata": {},
   "outputs": [],
   "source": [
    "#\n",
    "# Should nodes offscreen be rendered?\n",
    "#\n",
    "_ln_.setViewWindow((-0.2,-0.2,1.2,0.6))\n",
    "rt.annotateEntities(_ln_, ['a','b','c','d'], draw_text_border=True)"
   ]
  },
  {
   "cell_type": "code",
   "execution_count": null,
   "metadata": {},
   "outputs": [],
   "source": []
  }
 ],
 "metadata": {
  "kernelspec": {
   "display_name": "Python 3",
   "language": "python",
   "name": "python3"
  },
  "language_info": {
   "codemirror_mode": {
    "name": "ipython",
    "version": 3
   },
   "file_extension": ".py",
   "mimetype": "text/x-python",
   "name": "python",
   "nbconvert_exporter": "python",
   "pygments_lexer": "ipython3",
   "version": "3.9.6"
  }
 },
 "nbformat": 4,
 "nbformat_minor": 2
}
