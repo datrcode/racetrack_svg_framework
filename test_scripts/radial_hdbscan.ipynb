{
 "cells": [
  {
   "cell_type": "code",
   "execution_count": null,
   "metadata": {},
   "outputs": [],
   "source": [
    "import rtsvg\n",
    "import hdbscan\n",
    "import numpy as np\n",
    "import random\n",
    "from math import cos, sin, pi\n",
    "rt = rtsvg.RACETrack()"
   ]
  },
  {
   "cell_type": "code",
   "execution_count": null,
   "metadata": {},
   "outputs": [],
   "source": [
    "n   = 1000\n",
    "pts = np.array([random.random()*360.0 for i in range(n)])\n",
    "pts = pts.reshape(-1,1)\n",
    "clusterer = hdbscan.HDBSCAN()\n",
    "clusterer.fit(pts)\n",
    "w,h,r = 600, 600, 290\n",
    "svg = [f'<svg x=\"0\" y=\"0\" width=\"{w}\" height=\"{h}\"><rect width=\"{w}\" height=\"{h}\" fill=\"#ffffff\" stroke=\"#ffffff\" />']\n",
    "for i in range(len(pts)):\n",
    "    to_rad = lambda d: d*pi/180\n",
    "    _x_ = (w/2) + r * cos(to_rad(pts[i][0])) \n",
    "    _y_ = (h/2) + r * sin(to_rad(pts[i][0]))\n",
    "    _color_ = rt.co_mgr.getColor(clusterer.labels_[i])\n",
    "    svg.append(f'<circle cx=\"{_x_}\" cy=\"{_y_}\" r=\"3\" fill=\"{_color_}\" />')\n",
    "svg.append('</svg>')\n",
    "clusterer.labels_\n",
    "rt.tile([''.join(svg)])"
   ]
  },
  {
   "cell_type": "code",
   "execution_count": null,
   "metadata": {},
   "outputs": [],
   "source": []
  }
 ],
 "metadata": {
  "kernelspec": {
   "display_name": ".venv",
   "language": "python",
   "name": "python3"
  },
  "language_info": {
   "codemirror_mode": {
    "name": "ipython",
    "version": 3
   },
   "file_extension": ".py",
   "mimetype": "text/x-python",
   "name": "python",
   "nbconvert_exporter": "python",
   "pygments_lexer": "ipython3",
   "version": "3.12.3"
  }
 },
 "nbformat": 4,
 "nbformat_minor": 2
}
