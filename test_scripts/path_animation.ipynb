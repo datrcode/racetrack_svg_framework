{
 "cells": [
  {
   "cell_type": "code",
   "execution_count": null,
   "id": "4374dabc",
   "metadata": {},
   "outputs": [],
   "source": [
    "from math import sqrt\n",
    "import re\n",
    "import rtsvg\n",
    "rt    = rtsvg.RACETrack()\n",
    "\n",
    "paths = ['M 10 10 L 200 200',\n",
    "         'M 20 30 L 100 140 L 200 235',\n",
    "         'M 15 50 C 100 140 150 250 240 230',\n",
    "         'M 20 70 40 90 100 180 L 150 200 200 300',\n",
    "         'M 20 120 40 150 100 200 C150,240 200 340 250 350 L 270 380',\n",
    "         'M30,180l130,  170L300,420',\n",
    "         'M 20 200 C 100 240 150 450 260 400',]\n",
    "\n",
    "# These are just the raw paths\n",
    "_w_, _h_ = 320, 512\n",
    "_svg_    = [f'<svg x=\"0\" y=\"0\" width=\"{_w_}\" height=\"{_h_}\"><rect x=\"0\" y=\"0\" width=\"{_w_}\" height=\"{_h_}\" fill=\"white\"/>']\n",
    "for _path_ in paths: _svg_.append(f'<path d=\"{_path_}\" stroke=\"black\" stroke-width=\"1.0\" fill=\"none\" />')\n",
    "_svg_.append('</svg>')\n",
    "_svg0_ = ''.join(_svg_)\n",
    "\n",
    "# This is how we'd like it to work ... but SVG won't smoothly animate unless each element in the path is the same type (and the same number)\n",
    "_svg_    = [f'<svg x=\"0\" y=\"0\" width=\"{_w_}\" height=\"{_h_}\"><rect x=\"0\" y=\"0\" width=\"{_w_}\" height=\"{_h_}\" fill=\"white\"/>']\n",
    "_svg_.append(f'<path stroke=\"black\" stroke-width=\"1.0\" fill=\"none\">')\n",
    "_svg_.append(f'<animate attributeName=\"d\" values=\"{';'.join(paths)}\" dur=\"4s\" repeatCount=\"indefinite\"/>')\n",
    "_svg_.append(f'</path>')\n",
    "_svg_.append('</svg>')\n",
    "_svg1_ = ''.join(_svg_)\n",
    "\n",
    "_tiles_ = []\n",
    "for _path_ in paths: _tiles_.append(rt.svgParametricPath(_path_))\n",
    "\n",
    "#\n",
    "# Create the animation using the interpolated paths\n",
    "# - Interpolation attempts to capture the fidelity of the original paths\n",
    "#\n",
    "ts_all = []\n",
    "for _tile_ in _tiles_: ts_all.extend(_tile_.segmentedTs())\n",
    "ts_all.sort()\n",
    "ts_uniq = []\n",
    "ts_uniq.append(ts_all[0])\n",
    "for i in range(1, len(ts_all)):\n",
    "    if ts_all[i] != ts_uniq[-1]: ts_uniq.append(ts_all[i])\n",
    "_paths_interpolated_ = []\n",
    "for _tile_ in _tiles_:\n",
    "    _xys_ = []\n",
    "    for t in ts_uniq: \n",
    "        _xy_ = _tile_(t)\n",
    "        _xys_.extend([f'{_xy_[0]:.1f}', f'{_xy_[1]:.1f}'])\n",
    "    _paths_interpolated_.append('M ' + ' '.join(_xys_))\n",
    "\n",
    "_svg_    = [f'<svg x=\"0\" y=\"0\" width=\"{_w_}\" height=\"{_h_}\"><rect x=\"0\" y=\"0\" width=\"{_w_}\" height=\"{_h_}\" fill=\"white\"/>']\n",
    "_svg_.append(f'<path stroke=\"black\" stroke-width=\"1.0\" fill=\"none\">')\n",
    "_svg_.append(f'<animate attributeName=\"d\" values=\"{';'.join(_paths_interpolated_)}\" dur=\"4s\" repeatCount=\"indefinite\"/>')\n",
    "_svg_.append(f'</path>')\n",
    "_svg_.append('</svg>')\n",
    "\n",
    "_svg2_ = ''.join(_svg_)\n",
    "\n",
    "rt.tile([_svg0_, _svg1_, _svg2_], spacer=10)"
   ]
  },
  {
   "cell_type": "code",
   "execution_count": null,
   "id": "84f83c2e",
   "metadata": {},
   "outputs": [],
   "source": [
    "\n",
    "rt.tile(_tiles_, spacer=10)"
   ]
  },
  {
   "cell_type": "code",
   "execution_count": null,
   "id": "ab3e6df2",
   "metadata": {},
   "outputs": [],
   "source": []
  }
 ],
 "metadata": {
  "kernelspec": {
   "display_name": ".venv (3.13.7)",
   "language": "python",
   "name": "python3"
  },
  "language_info": {
   "codemirror_mode": {
    "name": "ipython",
    "version": 3
   },
   "file_extension": ".py",
   "mimetype": "text/x-python",
   "name": "python",
   "nbconvert_exporter": "python",
   "pygments_lexer": "ipython3",
   "version": "3.13.7"
  }
 },
 "nbformat": 4,
 "nbformat_minor": 5
}
