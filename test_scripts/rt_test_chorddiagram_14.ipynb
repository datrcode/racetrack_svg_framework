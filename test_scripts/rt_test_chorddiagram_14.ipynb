{
 "cells": [
  {
   "cell_type": "code",
   "execution_count": null,
   "metadata": {},
   "outputs": [],
   "source": [
    "import pandas as pd\n",
    "import polars as pl\n",
    "import numpy as np\n",
    "from math import pi, sin, cos\n",
    "import sys\n",
    "sys.path.insert(1, '../framework')\n",
    "from racetrack import *\n",
    "rt = RACETrack()"
   ]
  },
  {
   "cell_type": "code",
   "execution_count": null,
   "metadata": {},
   "outputs": [],
   "source": [
    "df     = pd.DataFrame({'fm':['cat', 'dog', 'cow',   'horse', 'horse', 'horse'], \n",
    "                       'to':['dog', 'cow', 'horse', 'cat',   'cow',   'cat']})\n",
    "params = {'df':df, 'relationships':[('fm','to')], 'draw_labels':True}\n",
    "rt.tile([rt.chordDiagram(**params),\n",
    "         rt.chordDiagram(label_style='radial',   **params),\n",
    "         rt.chordDiagram(label_style='circular', **params)])"
   ]
  },
  {
   "cell_type": "code",
   "execution_count": null,
   "metadata": {},
   "outputs": [],
   "source": [
    "params = {'df':df, 'relationships':[('fm','to')], 'draw_labels':True, 'x_ins':16, 'y_ins':16}\n",
    "rt.tile([rt.chordDiagram(order=['dog','horse','cow','cat'], **params),\n",
    "         rt.chordDiagram(order=['dog','horse'            ], **params),\n",
    "         rt.chordDiagram(order=['dog',        'cow'      ], **params),\n",
    "         rt.chordDiagram(order=[      'horse','cow','cat'], **params)])"
   ]
  },
  {
   "cell_type": "code",
   "execution_count": null,
   "metadata": {},
   "outputs": [],
   "source": []
  }
 ],
 "metadata": {
  "kernelspec": {
   "display_name": ".venv",
   "language": "python",
   "name": "python3"
  },
  "language_info": {
   "codemirror_mode": {
    "name": "ipython",
    "version": 3
   },
   "file_extension": ".py",
   "mimetype": "text/x-python",
   "name": "python",
   "nbconvert_exporter": "python",
   "pygments_lexer": "ipython3",
   "version": "3.9.6"
  }
 },
 "nbformat": 4,
 "nbformat_minor": 2
}
