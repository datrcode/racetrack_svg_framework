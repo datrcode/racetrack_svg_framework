{
 "cells": [
  {
   "cell_type": "code",
   "execution_count": null,
   "id": "d032c970",
   "metadata": {},
   "outputs": [],
   "source": [
    "#\n",
    "# Stub Bundling and Confluent Spirals for Geographic Networks\n",
    "# - Arlind Nocaj and Ulrik Brandes\n",
    "# - Department of Computer & Information Science, University of Konstanz\n",
    "# S. Wismath and A. Wolff (Eds.): GD 2013, LNCS 8242, pp. 388–399, 2013.\n",
    "#\n",
    "from math import pi, tan, exp, cos, sin\n",
    "import rtsvg\n",
    "rt = rtsvg.RACETrack()\n",
    "x0, y0, x1, y1 = -10.0, -10.0, 20.0, 20.0\n",
    "ws, hs         = 512, 512\n",
    "pw    = ( 3.0,  4.0)\n",
    "pv    = (10.0,  5.0)\n",
    "svg = [f'<svg x=\"0\" y=\"0\" width=\"{ws}\" height=\"{hs}\" viewBox=\"{x0} {y0} {x1-x0} {y1-y0}\" xmlns=\"http://www.w3.org/2000/svg\">']\n",
    "svg.append(f'<rect x=\"{x0}\" y=\"{y0}\" width=\"{x1-x0}\" height=\"{y1-y0}\" fill=\"#ffffff\" />')\n",
    "x = int(x0)\n",
    "while x < x1:\n",
    "    svg.append(f'<line x1=\"{x}\" y1=\"{y0}\" x2=\"{x}\" y2=\"{y1}\" stroke=\"#a0a0a0\" stroke-width=\"0.01\"/>')\n",
    "    x += 1\n",
    "y = int(y0)\n",
    "while y < y1:\n",
    "    svg.append(f'<line x1=\"{x0}\" y1=\"{y}\" x2=\"{x1}\" y2=\"{y}\" stroke=\"#a0a0a0\" stroke-width=\"0.01\"/>')\n",
    "    y += 1\n",
    "svg.append(f'<circle cx=\"{pw[0]}\" cy=\"{pw[1]}\" r=\"0.2\" fill=\"#ff0000\"/>')\n",
    "svg.append(f'<circle cx=\"{pv[0]}\" cy=\"{pv[1]}\" r=\"0.2\" fill=\"#00ff00\"/>')\n",
    "svg_base = ''.join(svg)"
   ]
  },
  {
   "cell_type": "code",
   "execution_count": null,
   "id": "0f80b86b",
   "metadata": {},
   "outputs": [],
   "source": [
    "cot   = lambda x: 1.0 / tan(x)\n",
    "a     = 2.4\n",
    "theta = -pi / 4.0\n",
    "b     = cot(theta)\n",
    "def S(t):\n",
    "    _in_exp_     = -1.0 * abs(b) * t\n",
    "    _uv_         = rt.unitVector((pw, pv))\n",
    "    _phi0_       = _uv_[0] * 1.0 + _uv_[1] * 0.0\n",
    "    _in_cos_     = (b / abs(b)) * (_phi0_ + t)\n",
    "    _in_sin_     = (b / abs(b)) * (_phi0_ + t)\n",
    "    x = pw[0] + abs(pv[0] - pw[0]) * exp(_in_exp_) * cos(_in_cos_)\n",
    "    y = pw[1] + abs(pv[1] - pw[1]) * exp(_in_exp_) * sin(_in_sin_)\n",
    "    return (x, y)\n",
    "svg = [svg_base]\n",
    "t   = 0.0\n",
    "while t < 10.0:\n",
    "    x,y = S(t)\n",
    "    svg.append(f'<circle cx=\"{x}\" cy=\"{y}\" r=\"0.05\" fill=\"#000000\"/>')\n",
    "    t += 0.1\n",
    "svg.append('</svg>')\n",
    "rt.tile([''.join(svg)])"
   ]
  },
  {
   "cell_type": "code",
   "execution_count": null,
   "id": "cebb922c",
   "metadata": {},
   "outputs": [],
   "source": []
  }
 ],
 "metadata": {
  "kernelspec": {
   "display_name": ".venv",
   "language": "python",
   "name": "python3"
  },
  "language_info": {
   "codemirror_mode": {
    "name": "ipython",
    "version": 3
   },
   "file_extension": ".py",
   "mimetype": "text/x-python",
   "name": "python",
   "nbconvert_exporter": "python",
   "pygments_lexer": "ipython3",
   "version": "3.12.3"
  }
 },
 "nbformat": 4,
 "nbformat_minor": 5
}
