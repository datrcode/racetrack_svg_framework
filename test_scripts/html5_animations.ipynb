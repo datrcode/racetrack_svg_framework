{
 "cells": [
  {
   "cell_type": "code",
   "execution_count": null,
   "metadata": {},
   "outputs": [],
   "source": [
    "from matplotlib import animation\n",
    "from IPython.display import HTML\n",
    "from matplotlib.pyplot import figure\n",
    "from svglib.svglib import svg2rlg\n",
    "from reportlab.graphics import renderPM\n",
    "import PIL\n",
    "from PIL import Image\n",
    "import io\n",
    "from IPython.core import display as ipc_display\n",
    "from IPython.display import Javascript, HTML, display\n",
    "from matplotlib import pyplot as plt\n",
    "%matplotlib inline\n",
    "import pandas as pd\n",
    "import rtsvg\n",
    "rt= rtsvg.RACETrack()\n",
    "imageList = []\n",
    "xy0 = rt.xy(pd.DataFrame({'x': [1,2,3,4,5,6], 'y': [10,20,25,11,12,13]}), x_field='x', y_field='y')\n",
    "xy1 = rt.xy(pd.DataFrame({'x': [1,2,3,4,5,6], 'y': [12,18,20,12,11,12]}), x_field='x', y_field='y')\n",
    "xy2 = rt.xy(pd.DataFrame({'x': [1,2,3,4,5,6], 'y': [11,17,21,11,10,11]}), x_field='x', y_field='y')\n",
    "xy3 = rt.xy(pd.DataFrame({'x': [1,2,3,4,5,6], 'y': [13,16,22,12, 8,12]}), x_field='x', y_field='y')\n",
    "\n",
    "def svgToImage(_svg_):\n",
    "    b = io.BytesIO()\n",
    "    renderPM.drawToFile(svg2rlg(io.StringIO(xy0._repr_svg_())), b, 'PNG')\n",
    "    im = PIL.Image.open(b)\n",
    "    return im\n",
    "\n",
    "xy0_img = svgToImage(xy0)\n",
    "xy1_img = svgToImage(xy1)\n",
    "xy2_img = svgToImage(xy2)\n",
    "xy3_img = svgToImage(xy3)\n",
    "imageList.append(xy0_img)\n",
    "imageList.append(xy1_img)\n",
    "imageList.append(xy2_img)\n",
    "imageList.append(xy3_img)\n",
    "\n",
    "def plot_images(img_list):\n",
    "  def init():\n",
    "    img.set_data(img_list[0])\n",
    "    return (img,)\n",
    "\n",
    "  def animate(i):\n",
    "    img.set_data(img_list[i])\n",
    "    return (img,)\n",
    "\n",
    "  fig = figure()\n",
    "  ax = fig.gca()\n",
    "  img = ax.imshow(img_list[0])\n",
    "  anim = animation.FuncAnimation(fig, animate, init_func=init, frames=len(img_list), interval=20, blit=True)\n",
    "  return anim\n",
    "\n",
    "HTML(plot_images(imageList).to_html5_video())"
   ]
  },
  {
   "cell_type": "code",
   "execution_count": null,
   "metadata": {},
   "outputs": [],
   "source": []
  }
 ],
 "metadata": {
  "kernelspec": {
   "display_name": ".venv",
   "language": "python",
   "name": "python3"
  },
  "language_info": {
   "codemirror_mode": {
    "name": "ipython",
    "version": 3
   },
   "file_extension": ".py",
   "mimetype": "text/x-python",
   "name": "python",
   "nbconvert_exporter": "python",
   "pygments_lexer": "ipython3",
   "version": "3.12.3"
  }
 },
 "nbformat": 4,
 "nbformat_minor": 2
}
