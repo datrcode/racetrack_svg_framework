{
 "cells": [
  {
   "cell_type": "code",
   "execution_count": null,
   "metadata": {},
   "outputs": [],
   "source": [
    "from matplotlib import animation\n",
    "from IPython.display import HTML\n",
    "from svglib.svglib import svg2rlg\n",
    "from reportlab.graphics import renderPM\n",
    "import PIL\n",
    "import io\n",
    "from matplotlib import pyplot as plt\n",
    "import pandas as pd\n",
    "import rtsvg\n",
    "\n",
    "%matplotlib inline\n",
    "\n",
    "rt     = rtsvg.RACETrack()\n",
    "params = {'x_field':'x', 'y_field':'y', 'w':800, 'h':800}\n",
    "xy    = {}\n",
    "xy[0] = rt.xy(pd.DataFrame({'x': [1,2,3,4,5,6], 'y': [10,20,25,11,12,13]}), **params)\n",
    "xy[1] = rt.xy(pd.DataFrame({'x': [1,2,3,4,5,6], 'y': [12,18,20,12,11,12]}), **params)\n",
    "xy[2] = rt.xy(pd.DataFrame({'x': [1,2,3,4,5,6], 'y': [11,17,21,11,10,11]}), **params)\n",
    "xy[3] = rt.xy(pd.DataFrame({'x': [1,2,3,4,5,6], 'y': [13,16,22,12, 8,12]}), **params)\n",
    "\n",
    "def svgToImage(_svg_):\n",
    "    if type(_svg_) is not str: _svg_ = _svg_._repr_svg_()\n",
    "    b = io.BytesIO()\n",
    "    renderPM.drawToFile(svg2rlg(io.StringIO(_svg_)), b, 'PNG')\n",
    "    im = PIL.Image.open(b)\n",
    "    return im\n",
    "dpi = plt.rcParams['figure.dpi']\n",
    "fig_width_inches  = params['w'] / dpi\n",
    "fig_height_inches = params['h'] / dpi\n",
    "fig, ax = plt.subplots(figsize=(fig_width_inches, fig_height_inches))\n",
    "ims = []\n",
    "for i in range(len(xy)):\n",
    "    im = ax.imshow(svgToImage(xy[i]), animated=True)\n",
    "    #if i == 0: ax.imshow(svgToImage(xy[i]))\n",
    "    ims.append([im])\n",
    "ani = animation.ArtistAnimation(fig, ims, interval=50, blit=True, repeat_delay=2000)\n",
    "plt.axis('off')\n",
    "HTML(ani.to_html5_video())"
   ]
  },
  {
   "cell_type": "code",
   "execution_count": null,
   "metadata": {},
   "outputs": [],
   "source": []
  }
 ],
 "metadata": {
  "kernelspec": {
   "display_name": ".venv",
   "language": "python",
   "name": "python3"
  },
  "language_info": {
   "codemirror_mode": {
    "name": "ipython",
    "version": 3
   },
   "file_extension": ".py",
   "mimetype": "text/x-python",
   "name": "python",
   "nbconvert_exporter": "python",
   "pygments_lexer": "ipython3",
   "version": "3.12.3"
  }
 },
 "nbformat": 4,
 "nbformat_minor": 2
}
