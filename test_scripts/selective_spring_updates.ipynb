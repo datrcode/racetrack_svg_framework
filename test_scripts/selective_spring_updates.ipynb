{
 "cells": [
  {
   "cell_type": "code",
   "execution_count": null,
   "id": "ff931a26",
   "metadata": {},
   "outputs": [],
   "source": [
    "#\n",
    "# Tests the ability to use springs layout selectively on subgraphs\n",
    "# ... so, if you keep the placement of the nodes from an initial all-nodes layout\n",
    "# ... then you can update the placement of a subset of the nodes\n",
    "#\n",
    "# However... because that's not the only transform done to make this all work\n",
    "# (think about the treemap component placement), then there's always a scaling factor\n",
    "# involved... and that breaks the ability to apply the spring layout to a subset of \n",
    "# nodes...\n",
    "#\n",
    "\n",
    "import polars   as pl\n",
    "import networkx as nx\n",
    "import random\n",
    "import copy\n",
    "import rtsvg\n",
    "import linknode_graph_patterns\n",
    "from rtsvg.polars_spring_layout import PolarsSpringLayout\n",
    "rt   = rtsvg.RACETrack()\n",
    "g    = linknode_graph_patterns.LinkNodeGraphPatterns().__pattern_mesh__()\n",
    "pos  = PolarsSpringLayout(g).results()\n",
    "_lu_ = {'fm':[], 'to':[]}\n",
    "for n in g.nodes():\n",
    "    for nbor in g.neighbors(n): _lu_['fm'].append(n), _lu_['to'].append(nbor)\n",
    "df        = pl.DataFrame(_lu_)\n",
    "_relates_ = [('fm','to')]\n",
    "_to_fix_  = {'node_0_5', 'node_7_4', 'node_8_6', 'node_5_8'}\n",
    "_colors_  = {n:'red' for n in _to_fix_}\n",
    "new_pos   = copy.deepcopy(pos)\n",
    "for n in _to_fix_: new_pos[n] = (new_pos[n][0] + 100*(random.random()-0.5), new_pos[n][1] + 100*(random.random()-0.5))\n",
    "new_new_pos = copy.deepcopy(new_pos)\n",
    "new_new_pos = PolarsSpringLayout(g, pos=new_new_pos, static_nodes=set(g.nodes()) - _to_fix_).results()\n",
    "params      = {'w':384, 'h':384, 'node_color':_colors_}\n",
    "rt.tile([rt.link(df, _relates_, pos,         **params),\n",
    "         rt.link(df, _relates_, new_pos,     **params),\n",
    "         rt.link(df, _relates_, new_new_pos, **params)], spacer=10)"
   ]
  },
  {
   "cell_type": "code",
   "execution_count": null,
   "id": "9acdfe17",
   "metadata": {},
   "outputs": [],
   "source": []
  }
 ],
 "metadata": {
  "kernelspec": {
   "display_name": ".venv (3.13.3)",
   "language": "python",
   "name": "python3"
  },
  "language_info": {
   "codemirror_mode": {
    "name": "ipython",
    "version": 3
   },
   "file_extension": ".py",
   "mimetype": "text/x-python",
   "name": "python",
   "nbconvert_exporter": "python",
   "pygments_lexer": "ipython3",
   "version": "3.13.3"
  }
 },
 "nbformat": 4,
 "nbformat_minor": 5
}
