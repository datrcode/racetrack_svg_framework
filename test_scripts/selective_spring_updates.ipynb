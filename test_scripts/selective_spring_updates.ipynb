{
 "cells": [
  {
   "cell_type": "code",
   "execution_count": null,
   "id": "ff931a26",
   "metadata": {},
   "outputs": [],
   "source": [
    "#\n",
    "# Tests the ability to use springs layout selectively on subgraphs\n",
    "# ... so, if you keep the placement of the nodes from an initial all-nodes layout\n",
    "# ... then you can update the placement of a subset of the nodes\n",
    "#\n",
    "# However... because that's not the only transform done to make this all work\n",
    "# (think about the treemap component placement), then there's always a scaling factor\n",
    "# involved... and that breaks the ability to apply the spring layout to a subset of \n",
    "# nodes...\n",
    "#\n",
    "\n",
    "import polars   as pl\n",
    "import networkx as nx\n",
    "import random\n",
    "import copy\n",
    "import rtsvg\n",
    "import linknode_graph_patterns\n",
    "from rtsvg.polars_spring_layout import PolarsSpringLayout\n",
    "rt   = rtsvg.RACETrack()\n",
    "g    = linknode_graph_patterns.LinkNodeGraphPatterns().__pattern_mesh__()\n",
    "pos  = PolarsSpringLayout(g).results()\n",
    "_lu_ = {'fm':[], 'to':[]}\n",
    "for n in g.nodes():\n",
    "    for nbor in g.neighbors(n): _lu_['fm'].append(n), _lu_['to'].append(nbor)\n",
    "df        = pl.DataFrame(_lu_)\n",
    "_relates_ = [('fm','to')]\n",
    "_to_fix_  = {'node_0_5', 'node_7_4', 'node_8_6', 'node_5_8'}\n",
    "_colors_  = {n:'red' for n in _to_fix_}\n",
    "new_pos   = copy.deepcopy(pos)\n",
    "for n in _to_fix_: new_pos[n] = (new_pos[n][0] + 100*(random.random()-0.5), new_pos[n][1] + 100*(random.random()-0.5))\n",
    "new_new_pos = copy.deepcopy(new_pos)\n",
    "new_new_pos = PolarsSpringLayout(g, pos=new_new_pos, static_nodes=set(g.nodes()) - _to_fix_).results()\n",
    "params      = {'w':384, 'h':384, 'node_color':_colors_}\n",
    "rt.tile([rt.link(df, _relates_, pos,         **params),\n",
    "         rt.link(df, _relates_, new_pos,     **params),\n",
    "         rt.link(df, _relates_, new_new_pos, **params)], spacer=10)"
   ]
  },
  {
   "cell_type": "code",
   "execution_count": null,
   "id": "9acdfe17",
   "metadata": {},
   "outputs": [],
   "source": [
    "#\n",
    "# So... maybe it's possible to rescale the graph based on the expected distances\n",
    "# ... in this case (mesh graph), all edges should be 1.0 ... so... how to take\n",
    "# ... a random set of positions & then rescale them?\n",
    "#\n",
    "_d_sum_, _d_samples_, _rms_sum_ = 0.0, 0, 0.0\n",
    "for n in g.nodes():\n",
    "    for nbor in g.neighbors(n):\n",
    "        _w_                  =  g[n][nbor]['weight']\n",
    "        _xy_n_, _xy_nbor_    =  pos[n], pos[nbor]\n",
    "        _d_                  =  rt.segmentLength((_xy_n_, _xy_nbor_))\n",
    "        _w_diff_             =  _w_ - _d_\n",
    "        _rms_sum_            += _w_diff_**2\n",
    "        _d_sum_, _d_samples_ = _d_sum_ + _d_, _d_samples_ + 1\n",
    "print(_d_sum_, _d_samples_, _d_sum_ / _d_samples_) # 359.24853900508407 288 1.2473907604343197 -- example from the mesh graph"
   ]
  },
  {
   "cell_type": "code",
   "execution_count": null,
   "id": "219b4fe5",
   "metadata": {},
   "outputs": [],
   "source": [
    "#\n",
    "# Grid Search Version of This Optimization\n",
    "#\n",
    "def rms(pos, g, x_scale, y_scale):\n",
    "    _d_sum_, _d_samples_, _rms_sum_ = 0.0, 0, 0.0\n",
    "    for n in g.nodes():\n",
    "        for nbor in g.neighbors(n):\n",
    "            _w_                  =  g[n][nbor]['weight']\n",
    "            _xy_n_, _xy_nbor_    =  (pos[n][0]*x_scale, pos[n][1]*y_scale), (pos[nbor][0]*x_scale, pos[nbor][1]*y_scale)\n",
    "            _d_                  =  rt.segmentLength((_xy_n_, _xy_nbor_))\n",
    "            _w_diff_             =  _w_ - _d_\n",
    "            _rms_sum_            += _w_diff_**2\n",
    "            _d_sum_, _d_samples_ = _d_sum_ + _d_, _d_samples_ + 1\n",
    "    _rms_ = _rms_sum_ / _d_samples_\n",
    "    _rms_ = _rms_**0.5\n",
    "    return _rms_\n",
    "\n",
    "_lu_ = {'x_scale':[], 'y_scale':[], 'rms':[]}\n",
    "_inc_     = 0.05\n",
    "_x_scale_ = 0.5\n",
    "while _x_scale_ < 1.5:\n",
    "    _y_scale_ = 0.5\n",
    "    while _y_scale_ < 1.5:\n",
    "        _rms_ = rms(pos, g, _x_scale_, _y_scale_)\n",
    "        _lu_['x_scale'].append(_x_scale_)\n",
    "        _lu_['y_scale'].append(_y_scale_)\n",
    "        _lu_['rms'].append(_rms_)\n",
    "        _y_scale_ += _inc_\n",
    "    _x_scale_ += _inc_\n",
    "\n",
    "\n",
    "rt.tile([rt.xy(pl.DataFrame(_lu_), x_field='x_scale', y_field='rms', line_groupby_field='y_scale', color_by='y_scale', dot_size=None),\n",
    "         rt.xy(pl.DataFrame(_lu_), x_field='y_scale', y_field='rms', line_groupby_field='x_scale', color_by='x_scale', dot_size=None)], spacer=10)"
   ]
  },
  {
   "cell_type": "code",
   "execution_count": null,
   "id": "f0611839",
   "metadata": {},
   "outputs": [],
   "source": [
    "from math import sqrt\n",
    "_lu_ = {'n':[], 'nbor':[], 'w':[], 'n_x':[], 'nbor_x':[], 'n_y':[], 'nbor_y':[]}\n",
    "for n in g.nodes():\n",
    "    for nbor in g.neighbors(n):\n",
    "        _w_                  =  g[n][nbor]['weight']\n",
    "        _xy_n_, _xy_nbor_    =  pos[n], pos[nbor]\n",
    "        _lu_['n'].append(n),                 _lu_['nbor'].append(nbor),             _lu_['w'].append(_w_)\n",
    "        _lu_['n_x'].append(_xy_n_[0]),       _lu_['n_y'].append(_xy_n_[1])\n",
    "        _lu_['nbor_x'].append(_xy_nbor_[0]), _lu_['nbor_y'].append(_xy_nbor_[1])\n",
    "df_for_rms = pl.DataFrame(_lu_)\n",
    "def rmsWithPolars(x_scale, y_scale):\n",
    "    __n_x__, __n_y__       = pl.col('n_x'), pl.col('n_y')\n",
    "    __nbor_x__, __nbor_y__ = pl.col('nbor_x'), pl.col('nbor_y')\n",
    "    _df_ = df_for_rms.with_columns(((__n_x__*x_scale - __nbor_x__*x_scale)**2 + (__n_y__*y_scale - __nbor_y__*y_scale)**2).alias('x2'))\n",
    "    _df_ = _df_.with_columns((pl.col('x2')**0.5).alias('d'))\n",
    "    _df_ = _df_.with_columns(((df_for_rms['w'] - _df_['d'])**2).alias('rms'))\n",
    "    return sqrt(_df_['rms'].sum()/len(_df_))\n",
    "rmsWithPolars(1.0, 1.0), rms(pos, g, 1.0, 1.0)"
   ]
  },
  {
   "cell_type": "code",
   "execution_count": null,
   "id": "e4b787bb",
   "metadata": {},
   "outputs": [],
   "source": [
    "%%timeit\n",
    "rmsWithPolars(1.0, 1.0)"
   ]
  },
  {
   "cell_type": "code",
   "execution_count": null,
   "id": "3291e335",
   "metadata": {},
   "outputs": [],
   "source": [
    "%%timeit\n",
    "rms(pos, g, 1.0, 1.0)"
   ]
  },
  {
   "cell_type": "code",
   "execution_count": null,
   "id": "462c561e",
   "metadata": {},
   "outputs": [],
   "source": []
  }
 ],
 "metadata": {
  "kernelspec": {
   "display_name": ".venv (3.13.3)",
   "language": "python",
   "name": "python3"
  },
  "language_info": {
   "codemirror_mode": {
    "name": "ipython",
    "version": 3
   },
   "file_extension": ".py",
   "mimetype": "text/x-python",
   "name": "python",
   "nbconvert_exporter": "python",
   "pygments_lexer": "ipython3",
   "version": "3.13.3"
  }
 },
 "nbformat": 4,
 "nbformat_minor": 5
}
