{
 "cells": [
  {
   "cell_type": "code",
   "execution_count": null,
   "metadata": {},
   "outputs": [],
   "source": [
    "# Takes the output from routing_3.ipynb and works on the routing portion of it\n",
    "import polars as pl\n",
    "import numpy as np\n",
    "import os\n",
    "import rtsvg\n",
    "rt = rtsvg.RACETrack()"
   ]
  },
  {
   "cell_type": "code",
   "execution_count": null,
   "metadata": {},
   "outputs": [],
   "source": [
    "df_collapsed    = pl.read_parquet('../../data/stanford/facebook/348.edges_collapsed_edges.3.parquet')\n",
    "df_edge_arc_pos = pl.read_parquet('../../data/stanford/facebook/348.edges_arc_pos.3.parquet')\n",
    "df_collapsed.sample(1)"
   ]
  },
  {
   "cell_type": "code",
   "execution_count": null,
   "metadata": {},
   "outputs": [],
   "source": [
    "df_edge_arc_pos.sample(1)"
   ]
  },
  {
   "cell_type": "code",
   "execution_count": null,
   "metadata": {},
   "outputs": [],
   "source": [
    "def extractCircles(_df_):\n",
    "    circles, circle_lu = [], {}\n",
    "    for k, k_df in _df_.group_by(['x_circle','y_circle','r_circle']):\n",
    "        circle_lu[k] = len(circles)\n",
    "        circles.append(k)\n",
    "    return circles, circle_lu\n",
    "def validatePositions(_df_, clearance=10): # edge_arc_pos\n",
    "    # Extract the circles first\n",
    "    circles, circle_lu = extractCircles(_df_)\n",
    "    # Then make sure the positions don't fall within a circle & that they have some clearance\n",
    "    for k, k_df in _df_.group_by(['x','y', 'x_circle', 'y_circle', 'r_circle']):\n",
    "        _xy_     = (k[0], k[1])\n",
    "        _uv_     = rt.unitVector((k[2:4], _xy_))\n",
    "        _xy_end_ = (_xy_[0]+ clearance*_uv_[0], _xy_[1]+ clearance*_uv_[1])\n",
    "        _my_circle_ = k[2:5]\n",
    "        for c in circles:\n",
    "            if c == _my_circle_: continue\n",
    "            _length_ = rt.segmentLength((_xy_,c))\n",
    "            if _length_ < c[2] + clearance:\n",
    "                raise Exception(f'node key \"{k_df[\"node_key\"]}\" with radius circle {c}')\n",
    "            _length_ = rt.segmentLength((_xy_end_, c))\n",
    "\n",
    "def extents(_df_): # edge_arc_pos -- assumes that the coordinates are already in screen space\n",
    "    xmax, ymax = 10.0, 10.0\n",
    "    for k, k_df in _df_.group_by(['x_circle','y_circle','r_circle']):\n",
    "        xmax, ymax = max(xmax, k[0]+k[2]), max(ymax, k[1]+k[2])\n",
    "    for k, k_df in _df_.group_by(['x','y']):\n",
    "        xmax, ymax = max(xmax, k[0]), max(ymax, k[1])\n",
    "    return (0.0, 0.0, xmax, ymax)\n",
    "\n",
    "validatePositions(df_edge_arc_pos)\n",
    "_ext_ = extents(df_edge_arc_pos)"
   ]
  },
  {
   "cell_type": "code",
   "execution_count": null,
   "metadata": {},
   "outputs": [],
   "source": [
    "x_ins, y_ins = 50, 50\n",
    "# Base Circles\n",
    "svg_base = [f'<svg x=\"0\" y=\"0\" width=\"{_ext_[2]+x_ins}\" height=\"{_ext_[3]+y_ins}\">']\n",
    "svg_base.append(f'<rect x=\"0\" y=\"0\" width=\"{_ext_[2]+x_ins}\" height=\"{_ext_[3]+y_ins}\" fill=\"#ffffff\" />')\n",
    "circles, circles_lu = extractCircles(df_edge_arc_pos)\n",
    "for i in range(len(circles)):\n",
    "    cx, cy, r = circles[i]\n",
    "    svg_base.append(f'<circle cx=\"{cx}\" cy=\"{cy}\" r=\"{r}\" fill=\"none\" stroke=\"{rt.co_mgr.getColor(i)}\" stroke-width=\"3\" />')\n",
    "# Entry / Exit Points\n",
    "svg_pts = []\n",
    "for k, k_df in df_edge_arc_pos.group_by(['node_key', 'x', 'y', 'x_circle', 'y_circle', 'r_circle']):\n",
    "    _xy_, _cxy_ = k[1:3], k[3:5]\n",
    "    svg_pts.append(f'<circle cx=\"{_xy_[0]}\" cy=\"{_xy_[1]}\" r=\"4\" fill=\"none\" stroke=\"#505050\" stroke-width=\"0.5\"/>')\n",
    "    _uv_        = rt.unitVector((_cxy_, _xy_))\n",
    "    svg_pts.append(f'<line x1=\"{_xy_[0]}\" y1=\"{_xy_[1]}\" x2=\"{_xy_[0]+10*_uv_[0]}\" y2=\"{_xy_[1]+10*_uv_[1]}\" stroke=\"#404040\" stroke-width=\"1.0\"/>')\n",
    "# Delauney Triangulations\n",
    "_box_ = [(_ext_[0],_ext_[1]),(_ext_[0],_ext_[3]+y_ins),(_ext_[2]+x_ins,_ext_[3]+y_ins),(_ext_[2]+x_ins,_ext_[1])]\n",
    "voronoi_polys = rt.isedgarVoronoi(circles,Box=_box_)\n",
    "svg_voronoi = []\n",
    "for i in range(len(voronoi_polys)):\n",
    "    d = f'M {voronoi_polys[i][0][0]} {voronoi_polys[i][0][1]} '\n",
    "    for j in range(1, len(voronoi_polys[i])): d += f'L {voronoi_polys[i][j][0]} {voronoi_polys[i][j][1]} '\n",
    "    d += 'Z'\n",
    "    svg_voronoi.append(f'<path d=\"{d}\" fill=\"none\" stroke=\"{rt.co_mgr.getColor(i)}\" stroke-width=\"3\"/>')\n",
    "\n",
    "rt.tile([''.join(svg_base)+''.join(svg_pts)+''.join(svg_voronoi)+'</svg>'])"
   ]
  },
  {
   "cell_type": "code",
   "execution_count": null,
   "metadata": {},
   "outputs": [],
   "source": []
  }
 ],
 "metadata": {
  "kernelspec": {
   "display_name": ".venv",
   "language": "python",
   "name": "python3"
  },
  "language_info": {
   "codemirror_mode": {
    "name": "ipython",
    "version": 3
   },
   "file_extension": ".py",
   "mimetype": "text/x-python",
   "name": "python",
   "nbconvert_exporter": "python",
   "pygments_lexer": "ipython3",
   "version": "3.12.3"
  }
 },
 "nbformat": 4,
 "nbformat_minor": 2
}
