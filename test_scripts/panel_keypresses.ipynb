{
 "cells": [
  {
   "cell_type": "code",
   "execution_count": null,
   "metadata": {},
   "outputs": [],
   "source": [
    "import pandas as pd\n",
    "import numpy as np\n",
    "import panel as pn\n",
    "from panel.reactive import ReactiveHTML\n",
    "import param\n",
    "import sys\n",
    "sys.path.insert(1, '../framework')\n",
    "from racetrack import *\n",
    "rt = RACETrack()\n",
    "class MyRTReactiveKeyPresses(ReactiveHTML):\n",
    "    _template = \"\"\"\n",
    "        <svg tabindex=\"1\" id=\"myparent\" width=\"200\" height=\"100\" onkeypress=\"${script('myonkeypress')}\" onkeydown=\"${script('myonkeydown')}\" onkeyup=\"${script('myonkeyup')}\" >\n",
    "            <svg id=\"mod\" width=\"200\" height=\"100\">\n",
    "                <rect width=\"200\" height=\"100\" fill=\"#ffffff\"/>   \n",
    "                <circle id=\"mycircle\" cx=\"50\" cy=\"50\" r=\"30\" fill=\"#000000\" />\n",
    "                <rect id=\"r0\" x=\"20\" y=\"90\" width=\"10\" height=\"10\" fill=\"#000000\" />\n",
    "                <rect id=\"r1\" x=\"40\" y=\"90\" width=\"10\" height=\"10\" fill=\"#000000\" />\n",
    "                <rect id=\"r2\" x=\"60\" y=\"90\" width=\"10\" height=\"10\" fill=\"#000000\" />\n",
    "            </svg>\n",
    "        </svg>\n",
    "    \"\"\"\n",
    "    my_key = param.Integer(default=0)\n",
    "    def __init__(self, **kwargs):\n",
    "        super().__init__(**kwargs)\n",
    "    _scripts = {\n",
    "        'render':\"\"\"\n",
    "            mycircle.setAttribute(\"fill\", \"#0000ff\");\n",
    "            data.my_key = data.my_key | 0x01;\n",
    "        \"\"\",\n",
    "        'myonkeypress':\"\"\"\n",
    "            mycircle.setAttribute(\"fill\", \"#ff0000\");\n",
    "            r0.setAttribute(\"fill\", \"#ff0000\")\n",
    "            data.my_key = data.my_key | 0x02;\n",
    "            event.preventDefault();\n",
    "        \"\"\",\n",
    "        'myonkeydown':\"\"\"\n",
    "            mycircle.setAttribute(\"fill\", \"#00ff00\");\n",
    "            r1.setAttribute(\"fill\", \"#ff0000\")\n",
    "            data.my_key = data.my_key | 0x04;\n",
    "            event.preventDefault(); // this one prevents the keypress from ever happening... you still get the keyup event\n",
    "        \"\"\",\n",
    "        'myonkeyup':\"\"\"\n",
    "            mycircle.setAttribute(\"fill\", \"#0000ff\");\n",
    "            r2.setAttribute(\"fill\", \"#ff0000\")\n",
    "            data.my_key = data.my_key | 0x08;\n",
    "            event.preventDefault();\n",
    "        \"\"\"\n",
    "    }\n",
    "kp = MyRTReactiveKeyPresses()"
   ]
  },
  {
   "cell_type": "code",
   "execution_count": null,
   "metadata": {},
   "outputs": [],
   "source": [
    "kp"
   ]
  },
  {
   "cell_type": "code",
   "execution_count": null,
   "metadata": {},
   "outputs": [],
   "source": [
    "kp.my_key"
   ]
  },
  {
   "cell_type": "code",
   "execution_count": null,
   "metadata": {},
   "outputs": [],
   "source": []
  }
 ],
 "metadata": {
  "kernelspec": {
   "display_name": "Python 3 (ipykernel)",
   "language": "python",
   "name": "python3"
  },
  "language_info": {
   "codemirror_mode": {
    "name": "ipython",
    "version": 3
   },
   "file_extension": ".py",
   "mimetype": "text/x-python",
   "name": "python",
   "nbconvert_exporter": "python",
   "pygments_lexer": "ipython3",
   "version": "3.11.6"
  }
 },
 "nbformat": 4,
 "nbformat_minor": 4
}
