{
 "cells": [
  {
   "cell_type": "code",
   "execution_count": null,
   "metadata": {},
   "outputs": [],
   "source": [
    "import rtsvg\n",
    "import copy\n",
    "rt = rtsvg.RACETrack()"
   ]
  },
  {
   "cell_type": "code",
   "execution_count": null,
   "metadata": {},
   "outputs": [],
   "source": [
    "#\n",
    "# sankeyGeometry()\n",
    "# - fm     = (x, y, h)\n",
    "# - tos    = [(x, y, h), ...]\n",
    "# - colors = {fm_to_tuple: hex-color, ...}\n",
    "#\n",
    "def sankeyGeometry(fm, tos, colors=None):\n",
    "    # Sanity check\n",
    "    _sum_ = fm[2]\n",
    "    for to in tos: _sum_ -= to[2]\n",
    "    if _sum_ != 0: raise ValueError(\"sankeyGeometry(): fm and tos do not sum to 100%\")\n",
    "\n",
    "    # Don't mess up the original... order it by y value\n",
    "    tos = copy.deepcopy(tos)\n",
    "    tos = sorted(tos, key=lambda x: x[1])\n",
    "\n",
    "    # Drop the exit and entrances ... exit in green, entrances in red\n",
    "    svg = []\n",
    "    svg.append(f'<line x1=\"{fm[0]}\" y1=\"{fm[1]}\" x2=\"{fm[0]}\" y2=\"{fm[1]+fm[2]}\" stroke=\"#006d00\" stroke-width=\"4.0\" />')\n",
    "    for to in tos: svg.append(f'<line x1=\"{to[0]}\" y1=\"{to[1]}\" x2=\"{to[0]}\" y2=\"{to[1]+to[2]}\" stroke=\"#ff0000\" stroke-width=\"4.0\" />')\n",
    "\n",
    "    # Initial sketch\n",
    "    y = fm[1]\n",
    "    for to in tos:\n",
    "        #svg.append(f'<line x1=\"{fm[0]}\" y1=\"{y}\"       x2=\"{to[0]}\" y2=\"{to[1]}\"       stroke=\"#000000\" stroke-width=\"0.5\" />')\n",
    "        #svg.append(f'<line x1=\"{fm[0]}\" y1=\"{y+to[2]}\" x2=\"{to[0]}\" y2=\"{to[1]+to[2]}\" stroke=\"#000000\" stroke-width=\"0.5\" />')\n",
    "        y += to[2]\n",
    "\n",
    "    # Most basic version of the geometry ... suffers from a narrowing in the middle which is not desired\n",
    "    y = fm[1]\n",
    "    for to in tos:\n",
    "        _d_ = (to[0] - fm[0]) / 3.0\n",
    "        d = f'M {fm[0]} {y} C {fm[0]+_d_} {y} {to[0]-_d_} {to[1]} {to[0]} {to[1]} L {to[0]} {to[1]+to[2]} C {to[0]-_d_} {to[1]+to[2]} {fm[0]+_d_} {y+to[2]} {fm[0]} {y+to[2]} Z'\n",
    "        svg.append(f'<path d=\"{d}\" fill=\"#000000\" fill-opacity=\"0.1\" stroke=\"none\" stroke-width=\"0.5\" />')\n",
    "        y += to[2]\n",
    "\n",
    "    return ''.join(svg)\n",
    "\n",
    "# Example Data\n",
    "_fm_  = (10, 10, 100)\n",
    "_tos_ = [(100, 10, 10), (100, 50, 10), (120, 160, 80)]\n",
    "\n",
    "svgs = [f'<svg x=\"0\" y=\"0\" width=\"512\" height=\"256\"><rect x=\"0\" y=\"0\" width=\"512\" height=\"256\" fill=\"#ffffff\"/>']\n",
    "svgs.append(sankeyGeometry(_fm_, _tos_))\n",
    "svgs.append('</svg>')\n",
    "rt.tile([''.join(svgs)])"
   ]
  },
  {
   "cell_type": "code",
   "execution_count": null,
   "metadata": {},
   "outputs": [],
   "source": []
  },
  {
   "cell_type": "code",
   "execution_count": null,
   "metadata": {},
   "outputs": [],
   "source": []
  }
 ],
 "metadata": {
  "kernelspec": {
   "display_name": ".venv",
   "language": "python",
   "name": "python3"
  },
  "language_info": {
   "codemirror_mode": {
    "name": "ipython",
    "version": 3
   },
   "file_extension": ".py",
   "mimetype": "text/x-python",
   "name": "python",
   "nbconvert_exporter": "python",
   "pygments_lexer": "ipython3",
   "version": "3.12.3"
  }
 },
 "nbformat": 4,
 "nbformat_minor": 2
}
