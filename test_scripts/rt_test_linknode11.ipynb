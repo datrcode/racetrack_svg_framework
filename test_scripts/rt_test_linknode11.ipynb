{
 "cells": [
  {
   "cell_type": "code",
   "execution_count": null,
   "metadata": {},
   "outputs": [],
   "source": [
    "import pandas   as pd\n",
    "import numpy    as np\n",
    "import networkx as nx\n",
    "import sys\n",
    "sys.path.insert(1, '../framework')\n",
    "from racetrack import *\n",
    "rt = RACETrack()"
   ]
  },
  {
   "cell_type": "code",
   "execution_count": null,
   "metadata": {},
   "outputs": [],
   "source": [
    "df          = pd.DataFrame({'fm':['a','b','c','c','d','a',  'b',  'b0' ], \n",
    "                            'to':['b','c','a','d','c','a0', 'b0', 'b'],\n",
    "                            'ct':[ 1,  1,  5,  2,  2,  3,    1,    1]})\n",
    "relates     = [('fm','to')]\n",
    "pos         = {'a':(0,0), 'b':(1,0), 'c':(1,1), 'd':(0.7,1), 'a0':(0.0,0.01), 'b0':(1,0)}\n",
    "params      = {'df':df, 'relationships':relates, 'pos':pos, 'count_by':'ct', 'bounds_percent':0.15, 'w':192, 'h':192}\n",
    "svgs        = []\n",
    "svgs.append(rt.linkNode(**params)), svgs.append(rt.linkNode(link_shape='curve', **params)), svgs.append(rt.linkNode(link_shape='arrow', **params))\n",
    "params['node_size'] = 'large'\n",
    "svgs.append(rt.linkNode(**params)), svgs.append(rt.linkNode(link_shape='curve', **params)), svgs.append(rt.linkNode(link_shape='arrow', **params))\n",
    "params['link_size'], params['node_size'] = 'vary', 'medium'\n",
    "svgs.append(rt.linkNode(**params)), svgs.append(rt.linkNode(link_shape='curve', **params)), svgs.append(rt.linkNode(link_shape='arrow', **params))\n",
    "params['node_size'] = 'large'\n",
    "svgs.append(rt.linkNode(**params)), svgs.append(rt.linkNode(link_shape='curve', **params)), svgs.append(rt.linkNode(link_shape='arrow', **params))\n",
    "params['link_size'], params['node_size'] = 'large', 'medium'\n",
    "svgs.append(rt.linkNode(**params)), svgs.append(rt.linkNode(link_shape='curve', **params)), svgs.append(rt.linkNode(link_shape='arrow', **params))\n",
    "params['node_size'] = 'large'\n",
    "svgs.append(rt.linkNode(**params)), svgs.append(rt.linkNode(link_shape='curve', **params)), svgs.append(rt.linkNode(link_shape='arrow', **params))\n",
    "rt.table(svgs, per_row=6)"
   ]
  },
  {
   "cell_type": "code",
   "execution_count": null,
   "metadata": {},
   "outputs": [],
   "source": [
    "params      = {'df':df, 'relationships':relates, 'pos':pos, 'count_by':'ct', 'bounds_percent':0.15, 'w':192, 'h':192, 'link_shape':'arrow'}\n",
    "svgs        = []\n",
    "svgs.append(rt.linkNode(**params, link_arrow_style='kite'))\n",
    "svgs.append(rt.linkNode(**params, link_arrow_style='kite_v2'))\n",
    "svgs.append(rt.linkNode(**params, link_arrow_style='kite_v3'))\n",
    "rt.tile(svgs)"
   ]
  },
  {
   "cell_type": "code",
   "execution_count": null,
   "metadata": {},
   "outputs": [],
   "source": []
  }
 ],
 "metadata": {
  "kernelspec": {
   "display_name": ".venv",
   "language": "python",
   "name": "python3"
  },
  "language_info": {
   "codemirror_mode": {
    "name": "ipython",
    "version": 3
   },
   "file_extension": ".py",
   "mimetype": "text/x-python",
   "name": "python",
   "nbconvert_exporter": "python",
   "pygments_lexer": "ipython3",
   "version": "3.11.6"
  }
 },
 "nbformat": 4,
 "nbformat_minor": 2
}
