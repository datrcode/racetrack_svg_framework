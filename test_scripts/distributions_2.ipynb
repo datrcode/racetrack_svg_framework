{
 "cells": [
  {
   "cell_type": "code",
   "execution_count": null,
   "metadata": {},
   "outputs": [],
   "source": [
    "import pandas as pd\n",
    "import numpy  as np\n",
    "import sys\n",
    "sys.path.insert(1, '../framework')\n",
    "from racetrack import *\n",
    "rt = RACETrack()"
   ]
  },
  {
   "cell_type": "code",
   "execution_count": null,
   "metadata": {},
   "outputs": [],
   "source": [
    "dfs = [pd.DataFrame({'x':np.random.normal(5.0, 2.5, size=100000)}),\n",
    "       pd.DataFrame({'x':np.random.normal(6.0, 3.5, size=50000)}),\n",
    "       pd.DataFrame({'x':np.random.normal(0.0, 4.5, size=20000)}),\n",
    "       pd.DataFrame({'x':np.random.normal(5.0, 2.5, size=10000)})]\n",
    "for x in range(len(dfs)):\n",
    "    dfs[x]['cat'] = x\n",
    "df = pd.concat(dfs)\n",
    "df.sample(3)"
   ]
  },
  {
   "cell_type": "code",
   "execution_count": null,
   "metadata": {},
   "outputs": [],
   "source": [
    "svgs = []\n",
    "svgs.append(rt.xy(df,                   x_field='x', y_field='x', render_x_distribution=50, distribution_style='inside', distribution_h_perc=1.0, dot_size='hidden'))\n",
    "svgs.append(rt.xy(df.query('cat == 0'), x_field='x', y_field='x', render_x_distribution=50, distribution_style='inside', distribution_h_perc=1.0, dot_size='hidden'))\n",
    "svgs.append(rt.xy(df.query('cat == 1'), x_field='x', y_field='x', render_x_distribution=50, distribution_style='inside', distribution_h_perc=1.0, dot_size='hidden'))\n",
    "svgs.append(rt.xy(df.query('cat == 2'), x_field='x', y_field='x', render_x_distribution=50, distribution_style='inside', distribution_h_perc=1.0, dot_size='hidden'))\n",
    "svgs.append(rt.xy(df.query('cat == 3'), x_field='x', y_field='x', render_x_distribution=50, distribution_style='inside', distribution_h_perc=1.0, dot_size='hidden'))\n",
    "rt.tile(svgs)\n"
   ]
  },
  {
   "cell_type": "code",
   "execution_count": null,
   "metadata": {},
   "outputs": [],
   "source": [
    "def distribution(df, split_by, field, bins=20):\n",
    "    counts, splits, xs, counts_norm = [], [], [], []\n",
    "    gb = df.groupby(split_by)\n",
    "    for k, k_df in gb:\n",
    "        _counts_, _ranges_ = np.histogram(k_df[field], bins=bins)\n",
    "        counts.extend(_counts_)\n",
    "        _counts_max_ = max(_counts_)\n",
    "        r0, r1 = _ranges_[0], _ranges_[-1]\n",
    "        for i in range(len(_ranges_)-1):\n",
    "            x = r0 + ((r1 - r0) * i) / (len(_ranges_)-2)\n",
    "            xs.append(x)\n",
    "            splits.append(k)\n",
    "            counts_norm.append(_counts_[i]/_counts_max_)\n",
    "    return counts, splits, xs, counts_norm\n",
    "def distributionForXY(df, split_by, field, bins=20, use_norm=False, **params):\n",
    "    counts, splits, xs, counts_norm = distribution(df, split_by, field, bins)\n",
    "    _df_ = pd.DataFrame({'x':xs,'split':splits,'count':counts, 'count_norm':counts_norm})\n",
    "    params['df']                 = _df_\n",
    "    params['x_field']            = 'x'    \n",
    "    params['y_field']            = 'count_norm' if use_norm else 'count'\n",
    "    params['line_groupby_field'] = 'split'\n",
    "    params['color_by']           = 'split'\n",
    "    params['dot_size']           = None\n",
    "    return params\n",
    "svgs = []\n",
    "svgs.append(rt.xy(**distributionForXY(df, 'cat', 'x')))\n",
    "svgs.append(rt.xy(**distributionForXY(df, 'cat', 'x', bins=5)))\n",
    "svgs.append(rt.xy(**distributionForXY(df, 'cat', 'x', bins=10)))\n",
    "svgs.append(rt.xy(**distributionForXY(df, 'cat', 'x', bins=40)))\n",
    "svgs.append(rt.xy(**distributionForXY(df, 'cat', 'x', bins=40, use_norm=True)))\n",
    "rt.tile(svgs)"
   ]
  },
  {
   "cell_type": "code",
   "execution_count": null,
   "metadata": {},
   "outputs": [],
   "source": []
  }
 ],
 "metadata": {
  "kernelspec": {
   "display_name": ".venv",
   "language": "python",
   "name": "python3"
  },
  "language_info": {
   "codemirror_mode": {
    "name": "ipython",
    "version": 3
   },
   "file_extension": ".py",
   "mimetype": "text/x-python",
   "name": "python",
   "nbconvert_exporter": "python",
   "pygments_lexer": "ipython3",
   "version": "3.11.6"
  }
 },
 "nbformat": 4,
 "nbformat_minor": 2
}
