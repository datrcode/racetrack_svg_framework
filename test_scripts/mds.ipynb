{
 "cells": [
  {
   "cell_type": "code",
   "execution_count": null,
   "id": "40ed7011",
   "metadata": {},
   "outputs": [],
   "source": [
    "import numpy as np\n",
    "from sklearn.manifold import MDS\n",
    "import networkx as nx\n",
    "import rtsvg\n",
    "rt = rtsvg.RACETrack()\n",
    "\n",
    "# Make a graph\n",
    "from linknode_graph_patterns import LinkNodeGraphPatterns\n",
    "patterns = LinkNodeGraphPatterns()\n",
    "g         = patterns.createPattern('stanford_facebook_networks')\n",
    "df        = patterns.nxGraphToPolarsDataFrame(g)\n",
    "\n",
    "# Determine the distances\n",
    "dists     = dict(nx.all_pairs_dijkstra_path_length(g))\n",
    "nodes     = list(dists.keys())\n",
    "node_to_i = {}\n",
    "for i in range(len(nodes)): node_to_i[nodes[i]] = i\n",
    "dissim = np.zeros((len(nodes),len(nodes)))\n",
    "for _node0_ in g.nodes:\n",
    "    for _node1_ in g.nodes:\n",
    "        if _node0_ == _node1_:            continue\n",
    "        if _node1_ not in dists[_node0_]: continue\n",
    "        dissim[node_to_i[_node0_]][node_to_i[_node1_]] = dists[_node0_][_node1_]\n",
    "\n",
    "# Execute MDS\n",
    "mds           = MDS(n_components=2, dissimilarity='precomputed', random_state=42)\n",
    "X_transformed = mds.fit_transform(dissim)\n",
    "pos_mds           = {}\n",
    "for i in range(len(nodes)): pos_mds[nodes[i]] = [X_transformed[i][0], X_transformed[i][1]]\n",
    "\n",
    "# Comparison Springs\n",
    "pos_nx_spring     = nx.spring_layout(g)\n",
    "\n",
    "# Color the nodes\n",
    "_node_colors_ = {}\n",
    "community_i   = 0\n",
    "for _community_ in nx.community.louvain_communities(g):\n",
    "    community_i += 1\n",
    "    for _node_ in _community_: _node_colors_[_node_] = rt.co_mgr.getColor(community_i)\n",
    "\n",
    "_params_ = {'df':df, 'relationships':[('fm','to')], 'node_color':_node_colors_}\n",
    "rt.tile([rt.link(pos=pos_mds,       **_params_),\n",
    "         rt.link(pos=pos_nx_spring, **_params_)])"
   ]
  },
  {
   "cell_type": "code",
   "execution_count": null,
   "id": "a404d9ac",
   "metadata": {},
   "outputs": [],
   "source": []
  }
 ],
 "metadata": {
  "kernelspec": {
   "display_name": ".venv (3.13.7)",
   "language": "python",
   "name": "python3"
  },
  "language_info": {
   "codemirror_mode": {
    "name": "ipython",
    "version": 3
   },
   "file_extension": ".py",
   "mimetype": "text/x-python",
   "name": "python",
   "nbconvert_exporter": "python",
   "pygments_lexer": "ipython3",
   "version": "3.13.7"
  }
 },
 "nbformat": 4,
 "nbformat_minor": 5
}
