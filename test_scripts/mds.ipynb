{
 "cells": [
  {
   "cell_type": "code",
   "execution_count": null,
   "id": "40ed7011",
   "metadata": {},
   "outputs": [],
   "source": [
    "import numpy as np\n",
    "from sklearn.manifold import MDS\n",
    "import matplotlib.pyplot as plt\n",
    "\n",
    "# 1. Prepare your data\n",
    "# For demonstration, we'll create a simple dissimilarity matrix.\n",
    "# In a real-world scenario, you would calculate this from your high-dimensional data.\n",
    "# Let's imagine 4 objects and their pairwise dissimilarities.\n",
    "dissimilarity_matrix = np.array([\n",
    "    [0, 1, 2, 3],\n",
    "    [1, 0, 1.5, 2.5],\n",
    "    [2, 1.5, 0, 1],\n",
    "    [3, 2.5, 1, 0]\n",
    "])\n",
    "\n",
    "# 2. Create an MDS object\n",
    "# n_components: the desired dimensionality of the output space (e.g., 2 for 2D visualization)\n",
    "# dissimilarity: 'precomputed' if you provide a dissimilarity matrix, 'euclidean' otherwise\n",
    "# random_state: for reproducibility\n",
    "mds = MDS(n_components=2, dissimilarity='precomputed', random_state=42)\n",
    "\n",
    "# 3. Fit the model and transform the data\n",
    "# The fit_transform method performs both fitting the model and transforming the data\n",
    "# into the lower-dimensional space.\n",
    "X_transformed = mds.fit_transform(dissimilarity_matrix)\n",
    "\n",
    "# 4. Visualize the results (optional)\n",
    "plt.figure(figsize=(6, 6))\n",
    "plt.scatter(X_transformed[:, 0], X_transformed[:, 1])\n",
    "for i, txt in enumerate(range(dissimilarity_matrix.shape[0])):\n",
    "    plt.annotate(f'Object {txt+1}', (X_transformed[i, 0], X_transformed[i, 1]), textcoords=\"offset points\", xytext=(0,5), ha='center')\n",
    "plt.title('MDS Transformation')\n",
    "plt.xlabel('Dimension 1')\n",
    "plt.ylabel('Dimension 2')\n",
    "plt.grid(True)\n",
    "plt.show()\n",
    "\n",
    "# Print the transformed coordinates\n",
    "print(\"Transformed coordinates:\")\n",
    "print(X_transformed)"
   ]
  },
  {
   "cell_type": "code",
   "execution_count": null,
   "id": "e7d34156",
   "metadata": {},
   "outputs": [],
   "source": []
  }
 ],
 "metadata": {
  "kernelspec": {
   "display_name": ".venv (3.13.7)",
   "language": "python",
   "name": "python3"
  },
  "language_info": {
   "codemirror_mode": {
    "name": "ipython",
    "version": 3
   },
   "file_extension": ".py",
   "mimetype": "text/x-python",
   "name": "python",
   "nbconvert_exporter": "python",
   "pygments_lexer": "ipython3",
   "version": "3.13.7"
  }
 },
 "nbformat": 4,
 "nbformat_minor": 5
}
