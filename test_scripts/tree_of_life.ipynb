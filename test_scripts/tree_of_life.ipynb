{
 "cells": [
  {
   "cell_type": "code",
   "execution_count": null,
   "id": "65703c26",
   "metadata": {},
   "outputs": [],
   "source": [
    "import polars as pl\n",
    "from math import sqrt, atan2, pi, acos\n",
    "import random\n",
    "import rtsvg\n",
    "rt = rtsvg.RACETrack()\n",
    "from circle_packer import CirclePacker\n",
    "import os\n",
    "import kagglehub\n",
    "path = kagglehub.dataset_download(\"konivat/tree-of-life\")\n",
    "dfs = []\n",
    "for _filename_ in os.listdir(path):\n",
    "    df = pl.read_csv(os.path.join(path, _filename_))\n",
    "    dfs.append(df)"
   ]
  },
  {
   "cell_type": "code",
   "execution_count": null,
   "id": "2339ff34",
   "metadata": {},
   "outputs": [],
   "source": [
    "#\n",
    "# 28.0s for 100_000 circles on M1 Pro (Unoptimized)\n",
    "#  2.9s for 100_000 circles on M1 Pro (w/ Arc Length Optimization)\n",
    "#  2.6s for 100_000 circles on M1 Pro (w/ Arc Length Optimization) // after a lot of debugging...\n",
    "#\n",
    "_tiles_ = []\n",
    "_list_  = []\n",
    "for i in range(1):\n",
    "    _circles_ = []\n",
    "    for i in range(100_000): _circles_.append((0.0, 0.0, 1.0 + 3.0*random.random()))\n",
    "    _list_.append(_circles_)\n",
    "    _cp_ = CirclePacker(rt, _circles_)\n",
    "    _tiles_.append(_cp_)\n",
    "#rt.table(_tiles_, spacer=10, per_row=6)"
   ]
  },
  {
   "cell_type": "code",
   "execution_count": null,
   "id": "797a2afe",
   "metadata": {},
   "outputs": [],
   "source": [
    "#\n",
    "# [1.0, 4.0] -- max difference in radius\n",
    "# ... seen breakage at [1.0, 4.25]\n",
    "#\n",
    "for i in range(1_000):\n",
    "    _circles_ = []\n",
    "    for i in range(50): _circles_.append((0.0, 0.0, 1.0 + 3.0*random.random()))\n",
    "    _list_.append(_circles_)\n",
    "    _cp_ = CirclePacker(rt, _circles_)\n",
    "    if _cp_.__validateNoOverlaps__() == False: raise Exception('Overlaps Found')"
   ]
  },
  {
   "cell_type": "code",
   "execution_count": null,
   "id": "5564950c",
   "metadata": {},
   "outputs": [],
   "source": [
    "#\n",
    "# [0.1, 0.4125] -- max difference in radius\n",
    "# ... seen breakage at [0.1, 0.425]\n",
    "#\n",
    "for i in range(1_000):\n",
    "    _circles_ = []\n",
    "    for i in range(50): _circles_.append((0.0, 0.0, 0.1 + 0.3125*random.random()))\n",
    "    _list_.append(_circles_)\n",
    "    _cp_ = CirclePacker(rt, _circles_)\n",
    "    if _cp_.__validateNoOverlaps__() == False: raise Exception('Overlaps Found')"
   ]
  },
  {
   "cell_type": "code",
   "execution_count": null,
   "id": "c0d6203c",
   "metadata": {},
   "outputs": [],
   "source": []
  }
 ],
 "metadata": {
  "kernelspec": {
   "display_name": ".venv",
   "language": "python",
   "name": "python3"
  },
  "language_info": {
   "codemirror_mode": {
    "name": "ipython",
    "version": 3
   },
   "file_extension": ".py",
   "mimetype": "text/x-python",
   "name": "python",
   "nbconvert_exporter": "python",
   "pygments_lexer": "ipython3",
   "version": "3.12.3"
  }
 },
 "nbformat": 4,
 "nbformat_minor": 5
}
