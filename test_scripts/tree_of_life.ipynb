{
 "cells": [
  {
   "cell_type": "code",
   "execution_count": null,
   "id": "65703c26",
   "metadata": {},
   "outputs": [],
   "source": [
    "import polars as pl\n",
    "import networkx as nx\n",
    "from math import pi, sqrt\n",
    "import rtsvg\n",
    "rt = rtsvg.RACETrack()\n",
    "import os\n",
    "import kagglehub\n",
    "path     = kagglehub.dataset_download(\"konivat/tree-of-life\")\n",
    "df_edges = None\n",
    "df_nodes = None\n",
    "for _filename_ in os.listdir(path):\n",
    "    df = pl.read_csv(os.path.join(path, _filename_))\n",
    "    if   'source_node_id' in df.columns and 'target_node_id' in df.columns: df_edges = df\n",
    "    elif 'node_id'        in df.columns:                                    df_nodes = df\n",
    "    else:                                                                   raise Exception(\"unknown file\")"
   ]
  },
  {
   "cell_type": "code",
   "execution_count": null,
   "id": "3d69d5cc",
   "metadata": {},
   "outputs": [],
   "source": [
    "src_col, dst_col = 'source_node_id', 'target_node_id'\n",
    "_root_           = 1\n",
    "_relates_        = [('source_node_id', 'target_node_id')]\n",
    "def childrenOf(_node_):\n",
    "    _df_ = df_edges.filter(pl.col(src_col) == _node_)\n",
    "    return list(_df_[dst_col])\n",
    "def totalLeaves(_node_, _levels_):\n",
    "    if _levels_ == 0: return 1\n",
    "    _sum_ = 0\n",
    "    for _child_ in childrenOf(_node_): _sum_ += totalLeaves(_child_, _levels_-1)\n",
    "    return _sum_\n",
    "\n",
    "totalLeaves(_root_, 1)"
   ]
  },
  {
   "cell_type": "code",
   "execution_count": null,
   "id": "d0771b17",
   "metadata": {},
   "outputs": [],
   "source": [
    "def renderHierarchy(node, levels=3, into_circle=None):\n",
    "    if into_circle is None: into_circle = (0.0, 0.0, 1.0) # unit circle\n",
    "    if     levels == 1:\n",
    "        n = totalLeaves(node, 1)\n",
    "        _circles_ = []\n",
    "        for i in range(n): _circles_.append((0.0, 0.0, 1.0))\n",
    "        _packed_         = rt.packCircles(_circles_, into_circle=into_circle)\n",
    "        _node_to_circle_ = {}\n",
    "        for _child_ in childrenOf(node): _node_to_circle_[_child_] = _packed_.pop(0)\n",
    "        return _node_to_circle_\n",
    "    else:\n",
    "        area                = pi * into_circle[2] ** 2\n",
    "        n                   = totalLeaves(node, levels)\n",
    "        _circles_           = []\n",
    "        _children_          = childrenOf(node)\n",
    "        _radii_to_children_ = {}\n",
    "        for _child_ in _children_:\n",
    "            _leaf_count_        = totalLeaves(_child_, levels-1)\n",
    "            _area_for_child_    = _leaf_count_ * area / n\n",
    "            _child_radius_      = sqrt(_area_for_child_/pi)\n",
    "            if _child_radius_ not in _radii_to_children_: _radii_to_children_[_child_radius_] = []\n",
    "            _radii_to_children_[_child_radius_].append(_child_)\n",
    "            _circles_.append((0.0, 0.0, _child_radius_))\n",
    "        _packed_         = rt.packCircles(_circles_, into_circle=into_circle)\n",
    "        # okay ... so this isn't going to work because we don't retain the order of the packed nodes through the packing algorithm...\n",
    "\n",
    "\n",
    "renderHierarchy(_root_, 2)"
   ]
  },
  {
   "cell_type": "code",
   "execution_count": null,
   "id": "c096b26c",
   "metadata": {},
   "outputs": [],
   "source": []
  }
 ],
 "metadata": {
  "kernelspec": {
   "display_name": ".venv",
   "language": "python",
   "name": "python3"
  },
  "language_info": {
   "codemirror_mode": {
    "name": "ipython",
    "version": 3
   },
   "file_extension": ".py",
   "mimetype": "text/x-python",
   "name": "python",
   "nbconvert_exporter": "python",
   "pygments_lexer": "ipython3",
   "version": "3.12.3"
  }
 },
 "nbformat": 4,
 "nbformat_minor": 5
}
