{
 "cells": [
  {
   "cell_type": "code",
   "execution_count": null,
   "id": "65703c26",
   "metadata": {},
   "outputs": [],
   "source": [
    "import polars as pl\n",
    "from math import sqrt, atan2, pi, acos\n",
    "import random\n",
    "import rtsvg\n",
    "rt = rtsvg.RACETrack()\n",
    "import os\n",
    "import kagglehub\n",
    "path = kagglehub.dataset_download(\"konivat/tree-of-life\")\n",
    "dfs = []\n",
    "for _filename_ in os.listdir(path):\n",
    "    df = pl.read_csv(os.path.join(path, _filename_))\n",
    "    dfs.append(df)"
   ]
  },
  {
   "cell_type": "code",
   "execution_count": null,
   "id": "b86d5ac7",
   "metadata": {},
   "outputs": [],
   "source": [
    "_circles_ = []\n",
    "for i in range(4): _circles_.append((0,0,1.0+3.0*random.random()))\n",
    "_packed_       = rt.packCircles(sorted(_circles_, key=lambda x: x[2], reverse=True))\n",
    "x0, y0, x1, y1 = _packed_[0][0] - _packed_[0][2], _packed_[0][1] - _packed_[0][2], _packed_[0][0] + _packed_[0][2], _packed_[0][1] + _packed_[0][2]\n",
    "for _circle_ in _packed_:\n",
    "    x0 = min(x0, _circle_[0] - _circle_[2])\n",
    "    y0 = min(y0, _circle_[1] - _circle_[2])\n",
    "    x1 = max(x1, _circle_[0] + _circle_[2])\n",
    "    y1 = max(y1, _circle_[1] + _circle_[2])\n",
    "#perc = max(x1-x0, y1-y0)*0.5\n",
    "#x0, y0, x1, y1 = x0-perc, y0-perc, x1+perc, y1+perc\n",
    "\n",
    "fit_within = (10.0, 5.0, 3.0) # fit the packed within this circle\n",
    "x0 = min(x0, fit_within[0] - fit_within[2])\n",
    "y0 = min(y0, fit_within[1] - fit_within[2])\n",
    "x1 = max(x1, fit_within[0] + fit_within[2])\n",
    "y1 = max(y1, fit_within[1] + fit_within[2])\n",
    "\n",
    "\n",
    "def translateAndScaleCircles(circles, into_circle):\n",
    "    x0, y0, x1, y1 = circles[0][0] - circles[0][2], circles[0][1] - circles[0][2], circles[0][0] + circles[0][2], circles[0][1] + circles[0][2]\n",
    "    for _circle_ in circles:\n",
    "        x0, y0 = min(x0, _circle_[0] - _circle_[2]), min(y0, _circle_[1] - _circle_[2])\n",
    "        x1, y1 = max(x1, _circle_[0] + _circle_[2]), max(y1, _circle_[1] + _circle_[2])\n",
    "    \n",
    "    x_mid,   y_mid   = (x1 + x0)/2.0,            (y1 + y0)/2.0\n",
    "    x_scale, y_scale = (x1 - x0)/into_circle[2], (y1 - y0)/into_circle[2]\n",
    "    scale            = max(x_scale, y_scale)\n",
    "\n",
    "    fit = []\n",
    "    for _circle_ in circles:\n",
    "        x = (_circle_[0] - x_mid)/scale + into_circle[0]\n",
    "        y = (_circle_[1] - y_mid)/scale + into_circle[1]\n",
    "        fit.append((x,y,_circle_[2]/scale))\n",
    "\n",
    "    return fit\n",
    "\n",
    "svg = [f'<svg x=\"0\" y=\"0\" width=\"500\" height=\"500\" viewBox=\"{x0} {y0} {x1-x0} {y1-y0} \">']\n",
    "svg.append(f'<rect x=\"{x0}\" y=\"{y0}\" width=\"{x1-x0}\" height=\"{y1-y0}\" fill=\"#ffffff\"/>')\n",
    "svg.append(f'<circle cx=\"{fit_within[0]}\" cy=\"{fit_within[1]}\" r=\"{fit_within[2]}\" fill=\"none\" stroke=\"#ff0000\" stroke-width=\"0.1\"/>')\n",
    "for i in range(len(_packed_)):\n",
    "    _circle_ = _packed_[i]\n",
    "    svg.append(f'<circle cx=\"{_circle_[0]}\" cy=\"{_circle_[1]}\" r=\"{_circle_[2]}\" fill=\"none\" stroke=\"#e0e0e0\" stroke-width=\"0.1\"/>')\n",
    "_aligned_circles_ = translateAndScaleCircles(_packed_, fit_within)\n",
    "for i in range(len(_aligned_circles_)):\n",
    "    _circle_ = _aligned_circles_[i]\n",
    "    svg.append(f'<circle cx=\"{_circle_[0]}\" cy=\"{_circle_[1]}\" r=\"{_circle_[2]}\" fill=\"none\" stroke=\"#000000\" stroke-width=\"0.1\"/>')\n",
    "svg.append('</svg>')\n",
    "rt.tile([''.join(svg)])"
   ]
  },
  {
   "cell_type": "code",
   "execution_count": null,
   "id": "7ff7bdaa",
   "metadata": {},
   "outputs": [],
   "source": []
  }
 ],
 "metadata": {
  "kernelspec": {
   "display_name": ".venv",
   "language": "python",
   "name": "python3"
  },
  "language_info": {
   "codemirror_mode": {
    "name": "ipython",
    "version": 3
   },
   "file_extension": ".py",
   "mimetype": "text/x-python",
   "name": "python",
   "nbconvert_exporter": "python",
   "pygments_lexer": "ipython3",
   "version": "3.12.3"
  }
 },
 "nbformat": 4,
 "nbformat_minor": 5
}
