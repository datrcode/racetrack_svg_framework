{
 "cells": [
  {
   "cell_type": "code",
   "execution_count": null,
   "id": "65703c26",
   "metadata": {},
   "outputs": [],
   "source": [
    "import polars as pl\n",
    "from math import sqrt, atan2, pi, acos\n",
    "import random\n",
    "import rtsvg\n",
    "rt = rtsvg.RACETrack()\n",
    "from circle_packer import CirclePacker\n",
    "import os\n",
    "import kagglehub\n",
    "path = kagglehub.dataset_download(\"konivat/tree-of-life\")\n",
    "dfs = []\n",
    "for _filename_ in os.listdir(path):\n",
    "    df = pl.read_csv(os.path.join(path, _filename_))\n",
    "    dfs.append(df)\n",
    "\n",
    "_circles_ = [(0.0, 0.0, 1.3225698144771698),\n",
    " (0.0, 0.0, 22.609033029142832),\n",
    " (0.0, 0.0, 14.300643684166218),\n",
    " (0.0, 0.0, 27.50857310783749),\n",
    " (0.0, 0.0, 13.502128545161003),\n",
    " (0.0, 0.0, 6.751248480523149),\n",
    " (0.0, 0.0, 18.193088691788525),\n",
    " (0.0, 0.0, 28.613640274927544),\n",
    " (0.0, 0.0, 19.251574555620248),\n",
    " (0.0, 0.0, 26.66200202886573),\n",
    " (0.0, 0.0, 28.974697297418327),\n",
    " (0.0, 0.0, 27.08516744671632),\n",
    " (0.0, 0.0, 4.94923810208677),\n",
    " (0.0, 0.0, 4.212546335061312),\n",
    " (0.0, 0.0, 4.823746665552136),\n",
    " (0.0, 0.0, 21.008164042193926),\n",
    " (0.0, 0.0, 17.54002285560996),\n",
    " (0.0, 0.0, 22.131382136912297),\n",
    " (0.0, 0.0, 4.321217609157426),\n",
    " (0.0, 0.0, 15.123595665202778)]\n",
    "_cp_ = CirclePacker(rt, _circles_[:5])\n",
    "_cp_.pack()\n",
    "rt.table(_cp_.progression, per_row=4, spacer=10)    "
   ]
  },
  {
   "cell_type": "code",
   "execution_count": null,
   "id": "2339ff34",
   "metadata": {},
   "outputs": [],
   "source": [
    "#\n",
    "# 28.0s for 100_000 circles on M1 Pro (Unoptimized)\n",
    "#  2.9s for 100_000 circles on M1 Pro (w/ Arc Length Optimization)\n",
    "#\n",
    "_tiles_ = []\n",
    "_list_  = []\n",
    "for i in range(1):\n",
    "    _circles_ = []\n",
    "    for i in range(1_000): _circles_.append((0.0, 0.0, 0.1 + 10.0*random.random()))\n",
    "    _list_.append(_circles_)\n",
    "    _cp_ = CirclePacker(rt, _circles_, capture_progression=False, validate_chains=False)\n",
    "    _cp_.pack()\n",
    "    _tiles_.append(_cp_)\n",
    "rt.table(_tiles_, spacer=10, per_row=6)"
   ]
  },
  {
   "cell_type": "code",
   "execution_count": null,
   "id": "3031b843",
   "metadata": {},
   "outputs": [],
   "source": [
    "_false_examples_     = []\n",
    "_befores_and_afters_ = []\n",
    "_tiles_ = []\n",
    "_lu_    = {'mult':[], 'validated':[], 'sample':[], 'contains_before_and_afters':[]}\n",
    "for _multiplier_ in range(0, 20, 4):\n",
    "    print('.',end='')\n",
    "    for _sample_ in range(1_000):\n",
    "        _circles_ = []\n",
    "        for i in range(20): _circles_.append((0.0, 0.0, 1.0 + 2.0*_multiplier_*random.random()))\n",
    "        _list_.append(_circles_)\n",
    "        _cp_ = CirclePacker(rt, _circles_, check_overlaps_every_append=True)\n",
    "        _cp_.pack()\n",
    "        _tiles_.append(_cp_)\n",
    "        if _cp_.__validateNoOverlaps__():  \n",
    "            _lu_['validated'].append(True)\n",
    "        else:\n",
    "            print('!',end='')\n",
    "            _lu_['validated'].append(False)\n",
    "            _false_examples_.append(_cp_)\n",
    "            _befores_and_afters_.extend(_cp_.before_and_afters)\n",
    "        _lu_['contains_before_and_afters'].append(len(_cp_.before_and_afters) > 0)\n",
    "        _lu_['mult'].append(_multiplier_)\n",
    "        _lu_['sample'].append(_sample_)\n",
    "_df_          = pl.DataFrame(_lu_)\n",
    "_df_true_     = _df_.filter(pl.col('validated') == True)\n",
    "_df_false_    = _df_.filter(pl.col('validated') == False)\n",
    "_histo_tiles_ = [rt.histogram(_df_, bin_by='mult', color_by='validated')]\n",
    "\n",
    "if len(_df_true_)  > 0: _histo_tiles_.append(rt.histogram(_df_true_,  bin_by='mult', color_by='contains_before_and_afters'))\n",
    "if len(_df_false_) > 0: _histo_tiles_.append(rt.histogram(_df_false_, bin_by='mult', color_by='contains_before_and_afters'))\n",
    "rt.tile(_histo_tiles_)"
   ]
  },
  {
   "cell_type": "code",
   "execution_count": null,
   "id": "7e68bbaa",
   "metadata": {},
   "outputs": [],
   "source": [
    "rt.table(_false_examples_)"
   ]
  },
  {
   "cell_type": "code",
   "execution_count": null,
   "id": "1d228aba",
   "metadata": {},
   "outputs": [],
   "source": [
    "_counter_ = {}\n",
    "for _cp_ in _false_examples_: \n",
    "    x = _cp_.overlap_found_at\n",
    "    if x not in _counter_: _counter_[x] = 0\n",
    "    _counter_[x] += 1\n",
    "print(_counter_)"
   ]
  },
  {
   "cell_type": "code",
   "execution_count": null,
   "id": "033bc4fd",
   "metadata": {},
   "outputs": [],
   "source": [
    "_false_examples_[-1].circles"
   ]
  },
  {
   "cell_type": "code",
   "execution_count": null,
   "id": "d06634f0",
   "metadata": {},
   "outputs": [],
   "source": []
  }
 ],
 "metadata": {
  "kernelspec": {
   "display_name": ".venv",
   "language": "python",
   "name": "python3"
  },
  "language_info": {
   "codemirror_mode": {
    "name": "ipython",
    "version": 3
   },
   "file_extension": ".py",
   "mimetype": "text/x-python",
   "name": "python",
   "nbconvert_exporter": "python",
   "pygments_lexer": "ipython3",
   "version": "3.12.3"
  }
 },
 "nbformat": 4,
 "nbformat_minor": 5
}
