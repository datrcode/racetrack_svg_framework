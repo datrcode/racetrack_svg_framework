{
 "cells": [
  {
   "cell_type": "code",
   "execution_count": null,
   "metadata": {},
   "outputs": [],
   "source": [
    "import rtsvg\n",
    "rt = rtsvg.RACETrack()\n",
    "# Driver Code\n",
    "s1 = \"once upon a time... there was a programmer... named john...\"\n",
    "s2 = \"there was a programmeronce upon a timenamed john\"\n",
    "_len_, _i_, _j_ = rt.longestCommonSubstring(s1, s2)\n",
    "print(f'{_len_} : @{_i_} \"{s1[_i_:_i_+_len_]}\" : @{_j_} \"{s2[_j_:_j_+_len_]}\"')"
   ]
  },
  {
   "cell_type": "code",
   "execution_count": null,
   "metadata": {},
   "outputs": [],
   "source": [
    "def iterativeLongestCommonSubstrings(s1, s2, min_length=8):\n",
    "    bin1, bin2 = [s1],                            [s2]\n",
    "    ind1, ind2 = [[x for x in range(len(s1))]],   [[x for x in range(len(s2))]]\n",
    "    def longestAcrossBins():\n",
    "        longest_tuple = (0,0,0,0,0) # length | bin1 number | bin1 index | b2 number | bin2 index\n",
    "        for b1 in range(len(bin1)):\n",
    "            for b2 in range(len(bin2)):\n",
    "                _length_, _i1_, _i2_ = rt.longestCommonSubstring(bin1[b1], bin2[b2])\n",
    "                if _length_ > longest_tuple[0]:\n",
    "                    longest_tuple = (_length_, b1, _i1_, b2, _i2_)\n",
    "        return longest_tuple\n",
    "    results = []\n",
    "    _tup_   = longestAcrossBins()\n",
    "    while _tup_[0] >= min_length and _tup_[0] != 0:\n",
    "        results.append((_tup_[0], ind1[_tup_[1]][_tup_[2]], ind2[_tup_[3]][_tup_[4]]))\n",
    "        new_bin1, new_ind1, new_bin2, new_ind2 = [], [], [], []\n",
    "        for b1 in range(len(bin1)):\n",
    "            if b1 == _tup_[1]:\n",
    "                bin, ind = bin1[b1], ind1[b1]\n",
    "                first_bin,  first_ind  = bin[:_tup_[2]],          ind[:_tup_[2]]\n",
    "                second_bin, second_ind = bin[_tup_[2]+_tup_[0]:], ind[_tup_[2]+_tup_[0]:]\n",
    "                new_bin1.append(first_bin),  new_ind1.append(first_ind)\n",
    "                new_bin1.append(second_bin), new_ind1.append(second_ind)\n",
    "            else:\n",
    "                new_bin1.append(bin1[b1]), new_ind1.append(ind1[b1])\n",
    "        for b2 in range(len(bin2)):\n",
    "            if b2 == _tup_[3]:\n",
    "                bin, ind = bin2[b2], ind2[b2]\n",
    "                first_bin,  first_ind  = bin[:_tup_[4]],          ind[:_tup_[4]]\n",
    "                second_bin, second_ind = bin[_tup_[4]+_tup_[0]:], ind[_tup_[4]+_tup_[0]:]\n",
    "                new_bin2.append(first_bin),  new_ind2.append(first_ind)\n",
    "                new_bin2.append(second_bin), new_ind2.append(second_ind)\n",
    "            else:\n",
    "                new_bin2.append(bin2[b2]), new_ind2.append(ind2[b2])\n",
    "        bin1, ind1, bin2, ind2 = new_bin1, new_ind1, new_bin2, new_ind2\n",
    "        _tup_ = longestAcrossBins()\n",
    "    \n",
    "    return results, ''.join(bin1), ''.join(bin2)\n",
    "\n",
    "my_results, s1_leftovers, s2_leftovers = iterativeLongestCommonSubstrings(s1, s2, min_length=4)\n",
    "print(my_results)\n",
    "for _tuple_ in my_results:\n",
    "    _len_, _i_, _j_ = _tuple_\n",
    "    print(f'{_len_=} : @{_i_} \"{s1[_i_:_i_+_len_]}\" : @{_j_} \"{s2[_j_:_j_+_len_]}\"')\n",
    "print(f's1_leftovers = \"{s1_leftovers}\"')\n",
    "print(f's2_leftovers = \"{s2_leftovers}\"')"
   ]
  },
  {
   "cell_type": "code",
   "execution_count": null,
   "metadata": {},
   "outputs": [],
   "source": [
    "my_results, s1_leftovers, s2_leftovers = rt.iterativelyFindAllCommonSubstrings(s1, s2, min_length=4)\n",
    "print(my_results)\n",
    "for _tuple_ in my_results:\n",
    "    _len_, _i_, _j_ = _tuple_\n",
    "    print(f'{_len_=} : @{_i_} \"{s1[_i_:_i_+_len_]}\" : @{_j_} \"{s2[_j_:_j_+_len_]}\"')\n",
    "print(f's1_leftovers = \"{s1_leftovers}\"')\n",
    "print(f's2_leftovers = \"{s2_leftovers}\"')"
   ]
  },
  {
   "cell_type": "code",
   "execution_count": null,
   "metadata": {},
   "outputs": [],
   "source": [
    "my_longer  = 'abcdefxyzmno'\n",
    "my_shorter = 'abcdefghimno'\n",
    "my_results, my_longer_leftovers, my_shorter_leftovers = iterativeLongestCommonSubstrings(my_longer, my_shorter, min_length=2)\n",
    "print(my_results)\n",
    "for _tuple_ in my_results:\n",
    "    _len_, _i_, _j_ = _tuple_\n",
    "    print(f'{_len_=} : @{_i_} \"{my_longer[_i_:_i_+_len_]}\" : @{_j_} \"{my_shorter[_j_:_j_+_len_]}\"')\n",
    "print(f'longer  leftovers = \"{my_longer_leftovers}\"')\n",
    "print(f'shorter leftovers = \"{my_shorter_leftovers}\"')"
   ]
  },
  {
   "cell_type": "code",
   "execution_count": null,
   "metadata": {},
   "outputs": [],
   "source": [
    "my_longer  = 'abcdefxyzmno'\n",
    "my_shorter = 'abcdefghimno'\n",
    "my_results, my_longer_leftovers, my_shorter_leftovers = rt.iterativelyFindAllCommonSubstrings(my_longer, my_shorter, min_length=2)\n",
    "print(my_results)\n",
    "for _tuple_ in my_results:\n",
    "    _len_, _i_, _j_ = _tuple_\n",
    "    print(f'{_len_=} : @{_i_} \"{my_longer[_i_:_i_+_len_]}\" : @{_j_} \"{my_shorter[_j_:_j_+_len_]}\"')\n",
    "print(f'longer  leftovers = \"{my_longer_leftovers}\"')\n",
    "print(f'shorter leftovers = \"{my_shorter_leftovers}\"')"
   ]
  },
  {
   "cell_type": "code",
   "execution_count": null,
   "metadata": {},
   "outputs": [],
   "source": []
  }
 ],
 "metadata": {
  "kernelspec": {
   "display_name": ".venv",
   "language": "python",
   "name": "python3"
  },
  "language_info": {
   "codemirror_mode": {
    "name": "ipython",
    "version": 3
   },
   "file_extension": ".py",
   "mimetype": "text/x-python",
   "name": "python",
   "nbconvert_exporter": "python",
   "pygments_lexer": "ipython3",
   "version": "3.12.3"
  }
 },
 "nbformat": 4,
 "nbformat_minor": 2
}
