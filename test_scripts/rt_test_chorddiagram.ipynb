{
 "cells": [
  {
   "cell_type": "code",
   "execution_count": null,
   "metadata": {},
   "outputs": [],
   "source": [
    "import pandas as pd\n",
    "import polars as pl\n",
    "import numpy as np\n",
    "import heapq\n",
    "import sys\n",
    "sys.path.insert(1, '../framework')\n",
    "from racetrack import *\n",
    "rt = RACETrack()"
   ]
  },
  {
   "cell_type": "code",
   "execution_count": null,
   "metadata": {},
   "outputs": [],
   "source": [
    "df = pd.DataFrame({'fm':['a',  'a',  'a',  'a',  'b',  'b',  'b',  'c',  'c',  'd',  'd',  'd', 'd'],\n",
    "                   'to':['b',  'c',  'd',  'b',  'a',  'b',  'c',  'a',  'b',  'c',  'a',  'b', 'd'],\n",
    "                   'ct':[10,   20,   5,    1,    20,   3,    5,    10,   15,   5,    10,   50,  20]})\n",
    "print(rt.dendrogramOrdering(df, 'fm', 'to', None, False))\n",
    "print(rt.dendrogramOrdering(df, 'fm', 'to', 'ct', False))\n",
    "print(rt.dendrogramOrdering(df, 'fm', 'to', 'ct', True))"
   ]
  },
  {
   "cell_type": "code",
   "execution_count": null,
   "metadata": {},
   "outputs": [],
   "source": [
    "params = {'df':df, 'relationships':[('fm','to')]}\n",
    "rt.tile([rt.chordDiagram(**params),\n",
    "         rt.chordDiagram(**params, count_by='ct'),\n",
    "         rt.chordDiagram(**params, count_by='ct', count_by_set=True)])"
   ]
  },
  {
   "cell_type": "code",
   "execution_count": null,
   "metadata": {},
   "outputs": [],
   "source": [
    "df2 = pd.DataFrame({'x':['a',  'b',   'c',  'd'],\n",
    "                    'y':['b',  'a',   'd',  'c'],\n",
    "                    'z':[200,  200,   5,    8]})\n",
    "params = {'df':df2, 'relationships':[('x','y')]}\n",
    "rt.chordDiagram(**params, count_by='z')"
   ]
  },
  {
   "cell_type": "code",
   "execution_count": null,
   "metadata": {},
   "outputs": [],
   "source": []
  }
 ],
 "metadata": {
  "kernelspec": {
   "display_name": ".venv",
   "language": "python",
   "name": "python3"
  },
  "language_info": {
   "codemirror_mode": {
    "name": "ipython",
    "version": 3
   },
   "file_extension": ".py",
   "mimetype": "text/x-python",
   "name": "python",
   "nbconvert_exporter": "python",
   "pygments_lexer": "ipython3",
   "version": "3.11.6"
  }
 },
 "nbformat": 4,
 "nbformat_minor": 2
}
