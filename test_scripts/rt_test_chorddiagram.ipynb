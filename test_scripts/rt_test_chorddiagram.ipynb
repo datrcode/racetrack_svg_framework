{
 "cells": [
  {
   "cell_type": "code",
   "execution_count": null,
   "metadata": {},
   "outputs": [],
   "source": [
    "import pandas as pd\n",
    "import polars as pl\n",
    "import numpy as np\n",
    "import heapq\n",
    "import sys\n",
    "sys.path.insert(1, '../framework')\n",
    "from racetrack import *\n",
    "rt = RACETrack()"
   ]
  },
  {
   "cell_type": "code",
   "execution_count": null,
   "metadata": {},
   "outputs": [],
   "source": [
    "svgs, _node_gap_ = [], 40\n",
    "\n",
    "df = pd.DataFrame({'fm':['a'], 'to':['b']})\n",
    "svgs.append(rt.chordDiagram(df, [('fm','to')], node_gap=_node_gap_))\n",
    "df = pd.DataFrame({'fm':['a','a'], 'to':['b','c']})\n",
    "svgs.append(rt.chordDiagram(df, [('fm','to')], node_gap=_node_gap_))\n",
    "df = pd.DataFrame({'fm':['a','a','a'], 'to':['b','c','d']})\n",
    "svgs.append(rt.chordDiagram(df, [('fm','to')], node_gap=_node_gap_))\n",
    "\n",
    "df = pd.DataFrame({'fm':['a','c'], 'to':['b','d']})\n",
    "svgs.append(rt.chordDiagram(df, [('fm','to')], node_gap=_node_gap_))\n",
    "df = pd.DataFrame({'fm':['a','a','d','d'], 'to':['b','c','e','f']})\n",
    "svgs.append(rt.chordDiagram(df, [('fm','to')], node_gap=_node_gap_))\n",
    "df = pd.DataFrame({'fm':['a','a','a','x','x','x','x'], 'to':['b','c','d','r','s','t','u']})\n",
    "svgs.append(rt.chordDiagram(df, [('fm','to')], node_gap=_node_gap_))\n",
    "\n",
    "svgs.append(rt.chordDiagram(df, [('fm','to')], node_gap=_node_gap_, node_color='#ff0000', link_color='#ff0000'))\n",
    "svgs.append(rt.chordDiagram(df, [('fm','to')], node_gap=_node_gap_, link_arrow=None))\n",
    "svgs.append(rt.chordDiagram(df, [('fm','to')], node_gap=_node_gap_, link_arrow='sharp'))\n",
    "\n",
    "rt.table(svgs, per_row=3)"
   ]
  },
  {
   "cell_type": "code",
   "execution_count": null,
   "metadata": {},
   "outputs": [],
   "source": [
    "df = pd.DataFrame({'fm':['a',  'a',  'a',  'a',  'b',  'b',  'b',  'c',  'c',  'd',  'd',  'd', 'd'],\n",
    "                   'to':['b',  'c',  'd',  'b',  'a',  'b',  'c',  'a',  'b',  'c',  'a',  'b', 'd'],\n",
    "                   'ct':[10,   20,   5,    1,    20,   3,    5,    10,   15,   5,    10,   50,  20]})\n",
    "print(rt.dendrogramOrdering(df, 'fm', 'to', None, False))\n",
    "print(rt.dendrogramOrdering(df, 'fm', 'to', 'ct', False))\n",
    "print(rt.dendrogramOrdering(df, 'fm', 'to', 'ct', True))\n",
    "params = {'df':df, 'relationships':[('fm','to')]}\n",
    "rt.tile([rt.chordDiagram(**params),\n",
    "         rt.chordDiagram(**params, count_by='ct'),\n",
    "         rt.chordDiagram(**params, count_by='ct', count_by_set=True)])"
   ]
  },
  {
   "cell_type": "code",
   "execution_count": null,
   "metadata": {},
   "outputs": [],
   "source": [
    "svgs = []\n",
    "df2 = pd.DataFrame({'x':['a',  'b',   'c',  'd'],\n",
    "                    'y':['b',  'a',   'd',  'c'],\n",
    "                    'z':[200,  200,   5,    8]})\n",
    "params = {'df':df2, 'relationships':[('x','y')]}\n",
    "svgs.append(rt.chordDiagram(**params, count_by='z', node_h=10))\n",
    "\n",
    "df3 = pd.DataFrame({'sip':['1.2.3.4',  '1.2.3.4',   '5.6.7.8',  '1.1.1.1'],\n",
    "                    'dpt':[80,         80,          443,        443],\n",
    "                    'dip':['5.6.7.8',  '1.1.1.1',   '1.1.1.1',  '5.6.7.8'],\n",
    "                    'pkt':[200,  200,   5,    8]})\n",
    "params = {'df':df3, 'relationships':[('sip',['dip','dpt'])]}\n",
    "svgs.append(rt.chordDiagram(**params, count_by='pkt', node_h=10))\n",
    "\n",
    "df4 = pd.DataFrame({'x':['a',  'b',   'a',  'b', 'c'],\n",
    "                    'y':['a',  'a',   'b',  'b', 'c'],\n",
    "                    'z':[200,  200,   5,    8,   400]})\n",
    "params = {'df':df4, 'relationships':[('x','y')]}\n",
    "svgs.append(rt.chordDiagram(**params, count_by='z', node_h=10))\n",
    "rt.tile(svgs)"
   ]
  },
  {
   "cell_type": "code",
   "execution_count": null,
   "metadata": {},
   "outputs": [],
   "source": [
    "df5 = pd.DataFrame({'sip':['1.2.3.4',  '1.2.3.4',   '5.6.7.8',  '1.1.1.1'],\n",
    "                    'dpt':[80,         80,          443,        443],\n",
    "                    'dip':['5.6.7.8',  '1.1.1.1',   '1.1.1.1',  '5.6.7.8'],\n",
    "                    'pkt':[200,  200,   5,    8]})\n",
    "params = {'df':df5, 'relationships':[('sip',['dip','dpt'])]}\n",
    "svgs = []\n",
    "svgs.append(rt.chordDiagram(**params, count_by='pkt', node_h=10, color_by=None))\n",
    "svgs.append(rt.chordDiagram(**params, count_by='pkt', node_h=10, color_by='sip', link_color='vary'))\n",
    "svgs.append(rt.chordDiagram(**params, count_by='pkt', node_h=10, color_by='dpt', link_color='vary'))\n",
    "svgs.append(rt.chordDiagram(**params, count_by='pkt', node_h=10, color_by='dip', link_color='vary'))\n",
    "svgs.append(rt.chordDiagram(**params, count_by='pkt', node_h=10, color_by='pkt', link_color='vary'))\n",
    "rt.tile(svgs)"
   ]
  },
  {
   "cell_type": "code",
   "execution_count": null,
   "metadata": {},
   "outputs": [],
   "source": []
  }
 ],
 "metadata": {
  "kernelspec": {
   "display_name": ".venv",
   "language": "python",
   "name": "python3"
  },
  "language_info": {
   "codemirror_mode": {
    "name": "ipython",
    "version": 3
   },
   "file_extension": ".py",
   "mimetype": "text/x-python",
   "name": "python",
   "nbconvert_exporter": "python",
   "pygments_lexer": "ipython3",
   "version": "3.11.6"
  }
 },
 "nbformat": 4,
 "nbformat_minor": 2
}
