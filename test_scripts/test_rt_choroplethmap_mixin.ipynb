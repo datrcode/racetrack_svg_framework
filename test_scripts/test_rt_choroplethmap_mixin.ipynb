{
 "cells": [
  {
   "cell_type": "code",
   "execution_count": null,
   "id": "b7976327",
   "metadata": {},
   "outputs": [],
   "source": [
    "import polars as pl\n",
    "from shapely.geometry import Polygon\n",
    "import rtsvg\n",
    "rt = rtsvg.RACETrack()"
   ]
  },
  {
   "cell_type": "code",
   "execution_count": null,
   "id": "544b9ce2",
   "metadata": {},
   "outputs": [],
   "source": [
    "df = pl.DataFrame({'count':[1, 2, 3, 4, 1, 2, 3, 4], \n",
    "                   'shape':[0, 1, 2, 3, 0, 1, 2, 3]})\n",
    "\n",
    "shape_lu = {}\n",
    "x_orig, y_orig = 0.0, 0.0\n",
    "shape_lu[0] = Polygon([(x_orig,       y_orig),       (x_orig + 0.5, y_orig + 0.0), \n",
    "                       (x_orig + 0.5, y_orig + 0.5), (x_orig + 0.0, y_orig + 0.5)])\n",
    "x_orig, y_orig = 0.5, 0.0\n",
    "shape_lu[1] = Polygon([(x_orig,       y_orig),       (x_orig + 0.5, y_orig + 0.0), \n",
    "                      (x_orig + 0.5, y_orig + 0.5), (x_orig + 0.0, y_orig + 0.5)])\n",
    "x_orig, y_orig = 0.0, 0.5\n",
    "shape_lu[2] = Polygon([(x_orig,       y_orig),       (x_orig + 0.5, y_orig + 0.0), \n",
    "                       (x_orig + 0.5, y_orig + 0.5), (x_orig + 0.0, y_orig + 0.5)])\n",
    "x_orig, y_orig = 0.5, 0.5\n",
    "shape_lu[3] = Polygon([(x_orig,       y_orig),       (x_orig + 0.5, y_orig + 0.0), \n",
    "                       (x_orig + 0.5, y_orig + 0.5), (x_orig + 0.0, y_orig + 0.5)])\n",
    "x_orig, y_orig = -1.0, -1.0\n",
    "shape_lu[4] = Polygon([(x_orig,       y_orig),       (x_orig + 0.5, y_orig + 0.0), \n",
    "                       (x_orig + 0.5, y_orig + 0.5), (x_orig + 0.0, y_orig + 0.5)])\n",
    "\n",
    "tiles = []\n",
    "\n",
    "tiles.append(rt.choroplethMap(df, 'shape', shape_lu))\n",
    "tiles.append(rt.choroplethMap(df, 'shape', shape_lu, count_by='count'))\n",
    "tiles.append(rt.choroplethMap(df, 'shape', shape_lu, count_by='count', count_by_set=True))\n",
    "\n",
    "tiles.append(rt.choroplethMap(df, 'shape', shape_lu, bounds_from_all_shapes=False))\n",
    "tiles.append(rt.choroplethMap(df, 'shape', shape_lu, bounds_from_all_shapes=False, count_by='count'))\n",
    "tiles.append(rt.choroplethMap(df, 'shape', shape_lu, bounds_from_all_shapes=False, count_by='count', count_by_set=True))\n",
    "\n",
    "tiles.append(rt.choroplethMap(df, 'shape', shape_lu, draw_outlines=False))\n",
    "tiles.append(rt.choroplethMap(df, 'shape', shape_lu, draw_outlines=False, count_by='count'))\n",
    "tiles.append(rt.choroplethMap(df, 'shape', shape_lu, draw_outlines=False, count_by='count', count_by_set=True))\n",
    "\n",
    "tiles.append(rt.choroplethMap(df, 'shape', shape_lu, outline_all_shapes=False))\n",
    "tiles.append(rt.choroplethMap(df, 'shape', shape_lu, outline_all_shapes=False, count_by='count'))\n",
    "tiles.append(rt.choroplethMap(df, 'shape', shape_lu, outline_all_shapes=False, count_by='count', count_by_set=True))\n",
    "\n",
    "rt.table(tiles, per_row=3)"
   ]
  },
  {
   "cell_type": "code",
   "execution_count": null,
   "id": "e1b1fc0d",
   "metadata": {},
   "outputs": [],
   "source": [
    "help(rt.choroplethMap)"
   ]
  },
  {
   "cell_type": "code",
   "execution_count": null,
   "id": "93dd7b1b",
   "metadata": {},
   "outputs": [],
   "source": []
  }
 ],
 "metadata": {
  "kernelspec": {
   "display_name": ".venv (3.12.3)",
   "language": "python",
   "name": "python3"
  },
  "language_info": {
   "codemirror_mode": {
    "name": "ipython",
    "version": 3
   },
   "file_extension": ".py",
   "mimetype": "text/x-python",
   "name": "python",
   "nbconvert_exporter": "python",
   "pygments_lexer": "ipython3",
   "version": "3.12.3"
  }
 },
 "nbformat": 4,
 "nbformat_minor": 5
}
