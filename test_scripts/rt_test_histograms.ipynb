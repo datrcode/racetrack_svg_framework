{
 "cells": [
  {
   "cell_type": "code",
   "execution_count": null,
   "id": "cc5ec30b-60e9-4ac2-ae42-ca1281cc777f",
   "metadata": {},
   "outputs": [],
   "source": [
    "import pandas as pd\n",
    "\n",
    "import sys\n",
    "sys.path.insert(1, '../framework')\n",
    "\n",
    "from racetrack import *\n",
    "\n",
    "from IPython.display import Javascript, HTML, display\n",
    "%matplotlib inline"
   ]
  },
  {
   "cell_type": "code",
   "execution_count": null,
   "id": "87ad7aa2-8a86-4f06-8370-b91819774bec",
   "metadata": {},
   "outputs": [],
   "source": [
    "rt = RACETrack()"
   ]
  },
  {
   "cell_type": "code",
   "execution_count": null,
   "id": "0be3302e",
   "metadata": {},
   "outputs": [],
   "source": [
    "df = pd.DataFrame({'bin':['really long string goes here', 'short', 'ultra long string with lots and lots of text'], 'count':[100, 20, 5]})\n",
    "rt.displaySVG(rt.tile([rt.histogram(df, bin_by='bin', count_by='count',h=64,w=64),\n",
    "                       rt.histogram(df, bin_by='bin', count_by='count',h=64,w=96),\n",
    "                       rt.histogram(df, bin_by='bin', count_by='count',h=64,w=128),\n",
    "                       rt.histogram(df, bin_by='bin', count_by='count',h=64,w=256)]))"
   ]
  },
  {
   "cell_type": "code",
   "execution_count": null,
   "id": "666af6ac",
   "metadata": {},
   "outputs": [],
   "source": [
    "rt.displaySVGAsImage(rt.tile([rt.histogram(df, bin_by='bin', count_by='count',h=64,w=64),\n",
    "                              rt.histogram(df, bin_by='bin', count_by='count',h=64,w=96),\n",
    "                              rt.histogram(df, bin_by='bin', count_by='count',h=64,w=128),\n",
    "                              rt.histogram(df, bin_by='bin', count_by='count',h=64,w=256)]))"
   ]
  },
  {
   "cell_type": "code",
   "execution_count": null,
   "id": "9298b8d1-8058-4038-ae86-360cf008fe41",
   "metadata": {},
   "outputs": [],
   "source": [
    "df = pd.DataFrame({'pet':   ['dog',  'dog',   'dog',    'cat',    'cat'],\n",
    "                   'color': ['brown','yellow','yellow', 'yellow', 'gray'],\n",
    "                   'weight':[10,      20,     30,       5,         10]})\n",
    "display(HTML(rt.histogram(df=df,bin_by=['pet'],count_by='weight',color_by='color',h=60)))"
   ]
  },
  {
   "cell_type": "code",
   "execution_count": null,
   "id": "253e1947-b17b-4fce-8173-6bccd7422f1e",
   "metadata": {},
   "outputs": [],
   "source": [
    "df = pd.DataFrame({'first name':['mary',   'david',  'john',   'david',  'david', 'john',  'david',   'david',   'john'],\n",
    "                          'age':[50,       40,       30,       45,       20,      30,      50,        50,        30],\n",
    "                         'hair':['brown',  'brown',  'black',  'black',  'red',   'red',   'brown',   'brown',   'black'],\n",
    "                       'salary':[150000,   60000,    90000,    20000,    20000,   80000,   40000,     35000,     40000]})\n",
    "\n",
    "display(HTML(rt.histogram(df=df,bin_by=['first name'],count_by='hair',color_by='age',count_by_set=True,h=80)))"
   ]
  },
  {
   "cell_type": "code",
   "execution_count": null,
   "id": "8ad6365c",
   "metadata": {},
   "outputs": [],
   "source": [
    "display(HTML(rt.histogram(df=df,bin_by=['first name'],count_by='salary',color_by='first name',h=80)))"
   ]
  },
  {
   "cell_type": "code",
   "execution_count": null,
   "id": "22743af6",
   "metadata": {},
   "outputs": [],
   "source": [
    "rt.co_mgr.optimizeCategoricalColors(set(df['first name']))\n",
    "display(HTML(rt.histogram(df=df,bin_by=['first name'],count_by='salary',color_by='first name',h=80)))"
   ]
  },
  {
   "cell_type": "code",
   "execution_count": null,
   "id": "625f6f41-acd8-4c90-bb6d-f7f90bf5681f",
   "metadata": {},
   "outputs": [],
   "source": [
    "display(HTML(rt.histogram(df=df,bin_by=['first name'],count_by='hair',count_by_set=True,h=80)))"
   ]
  },
  {
   "cell_type": "code",
   "execution_count": null,
   "id": "728ba001-2ead-4f05-b316-8e6a45c3cc10",
   "metadata": {},
   "outputs": [],
   "source": [
    "display(HTML(rt.multiHistograms(df=df,bin_bys=list(df.columns),count_bys='salary',color_bys=list(df.columns),h=120)))"
   ]
  },
  {
   "cell_type": "code",
   "execution_count": null,
   "id": "19f4aad3-a51e-44c2-a263-dad2bdc26e38",
   "metadata": {},
   "outputs": [],
   "source": [
    "display(HTML(rt.multiHistograms(df=df,bin_bys=['first name','age','hair',['first name','age'],['first name','hair','age']],\n",
    "                                count_bys=[None,'salary',None],color_bys='age',h=120,w=160)))"
   ]
  },
  {
   "cell_type": "code",
   "execution_count": null,
   "id": "a36db975-e515-4191-8a8e-e055459c3b96",
   "metadata": {},
   "outputs": [],
   "source": [
    "display(HTML(rt.multiHistograms(df=df,bin_bys=['first name','age','hair'],color_bys=['first name','hair','salary'],h=100)))"
   ]
  },
  {
   "cell_type": "code",
   "execution_count": null,
   "id": "4458ab81-a1e6-42d8-81ac-1875ec151256",
   "metadata": {},
   "outputs": [],
   "source": [
    "display(HTML(rt.multiHistograms(df=df,bin_bys=['first name','age','hair'],count_bys=['first name','hair','salary'],h=90)))"
   ]
  },
  {
   "cell_type": "code",
   "execution_count": null,
   "id": "e353b8f7-4a78-4073-b766-085abbcb25d7",
   "metadata": {},
   "outputs": [],
   "source": [
    "display(HTML(rt.histogram(df=df,bin_by='hair',count_by='hair',h=70)))"
   ]
  },
  {
   "cell_type": "code",
   "execution_count": null,
   "id": "29c8e17a-3b5c-4db1-845e-1f12224facb1",
   "metadata": {},
   "outputs": [],
   "source": [
    "display(HTML(rt.multiHistograms(df=df,bin_bys=list(df.columns),color_bys=list(df.columns),h=80)))"
   ]
  },
  {
   "cell_type": "code",
   "execution_count": null,
   "id": "c889e6bd-f586-4a56-948f-f6bd2a3320d0",
   "metadata": {},
   "outputs": [],
   "source": [
    "display(HTML(rt.multiHistograms(df=df,bin_bys=list(df.columns),color_bys=list(df.columns),h=80,bar_h=8,v_gap=1,draw_labels=False)))"
   ]
  },
  {
   "cell_type": "code",
   "execution_count": null,
   "id": "90b4bd86-aa03-4ab6-a907-516c34901bed",
   "metadata": {},
   "outputs": [],
   "source": [
    "display(HTML(rt.multiHistograms(df=df,bin_bys=['first name','age','salary',['first name','age'],['first name','hair','age']],\n",
    "                                count_bys='salary',color_bys='hair',h=120,w=160)))"
   ]
  },
  {
   "cell_type": "code",
   "execution_count": null,
   "id": "84183104-fd4e-481e-b7bb-92f4a12a3f39",
   "metadata": {},
   "outputs": [],
   "source": [
    "display(HTML(rt.multiHistograms(df=df,bin_bys=['first name','age','salary',['first name','age'],['first name','hair','age']],\n",
    "                                count_bys='salary',color_bys='salary',h=120,w=160)))"
   ]
  },
  {
   "cell_type": "code",
   "execution_count": null,
   "id": "ae5bcbb6-62a7-4d48-a2ab-e7b62dfdbb81",
   "metadata": {},
   "outputs": [],
   "source": [
    "display(HTML(rt.histogram(df=df,bin_by=['first name'],count_by='hair',color_by='hair',h=60)))"
   ]
  },
  {
   "cell_type": "code",
   "execution_count": null,
   "id": "7b2ae30e-4e46-4736-8603-412a349c2d98",
   "metadata": {},
   "outputs": [],
   "source": [
    "display(HTML(rt.histogram(df=df,bin_by=['first name'],count_by='hair',color_by='age',count_by_set=True,h=80)))"
   ]
  },
  {
   "cell_type": "code",
   "execution_count": null,
   "id": "82ca6a3f-cfac-4757-806f-efa73a30c6ec",
   "metadata": {},
   "outputs": [],
   "source": [
    "df        = pd.read_csv(\"../../data/netflow/netflow_sample.csv\")\n",
    "df['beg'] = df['beg'].astype('datetime64[s]')\n",
    "df        = df.rename({'beg':'timestamp'},axis=1)\n",
    "df.shape"
   ]
  },
  {
   "cell_type": "code",
   "execution_count": null,
   "id": "7919212d-f738-4fd2-bbd5-fcec6b726f3f",
   "metadata": {},
   "outputs": [],
   "source": [
    "display(HTML(rt.multiHistograms(df=df,bin_bys=[rt.createTField('timestamp','day_of_week'), \n",
    "                                               rt.createTField('timestamp','month'), \n",
    "                                               'dpt', \n",
    "                                               'sip'],color_bys=['dip', 'dpt'],h=240)))"
   ]
  },
  {
   "cell_type": "code",
   "execution_count": null,
   "id": "5c919663-2d6c-4cc9-a5ec-83e6e6b1aeb9",
   "metadata": {},
   "outputs": [],
   "source": [
    "display(HTML(rt.multiHistograms(df=df,bin_bys=[rt.createTField('timestamp','year_month_day'),\n",
    "                                               rt.createTField('timestamp','hour')],\n",
    "                                      count_bys=[None,'SBYT','SPKT','sip','dip'],color_bys='sip',h=100)))"
   ]
  },
  {
   "cell_type": "code",
   "execution_count": null,
   "id": "74c08ef9-5554-43bb-84b4-29c7259888d3",
   "metadata": {},
   "outputs": [],
   "source": [
    "display(HTML(rt.multiHistograms(df=df,\n",
    "  bin_bys=[ rt.createTField('timestamp','day_of_week'),\n",
    "            rt.createTField('timestamp','day_of_week_hour'),\n",
    "            rt.createTField('timestamp','year'),\n",
    "            rt.createTField('timestamp','month'),\n",
    "            rt.createTField('timestamp','year_month'),\n",
    "            rt.createTField('timestamp','year_month_day'),\n",
    "            rt.createTField('timestamp','day'),\n",
    "            rt.createTField('timestamp','day_of_year'),\n",
    "            rt.createTField('timestamp','hour'),\n",
    "            rt.createTField('timestamp','minute'),\n",
    "            rt.createTField('timestamp','second') ],                                \n",
    "  count_bys=[None, 'DPKT', 'SPKT', rt.createTField('timestamp','hour')],\n",
    "  color_bys='dip',\n",
    "  w=100,h=100)))"
   ]
  },
  {
   "cell_type": "code",
   "execution_count": null,
   "id": "40ed74a7-cb60-4275-bad2-280cdbc76225",
   "metadata": {},
   "outputs": [],
   "source": [
    "display(HTML(rt.multiHistograms(df=df,\n",
    "  bin_bys=[ rt.createTField('timestamp','day_of_week'),\n",
    "            rt.createTField('timestamp','day_of_week_hour'),\n",
    "            rt.createTField('timestamp','year'),\n",
    "            rt.createTField('timestamp','month'),\n",
    "            rt.createTField('timestamp','year_month'),\n",
    "            rt.createTField('timestamp','year_month_day'),\n",
    "            rt.createTField('timestamp','day'),\n",
    "            rt.createTField('timestamp','day_of_year'),\n",
    "            rt.createTField('timestamp','hour'),\n",
    "            rt.createTField('timestamp','minute')],                                \n",
    "  count_bys=None,\n",
    "  color_bys=None,\n",
    "  h=120)))"
   ]
  },
  {
   "cell_type": "code",
   "execution_count": null,
   "id": "ab096eaa-44f6-4a77-8748-c4614c2ba0a3",
   "metadata": {},
   "outputs": [],
   "source": [
    "df9 = pd.DataFrame({'timestamp':['2021-01-01 13:23:12','2021-01-01 01:33:21','2021-01-03','2021-01-04','2022-06-08 23:01:02','2023-12-31 13:02:02'],\n",
    "                   'count1':   [1,                    2,                    3,           4,           5,                    2],\n",
    "                   'count2':   [10,                   3,                    3,           4,           5,                    2],\n",
    "                   'count3':   [5,                    4,                    3,           4,           5,                    2],\n",
    "                   'count4':   [8,                    5,                    3,           4,           5,                    2],\n",
    "                   'count5':   [20,                   6,                    3,           4,           5,                    2]})\n",
    "df9['timestamp'] = df9['timestamp'].astype(np.datetime64)\n",
    "df9"
   ]
  },
  {
   "cell_type": "code",
   "execution_count": null,
   "id": "8436fb3c-5d5d-4f6f-9c42-d6035bef6f73",
   "metadata": {},
   "outputs": [],
   "source": [
    "display(HTML(rt.multiHistograms(df=df9,\n",
    "  bin_bys=[ rt.createTField('timestamp','day_of_week'),\n",
    "            rt.createTField('timestamp','day_of_week_hour'),\n",
    "            rt.createTField('timestamp','year'),\n",
    "            rt.createTField('timestamp','month'),\n",
    "            rt.createTField('timestamp','year_month'),\n",
    "            rt.createTField('timestamp','year_month_day'),\n",
    "            rt.createTField('timestamp','day'),\n",
    "            rt.createTField('timestamp','day_of_year'),\n",
    "            rt.createTField('timestamp','hour'),\n",
    "            rt.createTField('timestamp','minute'),\n",
    "            rt.createTField('timestamp','second') ],                                \n",
    "  count_bys=['count1','count2','count3','count4','count5'],\n",
    "  color_bys=rt.createTField('timestamp','day_of_week'),\n",
    "  w=200,h=200,bar_h=14,draw_labels=True)))"
   ]
  },
  {
   "cell_type": "code",
   "execution_count": null,
   "id": "1362e0b6-13b1-4a55-88b7-2974b66ff5ea",
   "metadata": {},
   "outputs": [],
   "source": [
    "rt.histogramRequiredFields(df=df,bin_by=['first name','age','hair','something_more'],count_by='test',color_by='whatever',h=90)"
   ]
  },
  {
   "cell_type": "code",
   "execution_count": null,
   "id": "61522603",
   "metadata": {},
   "outputs": [],
   "source": [
    "display(HTML(rt.histogram(df, bin_by=rt.createTField('SBYT','log_bins'), count_by='SBYT', color_by=rt.createTField('SBYT','log_bins'))))"
   ]
  },
  {
   "cell_type": "code",
   "execution_count": null,
   "id": "64e818ea",
   "metadata": {},
   "outputs": [],
   "source": [
    "display(HTML(rt.histogram(df, bin_by='sip', count_by='SBYT', color_by=rt.createTField('SBYT','log_bins'), w=768, h=384)))"
   ]
  },
  {
   "cell_type": "code",
   "execution_count": null,
   "id": "98b8d45f",
   "metadata": {},
   "outputs": [],
   "source": []
  }
 ],
 "metadata": {
  "kernelspec": {
   "display_name": "Python 3",
   "language": "python",
   "name": "python3"
  },
  "language_info": {
   "codemirror_mode": {
    "name": "ipython",
    "version": 3
   },
   "file_extension": ".py",
   "mimetype": "text/x-python",
   "name": "python",
   "nbconvert_exporter": "python",
   "pygments_lexer": "ipython3",
   "version": "3.10.6"
  },
  "vscode": {
   "interpreter": {
    "hash": "677ca678853aa41fc137f4b55f2bc0c694e45735c0d2faa667d2ec5acb71e67d"
   }
  }
 },
 "nbformat": 4,
 "nbformat_minor": 5
}
