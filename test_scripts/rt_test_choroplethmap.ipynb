{
 "cells": [
  {
   "cell_type": "code",
   "execution_count": null,
   "id": "cc5ec30b-60e9-4ac2-ae42-ca1281cc777f",
   "metadata": {},
   "outputs": [],
   "source": [
    "import pandas as pd\n",
    "import polars as pl\n",
    "import numpy as np\n",
    "from shapely.geometry import Polygon,LineString\n",
    "import sys\n",
    "sys.path.insert(1, '../framework')\n",
    "from racetrack import *\n",
    "rt = RACETrack()"
   ]
  },
  {
   "cell_type": "code",
   "execution_count": null,
   "id": "608ce8eb",
   "metadata": {},
   "outputs": [],
   "source": [
    "polys    = {}\n",
    "polys[0] = Polygon([(0,  0), ( 0,10), (10,10), (10, 0)])\n",
    "polys[1] = Polygon([(0, 10), ( 0,20), (10,20), (10,10)])\n",
    "polys[2] = Polygon([(10, 0), (10,10), (20,10), (20, 0)])\n",
    "polys[3] = Polygon([(10,10), (10,20), (20,20), (20,10)])\n",
    "polys[4] = Polygon([(22, 5),(20, 10), (24, 10)])\n",
    "df = pd.DataFrame({'loc':[0, 1, 2, 3], 'num':[10,20,30,10]})\n",
    "df_pl = pl.DataFrame(df)\n",
    "rt.tile([rt.choroplethMap(df,    'loc', polys, count_by='num'),\n",
    "         rt.choroplethMap(df_pl, 'loc', polys, count_by='num')])"
   ]
  },
  {
   "cell_type": "code",
   "execution_count": null,
   "id": "f219cb52",
   "metadata": {},
   "outputs": [],
   "source": []
  }
 ],
 "metadata": {
  "kernelspec": {
   "display_name": "Python 3",
   "language": "python",
   "name": "python3"
  },
  "language_info": {
   "codemirror_mode": {
    "name": "ipython",
    "version": 3
   },
   "file_extension": ".py",
   "mimetype": "text/x-python",
   "name": "python",
   "nbconvert_exporter": "python",
   "pygments_lexer": "ipython3",
   "version": "3.11.7"
  },
  "vscode": {
   "interpreter": {
    "hash": "677ca678853aa41fc137f4b55f2bc0c694e45735c0d2faa667d2ec5acb71e67d"
   }
  }
 },
 "nbformat": 4,
 "nbformat_minor": 5
}
