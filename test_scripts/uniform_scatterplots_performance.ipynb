{
 "cells": [
  {
   "cell_type": "code",
   "execution_count": null,
   "id": "81e77775",
   "metadata": {},
   "outputs": [],
   "source": [
    "#\n",
    "#\n",
    "# H. Rave, V. Molchanov and L. Linsen, \"Uniform Sample Distribution in Scatterplots via Sector-based Transformation,\" \n",
    "# 2024 IEEE Visualization and Visual Analytics (VIS), St. Pete Beach, FL, USA, 2024, pp. 156-160, \n",
    "# doi: 10.1109/VIS55277.2024.00039. \n",
    "# keywords: {Data analysis;Visual analytics;Clutter;Scatterplot de-cluttering;spatial transformation},\n",
    "#\n",
    "import polars as pl\n",
    "import numpy as np\n",
    "from math import cos, sin, pi, sqrt, atan2\n",
    "from   udist_scatterplots_via_sectors          import UDistScatterPlotsViaSectors\n",
    "from   udist_scatterplots_via_sectors_tile_opt import UDistScatterPlotsViaSectorsTileOpt\n",
    "import time\n",
    "import copy\n",
    "import rtsvg\n",
    "rt = rtsvg.RACETrack()\n",
    "import random"
   ]
  },
  {
   "cell_type": "code",
   "execution_count": null,
   "id": "df58117b",
   "metadata": {},
   "outputs": [],
   "source": [
    "_pts_ = [(1_000, 2_000, 500),\n",
    "         (  100,   200,  50),\n",
    "         (8_000,   100, 400)]\n",
    "_its_ = [4, 16, 32]\n",
    "\n",
    "#_pts_ = [(1_000, 2_000, 500)]\n",
    "#_its_ = [4]\n",
    "\n",
    "perfs = {}\n",
    "\n",
    "for num_of_pts in _pts_:\n",
    "    circle_geoms = [(5,5,1),(20,10,2),(8,8,1)]\n",
    "    colors       = ['#ff0000','#006400','#0000ff']\n",
    "    _xvals_, _yvals_, _weights_, _colors_ = [12.0], [8.0], [1.0], ['#000000']\n",
    "    for i in range(len(num_of_pts)):\n",
    "        for j in range(num_of_pts[i]):\n",
    "            a, l = random.random() * 2 * pi, random.random() * circle_geoms[i][2]\n",
    "            x, y = circle_geoms[i][0] + l * cos(a), circle_geoms[i][1] + l * sin(a)\n",
    "            _xvals_.append(x), _yvals_.append(y), _weights_.append(1.0), _colors_.append(colors[i])\n",
    "    for _iterations_ in _its_:\n",
    "        t0a = time.time()\n",
    "        udspvs          = UDistScatterPlotsViaSectors       (_xvals_, _yvals_, iterations=_iterations_)\n",
    "        t0b = time.time()\n",
    "\n",
    "        k        = ('polars', num_of_pts, len(_xvals_), _iterations_, t0b-t0a)\n",
    "        perfs[k] = copy.deepcopy(udspvs.time_lu)\n",
    "\n",
    "        for _num_of_tiles_ in [16, 32, 64, 128, 256]:\n",
    "            t1a = time.time()\n",
    "            udspvs_tile_opt = UDistScatterPlotsViaSectorsTileOpt(_xvals_, _yvals_, iterations=_iterations_, num_of_tiles=_num_of_tiles_)\n",
    "            t1b = time.time()\n",
    "\n",
    "            k        = ('tile_opt', num_of_pts, len(_xvals_), _iterations_, t0b-t0a, _num_of_tiles_)\n",
    "            perfs[k] = copy.deepcopy(udspvs_tile_opt.time_lu)\n",
    "\n",
    "            print(f'{len(_xvals_):>5} Pts | {_iterations_:>3} Iters | {t0b-t0a:.2f}s Polars | {t1b-t1a:.2f}s Tile Opt ({_num_of_tiles_})')"
   ]
  },
  {
   "cell_type": "code",
   "execution_count": null,
   "id": "f9fa89f6",
   "metadata": {},
   "outputs": [],
   "source": []
  }
 ],
 "metadata": {
  "kernelspec": {
   "display_name": ".venv",
   "language": "python",
   "name": "python3"
  },
  "language_info": {
   "codemirror_mode": {
    "name": "ipython",
    "version": 3
   },
   "file_extension": ".py",
   "mimetype": "text/x-python",
   "name": "python",
   "nbconvert_exporter": "python",
   "pygments_lexer": "ipython3",
   "version": "3.12.3"
  }
 },
 "nbformat": 4,
 "nbformat_minor": 5
}
