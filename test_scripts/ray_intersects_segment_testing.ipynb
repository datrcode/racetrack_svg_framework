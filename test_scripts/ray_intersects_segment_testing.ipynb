{
 "cells": [
  {
   "cell_type": "code",
   "execution_count": null,
   "id": "057b829b",
   "metadata": {},
   "outputs": [],
   "source": [
    "import random\n",
    "import rtsvg\n",
    "rt = rtsvg.RACETrack()\n",
    "#_svg_ = rt.rayIntersectsSegmentSVG((0.7,0),(0.9,0.8),(1,0),(0.8,0.8))\n",
    "#rt.tile([_svg_]) "
   ]
  },
  {
   "cell_type": "code",
   "execution_count": null,
   "id": "850af894",
   "metadata": {},
   "outputs": [],
   "source": [
    "x = lambda: random.uniform(-1.0, 1.0)\n",
    "_tiles_ = []\n",
    "for i in range(32): _tiles_.append(rt.rayIntersectsSegmentSVG((x(),x()),(x(),x()),(x(),x()),(x(),x()), w=128, h=128))\n",
    "rt.table(_tiles_, per_row=16, spacer=10)"
   ]
  },
  {
   "cell_type": "code",
   "execution_count": null,
   "id": "e30e3e72",
   "metadata": {},
   "outputs": [],
   "source": [
    "# Works reliably when using p0 as the end point\n",
    "_tiles_ = []\n",
    "for i in range(64):\n",
    "    _xy_       = (x(),x())\n",
    "    _p0_, _p1_ = (x(),x()), (x(),x())\n",
    "    _uv_       = (_p0_[0]-_xy_[0], _p0_[1]-_xy_[1])\n",
    "    _tiles_.append(rt.rayIntersectsSegmentSVG(_xy_,_uv_,_p0_, _p1_, w=128, h=128))\n",
    "rt.table(_tiles_, per_row=16, spacer=10)"
   ]
  },
  {
   "cell_type": "code",
   "execution_count": null,
   "id": "4a1b4d5d",
   "metadata": {},
   "outputs": [],
   "source": [
    "# Fails intermitently when using p1 as the end point\n",
    "_tiles_ = []\n",
    "for i in range(64):\n",
    "    _xy_       = (x(),x())\n",
    "    _p0_, _p1_ = (x(),x()), (x(),x())\n",
    "    _uv_       = (_p1_[0]-_xy_[0], _p1_[1]-_xy_[1])\n",
    "    _tiles_.append(rt.rayIntersectsSegmentSVG(_xy_,_uv_,_p0_, _p1_, w=128, h=128))\n",
    "rt.table(_tiles_, per_row=16, spacer=10)"
   ]
  },
  {
   "cell_type": "code",
   "execution_count": null,
   "id": "a6a36e16",
   "metadata": {},
   "outputs": [],
   "source": []
  }
 ],
 "metadata": {
  "kernelspec": {
   "display_name": ".venv",
   "language": "python",
   "name": "python3"
  },
  "language_info": {
   "codemirror_mode": {
    "name": "ipython",
    "version": 3
   },
   "file_extension": ".py",
   "mimetype": "text/x-python",
   "name": "python",
   "nbconvert_exporter": "python",
   "pygments_lexer": "ipython3",
   "version": "3.13.3"
  }
 },
 "nbformat": 4,
 "nbformat_minor": 5
}
