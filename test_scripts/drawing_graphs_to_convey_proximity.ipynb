{
 "cells": [
  {
   "cell_type": "code",
   "execution_count": null,
   "id": "d3aaeda4",
   "metadata": {},
   "outputs": [],
   "source": [
    "#\n",
    "# Prototyping parts of the following:\n",
    "#\n",
    "# Drawing Graphs to Convey Proximity: An Incremental Arrangement Method\n",
    "# J.D. Cohen\n",
    "# ACM Transactions on Computer-Human Interaction, Vol. 4, No. 3, September 1997, Pages 197–229.\n",
    "#\n",
    "import polars as pl\n",
    "import networkx as nx\n",
    "\n",
    "from math import log10\n",
    "import time\n",
    "import rtsvg\n",
    "from rtsvg.polars_force_directed_layout import PolarsForceDirectedLayout\n",
    "rt = rtsvg.RACETrack()\n",
    "\n",
    "from linknode_graph_patterns import LinkNodeGraphPatterns\n",
    "_patterns_ = LinkNodeGraphPatterns()\n",
    "\n",
    "def graphAsDataFrame(_g_):\n",
    "    _lu_ = {'fm':[], 'to':[]}\n",
    "    for _e_ in _g_.edges: _lu_['fm'].append(_e_[0]), _lu_['to'].append(_e_[1])\n",
    "    return pl.DataFrame(_lu_)\n",
    "\n",
    "#\n",
    "# Attempting to match Figure 1 from \"Drawing Graphs To Convey Proximity\"\n",
    "# - looks like i don't do enough iterations for proportional or semi-proportional\n",
    "# - absolute stress looks like the papers version\n",
    "#\n",
    "_tiles_ = []\n",
    "g       = _patterns_.createPattern('X')\n",
    "df      = graphAsDataFrame(g)\n",
    "for k in range(3):\n",
    "    _lu_ = {'iteration':[], 'stress':[], 'trial':[], 'time':[]}\n",
    "    for _trial_ in range(10):\n",
    "        t0    = time.time()\n",
    "        pfdl  = rtsvg.PolarsForceDirectedLayout(g, k=k)\n",
    "        t1    = time.time()\n",
    "        _vec_ = pfdl.stressVector()\n",
    "        for i in range(len(_vec_)):\n",
    "            _lu_['iteration'].append(i), _lu_['stress'].append(log10(_vec_[i])), _lu_['trial'].append(_trial_), _lu_['time'].append(t1-t0)\n",
    "    df_stress = pl.DataFrame(_lu_)\n",
    "    _tiles_.append(rt.titleSVG(rt.xy(df_stress, x_field='iteration', y_field='stress', line_groupby_field='trial', dot_size=None), f'k={k}'))\n",
    "rt.tile(_tiles_, spacer=10)"
   ]
  },
  {
   "cell_type": "code",
   "execution_count": null,
   "id": "77d75332",
   "metadata": {},
   "outputs": [],
   "source": []
  }
 ],
 "metadata": {
  "kernelspec": {
   "display_name": ".venv (3.13.7)",
   "language": "python",
   "name": "python3"
  },
  "language_info": {
   "codemirror_mode": {
    "name": "ipython",
    "version": 3
   },
   "file_extension": ".py",
   "mimetype": "text/x-python",
   "name": "python",
   "nbconvert_exporter": "python",
   "pygments_lexer": "ipython3",
   "version": "3.13.7"
  }
 },
 "nbformat": 4,
 "nbformat_minor": 5
}
