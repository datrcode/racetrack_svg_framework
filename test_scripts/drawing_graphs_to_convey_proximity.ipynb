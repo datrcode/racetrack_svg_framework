{
 "cells": [
  {
   "cell_type": "code",
   "execution_count": null,
   "id": "d3aaeda4",
   "metadata": {},
   "outputs": [],
   "source": [
    "#\n",
    "# Prototyping parts of the following:\n",
    "#\n",
    "# Drawing Graphs to Convey Proximity: An Incremental Arrangement Method\n",
    "# J.D. Cohen\n",
    "# ACM Transactions on Computer-Human Interaction, Vol. 4, No. 3, September 1997, Pages 197–229.\n",
    "#\n",
    "import polars as pl\n",
    "import networkx as nx\n",
    "import numpy as np\n",
    "\n",
    "from math import log10, ceil\n",
    "import random\n",
    "import time\n",
    "import rtsvg\n",
    "from rtsvg.polars_force_directed_layout import PolarsForceDirectedLayout\n",
    "rt = rtsvg.RACETrack()\n",
    "\n",
    "from linknode_graph_patterns import LinkNodeGraphPatterns\n",
    "_patterns_ = LinkNodeGraphPatterns()\n",
    "\n",
    "from convey_proximity_layout import ConveyProximityLayout\n",
    "\n",
    "def graphAsDataFrame(_g_):\n",
    "    _lu_ = {'fm':[], 'to':[]}\n",
    "    for _e_ in _g_.edges: _lu_['fm'].append(_e_[0]), _lu_['to'].append(_e_[1])\n",
    "    return pl.DataFrame(_lu_)\n",
    "\n",
    "#\n",
    "# Attempting to match Figure 1 from \"Drawing Graphs To Convey Proximity\"\n",
    "# - looks like i don't do enough iterations for proportional or semi-proportional\n",
    "# - absolute stress looks like the papers version\n",
    "#\n",
    "_tiles_ = []\n",
    "g       = _patterns_.createPattern('X')\n",
    "df      = graphAsDataFrame(g)\n",
    "for k in range(3):\n",
    "    _lu_ = {'iteration':[], 'stress':[], 'trial':[], 'time':[]}\n",
    "    for _trial_ in range(1): # should be 15 to 25\n",
    "        t0    = time.time()\n",
    "        pfdl  = rtsvg.PolarsForceDirectedLayout(g, k=k)\n",
    "        t1    = time.time()\n",
    "        _vec_ = pfdl.stressVector()\n",
    "        for i in range(len(_vec_)):\n",
    "            _lu_['iteration'].append(i), _lu_['stress'].append(log10(_vec_[i])), _lu_['trial'].append(_trial_), _lu_['time'].append(t1-t0)\n",
    "    df_stress = pl.DataFrame(_lu_)\n",
    "    _tiles_.append(rt.titleSVG(rt.xy(df_stress, x_field='iteration', y_field='stress', line_groupby_field='trial', dot_size=None), f'k={k}'))\n",
    "#rt.tile(_tiles_, spacer=10) # uncomment to display"
   ]
  },
  {
   "cell_type": "code",
   "execution_count": null,
   "id": "77d75332",
   "metadata": {},
   "outputs": [],
   "source": [
    "_tiles_, _cpls_ = [], []\n",
    "for i in range(len(_patterns_)):\n",
    "    _pattern_ = _patterns_[i]\n",
    "    g         = _patterns_.createPattern(_pattern_)\n",
    "    df        = graphAsDataFrame(g)\n",
    "    t0 = time.time()\n",
    "    _link_ = rt.link(df, [('fm','to')], rtsvg.PolarsForceDirectedLayout(g,k=0.0).results())\n",
    "    t1 = time.time()\n",
    "    _tiles_.append(rt.titleSVG(_link_, f'PFDL : {t1-t0:0.2f}s'))\n",
    "    t0 = time.time()\n",
    "    _link_ = rt.link(df, [('fm','to')], rtsvg.PolarsSpringLayout(g).results())\n",
    "    t1 = time.time()\n",
    "    _tiles_.append(rt.titleSVG(_link_, f'PSL : {t1-t0:0.2f}s'))\n",
    "    for k in range(3):\n",
    "        t0 = time.time()\n",
    "        _cpls_.append(ConveyProximityLayout(g, k=k))\n",
    "        _link_ = rt.link(df, [('fm','to')], _cpls_[-1].results())\n",
    "        t1 = time.time()\n",
    "        _tiles_.append(rt.titleSVG(_link_, f'{k=} : {t1-t0:0.2f}s'))\n",
    "rt.table(_tiles_, per_row=5, spacer=10)"
   ]
  },
  {
   "cell_type": "code",
   "execution_count": null,
   "id": "8367942c",
   "metadata": {},
   "outputs": [],
   "source": [
    "_tiles_ = []\n",
    "for i in range(len(_cpls_)):\n",
    "    df_stress = _cpls_[i].stress_df.with_columns(pl.col('stress').log10().alias('stress_log10'))\n",
    "    _tiles_.append(rt.xy(df_stress, x_field='i_global', y_field='stress_log10', dot_size=None, line_groupby_field='trial_global', color_by='round', w=1280, h=256))\n",
    "#rt.tile(_tiles_, horz=False) # this fails everytime now...  bad values going into the xy component"
   ]
  },
  {
   "cell_type": "code",
   "execution_count": null,
   "id": "b9c9c08a",
   "metadata": {},
   "outputs": [],
   "source": []
  }
 ],
 "metadata": {
  "kernelspec": {
   "display_name": ".venv (3.12.3)",
   "language": "python",
   "name": "python3"
  },
  "language_info": {
   "codemirror_mode": {
    "name": "ipython",
    "version": 3
   },
   "file_extension": ".py",
   "mimetype": "text/x-python",
   "name": "python",
   "nbconvert_exporter": "python",
   "pygments_lexer": "ipython3",
   "version": "3.12.3"
  }
 },
 "nbformat": 4,
 "nbformat_minor": 5
}
