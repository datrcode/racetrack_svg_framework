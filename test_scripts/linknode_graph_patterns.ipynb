{
 "cells": [
  {
   "cell_type": "code",
   "execution_count": null,
   "id": "6cb6d609",
   "metadata": {},
   "outputs": [],
   "source": [
    "import polars as pl\n",
    "import networkx as nx\n",
    "import time\n",
    "import rtsvg\n",
    "from linknode_graph_patterns import LinkNodeGraphPatterns\n",
    "rt = rtsvg.RACETrack()\n",
    "def graphAsDataFrame(_g_):\n",
    "    _lu_ = {'fm':[], 'to':[]}\n",
    "    for _e_ in _g_.edges: _lu_['fm'].append(_e_[0]), _lu_['to'].append(_e_[1])\n",
    "    return pl.DataFrame(_lu_)\n",
    "_patterns_ = LinkNodeGraphPatterns()\n",
    "_tiles_    = []\n",
    "for _type_ in _patterns_.types:\n",
    "    g      = _patterns_.createPattern(_type_)\n",
    "    _lms_  = rt.identifyLandmarks(g)\n",
    "    _node_colors_ = {}\n",
    "    for _lm_ in _lms_[0]: _node_colors_[_lm_] = 'red'\n",
    "    df     = graphAsDataFrame(g)\n",
    "    params = {'df':df, 'relationships':[('fm','to')], 'w':256, 'h':256, 'node_size':'small', 'link_arrow':False, 'node_color':_node_colors_}\n",
    "    t0 = time.time()\n",
    "    pos_nx = nx.spring_layout(g)\n",
    "    t1 = time.time()\n",
    "    _tiles_.append(rt.addTitleToSVG(rt.link(pos=pos_nx,  **params), f'Spring (NX) {t1-t0:.2f}s'))\n",
    "\n",
    "    t0 = time.time()\n",
    "    pos_ref = rt.springLayout(g)\n",
    "    t1 = time.time()\n",
    "    _tiles_.append(rt.addTitleToSVG(rt.link(pos=pos_ref, **params), f'Spring (RT) {t1-t0:.2f}s'))\n",
    "    \n",
    "    t0 = time.time()\n",
    "    pos_psl = rtsvg.PolarsForceDirectedLayout(g, k=0).results()\n",
    "    t1 = time.time()\n",
    "    _tiles_.append(rt.addTitleToSVG(rt.link(pos=pos_psl, **params), f'Polar_K_0 (RT) {t1-t0:.2f}s'))\n",
    "                   \n",
    "    t0 = time.time()\n",
    "    pos_psl = rtsvg.PolarsForceDirectedLayout(g, k=1).results()\n",
    "    t1 = time.time()\n",
    "    _tiles_.append(rt.addTitleToSVG(rt.link(pos=pos_psl, **params), f'Polar_K_1 (RT) {t1-t0:.2f}s'))\n",
    "    \n",
    "    t0 = time.time()\n",
    "    pos_psl = rtsvg.PolarsForceDirectedLayout(g, k=2).results()\n",
    "    t1 = time.time()\n",
    "    _tiles_.append(rt.addTitleToSVG(rt.link(pos=pos_psl, **params), f'Polar_K_2 (RT) {t1-t0:.2f}s'))\n",
    "rt.table(_tiles_, per_row=5, spacer=10)"
   ]
  },
  {
   "cell_type": "code",
   "execution_count": null,
   "id": "801da2a2",
   "metadata": {},
   "outputs": [],
   "source": []
  }
 ],
 "metadata": {
  "kernelspec": {
   "display_name": ".venv (3.12.3)",
   "language": "python",
   "name": "python3"
  },
  "language_info": {
   "codemirror_mode": {
    "name": "ipython",
    "version": 3
   },
   "file_extension": ".py",
   "mimetype": "text/x-python",
   "name": "python",
   "nbconvert_exporter": "python",
   "pygments_lexer": "ipython3",
   "version": "3.12.3"
  }
 },
 "nbformat": 4,
 "nbformat_minor": 5
}
