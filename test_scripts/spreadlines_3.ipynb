{
 "cells": [
  {
   "cell_type": "code",
   "execution_count": null,
   "metadata": {},
   "outputs": [],
   "source": [
    "import polars as pl\n",
    "import pandas as pd\n",
    "import rtsvg\n",
    "rt = rtsvg.RACETrack()\n",
    "\n",
    "_lu_ = {'fm':[], 'to':[], 'ts':[]}\n",
    "def nodify(_fm_, _to_, _ts_):\n",
    "    _fm_split_, _to_split_ = _fm_.split(), _to_.split()\n",
    "    for i in range(len(_fm_split_)):\n",
    "        _lu_['fm'].append(_fm_split_[i]), _lu_['to'].append(_to_split_[i]), _lu_['ts'].append(_ts_)\n",
    "\n",
    "nodify('a b a b a b a b c d',\n",
    "       'b a b a b a c c d f',\n",
    "       '2021-05-06 00:08:00')\n",
    "\n",
    "nodify('a b a b a b a b c e',\n",
    "       'b a b a b a c c e f',\n",
    "       '2021-05-06 04:08:00')\n",
    "\n",
    "nodify('c d',\n",
    "       'd f',\n",
    "       '2021-05-06 08:30:00')\n",
    "\n",
    "df = pl.DataFrame(_lu_)\n",
    "df = rt.columnsAreTimestamps(df, 'ts')\n",
    "\n",
    "df_pd = pd.DataFrame(_lu_)\n",
    "df_pd = rt.columnsAreTimestamps(df_pd, 'ts')\n",
    "\n",
    "\n",
    "params = {'df':df, 'relationships':[('fm','to')], 'node_color':'node', 'every':'4h', 'h':256}\n",
    "sl0    =  rt.spreadLines(node_focus=['a', 'b', 'c'], **params)\n",
    "rt.tile([sl0], horz=False, spacer=10)"
   ]
  },
  {
   "cell_type": "code",
   "execution_count": null,
   "metadata": {},
   "outputs": [],
   "source": [
    "rt.annotateEntities(sl0, annotations=set(['f']))"
   ]
  },
  {
   "cell_type": "code",
   "execution_count": null,
   "metadata": {},
   "outputs": [],
   "source": [
    "sl0.entityPosition('f')[0]"
   ]
  },
  {
   "cell_type": "code",
   "execution_count": null,
   "metadata": {},
   "outputs": [],
   "source": [
    "rt.annotateEntities(rt.link(df, relationships=[('fm','to')]), annotations=set(['f']))"
   ]
  },
  {
   "cell_type": "code",
   "execution_count": null,
   "metadata": {},
   "outputs": [],
   "source": [
    "_ln_ = rt.linkNode(df, relationships=[('fm','to')])\n",
    "_ln_._repr_svg_()\n",
    "print(_ln_.node_coords['f'])\n",
    "print(_ln_.node_to_svg_markup)\n",
    "print(_ln_.entityPositions('f'))\n",
    "rt.annotateEntities(_ln_, annotations=set(['f']))"
   ]
  },
  {
   "cell_type": "code",
   "execution_count": null,
   "metadata": {},
   "outputs": [],
   "source": [
    "rt.linkNode(df, relationships=[('fm','to')], draw_labels=True)"
   ]
  },
  {
   "cell_type": "code",
   "execution_count": null,
   "metadata": {},
   "outputs": [],
   "source": [
    "rt.annotateEntities(rt.histogram(df, bin_by='to'), annotations=set(['a','f']))"
   ]
  },
  {
   "cell_type": "code",
   "execution_count": null,
   "metadata": {},
   "outputs": [],
   "source": [
    "_ln_ = rt.linkNode(df_pd, relationships=[('fm','to')])\n",
    "_ln_._repr_svg_()\n",
    "print(_ln_.node_coords['f'])\n",
    "print(_ln_.node_to_svg_markup)\n",
    "print(_ln_.entityPositions('f'))\n",
    "rt.annotateEntities(_ln_, annotations=set(['f']))"
   ]
  },
  {
   "cell_type": "code",
   "execution_count": null,
   "metadata": {},
   "outputs": [],
   "source": []
  }
 ],
 "metadata": {
  "kernelspec": {
   "display_name": ".venv",
   "language": "python",
   "name": "python3"
  },
  "language_info": {
   "codemirror_mode": {
    "name": "ipython",
    "version": 3
   },
   "file_extension": ".py",
   "mimetype": "text/x-python",
   "name": "python",
   "nbconvert_exporter": "python",
   "pygments_lexer": "ipython3",
   "version": "3.13.3"
  }
 },
 "nbformat": 4,
 "nbformat_minor": 2
}
