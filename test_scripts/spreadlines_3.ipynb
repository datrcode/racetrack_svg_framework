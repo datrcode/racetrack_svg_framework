{
 "cells": [
  {
   "cell_type": "code",
   "execution_count": null,
   "metadata": {},
   "outputs": [],
   "source": [
    "import polars as pl\n",
    "import pandas as pd\n",
    "import rtsvg\n",
    "rt = rtsvg.RACETrack()\n",
    "\n",
    "_lu_ = {'fm':[], 'to':[], 'ts':[]}\n",
    "def nodify(_fm_, _to_, _ts_):\n",
    "    _fm_split_, _to_split_ = _fm_.split(), _to_.split()\n",
    "    for i in range(len(_fm_split_)):\n",
    "        _lu_['fm'].append(_fm_split_[i]), _lu_['to'].append(_to_split_[i]), _lu_['ts'].append(_ts_)\n",
    "\n",
    "nodify('a b a b a b a b c d',\n",
    "       'b a b a b a c c d f',\n",
    "       '2021-05-06 00:08:00')\n",
    "\n",
    "nodify('a b a b a b a b c e',\n",
    "       'b a b a b a c c e f',\n",
    "       '2021-05-06 04:08:00')\n",
    "\n",
    "nodify('c d',\n",
    "       'd f',\n",
    "       '2021-05-06 08:30:00')\n",
    "\n",
    "df = pl.DataFrame(_lu_)\n",
    "df = rt.columnsAreTimestamps(df, 'ts')\n",
    "\n",
    "df_pd = pd.DataFrame(_lu_)\n",
    "df_pd = rt.columnsAreTimestamps(df_pd, 'ts')\n",
    "\n",
    "\n",
    "params = {'df':df, 'relationships':[('fm','to')], 'node_color':'node', 'every':'4h', 'h':256}\n",
    "sl0    =  rt.spreadLines(node_focus=['a', 'b', 'c'], **params)\n",
    "rt.tile([sl0], horz=False, spacer=10)"
   ]
  },
  {
   "cell_type": "code",
   "execution_count": null,
   "metadata": {},
   "outputs": [],
   "source": [
    "rt.annotateEntities(sl0, annotations=set(['a']))"
   ]
  },
  {
   "cell_type": "code",
   "execution_count": null,
   "metadata": {},
   "outputs": [],
   "source": [
    "_rtes_          = sl0.entityPositions('a')\n",
    "_repr_          = sl0._repr_svg_()\n",
    "_repr_wout_end_ = _repr_[:-6]\n",
    "for _rte_ in _rtes_:\n",
    "    _xy_            = _rte_.xy()\n",
    "    _sxy_           = sl0.worldXYToScreenXY(_xy_)\n",
    "    _repr_wout_end_ = _repr_wout_end_ + f'<circle cx=\"{_sxy_[0]}\" cy=\"{_sxy_[1]}\" r=\"{3.0}\" stroke=\"#ff0000\" stroke-width=\"1.25\" fill=\"none\"/>'\n",
    "rt.tile([_repr_wout_end_ + '</svg>'])"
   ]
  },
  {
   "cell_type": "code",
   "execution_count": null,
   "metadata": {},
   "outputs": [],
   "source": [
    "_xy_  = sl0.entityPositions('a')[0].xy()\n",
    "_sxy_ = sl0.worldXYToScreenXY(_xy_)\n",
    "_xy_, _sxy_, sl0.screenXYToWorldXY(_sxy_)"
   ]
  },
  {
   "cell_type": "code",
   "execution_count": null,
   "metadata": {},
   "outputs": [],
   "source": []
  }
 ],
 "metadata": {
  "kernelspec": {
   "display_name": ".venv",
   "language": "python",
   "name": "python3"
  },
  "language_info": {
   "codemirror_mode": {
    "name": "ipython",
    "version": 3
   },
   "file_extension": ".py",
   "mimetype": "text/x-python",
   "name": "python",
   "nbconvert_exporter": "python",
   "pygments_lexer": "ipython3",
   "version": "3.13.3"
  }
 },
 "nbformat": 4,
 "nbformat_minor": 2
}
