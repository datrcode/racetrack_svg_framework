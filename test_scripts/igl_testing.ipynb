{
 "cells": [
  {
   "cell_type": "code",
   "execution_count": null,
   "id": "3a5b0400",
   "metadata": {},
   "outputs": [],
   "source": [
    "import polars as pl\n",
    "import pandas as pd\n",
    "import rtsvg\n",
    "rt = rtsvg.RACETrack()\n",
    "_node_colors_ = {'a':'yellow', 'b':'blue', 'c':'yellow', 'd':'blue'}\n",
    "df = pl.DataFrame({'fm':'a b c d a e f g'.split(),\n",
    "                   'to':'b c d a d f g e'.split(),\n",
    "                   'gp':'a a a b b c c c'.split()})\n",
    "rt.co_mgr.str_to_color_lu['a'] = '#ff0000'\n",
    "rt.co_mgr.str_to_color_lu['b'] = '#00ff00'\n",
    "_relates_   = [('fm','to')]\n",
    "_pos_       = {'a':[0,0],'b':[1,0],'c':[1,1],'d':[0,1], 'g': (0.25, 0.68), 'e': (0.50, 0.35), 'f': (0.75, 0.68)}\n",
    "_ln_params_ = {'relationships':_relates_, 'pos':_pos_, 'color_by':'gp', 'node_color':_node_colors_, 'draw_labels':True}\n",
    "_l_  = rt.link    (df, track_state=True, **_ln_params_)\n",
    "_ln_ = rt.linkNode(df, track_state=True, **_ln_params_)\n",
    "_l_._repr_svg_(), _ln_._repr_svg_()\n",
    "#rt.tile([_l_, _ln_], spacer=10)\n",
    "_igl_       = rt.interactiveGraphLayout(df, _ln_params_, w=300, h=300)\n",
    "_igl_"
   ]
  },
  {
   "cell_type": "code",
   "execution_count": null,
   "id": "9ca97b85",
   "metadata": {},
   "outputs": [],
   "source": []
  }
 ],
 "metadata": {
  "kernelspec": {
   "display_name": ".venv",
   "language": "python",
   "name": "python3"
  },
  "language_info": {
   "codemirror_mode": {
    "name": "ipython",
    "version": 3
   },
   "file_extension": ".py",
   "mimetype": "text/x-python",
   "name": "python",
   "nbconvert_exporter": "python",
   "pygments_lexer": "ipython3",
   "version": "3.12.3"
  }
 },
 "nbformat": 4,
 "nbformat_minor": 5
}
