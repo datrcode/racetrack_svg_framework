{
 "cells": [
  {
   "cell_type": "code",
   "execution_count": null,
   "id": "3a5b0400",
   "metadata": {},
   "outputs": [],
   "source": [
    "import polars as pl\n",
    "import pandas as pd\n",
    "import networkx as nx\n",
    "import os\n",
    "import rtsvg\n",
    "rt = rtsvg.RACETrack()\n",
    "\n",
    "#\n",
    "# Select By Color doesn't work if there's a cloud with multiple\n",
    "# colors within it...  if the cloud is only single color, it works...\n",
    "#\n",
    "\n",
    "edges_filename  = '../../data/stanford/facebook/348.edges'\n",
    "layout_filename = '../../data/stanford/facebook/348.rt_layout.parquet'\n",
    "_lu_ = {'fm':[], 'to':[]}\n",
    "for _edge_ in open(edges_filename, 'rt').read().split('\\n'):\n",
    "    if _edge_ == '': continue\n",
    "    _split_     = _edge_.split()\n",
    "    _fm_, _to_  = int(_split_[0]), int(_split_[1])\n",
    "    _lu_['fm'].append(_fm_), _lu_['to'].append(_to_)\n",
    "df            = pl.DataFrame(_lu_)\n",
    "df            = df.with_columns(pl.col('fm').cast(pl.String), pl.col('to').cast(pl.String))\n",
    "g             = rt.createNetworkXGraph(df, [('fm','to')])\n",
    "_pos_         = nx.spring_layout(g)\n",
    "_relates_     = [('fm','to')]\n",
    "_node_colors_ = {}\n",
    "community_i   = 0\n",
    "for _community_ in nx.community.louvain_communities(g):\n",
    "    community_i += 1\n",
    "    for _node_ in _community_: _node_colors_[_node_] = rt.co_mgr.getColor(community_i)\n",
    "_ln_params_ = {'relationships':_relates_, 'pos':_pos_, 'color_by':'gp', 'node_color':_node_colors_, 'draw_labels':False}\n",
    "_l_  = rt.link    (df, track_state=True, **_ln_params_)\n",
    "_ln_ = rt.linkNode(df, track_state=True, **_ln_params_)\n",
    "_l_._repr_svg_(), _ln_._repr_svg_()\n",
    "#rt.tile([_l_, _ln_], spacer=10)\n",
    "_igl_       = rt.interactiveGraphLayout(df, _ln_params_, w=600, h=600)\n",
    "_igl_"
   ]
  },
  {
   "cell_type": "code",
   "execution_count": null,
   "id": "ba13c7ba",
   "metadata": {},
   "outputs": [],
   "source": []
  }
 ],
 "metadata": {
  "kernelspec": {
   "display_name": ".venv",
   "language": "python",
   "name": "python3"
  },
  "language_info": {
   "codemirror_mode": {
    "name": "ipython",
    "version": 3
   },
   "file_extension": ".py",
   "mimetype": "text/x-python",
   "name": "python",
   "nbconvert_exporter": "python",
   "pygments_lexer": "ipython3",
   "version": "3.12.3"
  }
 },
 "nbformat": 4,
 "nbformat_minor": 5
}
