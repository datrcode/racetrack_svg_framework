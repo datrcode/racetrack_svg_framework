{
 "cells": [
  {
   "cell_type": "code",
   "execution_count": null,
   "id": "5becd1c4-1970-499c-adcc-3deb8a2fb655",
   "metadata": {},
   "outputs": [],
   "source": [
    "import pandas as pd\n",
    "import polars as pl\n",
    "import numpy as np\n",
    "import sys\n",
    "sys.path.insert(1, '../framework')\n",
    "from racetrack import *\n",
    "import random\n",
    "rt = RACETrack()\n",
    "df = pd.DataFrame({'dt':['2021-01-01', '2021-01-01', '2021-01-02', '2021-01-03', '2021-01-03'],\n",
    "                   'no':[150,          50,           175,          75,           75],\n",
    "                   'x' :[1,            2,            2,            3,            5],\n",
    "                   'y' :[1,            2,            2,            5,            3],\n",
    "                   'co':['r',          'b',          'g',          'r',          'b']})\n",
    "df = rt.columnsAreTimestamps(df, 'dt')"
   ]
  },
  {
   "cell_type": "code",
   "execution_count": null,
   "metadata": {},
   "outputs": [],
   "source": [
    "params = {'x_field':'x', 'y_field':'y', 'count_by':'no', 'color_by':'co', \n",
    "          'sm_type':'temporalBarChart', 'sm_w':96, 'sm_h':80, 'sm_x_axis_independent':True,\n",
    "          'w':384, 'h':384, 'x_ins':32, 'y_ins':32}\n",
    "rt.tile([rt.xy(df,               **params), rt.xy(pl.DataFrame(df), **params)])"
   ]
  },
  {
   "cell_type": "code",
   "execution_count": null,
   "metadata": {},
   "outputs": [],
   "source": [
    "rt.tile([rt.smallMultiples(df,               category_by=['x','y'], sm_type='temporalBarChart', count_by='no', color_by='co', w_sm_override=96, h_sm_override=80, w=500),\n",
    "         rt.smallMultiples(pl.DataFrame(df), category_by=['x','y'], sm_type='temporalBarChart', count_by='no', color_by='co', w_sm_override=96, h_sm_override=80, w=500)])"
   ]
  },
  {
   "cell_type": "code",
   "execution_count": null,
   "metadata": {},
   "outputs": [],
   "source": []
  }
 ],
 "metadata": {
  "kernelspec": {
   "display_name": "Python 3",
   "language": "python",
   "name": "python3"
  },
  "language_info": {
   "codemirror_mode": {
    "name": "ipython",
    "version": 3
   },
   "file_extension": ".py",
   "mimetype": "text/x-python",
   "name": "python",
   "nbconvert_exporter": "python",
   "pygments_lexer": "ipython3",
   "version": "3.11.6"
  },
  "vscode": {
   "interpreter": {
    "hash": "677ca678853aa41fc137f4b55f2bc0c694e45735c0d2faa667d2ec5acb71e67d"
   }
  }
 },
 "nbformat": 4,
 "nbformat_minor": 5
}
