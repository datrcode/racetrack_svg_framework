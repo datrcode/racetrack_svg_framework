{
 "cells": [
  {
   "cell_type": "code",
   "execution_count": null,
   "metadata": {},
   "outputs": [],
   "source": [
    "import polars as pl\n",
    "import numpy as np\n",
    "import networkx as nx\n",
    "import random\n",
    "from math import cos, sin, pi ,sqrt\n",
    "import rtsvg\n",
    "rt  = rtsvg.RACETrack()\n",
    "\n",
    "circles = [(25,25,20),(80,80,30),(20,100,10),(25,60,5),(60,30,5),(48,48,6),(40,90,6)]\n",
    "\n",
    "svg_header = ['<svg x=\"0\" y=\"0\" viewBox=\"0 0 128 128\" width=\"512\" height=\"512\">']\n",
    "svg_header.append(f'<rect x=\"0\" y=\"0\" width=\"128\" height=\"128\" fill=\"#ffffff\" />')\n",
    "svg_circles = []\n",
    "for i in range(len(circles)):\n",
    "    cx,cy,r = circles[i]\n",
    "    _color_ = rt.co_mgr.getColor(i)\n",
    "    svg_circles.append(f'<circle cx=\"{cx}\" cy=\"{cy}\" r=\"{r}\" stroke=\"{_color_}\" fill=\"none\" />')\n",
    "    svg_circles.append(f'<circle cx=\"{cx}\" cy=\"{cy}\" r=\"0.2\" stroke=\"#000000\" fill=\"#000000\" />')\n",
    "    svg_circles.append(rt.svgText(str(i), cx, cy-1, 4, anchor='middle'))\n",
    "svg_footer = ['</svg>']\n",
    "rt.tile([''.join(svg_header) + ''.join(svg_circles) + ''.join(svg_footer)])"
   ]
  },
  {
   "cell_type": "code",
   "execution_count": 2,
   "metadata": {},
   "outputs": [],
   "source": [
    "#\n",
    "# Point Version\n",
    "#\n",
    "svg = ['<svg x=\"0\" y=\"0\" viewBox=\"0 0 128 128\" width=\"512\" height=\"512\">']\n",
    "svg.append(f'<rect x=\"0\" y=\"0\" width=\"128\" height=\"128\" fill=\"#ffffff\" />')\n",
    "cells   = rt.isedgarVoronoi(circles, [(0,0), (0,128), (128,128), (128,0)], use_circle_radius=False)\n",
    "#svg.append('<rect x=\"23\" y=\"60\" width=\"10\" height=\"10\" fill=\"none\" stroke=\"#000000\" stroke-width=\"0.5\" />')\n",
    "def distanceToCircle(_xy_, i):\n",
    "    return sqrt((circles[i][0]-_xy_[0])**2 + (circles[i][1]-_xy_[1])**2)\n",
    "for box in [(0,128,0,128)]:\n",
    "    x_l, x_r, y_t, y_b = box\n",
    "    for x in range(x_l, x_r):\n",
    "        for y in range(y_t, y_b):\n",
    "            closest_circle_i = 0\n",
    "            closest_d        = distanceToCircle((x,y), 0)\n",
    "            for i in range(1, len(circles)):\n",
    "                d = distanceToCircle((x,y), i)\n",
    "                if d < closest_d:\n",
    "                    closest_d        = d\n",
    "                    closest_circle_i = i\n",
    "            #svg.append(f'<rect x=\"{x}\" y=\"{y}\" width=\"1\" height=\"1\" fill=\"{rt.co_mgr.getColor(closest_circle_i)}\" stroke=\"none\" stroke-width=\"0.5\" />')\n",
    "for cell in cells:\n",
    "    d = f'M {cell[0][0]} {cell[0][1]} '\n",
    "    for pt in cell[1:]: d += f'L {pt[0]} {pt[1]} '\n",
    "    d += 'Z'\n",
    "    _color_ = '#000000' # rt.co_mgr.getColor(str(cell))\n",
    "    svg.append(f'<path d=\"{d}\" fill=\"none\" stroke=\"{_color_}\" stroke-width=\"0.2\" />')\n",
    "for i in range(len(circles)):\n",
    "    cx,cy,r = circles[i]\n",
    "    _color_ = rt.co_mgr.getColor(i)\n",
    "    svg.append(f'<circle cx=\"{cx}\" cy=\"{cy}\" r=\"{r}\" stroke=\"#000000\" fill=\"none\" />')\n",
    "    svg.append(f'<circle cx=\"{cx}\" cy=\"{cy}\" r=\"1\" stroke=\"#000000\" fill=\"#000000\" />')\n",
    "svg.append('</svg>')\n",
    "#rt.tile([''.join(svg)]) # point version"
   ]
  },
  {
   "cell_type": "code",
   "execution_count": null,
   "metadata": {},
   "outputs": [],
   "source": [
    "#\n",
    "# Circle Version\n",
    "#\n",
    "cells   = rt.isedgarVoronoi(circles, [(0,0), (0,128), (128,128), (128,0)], use_circle_radius=True)\n",
    "def distanceToCircle(_xy_, i):\n",
    "    return sqrt((circles[i][0]-_xy_[0])**2 + (circles[i][1]-_xy_[1])**2) - circles[i][2]\n",
    "for box in [(0,128,0,128)]:\n",
    "    x_l, x_r, y_t, y_b = box\n",
    "    for x in range(x_l, x_r):\n",
    "        for y in range(y_t, y_b):\n",
    "            closest_circle_i = 0\n",
    "            closest_d        = distanceToCircle((x,y), 0)\n",
    "            for i in range(1, len(circles)):\n",
    "                d = distanceToCircle((x,y), i)\n",
    "                if d < closest_d:\n",
    "                    closest_d        = d\n",
    "                    closest_circle_i = i\n",
    "            #svg.append(f'<rect x=\"{x}\" y=\"{y}\" width=\"1\" height=\"1\" fill=\"{rt.co_mgr.getColor(closest_circle_i)}\" stroke=\"none\" stroke-width=\"0.5\" />')\n",
    "svg_voronoi = []\n",
    "for i in range(len(circles)):\n",
    "    cx,cy,r = circles[i]\n",
    "    _color_ = rt.co_mgr.getColor(i)\n",
    "    cell = cells[i]\n",
    "    d = f'M {cell[0][0]} {cell[0][1]} '\n",
    "    for pt in cell[1:]: d += f'L {pt[0]} {pt[1]} '\n",
    "    d += 'Z'\n",
    "    svg_voronoi.append(f'<path d=\"{d}\" fill=\"none\" stroke=\"{_color_}\" stroke-width=\"1\" />')\n",
    "    svg_voronoi.append(f'<path d=\"{d}\" fill=\"none\" stroke=\"#000000\" stroke-width=\"0.1\" />')\n",
    "rt.tile([''.join(svg_header) + ''.join(svg_circles) + ''.join(svg_voronoi) + ''.join(svg_footer)])"
   ]
  },
  {
   "cell_type": "code",
   "execution_count": null,
   "metadata": {},
   "outputs": [],
   "source": [
    "poly_connects = {'__fm__':[], '__to__':[]}\n",
    "for i in range(len(cells)):\n",
    "    cell_i = cells[i]\n",
    "    for j in range(len(cells)):\n",
    "        if j == i: continue\n",
    "        cell_j = cells[j]\n",
    "        for ic in range(len(cell_i)):\n",
    "            edge_i = (cell_i[ic],cell_i[(ic+1)%len(cell_i)])\n",
    "            for jc in range(len(cell_j)):\n",
    "                edge_j = (cell_j[jc],cell_j[(jc+1)%len(cell_j)])\n",
    "                if rt.segmentsOverlap(edge_i, edge_j, eps=0.1): ### !!! EPS HAD TO BE MODIFIED FOR THIS SCALE\n",
    "                    poly_connects['__fm__'].append(i), poly_connects['__to__'].append(j)\n",
    "df_poly_connects = pl.DataFrame(poly_connects)\n",
    "g_poly_connects  = rt.createNetworkXGraph(df_poly_connects, [('__fm__','__to__')])\n",
    "for _cycle_ in nx.simple_cycles(g_poly_connects, 4):\n",
    "    if len(_cycle_) == 4:\n",
    "        print(_cycle_) # [5, 1, 6, 3] is the one w/ the problem"
   ]
  },
  {
   "cell_type": "code",
   "execution_count": 5,
   "metadata": {},
   "outputs": [],
   "source": [
    "#pos = {}\n",
    "#for i in range(len(circles)): pos[i] = (circles[i][0], circles[i][1])\n",
    "#rt.link(df_poly_connects, [('__fm__','__to__')], pos, draw_labels=True)"
   ]
  },
  {
   "cell_type": "code",
   "execution_count": null,
   "metadata": {},
   "outputs": [],
   "source": []
  }
 ],
 "metadata": {
  "kernelspec": {
   "display_name": ".venv",
   "language": "python",
   "name": "python3"
  },
  "language_info": {
   "codemirror_mode": {
    "name": "ipython",
    "version": 3
   },
   "file_extension": ".py",
   "mimetype": "text/x-python",
   "name": "python",
   "nbconvert_exporter": "python",
   "pygments_lexer": "ipython3",
   "version": "3.12.3"
  }
 },
 "nbformat": 4,
 "nbformat_minor": 2
}
