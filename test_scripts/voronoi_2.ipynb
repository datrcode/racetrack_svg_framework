{
 "cells": [
  {
   "cell_type": "code",
   "execution_count": null,
   "metadata": {},
   "outputs": [],
   "source": [
    "import polars as pl\n",
    "import numpy as np\n",
    "import networkx as nx\n",
    "import random\n",
    "from math import cos, sin, pi ,sqrt\n",
    "import rtsvg\n",
    "rt  = rtsvg.RACETrack()\n",
    "circles = [(25.0,25.0,20.0),(80.0,80.0,30.0),(20.0,100.0,10.0),(25.0,60.0,5.0),(60.0,30.0,5.0),(48.0,48.0,6.0),(40.0,90.0,6.0)]\n",
    "cell_map, tri_list, V = rt.laguerreVoronoi2D(circles)\n",
    "x_min, y_min, x_max, y_max = 1e9, 1e9, -1e9, -1e9\n",
    "for _pair_ in V:\n",
    "    x,y = _pair_\n",
    "    x_min, x_max = min(x_min, x), max(x_max, x)\n",
    "    y_min, y_max = min(y_min, y), max(y_max, y)\n",
    "for i in range(len(circles)):\n",
    "    x,y,r = circles[i]\n",
    "    x_min, x_max = min(x_min, x-r), max(x_max, x+r)\n",
    "    y_min, y_max = min(y_min, y-r), max(y_max, y+r)\n",
    "print(f'x_min={x_min}, y_min={y_min}, x_max={x_max}, y_max={y_max}')\n",
    "_border_ = 10.0\n",
    "x_min, y_min, x_max, y_max = x_min - _border_, y_min - _border_, x_max + _border_, y_max + _border_\n",
    "#svg_hdr = f'<svg x=\"0\" y=\"0\" width=\"768\" height=\"768\" viewbox=\"{x_min} {y_min} {x_max-x_min} {y_max-y_min}\"><rect x=\"{x_min}\" y=\"{y_min}\" width=\"{x_max-x_min}\" height=\"{y_max-y_min}\" fill=\"white\" />'\n",
    "svg_hdr = f'<svg x=\"0\" y=\"0\" width=\"768\" height=\"768\" viewbox=\"0 0 128 128\"><rect x=\"0\" y=\"0\" width=\"128\" height=\"128\" fill=\"white\" />'\n",
    "svg_ftr = '</svg>'\n",
    "svg_circles = []\n",
    "for i in range(len(circles)):\n",
    "    svg_circles.append(f'<circle cx=\"{circles[i][0]}\" cy=\"{circles[i][1]}\" r=\"{circles[i][2]}\" fill=\"none\" stroke=\"{rt.co_mgr.getColor(i)}\" stroke-width=\"1.0\"/>')\n",
    "# rt.tile([svg_hdr + ''.join(svg_circles) + svg_ftr])"
   ]
  },
  {
   "cell_type": "code",
   "execution_count": null,
   "metadata": {},
   "outputs": [],
   "source": [
    "print(f'{len(V)=}')\n",
    "svg_v = []\n",
    "for _pair_ in V:\n",
    "    x,y = _pair_\n",
    "    svg_v.append(f'<circle cx=\"{x}\" cy=\"{y}\" r=\"0.5\" fill=\"#000000\" stroke=\"none\" />')\n",
    "\n",
    "svg_fmto = []\n",
    "for i in range(len(cell_map)):\n",
    "    for j in range(len(cell_map[i])):\n",
    "        fm_to = cell_map[i][j][0]\n",
    "        if fm_to[0] == -1 or fm_to[1] == -1:\n",
    "            if   fm_to[0] == -1:\n",
    "                _to_ = fm_to[1]\n",
    "                xy   = V[_to_]\n",
    "                uv   = cell_map[i][j][1][1]\n",
    "                l    = cell_map[i][j][1][3]\n",
    "            elif fm_to[1] == -1:\n",
    "                _fm_ = fm_to[0]\n",
    "                xy   = V[_fm_]\n",
    "                uv   = cell_map[i][j][1][1]\n",
    "                l    = cell_map[i][j][1][3]\n",
    "            if l is None: l = 100.0\n",
    "            svg_fmto.append(f'<line x1=\"{xy[0]}\" y1=\"{xy[1]}\" x2=\"{xy[0]+uv[0]*l}\" y2=\"{xy[1]+uv[1]*l}\" stroke=\"red\" stroke-width=\"0.4\" />')    \n",
    "        else:\n",
    "            _fm_, _to_ = fm_to[0], fm_to[1]\n",
    "            svg_fmto.append(f'<line x1=\"{V[_fm_][0]}\" y1=\"{V[_fm_][1]}\" x2=\"{V[_to_][0]}\" y2=\"{V[_to_][1]}\" stroke=\"black\" stroke-width=\"0.2\" />')\n",
    "rt.tile([svg_hdr + ''.join(svg_circles) + ''.join(svg_v) + svg_ftr,\n",
    "         svg_hdr + ''.join(svg_circles) + ''.join(svg_fmto) + svg_ftr], spacer=10)"
   ]
  },
  {
   "cell_type": "code",
   "execution_count": null,
   "metadata": {},
   "outputs": [],
   "source": []
  }
 ],
 "metadata": {
  "kernelspec": {
   "display_name": ".venv",
   "language": "python",
   "name": "python3"
  },
  "language_info": {
   "codemirror_mode": {
    "name": "ipython",
    "version": 3
   },
   "file_extension": ".py",
   "mimetype": "text/x-python",
   "name": "python",
   "nbconvert_exporter": "python",
   "pygments_lexer": "ipython3",
   "version": "3.12.3"
  }
 },
 "nbformat": 4,
 "nbformat_minor": 2
}
