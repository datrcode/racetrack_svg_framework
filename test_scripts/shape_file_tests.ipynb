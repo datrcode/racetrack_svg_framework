{
 "cells": [
  {
   "cell_type": "code",
   "execution_count": null,
   "metadata": {},
   "outputs": [],
   "source": [
    "import pandas as pd\n",
    "import geopandas as gpd\n",
    "import fiona\n",
    "import numpy as np\n",
    "from shapely import Polygon, MultiPolygon\n",
    "import sys\n",
    "sys.path.insert(1, '../framework')\n",
    "from racetrack import *\n",
    "rt = RACETrack()"
   ]
  },
  {
   "cell_type": "code",
   "execution_count": null,
   "metadata": {},
   "outputs": [],
   "source": [
    "gdf_coast = gpd.read_file(\"../../wb_coastlines_10m/WB_Coastlines_10m/WB_Coastlines_10m.shp\")\n",
    "gdf_land  = gpd.read_file(\"../../wb_land_10m/WB_Land_10m/WB_Land_10m.shp\")\n",
    "# gdf_land.loc[0].geometry\n",
    "# gdf_coast.loc[0].geometry\n",
    "# rt.displaySVG(f'<svg width=\"360\" height=\"360\" viewbox=\"180 0 -180 180\"><path d=\"{d}\" stroke=\"#ff0000\" stroke-width=\"0.2\"/></svg>')"
   ]
  },
  {
   "cell_type": "code",
   "execution_count": null,
   "metadata": {},
   "outputs": [],
   "source": [
    "_lons_, _lats_, _names_ = [], [], []\n",
    "_lons_.append( -73.935242),  _lats_.append(40.730610),  _names_.append('NYC')\n",
    "_lons_.append(-118.243683),  _lats_.append(34.052235),  _names_.append('LA')\n",
    "_lons_.append( -80.191788),  _lats_.append(25.761681),  _names_.append('Miami')\n",
    "_lons_.append(-149.863129),  _lats_.append(61.217381),  _names_.append('Anchorage')\n",
    "\n",
    "df = pd.DataFrame({'x':_lons_, 'y':_lats_, 'name':_names_})\n",
    "\n",
    "bg_shape_lu = {}\n",
    "for i in range(len(gdf_land)):\n",
    "    _clipped_ = gdf_land.clip_by_rect(df['x'].min(), df['y'].min(), df['x'].max(), df['y'].max()).iloc[i]\n",
    "    if type(_clipped_) == MultiPolygon:\n",
    "        d = rt.shapelyPolygonToSVGPathDescription(_clipped_)\n",
    "        bg_shape_lu[len(bg_shape_lu)] = d\n",
    "\n",
    "rt.xy(df, x_field='x', y_field='y', bg_shape_lu=bg_shape_lu, bg_shape_fill='#e0e0e0', dot_size=6.0, w=384, h=256)"
   ]
  },
  {
   "cell_type": "code",
   "execution_count": null,
   "metadata": {},
   "outputs": [],
   "source": [
    "df2 = pd.DataFrame({'fm':['NYC','LA','Miami','Anchorage','LA'], 'to':['LA','Miami','NYC','LA','Anchorage']})\n",
    "pos = {'NYC':(_lons_[0],_lats_[0]), 'LA':(_lons_[1],_lats_[1]), 'Miami':(_lons_[2],_lats_[2]), 'Anchorage':(_lons_[3],_lats_[3])}\n",
    "rt.linkNode(df2, [('fm','to')], pos, link_shape='curve', bg_shape_lu=bg_shape_lu, bg_shape_fill='#e0e0e0', w=384, h=256)"
   ]
  },
  {
   "cell_type": "code",
   "execution_count": null,
   "metadata": {},
   "outputs": [],
   "source": []
  }
 ],
 "metadata": {
  "kernelspec": {
   "display_name": "Python 3",
   "language": "python",
   "name": "python3"
  },
  "language_info": {
   "codemirror_mode": {
    "name": "ipython",
    "version": 3
   },
   "file_extension": ".py",
   "mimetype": "text/x-python",
   "name": "python",
   "nbconvert_exporter": "python",
   "pygments_lexer": "ipython3",
   "version": "3.11.7"
  }
 },
 "nbformat": 4,
 "nbformat_minor": 2
}
