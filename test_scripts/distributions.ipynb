{
 "cells": [
  {
   "cell_type": "code",
   "execution_count": null,
   "metadata": {},
   "outputs": [],
   "source": [
    "import pandas as pd\n",
    "import numpy  as np\n",
    "from fitter import Fitter\n",
    "import sys\n",
    "sys.path.insert(1, '../framework')\n",
    "from racetrack import *\n",
    "rt = RACETrack()"
   ]
  },
  {
   "cell_type": "code",
   "execution_count": null,
   "metadata": {},
   "outputs": [],
   "source": [
    "sz, sz_sub, sz_sub2 = 10000, 2000, 1000\n",
    "params = {'x_field':'x', 'y_field':'x', 'dot_size':None, 'distribution_h_perc':1.0,\n",
    "          'render_x_distribution':50, 'distribution_style':'inside', 'w':350, 'h':256 }\n",
    "df      = pd.DataFrame({'x':np.random.normal(5.0, 2.5, size=sz)})\n",
    "df_sub  = df.sample(sz_sub)\n",
    "df_sub2 = df.sample(sz_sub2)\n",
    "rt.tile([rt.xy(df,      **params),\n",
    "         rt.xy(df_sub,  **params),\n",
    "         rt.xy(df_sub2, **params)])"
   ]
  },
  {
   "cell_type": "code",
   "execution_count": null,
   "metadata": {},
   "outputs": [],
   "source": [
    "# For 100000, 20000, 1000 --> takes 7m44s\n",
    "# For 10000,  2000,  1000 --> takes 5m54s ... which doesn't make much sense when compared with last...\n",
    "# ... probably because a lot of tests are skipped when they time out...\n",
    "import time\n",
    "ts0 = time.time()\n",
    "fitter = Fitter(df['x'])\n",
    "fitter.fit()\n",
    "fitter.summary()\n",
    "ts1 = time.time()\n",
    "fitter_sub = Fitter(df_sub['x'])\n",
    "fitter_sub.fit()\n",
    "fitter_sub.summary()\n",
    "ts2 = time.time()\n",
    "fitter_sub2 = Fitter(df_sub2['x'])\n",
    "fitter_sub2.fit()\n",
    "fitter_sub2.summary()\n",
    "ts3 = time.time()"
   ]
  },
  {
   "cell_type": "code",
   "execution_count": null,
   "metadata": {},
   "outputs": [],
   "source": [
    "sizes, times = [], []\n",
    "sizes.append(sz),      times.append(ts1 - ts0)\n",
    "sizes.append(sz_sub),  times.append(ts2 - ts1)\n",
    "sizes.append(sz_sub2), times.append(ts3 - ts2)\n",
    "df_perf = pd.DataFrame({'size':sizes, 'time':times})\n",
    "df_perf['cat'] = 'a'\n",
    "rt.xy(df_perf, x_field='size', y_field='time', line_groupby_field='cat')"
   ]
  },
  {
   "cell_type": "code",
   "execution_count": null,
   "metadata": {},
   "outputs": [],
   "source": []
  }
 ],
 "metadata": {
  "kernelspec": {
   "display_name": ".venv",
   "language": "python",
   "name": "python3"
  },
  "language_info": {
   "codemirror_mode": {
    "name": "ipython",
    "version": 3
   },
   "file_extension": ".py",
   "mimetype": "text/x-python",
   "name": "python",
   "nbconvert_exporter": "python",
   "pygments_lexer": "ipython3",
   "version": "3.11.6"
  }
 },
 "nbformat": 4,
 "nbformat_minor": 2
}
