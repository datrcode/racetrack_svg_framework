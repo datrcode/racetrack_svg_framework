{
 "cells": [
  {
   "cell_type": "code",
   "execution_count": null,
   "metadata": {},
   "outputs": [],
   "source": [
    "from huggingface_hub import snapshot_download\n",
    "from pathlib import Path\n",
    "\n",
    "mistral_models_path = Path.home().joinpath('mistral_models', 'Nemo-Instruct')\n",
    "mistral_models_path.mkdir(parents=True, exist_ok=True)\n",
    "\n",
    "snapshot_download(repo_id=\"mistralai/Mistral-Nemo-Instruct-2407\", allow_patterns=[\"params.json\", \"consolidated.safetensors\", \"tekken.json\"], local_dir=mistral_models_path)\n",
    "\n",
    "from mistral_inference.transformer import Transformer\n",
    "from mistral_inference.generate import generate\n",
    "\n",
    "from mistral_common.tokens.tokenizers.mistral import MistralTokenizer\n",
    "from mistral_common.protocol.instruct.messages import UserMessage\n",
    "from mistral_common.protocol.instruct.request import ChatCompletionRequest\n",
    "\n",
    "tokenizer = MistralTokenizer.from_file(f\"{mistral_models_path}/tekken.json\")\n",
    "model = Transformer.from_folder(mistral_models_path)"
   ]
  },
  {
   "cell_type": "code",
   "execution_count": null,
   "metadata": {},
   "outputs": [],
   "source": [
    "def promptModel(prompt, max_tokens=512, temperature=0.0):\n",
    "    completion_request = ChatCompletionRequest(messages=[UserMessage(content=prompt)])\n",
    "    tokens = tokenizer.encode_chat_completion(completion_request).tokens\n",
    "    out_tokens, _ = generate([tokens], model, max_tokens=max_tokens, temperature=temperature, eos_id=tokenizer.instruct_tokenizer.tokenizer.eos_id)\n",
    "    result = tokenizer.instruct_tokenizer.tokenizer.decode(out_tokens[0])\n",
    "    return result\n",
    "#prompt = \"How expensive would it be to ask a window cleaner to clean all windows in Paris. Make a reasonable guess in US Dollar.\"\n",
    "#completion_request = ChatCompletionRequest(messages=[UserMessage(content=prompt)])\n",
    "#tokens = tokenizer.encode_chat_completion(completion_request).tokens\n",
    "#out_tokens, _ = generate([tokens], model, max_tokens=64, temperature=0.35, eos_id=tokenizer.instruct_tokenizer.tokenizer.eos_id)\n",
    "#result = tokenizer.decode(out_tokens[0])\n",
    "#print(result)\n",
    "promptModel('How many \"r\"s are there in strawberry?')"
   ]
  },
  {
   "cell_type": "code",
   "execution_count": null,
   "metadata": {},
   "outputs": [],
   "source": [
    "citation_pairs = {\n",
    "    \"Apollo 13 was led by J. Lovell.\":\n",
    "    \"The mission was commanded by Jim Lovell, with Jack Swigert as command module (CM) pilot and Fred Haise as lunar module (LM) pilot. Swigert was a late replacement for Ken Mattingly, who was grounded after exposure to rubella. \",\n",
    "    \"Apollo looped around the Moon instead.\":\n",
    "    \"The crew, supported by backup systems on the lunar module (LM), instead looped around the Moon in a circumlunar trajectory and returned safely to Earth on April 17.\",\n",
    "    \"They returned safely to Earth.\":\n",
    "    \"The crew, supported by backup systems on the lunar module (LM), instead looped around the Moon in a circumlunar trajectory and returned safely to Earth on April 17.\"\n",
    "}\n",
    "\n",
    "for _phrase_ in citation_pairs:\n",
    "    _long_citation_ = citation_pairs[_phrase_]\n",
    "    _model_response_ = promptModel('My citations are too long.  \" + \\\n",
    "                                   \"Shorten the following citation to just the part that supports the phrase.  \" + \\\n",
    "                                   \"The citation should use the exact words in the supplied citation.\\n\\nPhrase:\"' + _phrase_ + '\"\\n\\nSupplied Citation: \"' + _long_citation_ + '\"')\n",
    "    print(f'{_model_response_=} {_model_response_ in _long_citation_}')\n"
   ]
  },
  {
   "cell_type": "code",
   "execution_count": null,
   "metadata": {},
   "outputs": [],
   "source": []
  }
 ],
 "metadata": {
  "kernelspec": {
   "display_name": ".venv",
   "language": "python",
   "name": "python3"
  },
  "language_info": {
   "codemirror_mode": {
    "name": "ipython",
    "version": 3
   },
   "file_extension": ".py",
   "mimetype": "text/x-python",
   "name": "python",
   "nbconvert_exporter": "python",
   "pygments_lexer": "ipython3",
   "version": "3.12.3"
  }
 },
 "nbformat": 4,
 "nbformat_minor": 2
}
