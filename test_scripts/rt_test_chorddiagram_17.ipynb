{
 "cells": [
  {
   "cell_type": "code",
   "execution_count": null,
   "metadata": {},
   "outputs": [],
   "source": [
    "import pandas as pd\n",
    "import numpy as np\n",
    "from math import cos, sin, sqrt, pi\n",
    "import sys\n",
    "sys.path.insert(1, '../framework')\n",
    "from racetrack import *\n",
    "rt = RACETrack()"
   ]
  },
  {
   "cell_type": "code",
   "execution_count": null,
   "metadata": {},
   "outputs": [],
   "source": [
    "_hierarchy_ = [\n",
    "[['rat',         'mouse',      'squirrel'],         'rodentia',   'mammal'],\n",
    "[['fruit bat',   'nectar bat'],                     'chiroptera', 'mammal'],\n",
    "[['lemur',       'baboon',     'gorilla', 'human'], 'primate',    'mammal'],\n",
    "[['frog'],                                          'anura',      'amphibian'],\n",
    "[['salamander'],                                    'urodela',    'amphibian'],\n",
    "[['rattlesnake', 'asp',        'cobra',   'viper'], 'squamata',   'reptile']\n",
    "]\n",
    "parent_lu = {}\n",
    "order     = []\n",
    "for row in _hierarchy_:\n",
    "    order.extend(row[0])\n",
    "    order.append(None)\n",
    "    parent_lu[row[1]] = row[2]\n",
    "    for animal in row[0]:\n",
    "        parent_lu[animal] = row[1]\n",
    "\n",
    "df = pd.DataFrame({'fm':['rat',       'mouse',      'squirrel', 'baboon',  'human', 'salamander',  'asp',   'viper'],\n",
    "                   'to':['fruit bat', 'nectar bat', 'lemur',    'gorilla', 'frog',  'rattlesnake', 'cobra', 'cobra']})\n",
    "\n",
    "cd = rt.chordDiagram(df, [('fm','to')], equal_size_nodes=True, order=order, link_style='bundled',\n",
    "                     w=384, h=384, x_ins=64, y_ins=64, \n",
    "                     draw_labels=True, label_style='circular', draw_background=False)\n",
    "cd"
   ]
  },
  {
   "cell_type": "code",
   "execution_count": null,
   "metadata": {},
   "outputs": [],
   "source": [
    "_svg_   = cd._repr_svg_()\n",
    "_svg_b_ = _svg_[:_svg_.rindex('<')]\n",
    "_svg_e_ = _svg_[_svg_.rindex('<'):]\n",
    "\n",
    "a0,a1 = cd.node_to_arc['rattlesnake']\n",
    "b0,b1 = cd.node_to_arc['viper']\n",
    "\n",
    "to_rad = lambda d: d*pi/180\n",
    "\n",
    "_extra_  = f'<line x1=\"{cd.cx + cd.r   * cos(to_rad(a0))}\" y1=\"{cd.cy + cd.r   * sin(to_rad(a0))}\" '\n",
    "_extra_ += f'      x2=\"{cd.cx + cd.r*2 * cos(to_rad(a0))}\" y2=\"{cd.cy + cd.r*2 * sin(to_rad(a0))}\" stroke=\"#ff0000\" stroke-width=\"0.5\" />'\n",
    "\n",
    "_extra_ += f'<line x1=\"{cd.cx + cd.r   * cos(to_rad(b1))}\" y1=\"{cd.cy + cd.r   * sin(to_rad(b1))}\" '\n",
    "_extra_ += f'      x2=\"{cd.cx + cd.r*2 * cos(to_rad(b1))}\" y2=\"{cd.cy + cd.r*2 * sin(to_rad(b1))}\" stroke=\"#ff0000\" stroke-width=\"0.5\" />'\n",
    "\n",
    "\n",
    "rt.tile([_svg_b_ + _extra_ + _svg_e_])"
   ]
  },
  {
   "cell_type": "code",
   "execution_count": null,
   "metadata": {},
   "outputs": [],
   "source": []
  }
 ],
 "metadata": {
  "kernelspec": {
   "display_name": "Python 3",
   "language": "python",
   "name": "python3"
  },
  "language_info": {
   "codemirror_mode": {
    "name": "ipython",
    "version": 3
   },
   "file_extension": ".py",
   "mimetype": "text/x-python",
   "name": "python",
   "nbconvert_exporter": "python",
   "pygments_lexer": "ipython3",
   "version": "3.9.6"
  }
 },
 "nbformat": 4,
 "nbformat_minor": 2
}
