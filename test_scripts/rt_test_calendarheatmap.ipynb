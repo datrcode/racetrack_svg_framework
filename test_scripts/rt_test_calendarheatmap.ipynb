{
 "cells": [
  {
   "cell_type": "code",
   "execution_count": null,
   "metadata": {},
   "outputs": [],
   "source": [
    "import pandas as pd\n",
    "import numpy as np\n",
    "import networkx as nx\n",
    "import random\n",
    "import sys\n",
    "sys.path.insert(1, '../framework')\n",
    "from racetrack import *"
   ]
  },
  {
   "cell_type": "code",
   "execution_count": null,
   "metadata": {},
   "outputs": [],
   "source": [
    "rt = RACETrack()"
   ]
  },
  {
   "cell_type": "code",
   "execution_count": null,
   "metadata": {},
   "outputs": [],
   "source": [
    "timestamps = []\n",
    "counts     = []\n",
    "cats       = []\n",
    "d_range = pd.date_range('2020-01-01','2024-12-31',freq='D')\n",
    "i,i_inc = 20,1\n",
    "for _date in d_range:\n",
    "    if random.random() < 0.95:\n",
    "        timestamps.append(_date)\n",
    "        counts.    append(i)\n",
    "        cats.      append(random.randint(0,2))\n",
    "    i += i_inc\n",
    "    if i > 100:\n",
    "        i_inc = -1\n",
    "    if i < 20:\n",
    "        i_inc =  1\n",
    "df = pd.DataFrame({'timestamp':timestamps, 'count':counts, 'category':cats})\n",
    "rt.displaySVG(rt.calendarHeatmap(df,count_by='count'))"
   ]
  },
  {
   "cell_type": "code",
   "execution_count": null,
   "metadata": {},
   "outputs": [],
   "source": [
    "rt.displaySVG(rt.calendarHeatmap(df,count_by='count',cell_framing=False))"
   ]
  },
  {
   "cell_type": "code",
   "execution_count": null,
   "metadata": {},
   "outputs": [],
   "source": [
    "rt.displaySVG(rt.calendarHeatmap(df,count_by='count',w=10,h=10))"
   ]
  },
  {
   "cell_type": "code",
   "execution_count": null,
   "metadata": {},
   "outputs": [],
   "source": [
    "rt.displaySVG(rt.calendarHeatmap(df,count_by='count',cell_framing=False,w=200,h=500))"
   ]
  },
  {
   "cell_type": "code",
   "execution_count": null,
   "metadata": {},
   "outputs": [],
   "source": [
    "rt.displaySVG(rt.calendarHeatmap(df,count_by='count',color_magnitude='log',cell_framing=False,w=200,h=500))"
   ]
  },
  {
   "cell_type": "code",
   "execution_count": null,
   "metadata": {},
   "outputs": [],
   "source": [
    "timestamps = []\n",
    "counts     = []\n",
    "d_range = pd.date_range('2010-01-01','2024-12-31',freq='D')\n",
    "i,i_inc = 20,1\n",
    "for _date in d_range:\n",
    "    if random.random() < 0.95:\n",
    "        timestamps.append(_date)\n",
    "        counts.    append(i)\n",
    "    i += i_inc\n",
    "    if i > 200:\n",
    "        i_inc = -1\n",
    "    if i < 20:\n",
    "        i_inc =  1\n",
    "df2 = pd.DataFrame({'timestamp':timestamps, 'count':counts})\n",
    "rt.displaySVG(rt.calendarHeatmap(df2,count_by='count',w=10,h=10))"
   ]
  },
  {
   "cell_type": "code",
   "execution_count": null,
   "metadata": {},
   "outputs": [],
   "source": [
    "rt.displaySVG(rt.calendarHeatmap(df2,count_by='count',h_gap=10,month_gap=2,w=1024,h=640))"
   ]
  },
  {
   "cell_type": "code",
   "execution_count": null,
   "metadata": {},
   "outputs": [],
   "source": [
    "rt.displaySVG(rt.smallMultiples(df, category_by='category', count_by='count', sm_type='calendarHeatmap'))"
   ]
  },
  {
   "cell_type": "code",
   "execution_count": null,
   "metadata": {},
   "outputs": [],
   "source": [
    "timestamps = []\n",
    "counts     = []\n",
    "cats       = []\n",
    "d_range = pd.date_range('2020-01-01','2020-12-31',freq='D')\n",
    "i,i_inc = 20,1\n",
    "for _date in d_range:\n",
    "    if random.random() < 0.95:\n",
    "        timestamps.append(_date)\n",
    "        counts.    append(i)\n",
    "        cats.      append(random.randint(0,50))\n",
    "    i += i_inc\n",
    "    if i > 200:\n",
    "        i_inc = -2\n",
    "    if i < 20:\n",
    "        i_inc =  1\n",
    "df = pd.DataFrame({'timestamp':timestamps, 'count':counts, 'category':cats})\n",
    "rt.displaySVG(rt.smallMultiples(df, category_by='category', count_by='count', sm_type='calendarHeatmap'))"
   ]
  },
  {
   "cell_type": "code",
   "execution_count": null,
   "metadata": {},
   "outputs": [],
   "source": [
    "df_nf        = pd.read_csv(\"../../netflow_sample.csv\")\n",
    "df_nf['beg'] = df_nf['beg'].astype('datetime64[ns]')\n",
    "df_nf        = df_nf.rename({'beg':'timestamp'},axis=1)"
   ]
  },
  {
   "cell_type": "code",
   "execution_count": null,
   "metadata": {},
   "outputs": [],
   "source": [
    "rt.displaySVG(rt.calendarHeatmap(df_nf,count_by='sip'))"
   ]
  },
  {
   "cell_type": "code",
   "execution_count": null,
   "metadata": {},
   "outputs": [],
   "source": [
    "rt.displaySVG(rt.calendarHeatmap(df_nf,\n",
    "                                color_by='dpt', month_stroke_width=2.0, draw_day_labels=True,\n",
    "                                sm_type='xy', \n",
    "                                sm_params={'x_field':'timestamp','y_field':['sip','dip'],'dot_size':'small'}))"
   ]
  },
  {
   "cell_type": "code",
   "execution_count": null,
   "metadata": {},
   "outputs": [],
   "source": [
    "rt.displaySVG(rt.calendarHeatmap(df_nf,\n",
    "                                 color_by='dpt',\n",
    "                                 sm_type='pieChart'))"
   ]
  },
  {
   "cell_type": "code",
   "execution_count": null,
   "metadata": {},
   "outputs": [],
   "source": [
    "rt.displaySVG(rt.calendarHeatmap(df_nf[df_nf['dpt'] == 53],\n",
    "                                 sm_type='periodicBarChart',\n",
    "                                 sm_params={'time_period':'hour'}))"
   ]
  },
  {
   "cell_type": "code",
   "execution_count": null,
   "metadata": {},
   "outputs": [],
   "source": [
    "df_nf_small = df_nf.sample(10000)\n",
    "relates = [('sip','dip')]\n",
    "nx_g = rt.createNetworkXGraph(df_nf_small, relates)\n",
    "pos = nx.spring_layout(nx_g)\n",
    "rt.displaySVG(rt.linkNode(df_nf_small, relates, pos, draw_labels=False))"
   ]
  },
  {
   "cell_type": "code",
   "execution_count": null,
   "metadata": {},
   "outputs": [],
   "source": [
    "rt.displaySVG(rt.calendarHeatmap(df_nf_small, month_stroke_width=3, draw_day_labels=True,\n",
    "                                 sm_type='linkNode',\n",
    "                                 sm_params={'relationships':relates,'pos':pos,'node_size':'hidden','draw_labels':False},\n",
    "                                 sm_w=128,sm_h=128))"
   ]
  },
  {
   "cell_type": "code",
   "execution_count": null,
   "metadata": {},
   "outputs": [],
   "source": []
  }
 ],
 "metadata": {
  "kernelspec": {
   "display_name": "Python 3",
   "language": "python",
   "name": "python3"
  },
  "language_info": {
   "codemirror_mode": {
    "name": "ipython",
    "version": 3
   },
   "file_extension": ".py",
   "mimetype": "text/x-python",
   "name": "python",
   "nbconvert_exporter": "python",
   "pygments_lexer": "ipython3",
   "version": "3.11.5"
  },
  "orig_nbformat": 4,
  "vscode": {
   "interpreter": {
    "hash": "677ca678853aa41fc137f4b55f2bc0c694e45735c0d2faa667d2ec5acb71e67d"
   }
  }
 },
 "nbformat": 4,
 "nbformat_minor": 2
}
