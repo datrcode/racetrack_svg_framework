{
 "cells": [
  {
   "cell_type": "code",
   "execution_count": null,
   "metadata": {},
   "outputs": [],
   "source": [
    "import pandas as pd\n",
    "import polars as pl\n",
    "import numpy as np\n",
    "import rtsvg\n",
    "rt = rtsvg.RACETrack()"
   ]
  },
  {
   "cell_type": "code",
   "execution_count": null,
   "metadata": {},
   "outputs": [],
   "source": [
    "#\n",
    "# spreadlines() - attempt to implement this visualization\n",
    "#\n",
    "# Based on:\n",
    "#\n",
    "# @misc{kuo2024spreadlinevisualizingegocentricdynamic,\n",
    "#      title={SpreadLine: Visualizing Egocentric Dynamic Influence}, \n",
    "#      author={Yun-Hsin Kuo and Dongyu Liu and Kwan-Liu Ma},\n",
    "#      year={2024},\n",
    "#      eprint={2408.08992},\n",
    "#      archivePrefix={arXiv},\n",
    "#      primaryClass={cs.HC},\n",
    "#      url={https://arxiv.org/abs/2408.08992}, \n",
    "# }\n",
    "# \n",
    "def spreadlines(self,\n",
    "                df,\n",
    "                relationships,\n",
    "                node_focus,\n",
    "                ts_field        = None,              # Will attempt to guess based on datatypes\n",
    "                ts_bins         = 'year_month_day',  # From rt.transforms\n",
    "                color_by        = None,\n",
    "                count_by        = None,\n",
    "                count_by_set    = False,\n",
    "                w               = 1024,\n",
    "                h               = 512,\n",
    "                txt_h           = 12):\n",
    "    ...\n"
   ]
  },
  {
   "cell_type": "code",
   "execution_count": null,
   "metadata": {},
   "outputs": [],
   "source": []
  }
 ],
 "metadata": {
  "kernelspec": {
   "display_name": ".venv",
   "language": "python",
   "name": "python3"
  },
  "language_info": {
   "codemirror_mode": {
    "name": "ipython",
    "version": 3
   },
   "file_extension": ".py",
   "mimetype": "text/x-python",
   "name": "python",
   "nbconvert_exporter": "python",
   "pygments_lexer": "ipython3",
   "version": "3.12.3"
  }
 },
 "nbformat": 4,
 "nbformat_minor": 2
}
