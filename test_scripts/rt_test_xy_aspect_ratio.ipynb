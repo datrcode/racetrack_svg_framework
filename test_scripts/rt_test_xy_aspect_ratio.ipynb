{
 "cells": [
  {
   "cell_type": "code",
   "execution_count": null,
   "metadata": {},
   "outputs": [],
   "source": [
    "import pandas as pd\n",
    "import polars as pl\n",
    "import numpy as np\n",
    "import rtsvg\n",
    "rt = rtsvg.RACETrack()"
   ]
  },
  {
   "cell_type": "code",
   "execution_count": null,
   "metadata": {},
   "outputs": [],
   "source": [
    "state_shapes = '../../cb_2018_us_state_20m/cb_2018_us_state_20m/cb_2018_us_state_20m.shp'\n",
    "state_lu, state_fill_lu = rt.createBackgroundLookupsFromShapeFile(state_shapes)"
   ]
  },
  {
   "cell_type": "code",
   "execution_count": null,
   "metadata": {},
   "outputs": [],
   "source": [
    "df_h   = pl.DataFrame({'lat':[41.7, 41.1], 'lon':[-90.5, -71.3]})\n",
    "df_v   = pd.DataFrame({'lat':[15.7, 43.1], 'lon':[-70.5, -80.4]})\n",
    "params = {'x_field':'lon', 'y_field':'lat', 'bg_shape_lu':state_lu}\n",
    "rt.tile([rt.xy(df_h, **params), \n",
    "         rt.xy(df_v, **params)], spacer=20)"
   ]
  },
  {
   "cell_type": "code",
   "execution_count": null,
   "metadata": {},
   "outputs": [],
   "source": []
  }
 ],
 "metadata": {
  "kernelspec": {
   "display_name": ".venv",
   "language": "python",
   "name": "python3"
  },
  "language_info": {
   "codemirror_mode": {
    "name": "ipython",
    "version": 3
   },
   "file_extension": ".py",
   "mimetype": "text/x-python",
   "name": "python",
   "nbconvert_exporter": "python",
   "pygments_lexer": "ipython3",
   "version": "3.12.3"
  }
 },
 "nbformat": 4,
 "nbformat_minor": 2
}
