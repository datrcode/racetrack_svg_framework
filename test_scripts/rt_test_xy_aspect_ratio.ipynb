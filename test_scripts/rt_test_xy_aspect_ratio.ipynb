{
 "cells": [
  {
   "cell_type": "code",
   "execution_count": null,
   "metadata": {},
   "outputs": [],
   "source": [
    "import pandas as pd\n",
    "import polars as pl\n",
    "import numpy as np\n",
    "import rtsvg\n",
    "rt = rtsvg.RACETrack()"
   ]
  },
  {
   "cell_type": "code",
   "execution_count": null,
   "metadata": {},
   "outputs": [],
   "source": [
    "state_shapes = '../../cb_2018_us_state_20m/cb_2018_us_state_20m/cb_2018_us_state_20m.shp'\n",
    "state_lu, state_fill_lu = rt.createBackgroundLookupsFromShapeFile(state_shapes)\n",
    "\n",
    "short_lu  = {'lat':[41.7, 41.1], 'lon':[-90.5, -71.3]}\n",
    "narrow_lu = {'lat':[15.7, 43.1], 'lon':[-70.5, -80.4]}"
   ]
  },
  {
   "cell_type": "code",
   "execution_count": null,
   "metadata": {},
   "outputs": [],
   "source": [
    "df_h   = pl.DataFrame(short_lu)\n",
    "df_v   = pl.DataFrame(narrow_lu)\n",
    "\n",
    "w, h = 256, 128\n",
    "\n",
    "params = {'x_field':'lon', 'y_field':'lat', 'bg_shape_lu':state_lu, 'w':w, 'h':h}\n",
    "\n",
    "xy_too_short        = rt.xy(df_h, **params)\n",
    "xy_too_narrow       = rt.xy(df_v, **params)\n",
    "xy_too_short_fixed  = rt.xy(df_h, fix_aspect_ratio=True, **params)\n",
    "xy_too_narrow_fixed = rt.xy(df_v, fix_aspect_ratio=True, **params)\n",
    "\n",
    "rt.tile([xy_too_short, xy_too_short_fixed, xy_too_narrow, xy_too_narrow_fixed], spacer=20)"
   ]
  },
  {
   "cell_type": "code",
   "execution_count": null,
   "metadata": {},
   "outputs": [],
   "source": [
    "df_h   = pd.DataFrame(short_lu)\n",
    "df_v   = pd.DataFrame(narrow_lu)\n",
    "\n",
    "w, h = 256, 256\n",
    "\n",
    "params = {'x_field':'lon', 'y_field':'lat', 'bg_shape_lu':state_lu, 'w':w, 'h':h}\n",
    "\n",
    "xy_too_short        = rt.xy(df_h, **params)\n",
    "xy_too_narrow       = rt.xy(df_v, **params)\n",
    "xy_too_short_fixed  = rt.xy(df_h, fix_aspect_ratio=True, **params)\n",
    "xy_too_narrow_fixed = rt.xy(df_v, fix_aspect_ratio=True, **params)\n",
    "\n",
    "rt.tile([xy_too_short, xy_too_short_fixed, xy_too_narrow, xy_too_narrow_fixed], spacer=20)"
   ]
  },
  {
   "cell_type": "code",
   "execution_count": null,
   "metadata": {},
   "outputs": [],
   "source": []
  }
 ],
 "metadata": {
  "kernelspec": {
   "display_name": ".venv",
   "language": "python",
   "name": "python3"
  },
  "language_info": {
   "codemirror_mode": {
    "name": "ipython",
    "version": 3
   },
   "file_extension": ".py",
   "mimetype": "text/x-python",
   "name": "python",
   "nbconvert_exporter": "python",
   "pygments_lexer": "ipython3",
   "version": "3.12.3"
  }
 },
 "nbformat": 4,
 "nbformat_minor": 2
}
