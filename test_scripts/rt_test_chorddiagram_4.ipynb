{
 "cells": [
  {
   "cell_type": "code",
   "execution_count": null,
   "metadata": {},
   "outputs": [],
   "source": [
    "import pandas as pd\n",
    "import polars as pl\n",
    "import numpy as np\n",
    "import heapq\n",
    "import sys\n",
    "sys.path.insert(1, '../framework')\n",
    "from racetrack import *\n",
    "rt = RACETrack()"
   ]
  },
  {
   "cell_type": "code",
   "execution_count": null,
   "metadata": {},
   "outputs": [],
   "source": [
    "df = pd.DataFrame({'fm':['a',  'a',  'a',  'a',  'b',  'b',  'b',  'c',  'c',  'd',  'd',  'd', 'd'],\n",
    "                   'to':['b',  'c',  'd',  'b',  'a',  'b',  'c',  'a',  'b',  'c',  'a',  'b', 'd'],\n",
    "                   'ct':[10,   20,   5,    1,    20,   3,    5,    10,   15,   5,    10,   50,  20]})\n",
    "def test(df, num, params):\n",
    "    print(f'{num}.old_pd', rt.dendrogramOrdering(df,                       *params))\n",
    "    print(f'{num}.old_pl', rt.dendrogramOrdering(pl.DataFrame(df),         *params))\n",
    "    print(f'{num}.hdb_pd', rt.dendrogramOrdering_HDBSCAN(df,               *params))\n",
    "    print(f'{num}.hdb_pl', rt.dendrogramOrdering_HDBSCAN(pl.DataFrame(df), *params))\n",
    "def testAll(df):\n",
    "    params = ['fm', 'to', None, False]\n",
    "    test(df,1,params)\n",
    "    print()\n",
    "    params = ['fm', 'to', 'ct', False]\n",
    "    test(df,2,params)\n",
    "    print()\n",
    "    params = ['fm', 'to', 'ct', True] \n",
    "    test(df,3,params)\n",
    "testAll(df)"
   ]
  },
  {
   "cell_type": "code",
   "execution_count": null,
   "metadata": {},
   "outputs": [],
   "source": [
    "df = pd.DataFrame({'fm':['a',  'x',  'n',  'r',  'h', 'h'],\n",
    "                   'to':['r',  'y',  'm',  'g',  'a', 'i'],\n",
    "                   'ct':[20,   20,   20,    1 ,   1,   1]})\n",
    "params = ['fm', 'to', 'ct', False]\n",
    "# test(df,4,params)\n",
    "rt.tile([rt.chordDiagram(df, relationships=[('fm','to')],count_by='ct', draw_labels=True, txt_h=16, use_hdbscan_for_dendrogram=True),\n",
    "         rt.chordDiagram(df, relationships=[('fm','to')],count_by='ct', draw_labels=True, txt_h=16, use_hdbscan_for_dendrogram=False)])"
   ]
  },
  {
   "cell_type": "code",
   "execution_count": null,
   "metadata": {},
   "outputs": [],
   "source": [
    "_heap_, _graph_ = rt.__dendrogramHelper_pandas__(df, 'fm', 'to', 'ct', False)\n",
    "# iteratively merge the closest nodes together\n",
    "_sep_ = '|||'\n",
    "_connector_ = ' <-|-> '\n",
    "_tree_ = {}\n",
    "_merged_already_ = set()\n",
    "while len(_heap_) > 0:\n",
    "    _strength_, _fmto_ = heapq.heappop(_heap_)\n",
    "    _fm_, _to_ = rt.__den_fromToStringParts__(_fmto_)\n",
    "    if _fm_ != _to_ and _fm_ not in _merged_already_ and _to_ not in _merged_already_:\n",
    "        _merged_already_.add(_fm_), _merged_already_.add(_to_)\n",
    "\n",
    "        _new_ = rt.__den_mergedName__(_fm_, _to_)\n",
    "        _tree_[_new_] = (_fm_, _to_)\n",
    "\n",
    "        _graph_[_new_] = {}\n",
    "        # Rewire for _fm_\n",
    "        for x in _graph_[_fm_].keys():\n",
    "            if x not in _graph_[_new_].keys():\n",
    "                _graph_[_new_][x] = 0    \n",
    "            _graph_[_new_][x] += _graph_[_fm_][x]\n",
    "        # Rewire for _to_\n",
    "        for x in _graph_[_to_].keys():\n",
    "            if x not in _graph_[_new_].keys():\n",
    "                _graph_[_new_][x] = 0\n",
    "            _graph_[_new_][x] += _graph_[_to_][x]\n",
    "        # Rewire the neighbors & add the new values to the heap\n",
    "        for x in _graph_[_new_].keys():\n",
    "            _graph_[x][_new_] = _graph_[_new_][x]\n",
    "            heapq.heappush(_heap_,(_graph_[_new_][x], _new_ + _connector_ + x))\n",
    "        # Remove the old nodes and their nbor connections\n",
    "        for x in _graph_[_fm_]:\n",
    "            _graph_[x].pop(_fm_)\n",
    "        _graph_.pop(_fm_)\n",
    "        for x in _graph_[_to_]:\n",
    "            _graph_[x].pop(_to_)\n",
    "        _graph_.pop(_to_)\n",
    "_tree_"
   ]
  },
  {
   "cell_type": "code",
   "execution_count": null,
   "metadata": {},
   "outputs": [],
   "source": []
  },
  {
   "cell_type": "code",
   "execution_count": null,
   "metadata": {},
   "outputs": [],
   "source": []
  }
 ],
 "metadata": {
  "kernelspec": {
   "display_name": ".venv",
   "language": "python",
   "name": "python3"
  },
  "language_info": {
   "codemirror_mode": {
    "name": "ipython",
    "version": 3
   },
   "file_extension": ".py",
   "mimetype": "text/x-python",
   "name": "python",
   "nbconvert_exporter": "python",
   "pygments_lexer": "ipython3",
   "version": "3.11.6"
  }
 },
 "nbformat": 4,
 "nbformat_minor": 2
}
