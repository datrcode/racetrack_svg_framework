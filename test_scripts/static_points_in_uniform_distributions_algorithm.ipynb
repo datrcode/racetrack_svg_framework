{
 "cells": [
  {
   "cell_type": "code",
   "execution_count": null,
   "id": "ae2252b6",
   "metadata": {},
   "outputs": [],
   "source": [
    "import polars as pl\n",
    "from math import pi, cos, sin\n",
    "import random\n",
    "import rtsvg\n",
    "rt = rtsvg.RACETrack()\n",
    "\n",
    "_num_     = [100, 50, 200]\n",
    "_xyrs_    = [(10,10,3), (20,20,5), (10,5,2)]\n",
    "_colors_  = ['#FF0000', '#00a000', '#0000FF']\n",
    "_xs_,_ys_, _cs_, _ws_, _static_ = [], [], [], [], []\n",
    "for i in range(len(_num_)):\n",
    "    for j in range(_num_[i]):\n",
    "        a = random.random() * 2 * pi\n",
    "        r = random.random() * _xyrs_[i][2]\n",
    "        _xs_    .append(_xyrs_[i][0] + r * cos(a))\n",
    "        _ys_    .append(_xyrs_[i][1] + r * sin(a))\n",
    "        _ws_    .append(1.0)\n",
    "        _cs_    .append(_colors_[i])\n",
    "        _static_.append(0)\n",
    "_xs_.append(12.0), _ys_.append(12.0), _cs_.append('#000000'), _static_.append(1)\n",
    "_xs_.append(11.0), _ys_.append(13.0), _cs_.append('#000000'), _static_.append(1)\n",
    "_xs_.append(10.0), _ys_.append(14.0), _cs_.append('#000000'), _static_.append(1)\n",
    "\n",
    "df = pl.DataFrame({'x':_xs_, 'y':_ys_, 'c':_cs_})\n",
    "_w_static_  = rtsvg.UDistScatterPlotsViaSectorsTileOpt(_xs_, _ys_, colors=_cs_, static_points=_static_, iterations=128)\n",
    "_wo_static_ = rtsvg.UDistScatterPlotsViaSectorsTileOpt(_xs_, _ys_, colors=_cs_,                         iterations=128)\n",
    "rt.tile([_w_static_.svgAnimation(), _wo_static_.svgAnimation()])"
   ]
  },
  {
   "cell_type": "code",
   "execution_count": null,
   "id": "941cac41",
   "metadata": {},
   "outputs": [],
   "source": []
  }
 ],
 "metadata": {
  "kernelspec": {
   "display_name": ".venv (3.13.3)",
   "language": "python",
   "name": "python3"
  },
  "language_info": {
   "codemirror_mode": {
    "name": "ipython",
    "version": 3
   },
   "file_extension": ".py",
   "mimetype": "text/x-python",
   "name": "python",
   "nbconvert_exporter": "python",
   "pygments_lexer": "ipython3",
   "version": "3.13.3"
  }
 },
 "nbformat": 4,
 "nbformat_minor": 5
}
