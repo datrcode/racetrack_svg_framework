{
 "cells": [
  {
   "cell_type": "code",
   "execution_count": null,
   "id": "cc5ec30b-60e9-4ac2-ae42-ca1281cc777f",
   "metadata": {},
   "outputs": [],
   "source": [
    "import pandas as pd\n",
    "\n",
    "import sys\n",
    "sys.path.insert(1, '../framework')\n",
    "\n",
    "from racetrack import *\n",
    "from IPython.display import Javascript, HTML, display\n",
    "%matplotlib inline"
   ]
  },
  {
   "cell_type": "code",
   "execution_count": null,
   "id": "87ad7aa2-8a86-4f06-8370-b91819774bec",
   "metadata": {},
   "outputs": [],
   "source": [
    "rt = RACETrack()"
   ]
  },
  {
   "cell_type": "code",
   "execution_count": null,
   "id": "9886f3a8-5c9e-4e68-b5ab-d758584b5071",
   "metadata": {},
   "outputs": [],
   "source": [
    "df        = pd.read_csv(\"../../data/netflow/netflow_sample.csv\")\n",
    "df['beg'] = df['beg'].astype('datetime64[ms]')\n",
    "df        = df.rename({'beg':'timestamp'},axis=1)\n",
    "df.shape"
   ]
  },
  {
   "cell_type": "code",
   "execution_count": null,
   "id": "13ad4729-e378-4c7f-bb02-036801d1205e",
   "metadata": {},
   "outputs": [],
   "source": [
    "spec = {\n",
    "    'w':('histogram',{'bin_by':'sip'}),\n",
    "    'e':('histogram',{'bin_by':'dip'}),\n",
    "    's|-1':('temporalBarChart'),\n",
    "    's|-2':('histogram',{'bin_by':'dpt'})\n",
    "}\n",
    "my_svg = rt.multiWidgetPanel(spec, df=df, w=512, h=512, count_by=None, color_by=\"dpt\", ts_field='timestamp')\n",
    "rt.displaySVGAsImage(my_svg)"
   ]
  },
  {
   "cell_type": "code",
   "execution_count": null,
   "id": "1cdbc668-3866-4b1b-89a4-6a5417cf591e",
   "metadata": {},
   "outputs": [],
   "source": [
    "# Border Layout -- at least one of the following: [c, n, e, w, s]\n",
    "# Flow Layout   -- Horizontal (-1, -2, -3, ...) , Vertical (1, 2, 3)\n",
    "# Grid Layout   -- #,#\n",
    "layout_dict = {\n",
    "    'c|1,1': ('xy', {'x_field':'timestamp','y_field':'SBYT'}),\n",
    "    'c|1,2': ('xy', {'x_field':'timestamp','y_field':['sip','dip']}),\n",
    "    \n",
    "    'n|-1':  ('histogram', {'bin_by':rt.createTField('timestamp',\"minute\")}),\n",
    "    'n|-2':  ('histogram', {'bin_by':rt.createTField('timestamp',\"hour\")}),\n",
    "    'n|-3':  ('histogram', {'bin_by':rt.createTField('timestamp',\"day_of_week\")}),\n",
    "    \n",
    "    'w':     ('histogram', {'bin_by':['dip','dpt']}),\n",
    "    \n",
    "    'e|1':   ('histogram', {'bin_by':'sip'}),\n",
    "    'e|2':   ('histogram', {'bin_by':'dip'}),\n",
    "    'e|3':   ('histogram', {'bin_by':'SBYT'}),\n",
    "    'e|4':   ('histogram', {'bin_by':'DBYT'}),\n",
    "\n",
    "    's':     ('temporalBarChart', {'ts_field':'timestamp'})\n",
    "}\n",
    "\n",
    "my_svg = rt.multiWidgetPanel(layout_dict, df=df, w=800, h=800, count_by='SBYT', color_by=\"dpt\")\n",
    "rt.displaySVG(my_svg)"
   ]
  },
  {
   "cell_type": "code",
   "execution_count": null,
   "id": "2943d2e8-3dd1-4575-837e-f776bdbfef8d",
   "metadata": {},
   "outputs": [],
   "source": [
    "layout_dict = {\n",
    "    '1': ('temporalBarChart', {'color_by':'DBYT', 'draw_perf_stats':True}),\n",
    "    '2': ('temporalBarChart', {'color_by':'SBYT', 'draw_perf_stats':True}),\n",
    "    '3': ('temporalBarChart', {'color_by':'dpt',  'draw_perf_stats':True})\n",
    "}\n",
    "\n",
    "my_svg = rt.multiWidgetPanel(layout_dict, df=df, w=512, h=384)\n",
    "display(HTML(my_svg))"
   ]
  },
  {
   "cell_type": "code",
   "execution_count": null,
   "id": "a9ab7172",
   "metadata": {},
   "outputs": [],
   "source": [
    "rt.co_mgr.enableHighlights(['192.168.1.7','192.168.1.2'])\n",
    "layout_dict = {\n",
    "    '1': ('temporalBarChart', {'color_by':'sip', 'count_by':'SBYT', 'draw_perf_stats':True}),\n",
    "    '2': ('temporalBarChart', {'color_by':'sip', 'count_by':'DBYT', 'draw_perf_stats':True}),\n",
    "    '3': ('temporalBarChart', {'color_by':'sip', 'count_by':'SPKT', 'draw_perf_stats':True}),\n",
    "    '4': ('temporalBarChart', {'color_by':'sip', 'count_by':'DPKT', 'draw_perf_stats':True})\n",
    "}\n",
    "my_svg = rt.multiWidgetPanel(layout_dict, df=df, w=512, h=384)\n",
    "rt.co_mgr.disableHighlights()\n",
    "rt.displaySVG(my_svg)"
   ]
  },
  {
   "cell_type": "code",
   "execution_count": null,
   "id": "3ac21962",
   "metadata": {},
   "outputs": [],
   "source": [
    "layout_dict = {\n",
    "    'c': ('temporalBarChart'),\n",
    "    'e': ('histogram', {'bin_by':'dpt'})\n",
    "}\n",
    "rt.displaySVG(rt.multiWidgetPanel(layout_dict, df=df, color_by='dpt', w=768, h=128))"
   ]
  },
  {
   "cell_type": "code",
   "execution_count": null,
   "id": "583f2e2c",
   "metadata": {},
   "outputs": [],
   "source": []
  }
 ],
 "metadata": {
  "kernelspec": {
   "display_name": "Python 3",
   "language": "python",
   "name": "python3"
  },
  "language_info": {
   "codemirror_mode": {
    "name": "ipython",
    "version": 3
   },
   "file_extension": ".py",
   "mimetype": "text/x-python",
   "name": "python",
   "nbconvert_exporter": "python",
   "pygments_lexer": "ipython3",
   "version": "3.11.4"
  },
  "vscode": {
   "interpreter": {
    "hash": "677ca678853aa41fc137f4b55f2bc0c694e45735c0d2faa667d2ec5acb71e67d"
   }
  }
 },
 "nbformat": 4,
 "nbformat_minor": 5
}
