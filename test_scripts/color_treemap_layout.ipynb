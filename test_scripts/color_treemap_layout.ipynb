{
 "cells": [
  {
   "cell_type": "code",
   "execution_count": null,
   "id": "dd43d998",
   "metadata": {},
   "outputs": [],
   "source": [
    "import polars as pl\n",
    "import squarify\n",
    "import rtsvg\n",
    "rt = rtsvg.RACETrack()\n",
    "edges_filename  = '../../data/stanford/facebook/348.edges'\n",
    "layout_filename = '../../data/stanford/facebook/348.rt_layout.parquet'\n",
    "_lu_ = {'fm':[], 'to':[]}\n",
    "for _edge_ in open(edges_filename, 'rt').read().split('\\n'):\n",
    "    if _edge_ == '': continue\n",
    "    _split_     = _edge_.split()\n",
    "    _fm_, _to_  = int(_split_[0]), int(_split_[1])\n",
    "    _lu_['fm'].append(_fm_), _lu_['to'].append(_to_)\n",
    "df            = pl.DataFrame(_lu_)\n",
    "df            = df.with_columns(pl.col('fm').cast(pl.String), pl.col('to').cast(pl.String))\n",
    "g             = rt.createNetworkXGraph(df, [('fm','to')])\n",
    "_nodes_       = list(set(df['fm']) | set(df['to']))\n",
    "_node_colors_ = {}\n",
    "for i in range(98): _node_colors_[_nodes_.pop(0)] = 'red'\n",
    "for i in range(24): _node_colors_[_nodes_.pop(0)] = 'yellow'\n",
    "for i in range(41): _node_colors_[_nodes_.pop(0)] = 'green'\n",
    "for i in range(2):  _node_colors_[_nodes_.pop(0)] = 'black'\n",
    "\n",
    "# Starts Here\n",
    "\n",
    "_color_to_nodes_ = {}\n",
    "for _node_ in set(df['fm']) | set(df['to']):\n",
    "    if _node_ in _node_colors_: _color_ = _node_colors_[_node_]\n",
    "    else:                       _color_ = rt.co_mgr.getTVColor('data','default')\n",
    "    if _color_ not in _color_to_nodes_: _color_to_nodes_[_color_] = set()\n",
    "    _color_to_nodes_[_color_].add(_node_)\n",
    "\n",
    "_color_size_tuples_ = []\n",
    "for _color_ in _color_to_nodes_: _color_size_tuples_.append((len(_color_to_nodes_[_color_]), _color_))\n",
    "_color_size_tuples_.sort(reverse=True)\n",
    "\n",
    "_color_sizes_ = []\n",
    "for _tuple_ in _color_size_tuples_: _color_sizes_.append(_tuple_[0])\n",
    "\n",
    "_normalized_sizes_   = squarify.normalize_sizes(_color_sizes_, 1024, 1024)\n",
    "_treemap_rectangles_ = squarify.squarify(_normalized_sizes_,0,0,1024,1024)\n",
    "\n",
    "_pos_ = {}\n",
    "for i in range(len(_color_size_tuples_)):\n",
    "    _color_  = _color_size_tuples_[i][1]\n",
    "    _rect_   = _treemap_rectangles_[i]\n",
    "    _bounds_ = (_rect_['x'], _rect_['y'], _rect_['x'] + _rect_['dx'], _rect_['y'] + _rect_['dy'])\n",
    "    rt.rectangularArrangement(g, _color_to_nodes_[_color_], pos=_pos_, bounds=_bounds_)\n",
    "\n",
    "# Ends Here\n",
    "\n",
    "rt.link(df, [('fm','to')], pos=_pos_, node_color=_node_colors_, w=512, h=512)\n"
   ]
  },
  {
   "cell_type": "code",
   "execution_count": null,
   "id": "527b0202",
   "metadata": {},
   "outputs": [],
   "source": []
  }
 ],
 "metadata": {
  "kernelspec": {
   "display_name": ".venv",
   "language": "python",
   "name": "python3"
  },
  "language_info": {
   "codemirror_mode": {
    "name": "ipython",
    "version": 3
   },
   "file_extension": ".py",
   "mimetype": "text/x-python",
   "name": "python",
   "nbconvert_exporter": "python",
   "pygments_lexer": "ipython3",
   "version": "3.12.3"
  }
 },
 "nbformat": 4,
 "nbformat_minor": 5
}
