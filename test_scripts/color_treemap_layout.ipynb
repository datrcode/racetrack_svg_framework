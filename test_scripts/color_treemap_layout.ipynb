{
 "cells": [
  {
   "cell_type": "code",
   "execution_count": null,
   "id": "dd43d998",
   "metadata": {},
   "outputs": [],
   "source": [
    "import polars as pl\n",
    "import squarify\n",
    "import rtsvg\n",
    "rt = rtsvg.RACETrack()\n",
    "edges_filename  = '../../data/stanford/facebook/348.edges'\n",
    "layout_filename = '../../data/stanford/facebook/348.rt_layout.parquet'\n",
    "_lu_ = {'fm':[], 'to':[]}\n",
    "for _edge_ in open(edges_filename, 'rt').read().split('\\n'):\n",
    "    if _edge_ == '': continue\n",
    "    _split_     = _edge_.split()\n",
    "    _fm_, _to_  = int(_split_[0]), int(_split_[1])\n",
    "    _lu_['fm'].append(_fm_), _lu_['to'].append(_to_)\n",
    "df            = pl.DataFrame(_lu_)\n",
    "df            = df.with_columns(pl.col('fm').cast(pl.String), pl.col('to').cast(pl.String))\n",
    "g             = rt.createNetworkXGraph(df, [('fm','to')])\n",
    "_nodes_       = list(set(df['fm']) | set(df['to']))\n",
    "_node_colors_ = {}\n",
    "for i in range(98): _node_colors_[_nodes_.pop(0)] = 'red'\n",
    "for i in range(24): _node_colors_[_nodes_.pop(0)] = 'yellow'\n",
    "for i in range(41): _node_colors_[_nodes_.pop(0)] = 'green'\n",
    "for i in range(2):  _node_colors_[_nodes_.pop(0)] = 'black'\n",
    "\n",
    "_pos1_  = rt.treeMapNodeColorPlacement(g, set(df['fm']) | set(df['to']), _node_colors_)\n",
    "_pos2_  = rt.treeMapNodeColorPlacement(g, set(df['fm']) | set(df['to']), _node_colors_, collapse=True)\n",
    "\n",
    "sz = {'df':df, 'w':256, 'h':256, 'relationships':[('fm','to')]}\n",
    "_tiles_ = []\n",
    "_tiles_.append(rt.link    (pos=_pos1_, node_color=_node_colors_, **sz))\n",
    "_tiles_.append(rt.link    (pos=_pos2_, node_color=_node_colors_, **sz))\n",
    "_tiles_.append(rt.link    (pos=_pos2_,                           **sz))\n",
    "_tiles_.append(rt.linkNode(pos=_pos1_, node_color=_node_colors_, **sz))\n",
    "_tiles_.append(rt.linkNode(pos=_pos2_, node_color=_node_colors_, **sz))\n",
    "_tiles_.append(rt.linkNode(pos=_pos2_,                           **sz))\n",
    "rt.table(_tiles_, spacer=10, per_row=3)"
   ]
  },
  {
   "cell_type": "code",
   "execution_count": null,
   "id": "ed113d31",
   "metadata": {},
   "outputs": [],
   "source": []
  }
 ],
 "metadata": {
  "kernelspec": {
   "display_name": ".venv",
   "language": "python",
   "name": "python3"
  },
  "language_info": {
   "codemirror_mode": {
    "name": "ipython",
    "version": 3
   },
   "file_extension": ".py",
   "mimetype": "text/x-python",
   "name": "python",
   "nbconvert_exporter": "python",
   "pygments_lexer": "ipython3",
   "version": "3.12.3"
  }
 },
 "nbformat": 4,
 "nbformat_minor": 5
}
