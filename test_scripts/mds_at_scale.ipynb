{
 "cells": [
  {
   "cell_type": "code",
   "execution_count": null,
   "id": "f4203bb2",
   "metadata": {},
   "outputs": [],
   "source": [
    "import networkx as nx\n",
    "import time\n",
    "import rtsvg\n",
    "rt = rtsvg.RACETrack()\n",
    "from rtsvg import LandmarkMDSLayout, PivotMDSLayout\n",
    "from linknode_graph_patterns import  LinkNodeGraphPatterns\n",
    "_patterns_ = LinkNodeGraphPatterns()\n",
    "_g_        = _patterns_.createPattern('stanford_facebook_networks')\n",
    "_g_        = _patterns_.createPattern('mesh')\n",
    "_df_       = _patterns_.nxGraphToPolarsDataFrame(_g_)\n",
    "\n",
    "# Create the layout & fill in the pos dictionary\n",
    "t0 = time.time()\n",
    "_lmds_     = LandmarkMDSLayout(_g_)\n",
    "_pos_lmds_ = _lmds_.results()\n",
    "t1 = time.time()\n",
    "_pmds_     = PivotMDSLayout(_g_)\n",
    "_pos_pmds_ = _pmds_.results()\n",
    "t2 = time.time()\n",
    "\n",
    "# previous (compared to the force directed implementation) LMDs: 0.17 | PFDL: 16.10\n",
    "print(f\"LMDs: {(t1-t0):.2f} | PMDS: {(t2-t1):.2f}\") # LMDs: 0.08 | PMDS: 0.16\n",
    "\n",
    "# Color the nodes\n",
    "_node_colors_ = {}\n",
    "community_i   = 0\n",
    "for _community_ in nx.community.louvain_communities(_g_):\n",
    "    community_i += 1\n",
    "    for _node_ in _community_: _node_colors_[_node_] = rt.co_mgr.getColor(community_i)\n",
    "\n",
    "# Display it\n",
    "_params_ = {'df':_df_, 'relationships':[('fm','to')], 'node_color':_node_colors_, 'w':800, 'h':800, 'draw_labels':True}\n",
    "rt.tile([rt.link(pos=_pos_lmds_, **_params_), rt.link(pos=_pos_pmds_, **_params_)])"
   ]
  },
  {
   "cell_type": "code",
   "execution_count": null,
   "id": "6abf2728",
   "metadata": {},
   "outputs": [],
   "source": [
    "use_landmarks = ['node_0_0', 'node_0_8', 'node_8_0', 'node_8_8']\n",
    "_lmds_lms_  = LandmarkMDSLayout(_g_, landmarks=use_landmarks)\n",
    "landmark_pos  = {'node_0_0':(10.0, 10.0), 'node_0_8':(10.0, 30.0), 'node_8_0':(30.0, 10.0), 'node_8_8':(30.0, 30.0)}\n",
    "_lmds_lmsp_ = LandmarkMDSLayout(_g_, landmark_pos=landmark_pos)\n",
    "rt.tile([rt.link(pos=_lmds_lms_.results(), **_params_), rt.link(pos=_lmds_lmsp_.results(), **_params_)])"
   ]
  },
  {
   "cell_type": "code",
   "execution_count": null,
   "id": "59ff111e",
   "metadata": {},
   "outputs": [],
   "source": []
  }
 ],
 "metadata": {
  "kernelspec": {
   "display_name": ".venv (3.13.7)",
   "language": "python",
   "name": "python3"
  },
  "language_info": {
   "codemirror_mode": {
    "name": "ipython",
    "version": 3
   },
   "file_extension": ".py",
   "mimetype": "text/x-python",
   "name": "python",
   "nbconvert_exporter": "python",
   "pygments_lexer": "ipython3",
   "version": "3.13.7"
  }
 },
 "nbformat": 4,
 "nbformat_minor": 5
}
