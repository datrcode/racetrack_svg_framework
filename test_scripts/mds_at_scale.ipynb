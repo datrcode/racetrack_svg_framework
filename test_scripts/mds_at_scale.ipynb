{
 "cells": [
  {
   "cell_type": "code",
   "execution_count": null,
   "id": "f4203bb2",
   "metadata": {},
   "outputs": [],
   "source": [
    "import networkx as nx\n",
    "import time\n",
    "import rtsvg\n",
    "rt = rtsvg.RACETrack()\n",
    "from rtsvg import LandmarkMDSLayout, PivotMDSLayout\n",
    "from linknode_graph_patterns import  LinkNodeGraphPatterns\n",
    "_patterns_  = LinkNodeGraphPatterns()\n",
    "_g_         = _patterns_.createPattern('stanford_facebook_networks')\n",
    "_subgraphs_ = [nx.subgraph(_g_, _subgraph_nodes_) for _subgraph_nodes_ in nx.connected_components(_g_)]\n",
    "_g_         = _subgraphs_[0]\n",
    "\n",
    "_df_       = _patterns_.nxGraphToPolarsDataFrame(_g_)\n",
    "\n",
    "# Color the nodes\n",
    "_node_colors_ = {}\n",
    "community_i   = 0\n",
    "for _community_ in nx.community.louvain_communities(_g_):\n",
    "    community_i += 1\n",
    "    for _node_ in _community_: _node_colors_[_node_] = rt.co_mgr.getColor(community_i)\n",
    "_params_ = {'relationships':[('fm','to')], 'node_color':_node_colors_}\n",
    "_igp_    = rt.interactiveGraphPanel(_df_, ln_params=_params_, w=800, h=600)\n",
    "_igp_"
   ]
  },
  {
   "cell_type": "code",
   "execution_count": null,
   "id": "55c474dc",
   "metadata": {},
   "outputs": [],
   "source": []
  }
 ],
 "metadata": {
  "kernelspec": {
   "display_name": ".venv (3.13.7)",
   "language": "python",
   "name": "python3"
  },
  "language_info": {
   "codemirror_mode": {
    "name": "ipython",
    "version": 3
   },
   "file_extension": ".py",
   "mimetype": "text/x-python",
   "name": "python",
   "nbconvert_exporter": "python",
   "pygments_lexer": "ipython3",
   "version": "3.13.7"
  }
 },
 "nbformat": 4,
 "nbformat_minor": 5
}
