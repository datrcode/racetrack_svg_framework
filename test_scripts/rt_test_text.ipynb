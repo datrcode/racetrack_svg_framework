{
 "cells": [
  {
   "cell_type": "code",
   "execution_count": null,
   "metadata": {},
   "outputs": [],
   "source": [
    "import pandas as pd\n",
    "import sys\n",
    "sys.path.insert(1, '../framework/') # base location of the .py classes\n",
    "from racetrack import *\n",
    "rt = RACETrack()"
   ]
  },
  {
   "cell_type": "code",
   "execution_count": null,
   "metadata": {},
   "outputs": [],
   "source": [
    "#\n",
    "# Source:  Project Gutenberg, War and Peace\n",
    "#\n",
    "_text = \"\"\"\n",
    "It was in July, 1805, and the speaker was the well-known Anna Pávlovna\n",
    "Schérer, maid of honor and favorite of the Empress Márya Fëdorovna.\n",
    "With these words she greeted Prince Vasíli Kurágin, a man of high\n",
    "rank and importance, who was the first to arrive at her reception. Anna\n",
    "Pávlovna had had a cough for some days. She was, as she said, suffering\n",
    "from la grippe; grippe being then a new word in St. Petersburg, used\n",
    "only by the elite.\n",
    "\"\"\"\n",
    "rt.displaySVG(rt.textBlock(_text, w=rt.maxLinePixels(_text)))"
   ]
  },
  {
   "cell_type": "code",
   "execution_count": null,
   "metadata": {},
   "outputs": [],
   "source": [
    "_text_joined = rt.joinNewLines(_text)\n",
    "rt.displaySVG(rt.textBlock(_text_joined, word_wrap=True))"
   ]
  },
  {
   "cell_type": "code",
   "execution_count": null,
   "metadata": {},
   "outputs": [],
   "source": [
    "rttb = rt.textBlock(_text_joined, txt_h=24, word_wrap=True)\n",
    "rt.displaySVG(rttb.__debug_svgOfOverlayOriginalIndices__())"
   ]
  },
  {
   "cell_type": "code",
   "execution_count": null,
   "metadata": {},
   "outputs": [],
   "source": [
    "_txt = 'i i i index index index'\n",
    "rttb = rt.textBlock(_txt, txt_h=36, word_wrap=True)\n",
    "rt.displaySVG(rttb.__debug_svgOfOverlayOriginalIndices__())"
   ]
  },
  {
   "cell_type": "code",
   "execution_count": null,
   "metadata": {},
   "outputs": [],
   "source": [
    "rttb = rt.textBlock(_txt, txt_h=14, word_wrap=True)\n",
    "rt.displaySVG(rttb.__debug_svgOfOverlayOriginalIndices__())"
   ]
  },
  {
   "cell_type": "code",
   "execution_count": null,
   "metadata": {},
   "outputs": [],
   "source": [
    "rttb.orig_to_xy.keys(),len(rttb.txt),len(_txt)"
   ]
  },
  {
   "cell_type": "code",
   "execution_count": null,
   "metadata": {},
   "outputs": [],
   "source": [
    "_txt = 'california and florida and fun and full' # tests out kerning issues... with lowercase following \"f\"\n",
    "rttb = rt.textBlock(_txt, txt_h=64, word_wrap=True)\n",
    "rt.displaySVG(rttb.__debug_svgOfOverlayOriginalIndices__())"
   ]
  },
  {
   "cell_type": "code",
   "execution_count": null,
   "metadata": {},
   "outputs": [],
   "source": [
    "_txt = 'i played fetch with my dog, and then I went to the store.'\n",
    "rttb = rt.textBlock(_txt, txt_h=64, word_wrap=True)\n",
    "rt.displaySVG(rttb.__debug_svgOfOverlayOriginalIndices__())"
   ]
  },
  {
   "cell_type": "code",
   "execution_count": null,
   "metadata": {},
   "outputs": [],
   "source": [
    "_txt = \"Do fonts overlap characters?  I'm not sure...\"\n",
    "rttb = rt.textBlock(_txt, txt_h=64, word_wrap=True)\n",
    "rt.displaySVG(rttb.__debug_svgOfOverlayOriginalIndices__())"
   ]
  },
  {
   "cell_type": "code",
   "execution_count": null,
   "metadata": {},
   "outputs": [],
   "source": [
    "_txt = \"double  spaces  fail  like  this\"\n",
    "rttb = rt.textBlock(_txt, txt_h=32, word_wrap=True)\n",
    "rt.displaySVG(rttb.__debug_svgOfOverlayOriginalIndices__())"
   ]
  },
  {
   "cell_type": "code",
   "execution_count": null,
   "metadata": {},
   "outputs": [],
   "source": []
  }
 ],
 "metadata": {
  "kernelspec": {
   "display_name": "Python 3",
   "language": "python",
   "name": "python3"
  },
  "language_info": {
   "codemirror_mode": {
    "name": "ipython",
    "version": 3
   },
   "file_extension": ".py",
   "mimetype": "text/x-python",
   "name": "python",
   "nbconvert_exporter": "python",
   "pygments_lexer": "ipython3",
   "version": "3.11.4"
  },
  "orig_nbformat": 4
 },
 "nbformat": 4,
 "nbformat_minor": 2
}
